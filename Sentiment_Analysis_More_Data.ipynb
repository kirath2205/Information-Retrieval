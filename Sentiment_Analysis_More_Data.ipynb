{
  "cells": [
    {
      "cell_type": "markdown",
      "metadata": {
        "id": "view-in-github",
        "colab_type": "text"
      },
      "source": [
        "<a href=\"https://colab.research.google.com/github/kirath2205/Information-Retrieval/blob/main/Sentiment_Analysis_More_Data.ipynb\" target=\"_parent\"><img src=\"https://colab.research.google.com/assets/colab-badge.svg\" alt=\"Open In Colab\"/></a>"
      ]
    },
    {
      "cell_type": "code",
      "execution_count": null,
      "metadata": {
        "id": "DLN-dXwbdgoL"
      },
      "outputs": [],
      "source": [
        "import pandas as pd\n",
        "modi = pd.read_csv('Modi.csv')\n",
        "finance = pd.read_csv('financial_data.csv')"
      ]
    },
    {
      "cell_type": "code",
      "execution_count": null,
      "metadata": {
        "colab": {
          "base_uri": "https://localhost:8080/"
        },
        "id": "LUkwU5AKeJAB",
        "outputId": "5aa92b01-7f88-4460-908b-ba8791b2a707"
      },
      "outputs": [
        {
          "output_type": "execute_result",
          "data": {
            "text/plain": [
              "(5842, 2)"
            ]
          },
          "metadata": {},
          "execution_count": 3
        }
      ],
      "source": [
        "finance.shape"
      ]
    },
    {
      "cell_type": "code",
      "execution_count": null,
      "metadata": {
        "colab": {
          "base_uri": "https://localhost:8080/"
        },
        "id": "aKi0HofreI6f",
        "outputId": "e4651fe9-12d0-4402-d46c-42b2500bc080"
      },
      "outputs": [
        {
          "output_type": "execute_result",
          "data": {
            "text/plain": [
              "(23941, 2)"
            ]
          },
          "metadata": {},
          "execution_count": 4
        }
      ],
      "source": [
        "modi.shape"
      ]
    },
    {
      "cell_type": "code",
      "execution_count": null,
      "metadata": {
        "colab": {
          "base_uri": "https://localhost:8080/",
          "height": 206
        },
        "id": "h2LFDXQXghFX",
        "outputId": "4e3f3c1c-e8f8-43ed-81be-9e19bf87ac88"
      },
      "outputs": [
        {
          "output_type": "execute_result",
          "data": {
            "text/plain": [
              "                                            Sentence Sentiment\n",
              "0  The GeoSolutions technology will leverage Bene...  positive\n",
              "1  $ESI on lows, down $1.50 to $2.50 BK a real po...  negative\n",
              "2  For the last quarter of 2010 , Componenta 's n...  positive\n",
              "3  According to the Finnish-Russian Chamber of Co...   neutral\n",
              "4  The Swedish buyout firm has sold its remaining...   neutral"
            ],
            "text/html": [
              "\n",
              "  <div id=\"df-2005210e-c23a-42a4-9eb2-f142b45a664b\">\n",
              "    <div class=\"colab-df-container\">\n",
              "      <div>\n",
              "<style scoped>\n",
              "    .dataframe tbody tr th:only-of-type {\n",
              "        vertical-align: middle;\n",
              "    }\n",
              "\n",
              "    .dataframe tbody tr th {\n",
              "        vertical-align: top;\n",
              "    }\n",
              "\n",
              "    .dataframe thead th {\n",
              "        text-align: right;\n",
              "    }\n",
              "</style>\n",
              "<table border=\"1\" class=\"dataframe\">\n",
              "  <thead>\n",
              "    <tr style=\"text-align: right;\">\n",
              "      <th></th>\n",
              "      <th>Sentence</th>\n",
              "      <th>Sentiment</th>\n",
              "    </tr>\n",
              "  </thead>\n",
              "  <tbody>\n",
              "    <tr>\n",
              "      <th>0</th>\n",
              "      <td>The GeoSolutions technology will leverage Bene...</td>\n",
              "      <td>positive</td>\n",
              "    </tr>\n",
              "    <tr>\n",
              "      <th>1</th>\n",
              "      <td>$ESI on lows, down $1.50 to $2.50 BK a real po...</td>\n",
              "      <td>negative</td>\n",
              "    </tr>\n",
              "    <tr>\n",
              "      <th>2</th>\n",
              "      <td>For the last quarter of 2010 , Componenta 's n...</td>\n",
              "      <td>positive</td>\n",
              "    </tr>\n",
              "    <tr>\n",
              "      <th>3</th>\n",
              "      <td>According to the Finnish-Russian Chamber of Co...</td>\n",
              "      <td>neutral</td>\n",
              "    </tr>\n",
              "    <tr>\n",
              "      <th>4</th>\n",
              "      <td>The Swedish buyout firm has sold its remaining...</td>\n",
              "      <td>neutral</td>\n",
              "    </tr>\n",
              "  </tbody>\n",
              "</table>\n",
              "</div>\n",
              "      <button class=\"colab-df-convert\" onclick=\"convertToInteractive('df-2005210e-c23a-42a4-9eb2-f142b45a664b')\"\n",
              "              title=\"Convert this dataframe to an interactive table.\"\n",
              "              style=\"display:none;\">\n",
              "        \n",
              "  <svg xmlns=\"http://www.w3.org/2000/svg\" height=\"24px\"viewBox=\"0 0 24 24\"\n",
              "       width=\"24px\">\n",
              "    <path d=\"M0 0h24v24H0V0z\" fill=\"none\"/>\n",
              "    <path d=\"M18.56 5.44l.94 2.06.94-2.06 2.06-.94-2.06-.94-.94-2.06-.94 2.06-2.06.94zm-11 1L8.5 8.5l.94-2.06 2.06-.94-2.06-.94L8.5 2.5l-.94 2.06-2.06.94zm10 10l.94 2.06.94-2.06 2.06-.94-2.06-.94-.94-2.06-.94 2.06-2.06.94z\"/><path d=\"M17.41 7.96l-1.37-1.37c-.4-.4-.92-.59-1.43-.59-.52 0-1.04.2-1.43.59L10.3 9.45l-7.72 7.72c-.78.78-.78 2.05 0 2.83L4 21.41c.39.39.9.59 1.41.59.51 0 1.02-.2 1.41-.59l7.78-7.78 2.81-2.81c.8-.78.8-2.07 0-2.86zM5.41 20L4 18.59l7.72-7.72 1.47 1.35L5.41 20z\"/>\n",
              "  </svg>\n",
              "      </button>\n",
              "      \n",
              "  <style>\n",
              "    .colab-df-container {\n",
              "      display:flex;\n",
              "      flex-wrap:wrap;\n",
              "      gap: 12px;\n",
              "    }\n",
              "\n",
              "    .colab-df-convert {\n",
              "      background-color: #E8F0FE;\n",
              "      border: none;\n",
              "      border-radius: 50%;\n",
              "      cursor: pointer;\n",
              "      display: none;\n",
              "      fill: #1967D2;\n",
              "      height: 32px;\n",
              "      padding: 0 0 0 0;\n",
              "      width: 32px;\n",
              "    }\n",
              "\n",
              "    .colab-df-convert:hover {\n",
              "      background-color: #E2EBFA;\n",
              "      box-shadow: 0px 1px 2px rgba(60, 64, 67, 0.3), 0px 1px 3px 1px rgba(60, 64, 67, 0.15);\n",
              "      fill: #174EA6;\n",
              "    }\n",
              "\n",
              "    [theme=dark] .colab-df-convert {\n",
              "      background-color: #3B4455;\n",
              "      fill: #D2E3FC;\n",
              "    }\n",
              "\n",
              "    [theme=dark] .colab-df-convert:hover {\n",
              "      background-color: #434B5C;\n",
              "      box-shadow: 0px 1px 3px 1px rgba(0, 0, 0, 0.15);\n",
              "      filter: drop-shadow(0px 1px 2px rgba(0, 0, 0, 0.3));\n",
              "      fill: #FFFFFF;\n",
              "    }\n",
              "  </style>\n",
              "\n",
              "      <script>\n",
              "        const buttonEl =\n",
              "          document.querySelector('#df-2005210e-c23a-42a4-9eb2-f142b45a664b button.colab-df-convert');\n",
              "        buttonEl.style.display =\n",
              "          google.colab.kernel.accessAllowed ? 'block' : 'none';\n",
              "\n",
              "        async function convertToInteractive(key) {\n",
              "          const element = document.querySelector('#df-2005210e-c23a-42a4-9eb2-f142b45a664b');\n",
              "          const dataTable =\n",
              "            await google.colab.kernel.invokeFunction('convertToInteractive',\n",
              "                                                     [key], {});\n",
              "          if (!dataTable) return;\n",
              "\n",
              "          const docLinkHtml = 'Like what you see? Visit the ' +\n",
              "            '<a target=\"_blank\" href=https://colab.research.google.com/notebooks/data_table.ipynb>data table notebook</a>'\n",
              "            + ' to learn more about interactive tables.';\n",
              "          element.innerHTML = '';\n",
              "          dataTable['output_type'] = 'display_data';\n",
              "          await google.colab.output.renderOutput(dataTable, element);\n",
              "          const docLink = document.createElement('div');\n",
              "          docLink.innerHTML = docLinkHtml;\n",
              "          element.appendChild(docLink);\n",
              "        }\n",
              "      </script>\n",
              "    </div>\n",
              "  </div>\n",
              "  "
            ]
          },
          "metadata": {},
          "execution_count": 5
        }
      ],
      "source": [
        "finance.head()"
      ]
    },
    {
      "cell_type": "code",
      "execution_count": null,
      "metadata": {
        "colab": {
          "base_uri": "https://localhost:8080/",
          "height": 206
        },
        "id": "IDup_cHlhHgQ",
        "outputId": "108d4a9b-b399-463a-b0a7-9ba3b3bc1b72"
      },
      "outputs": [
        {
          "output_type": "execute_result",
          "data": {
            "text/plain": [
              "                                          clean_text  category\n",
              "0  when modi promised “minimum government maximum...      -1.0\n",
              "1  talk all the nonsense and continue all the dra...       0.0\n",
              "2  what did just say vote for modi  welcome bjp t...       1.0\n",
              "3  asking his supporters prefix chowkidar their n...       1.0\n",
              "4  answer who among these the most powerful world...       1.0"
            ],
            "text/html": [
              "\n",
              "  <div id=\"df-ccaf37a6-e72b-46a8-814c-42622976e7b0\">\n",
              "    <div class=\"colab-df-container\">\n",
              "      <div>\n",
              "<style scoped>\n",
              "    .dataframe tbody tr th:only-of-type {\n",
              "        vertical-align: middle;\n",
              "    }\n",
              "\n",
              "    .dataframe tbody tr th {\n",
              "        vertical-align: top;\n",
              "    }\n",
              "\n",
              "    .dataframe thead th {\n",
              "        text-align: right;\n",
              "    }\n",
              "</style>\n",
              "<table border=\"1\" class=\"dataframe\">\n",
              "  <thead>\n",
              "    <tr style=\"text-align: right;\">\n",
              "      <th></th>\n",
              "      <th>clean_text</th>\n",
              "      <th>category</th>\n",
              "    </tr>\n",
              "  </thead>\n",
              "  <tbody>\n",
              "    <tr>\n",
              "      <th>0</th>\n",
              "      <td>when modi promised “minimum government maximum...</td>\n",
              "      <td>-1.0</td>\n",
              "    </tr>\n",
              "    <tr>\n",
              "      <th>1</th>\n",
              "      <td>talk all the nonsense and continue all the dra...</td>\n",
              "      <td>0.0</td>\n",
              "    </tr>\n",
              "    <tr>\n",
              "      <th>2</th>\n",
              "      <td>what did just say vote for modi  welcome bjp t...</td>\n",
              "      <td>1.0</td>\n",
              "    </tr>\n",
              "    <tr>\n",
              "      <th>3</th>\n",
              "      <td>asking his supporters prefix chowkidar their n...</td>\n",
              "      <td>1.0</td>\n",
              "    </tr>\n",
              "    <tr>\n",
              "      <th>4</th>\n",
              "      <td>answer who among these the most powerful world...</td>\n",
              "      <td>1.0</td>\n",
              "    </tr>\n",
              "  </tbody>\n",
              "</table>\n",
              "</div>\n",
              "      <button class=\"colab-df-convert\" onclick=\"convertToInteractive('df-ccaf37a6-e72b-46a8-814c-42622976e7b0')\"\n",
              "              title=\"Convert this dataframe to an interactive table.\"\n",
              "              style=\"display:none;\">\n",
              "        \n",
              "  <svg xmlns=\"http://www.w3.org/2000/svg\" height=\"24px\"viewBox=\"0 0 24 24\"\n",
              "       width=\"24px\">\n",
              "    <path d=\"M0 0h24v24H0V0z\" fill=\"none\"/>\n",
              "    <path d=\"M18.56 5.44l.94 2.06.94-2.06 2.06-.94-2.06-.94-.94-2.06-.94 2.06-2.06.94zm-11 1L8.5 8.5l.94-2.06 2.06-.94-2.06-.94L8.5 2.5l-.94 2.06-2.06.94zm10 10l.94 2.06.94-2.06 2.06-.94-2.06-.94-.94-2.06-.94 2.06-2.06.94z\"/><path d=\"M17.41 7.96l-1.37-1.37c-.4-.4-.92-.59-1.43-.59-.52 0-1.04.2-1.43.59L10.3 9.45l-7.72 7.72c-.78.78-.78 2.05 0 2.83L4 21.41c.39.39.9.59 1.41.59.51 0 1.02-.2 1.41-.59l7.78-7.78 2.81-2.81c.8-.78.8-2.07 0-2.86zM5.41 20L4 18.59l7.72-7.72 1.47 1.35L5.41 20z\"/>\n",
              "  </svg>\n",
              "      </button>\n",
              "      \n",
              "  <style>\n",
              "    .colab-df-container {\n",
              "      display:flex;\n",
              "      flex-wrap:wrap;\n",
              "      gap: 12px;\n",
              "    }\n",
              "\n",
              "    .colab-df-convert {\n",
              "      background-color: #E8F0FE;\n",
              "      border: none;\n",
              "      border-radius: 50%;\n",
              "      cursor: pointer;\n",
              "      display: none;\n",
              "      fill: #1967D2;\n",
              "      height: 32px;\n",
              "      padding: 0 0 0 0;\n",
              "      width: 32px;\n",
              "    }\n",
              "\n",
              "    .colab-df-convert:hover {\n",
              "      background-color: #E2EBFA;\n",
              "      box-shadow: 0px 1px 2px rgba(60, 64, 67, 0.3), 0px 1px 3px 1px rgba(60, 64, 67, 0.15);\n",
              "      fill: #174EA6;\n",
              "    }\n",
              "\n",
              "    [theme=dark] .colab-df-convert {\n",
              "      background-color: #3B4455;\n",
              "      fill: #D2E3FC;\n",
              "    }\n",
              "\n",
              "    [theme=dark] .colab-df-convert:hover {\n",
              "      background-color: #434B5C;\n",
              "      box-shadow: 0px 1px 3px 1px rgba(0, 0, 0, 0.15);\n",
              "      filter: drop-shadow(0px 1px 2px rgba(0, 0, 0, 0.3));\n",
              "      fill: #FFFFFF;\n",
              "    }\n",
              "  </style>\n",
              "\n",
              "      <script>\n",
              "        const buttonEl =\n",
              "          document.querySelector('#df-ccaf37a6-e72b-46a8-814c-42622976e7b0 button.colab-df-convert');\n",
              "        buttonEl.style.display =\n",
              "          google.colab.kernel.accessAllowed ? 'block' : 'none';\n",
              "\n",
              "        async function convertToInteractive(key) {\n",
              "          const element = document.querySelector('#df-ccaf37a6-e72b-46a8-814c-42622976e7b0');\n",
              "          const dataTable =\n",
              "            await google.colab.kernel.invokeFunction('convertToInteractive',\n",
              "                                                     [key], {});\n",
              "          if (!dataTable) return;\n",
              "\n",
              "          const docLinkHtml = 'Like what you see? Visit the ' +\n",
              "            '<a target=\"_blank\" href=https://colab.research.google.com/notebooks/data_table.ipynb>data table notebook</a>'\n",
              "            + ' to learn more about interactive tables.';\n",
              "          element.innerHTML = '';\n",
              "          dataTable['output_type'] = 'display_data';\n",
              "          await google.colab.output.renderOutput(dataTable, element);\n",
              "          const docLink = document.createElement('div');\n",
              "          docLink.innerHTML = docLinkHtml;\n",
              "          element.appendChild(docLink);\n",
              "        }\n",
              "      </script>\n",
              "    </div>\n",
              "  </div>\n",
              "  "
            ]
          },
          "metadata": {},
          "execution_count": 6
        }
      ],
      "source": [
        "modi.head()"
      ]
    },
    {
      "cell_type": "code",
      "execution_count": null,
      "metadata": {
        "id": "yi_0L45RghB_"
      },
      "outputs": [],
      "source": [
        "import numpy as np\n",
        "\n",
        "\n",
        "finance_pos = np.array(finance[finance['Sentiment']=='positive']['Sentence'])\n",
        "finance_neu = np.array(finance[finance['Sentiment']=='neutral']['Sentence'])\n",
        "finance_neg = np.array(finance[finance['Sentiment']=='negative']['Sentence'])"
      ]
    },
    {
      "cell_type": "code",
      "execution_count": null,
      "metadata": {
        "id": "VNFu6--bgg_w"
      },
      "outputs": [],
      "source": [
        "modi_pos = np.array(modi[modi['category']==1]['clean_text'])\n",
        "modi_neu = np.array(modi[modi['category']==0]['clean_text'])\n",
        "modi_neg = np.array(modi[modi['category']==-1]['clean_text'])"
      ]
    },
    {
      "cell_type": "code",
      "execution_count": null,
      "metadata": {
        "colab": {
          "base_uri": "https://localhost:8080/"
        },
        "id": "KUCf2wzvrfXy",
        "outputId": "6aef7583-f2ea-4a11-cd57-70f1aaeaeb5b"
      },
      "outputs": [
        {
          "output_type": "stream",
          "name": "stdout",
          "text": [
            "1852\n",
            "3130\n",
            "860\n"
          ]
        }
      ],
      "source": [
        "print(len(finance_pos))\n",
        "print(len(finance_neu))\n",
        "print(len(finance_neg))"
      ]
    },
    {
      "cell_type": "code",
      "execution_count": null,
      "metadata": {
        "id": "2685_Z5tk64Z"
      },
      "outputs": [],
      "source": [
        "modi_pos_req = modi_pos[:868]\n",
        "modi_neu_req = modi_neu[:969]\n",
        "modi_neg_req = modi_neg[:1386]\n",
        "\n",
        "finance_pos_req = finance_pos[:869]\n",
        "finance_neu_req = finance_neu[:969]\n",
        "finance_neg_req = finance_neg[:430]"
      ]
    },
    {
      "cell_type": "code",
      "execution_count": null,
      "metadata": {
        "id": "OUmaBimkgg9Z"
      },
      "outputs": [],
      "source": [
        "import numpy as np\n",
        "import pandas as pd\n",
        "\n",
        "\n",
        "\n",
        "X = np.array([])\n",
        "y = np.array([])\n",
        "\n",
        "bmw = pd.read_csv('BMW_Labelled.csv')\n",
        "bmw = bmw[(bmw['Sentiment']==1) | (bmw['Sentiment']==0) | (bmw['Sentiment']==-1)]\n",
        "bmw.reset_index(inplace=True, drop=True)\n",
        "\n",
        "for i in range(len(bmw)):\n",
        "    X = np.append(X,bmw['tweet'][i])\n",
        "    y = np.append(y,bmw['Sentiment'][i])\n",
        "\n",
        "\n",
        "tesla = pd.read_csv('labelled_data_tesla.csv')\n",
        "tesla = tesla[(tesla['Sentiment']==1) | (tesla['Sentiment']==0) | (tesla['Sentiment']==-1)]\n",
        "tesla.reset_index(inplace=True, drop=True)\n",
        "\n",
        "for i in range(len(tesla)):\n",
        "    X = np.append(X,tesla['tweet'][i])\n",
        "    y = np.append(y,tesla['Sentiment'][i])\n",
        "\n",
        "\n",
        "\n",
        "for i in range(len(modi_pos_req)):\n",
        "    X = np.append(X,modi_pos_req[i])\n",
        "    y = np.append(y,1)\n",
        "\n",
        "for i in range(len(finance_pos_req)):\n",
        "    X = np.append(X,finance_pos_req[i])\n",
        "    y = np.append(y,1)\n",
        "\n",
        "\n",
        "for i in range(len(modi_neu_req)):\n",
        "    X = np.append(X,modi_neu_req[i])\n",
        "    y = np.append(y,0)\n",
        "\n",
        "for i in range(len(finance_neu_req)):\n",
        "    X = np.append(X,finance_neu_req[i])\n",
        "    y = np.append(y,0)\n",
        "\n",
        "\n",
        "for i in range(len(modi_neg_req)):\n",
        "    X = np.append(X,modi_neg_req[i])\n",
        "    y = np.append(y,-1)\n",
        "\n",
        "for i in range(len(finance_neg_req)):\n",
        "    X = np.append(X,finance_neg_req[i])\n",
        "    y = np.append(y,-1)\n",
        "\n",
        "\n",
        "\n",
        "\n"
      ]
    },
    {
      "cell_type": "code",
      "source": [
        "\n",
        "pos=0\n",
        "neu=0\n",
        "neg=0\n",
        "for i in range(len(y)):\n",
        "    if y[i]==1:\n",
        "        pos+=1\n",
        "    elif y[i]==0:\n",
        "        neu+=1\n",
        "    else:\n",
        "        neg+=1\n",
        "print(pos,neu,neg)\n"
      ],
      "metadata": {
        "id": "ZafYJWLjWySs",
        "colab": {
          "base_uri": "https://localhost:8080/"
        },
        "outputId": "f1526775-2a69-4bf9-9b2f-c082ba4f67cc"
      },
      "execution_count": null,
      "outputs": [
        {
          "output_type": "stream",
          "name": "stdout",
          "text": [
            "526 123 368\n"
          ]
        }
      ]
    },
    {
      "cell_type": "code",
      "execution_count": null,
      "metadata": {
        "colab": {
          "base_uri": "https://localhost:8080/"
        },
        "id": "3OGE8fUnXFe4",
        "outputId": "cafa5223-60a1-462b-a6c2-06f9c53a8330"
      },
      "outputs": [
        {
          "output_type": "stream",
          "name": "stdout",
          "text": [
            "[nltk_data] Downloading package stopwords to /root/nltk_data...\n",
            "[nltk_data]   Unzipping corpora/stopwords.zip.\n",
            "[nltk_data] Downloading package wordnet to /root/nltk_data...\n",
            "[nltk_data]   Unzipping corpora/wordnet.zip.\n"
          ]
        }
      ],
      "source": [
        "import re\n",
        "import string\n",
        "import nltk\n",
        "from nltk.corpus import stopwords\n",
        "from nltk.stem import WordNetLemmatizer\n",
        "\n",
        "#Run these two lines only once\n",
        "nltk.download('stopwords')\n",
        "nltk.download('wordnet')\n",
        "\n",
        "\n",
        "\n",
        "def preprocessSingleTweet(tweet):\n",
        "\n",
        "    tweet = str(tweet)\n",
        "    \n",
        "    #Removing urls and stripping whitespaces\n",
        "    tweet = re.sub(r'http\\S+', '', str(tweet))\n",
        "    tweet = tweet.strip()\n",
        "\n",
        "    #Removing hashtags and mentions\n",
        "    tweet = ' '.join([word for word in tweet.split() if word[0]!='@' and word[0]!='#'])\n",
        "\n",
        "\n",
        "    #Removing Punctuations\n",
        "    tweet = tweet.translate(str.maketrans('', '', string.punctuation))\n",
        "\n",
        "    #Lowercasing all texts, removing stopwords, and lemmatizing the texts\n",
        "    stopwordsList = stopwords.words('english') \n",
        "    lemmatizer = WordNetLemmatizer()\n",
        "    \n",
        "    tweet = tweet.lower()\n",
        "    tweet = ' '.join([word for word in tweet.split() if word not in stopwordsList])\n",
        "    tweet = ' '.join([lemmatizer.lemmatize(word) for word in tweet.split()])\n",
        "\n",
        "    return tweet\n",
        "\n",
        "\n",
        "for i in range(len(X)):\n",
        "    X[i] = preprocessSingleTweet(X[i])\n",
        "\n"
      ]
    },
    {
      "cell_type": "code",
      "execution_count": null,
      "metadata": {
        "id": "R3Dut6g4TzLq"
      },
      "outputs": [],
      "source": [
        "\n",
        "import numpy as np\n",
        " \n",
        "train_size = 0.9\n",
        "\n",
        "pos_indices_arr = []\n",
        "neu_indices_arr = []\n",
        "neg_indices_arr = []\n",
        "\n",
        "for i in range(len(y)):\n",
        "    if y[i]==1:\n",
        "        pos_indices_arr.append(i)\n",
        "    elif y[i]==0:\n",
        "        neu_indices_arr.append(i)\n",
        "    else:\n",
        "        neg_indices_arr.append(i)\n",
        "\n",
        "X_pos = X[pos_indices_arr]\n",
        "X_neu = X[neu_indices_arr]\n",
        "X_neg = X[neg_indices_arr]\n",
        "\n",
        "\n",
        "\n",
        "\n",
        "\n",
        "np.random.shuffle(X_pos)\n",
        "np.random.shuffle(X_neu)\n",
        "np.random.shuffle(X_neg)\n",
        "\n",
        "X_train_pos = X_pos[:int(np.floor(train_size*len(X_pos)))]\n",
        "X_train_neu = X_neu[:int(np.floor(train_size*len(X_neu)))]\n",
        "X_train_neg = X_neg[:int(np.floor(train_size*len(X_neg)))]\n",
        "\n",
        "y_train_pos = np.array([1]*len(X_train_pos))\n",
        "y_train_neu = np.array([0]*len(X_train_neu))\n",
        "y_train_neg = np.array([-1]*len(X_train_neg))\n",
        "\n",
        "X_test_pos = X_pos[int(np.floor(train_size*len(X_pos))):]\n",
        "X_test_neu = X_neu[int(np.floor(train_size*len(X_neu))):]\n",
        "X_test_neg = X_neg[int(np.floor(train_size*len(X_neg))):]\n",
        "\n",
        "y_test_pos = np.array([1]*len(X_test_pos))\n",
        "y_test_neu = np.array([0]*len(X_test_neu))\n",
        "y_test_neg = np.array([-1]*len(X_test_neg))\n",
        "\n",
        "\n",
        "X_train = np.concatenate((X_train_pos, X_train_neu, X_train_neg),axis=None)\n",
        "y_train = np.concatenate((y_train_pos, y_train_neu, y_train_neg),axis=None)\n",
        "X_test = np.concatenate((X_test_pos, X_test_neu, X_test_neg),axis=None)\n",
        "y_test = np.concatenate((y_test_pos, y_test_neu, y_test_neg),axis=None)\n",
        "\n",
        "\n",
        "\n",
        "\n",
        "\n",
        "\n"
      ]
    },
    {
      "cell_type": "code",
      "execution_count": null,
      "metadata": {
        "id": "nOypDNATtadg"
      },
      "outputs": [],
      "source": [
        "from keras.preprocessing.text import Tokenizer\n",
        "vocab_size = 5000\n",
        "oov_token = \"<OOV>\"\n",
        "tokenizer = Tokenizer(num_words = vocab_size, oov_token=oov_token)\n",
        "tokenizer.fit_on_texts(X_train)"
      ]
    },
    {
      "cell_type": "code",
      "source": [
        "import pickle\n",
        "\n",
        "# saving\n",
        "with open('tokenizer.pickle', 'wb') as handle:\n",
        "    pickle.dump(tokenizer, handle, protocol=pickle.HIGHEST_PROTOCOL)"
      ],
      "metadata": {
        "id": "zaiEVRtw-3Zu"
      },
      "execution_count": null,
      "outputs": []
    },
    {
      "cell_type": "code",
      "execution_count": null,
      "metadata": {
        "id": "XlYmBphL-4eV"
      },
      "outputs": [],
      "source": [
        "word_index = tokenizer.word_index"
      ]
    },
    {
      "cell_type": "code",
      "execution_count": null,
      "metadata": {
        "colab": {
          "base_uri": "https://localhost:8080/"
        },
        "id": "MBx7k0zbdM_O",
        "outputId": "91445fdd-0590-4c80-d0aa-9712f7f9fd8e"
      },
      "outputs": [
        {
          "output_type": "stream",
          "name": "stdout",
          "text": [
            "4305\n"
          ]
        }
      ],
      "source": [
        "print(len(word_index))"
      ]
    },
    {
      "cell_type": "code",
      "execution_count": null,
      "metadata": {
        "id": "APEIS1P2dO_C"
      },
      "outputs": [],
      "source": [
        "X_train_sequences = tokenizer.texts_to_sequences(X_train)"
      ]
    },
    {
      "cell_type": "code",
      "execution_count": null,
      "metadata": {
        "id": "J67feoFfdTEi"
      },
      "outputs": [],
      "source": [
        "X_test_sequences = tokenizer.texts_to_sequences(X_test)"
      ]
    },
    {
      "cell_type": "code",
      "execution_count": null,
      "metadata": {
        "id": "N6EEnvjxdVNf"
      },
      "outputs": [],
      "source": [
        "max_length = 100\n",
        "padding_type='post'\n",
        "truncation_type='post'\n",
        "\n",
        "from keras.preprocessing.sequence import pad_sequences\n",
        "\n",
        "X_test_padded = pad_sequences(X_test_sequences,maxlen=max_length, padding=padding_type, truncating=truncation_type)\n",
        "X_train_padded = pad_sequences(X_train_sequences,maxlen=max_length, padding=padding_type, truncating=truncation_type)\n"
      ]
    },
    {
      "cell_type": "code",
      "execution_count": null,
      "metadata": {
        "colab": {
          "base_uri": "https://localhost:8080/"
        },
        "id": "EyoYTVXjdZ-w",
        "outputId": "17572432-f0ee-4acc-f454-2943e4719f19"
      },
      "outputs": [
        {
          "output_type": "stream",
          "name": "stdout",
          "text": [
            "--2022-04-09 19:07:12--  http://nlp.stanford.edu/data/glove.6B.zip\n",
            "Resolving nlp.stanford.edu (nlp.stanford.edu)... 171.64.67.140\n",
            "Connecting to nlp.stanford.edu (nlp.stanford.edu)|171.64.67.140|:80... connected.\n",
            "HTTP request sent, awaiting response... 302 Found\n",
            "Location: https://nlp.stanford.edu/data/glove.6B.zip [following]\n",
            "--2022-04-09 19:07:12--  https://nlp.stanford.edu/data/glove.6B.zip\n",
            "Connecting to nlp.stanford.edu (nlp.stanford.edu)|171.64.67.140|:443... connected.\n",
            "HTTP request sent, awaiting response... 301 Moved Permanently\n",
            "Location: http://downloads.cs.stanford.edu/nlp/data/glove.6B.zip [following]\n",
            "--2022-04-09 19:07:12--  http://downloads.cs.stanford.edu/nlp/data/glove.6B.zip\n",
            "Resolving downloads.cs.stanford.edu (downloads.cs.stanford.edu)... 171.64.64.22\n",
            "Connecting to downloads.cs.stanford.edu (downloads.cs.stanford.edu)|171.64.64.22|:80... connected.\n",
            "HTTP request sent, awaiting response... 200 OK\n",
            "Length: 862182613 (822M) [application/zip]\n",
            "Saving to: ‘/tmp/glove.6B.zip’\n",
            "\n",
            "/tmp/glove.6B.zip   100%[===================>] 822.24M  5.16MB/s    in 2m 39s  \n",
            "\n",
            "2022-04-09 19:09:51 (5.16 MB/s) - ‘/tmp/glove.6B.zip’ saved [862182613/862182613]\n",
            "\n"
          ]
        }
      ],
      "source": [
        "!wget --no-check-certificate \\\n",
        "     http://nlp.stanford.edu/data/glove.6B.zip \\\n",
        "     -O /tmp/glove.6B.zip"
      ]
    },
    {
      "cell_type": "code",
      "execution_count": null,
      "metadata": {
        "id": "VjjHb3yCddUC"
      },
      "outputs": [],
      "source": [
        "import os\n",
        "import zipfile\n",
        "with zipfile.ZipFile('/tmp/glove.6B.zip', 'r') as zip_ref:\n",
        "    zip_ref.extractall('/tmp/glove')"
      ]
    },
    {
      "cell_type": "code",
      "execution_count": null,
      "metadata": {
        "colab": {
          "base_uri": "https://localhost:8080/"
        },
        "id": "AUGW-CMHepk2",
        "outputId": "e18612a3-17b0-4cb3-e58b-e0ac41c73cb9"
      },
      "outputs": [
        {
          "output_type": "stream",
          "name": "stdout",
          "text": [
            "Found 400000 word vectors.\n"
          ]
        }
      ],
      "source": [
        "embeddings_index = {}\n",
        "f = open('/tmp/glove/glove.6B.100d.txt')\n",
        "for line in f:\n",
        "    values = line.split()\n",
        "    word = values[0]\n",
        "    coefs = np.asarray(values[1:], dtype='float32')\n",
        "    embeddings_index[word] = coefs\n",
        "f.close()\n",
        "\n",
        "print('Found %s word vectors.' % len(embeddings_index))"
      ]
    },
    {
      "cell_type": "code",
      "execution_count": null,
      "metadata": {
        "id": "tTDTpkfGezZl"
      },
      "outputs": [],
      "source": [
        "embedding_matrix = np.zeros((len(word_index) + 1, max_length))\n",
        "for word, i in word_index.items():\n",
        "    embedding_vector = embeddings_index.get(word)\n",
        "    if embedding_vector is not None:\n",
        "        # words not found in embedding index will be all-zeros.\n",
        "        embedding_matrix[i] = embedding_vector"
      ]
    },
    {
      "cell_type": "code",
      "execution_count": null,
      "metadata": {
        "id": "ggr13q0offWC"
      },
      "outputs": [],
      "source": [
        "from tensorflow.keras.layers import Embedding, LSTM, Dense, Bidirectional, Dropout\n",
        "\n",
        "embedding_layer = Embedding(input_dim=len(word_index) + 1,\n",
        "                            output_dim=max_length,\n",
        "                            weights=[embedding_matrix],\n",
        "                            input_length=max_length,\n",
        "                            trainable=True)"
      ]
    },
    {
      "cell_type": "code",
      "execution_count": null,
      "metadata": {
        "id": "xj4fXQttflja"
      },
      "outputs": [],
      "source": [
        "import tensorflow as tf\n",
        "\n",
        "tf.keras.backend.clear_session()\n",
        "\n",
        "from tensorflow.keras.models import Sequential\n",
        "from tensorflow.keras.layers import Conv1D, Bidirectional, LSTM, Dense, Input, Dropout\n",
        "from tensorflow.keras.layers import SpatialDropout1D\n",
        "from tensorflow.keras.callbacks import ModelCheckpoint\n",
        "\n",
        "\n",
        "#Bidirectional LSTM based model\n",
        "model = Sequential([\n",
        "                                    \n",
        "    embedding_layer,\n",
        "    Bidirectional(LSTM(16, dropout=0.5, recurrent_dropout=0.5)),\n",
        "    Dense(32, activation='relu', kernel_regularizer='l2'),\n",
        "    Dropout(0.2),\n",
        "    Dense(16, activation='relu', kernel_regularizer='l2'),\n",
        "   Dense(3, activation='softmax')\n",
        "])\n",
        "\n",
        "\n",
        "\n",
        "\n"
      ]
    },
    {
      "cell_type": "code",
      "source": [
        "tf.keras.utils.plot_model(\n",
        "    model,\n",
        "    to_file='model.png',\n",
        "    show_shapes=True,\n",
        "    show_dtype=False,\n",
        "    show_layer_names=False,\n",
        "    rankdir='TB',\n",
        "    expand_nested=False,\n",
        "    dpi=96,\n",
        "    layer_range=None,\n",
        "    show_layer_activations=True\n",
        ")\n",
        "\n"
      ],
      "metadata": {
        "colab": {
          "base_uri": "https://localhost:8080/",
          "height": 754
        },
        "id": "QJKTZXlRuhzk",
        "outputId": "6f3f4336-7369-4ba8-eb86-5be7f81fba95"
      },
      "execution_count": null,
      "outputs": [
        {
          "output_type": "execute_result",
          "data": {
            "text/plain": [
              "<IPython.core.display.Image object>"
            ],
            "image/png": "[encoded data removed]"
          },
          "metadata": {},
          "execution_count": 20
        }
      ]
    },
    {
      "cell_type": "code",
      "execution_count": null,
      "metadata": {
        "id": "w_xDBmZNfpzW"
      },
      "outputs": [],
      "source": [
        "model.compile(loss='categorical_crossentropy',optimizer='adam',metrics=['accuracy'])"
      ]
    },
    {
      "cell_type": "code",
      "execution_count": null,
      "metadata": {
        "id": "2-A8oOicftYK"
      },
      "outputs": [],
      "source": [
        "X_train_padded = np.array(X_train_padded)\n",
        "y_train_labels = np.array(y_train)\n",
        "X_test_padded = np.array(X_test_padded)\n",
        "y_test_labels = np.array(y_test)"
      ]
    },
    {
      "cell_type": "code",
      "execution_count": null,
      "metadata": {
        "id": "4qzPwIkwfvMC"
      },
      "outputs": [],
      "source": [
        "import tensorflow as tf\n",
        "y_train_labels_one_hot_encoded = tf.keras.utils.to_categorical(y_train_labels, 3)\n",
        "y_test_labels_one_hot_encoded = tf.keras.utils.to_categorical(y_test_labels, 3)"
      ]
    },
    {
      "cell_type": "code",
      "execution_count": null,
      "metadata": {
        "colab": {
          "base_uri": "https://localhost:8080/"
        },
        "id": "ZN1778d-fxPh",
        "outputId": "5b8de81d-2e5b-465f-9419-38eef25db543"
      },
      "outputs": [
        {
          "output_type": "stream",
          "name": "stdout",
          "text": [
            "Epoch 1/100\n",
            "29/29 [==============================] - 41s 1s/step - loss: 1.5135 - accuracy: 0.4726 - val_loss: 1.3953 - val_accuracy: 0.5146\n",
            "Epoch 2/100\n",
            "29/29 [==============================] - 32s 1s/step - loss: 1.3366 - accuracy: 0.5372 - val_loss: 1.2626 - val_accuracy: 0.6117\n",
            "Epoch 3/100\n",
            "29/29 [==============================] - 32s 1s/step - loss: 1.2289 - accuracy: 0.6116 - val_loss: 1.1148 - val_accuracy: 0.7087\n",
            "Epoch 4/100\n",
            "29/29 [==============================] - 32s 1s/step - loss: 1.1148 - accuracy: 0.6575 - val_loss: 0.9738 - val_accuracy: 0.7379\n",
            "Epoch 5/100\n",
            "29/29 [==============================] - 33s 1s/step - loss: 0.9773 - accuracy: 0.7101 - val_loss: 0.9041 - val_accuracy: 0.7670\n",
            "Epoch 6/100\n",
            "29/29 [==============================] - 33s 1s/step - loss: 0.9103 - accuracy: 0.7166 - val_loss: 0.8663 - val_accuracy: 0.7573\n",
            "Epoch 7/100\n",
            "29/29 [==============================] - 32s 1s/step - loss: 0.8405 - accuracy: 0.7418 - val_loss: 0.8473 - val_accuracy: 0.7476\n",
            "Epoch 8/100\n",
            "29/29 [==============================] - 33s 1s/step - loss: 0.7639 - accuracy: 0.7779 - val_loss: 0.8368 - val_accuracy: 0.7476\n",
            "Epoch 9/100\n",
            "29/29 [==============================] - 33s 1s/step - loss: 0.6985 - accuracy: 0.7856 - val_loss: 0.7914 - val_accuracy: 0.7476\n",
            "Epoch 10/100\n",
            "29/29 [==============================] - 33s 1s/step - loss: 0.6580 - accuracy: 0.8074 - val_loss: 0.7780 - val_accuracy: 0.7476\n",
            "Epoch 11/100\n",
            "29/29 [==============================] - 33s 1s/step - loss: 0.6215 - accuracy: 0.8042 - val_loss: 0.8023 - val_accuracy: 0.7670\n",
            "Epoch 12/100\n",
            "29/29 [==============================] - 33s 1s/step - loss: 0.5825 - accuracy: 0.8118 - val_loss: 0.8291 - val_accuracy: 0.7379\n",
            "Epoch 13/100\n",
            "29/29 [==============================] - 33s 1s/step - loss: 0.5430 - accuracy: 0.8184 - val_loss: 0.8107 - val_accuracy: 0.7282\n",
            "Epoch 14/100\n",
            "29/29 [==============================] - 33s 1s/step - loss: 0.5049 - accuracy: 0.8337 - val_loss: 0.8409 - val_accuracy: 0.7379\n",
            "Epoch 15/100\n",
            "29/29 [==============================] - 32s 1s/step - loss: 0.4662 - accuracy: 0.8425 - val_loss: 0.8035 - val_accuracy: 0.7476\n"
          ]
        }
      ],
      "source": [
        "#Bi-LSTMs\n",
        "import tensorflow\n",
        "from tensorflow.keras.callbacks import EarlyStopping\n",
        "\n",
        "checkpoint_filepath = 'weights.{epoch:02d}-{val_loss:.2f}.h5'\n",
        "\n",
        "model_checkpoint_callback = tensorflow.keras.callbacks.ModelCheckpoint(\n",
        "    filepath=checkpoint_filepath,\n",
        "    monitor='val_accuracy',\n",
        "    mode='max',\n",
        "    save_best_only=True)\n",
        "\n",
        "\n",
        "early_stopping_callback = EarlyStopping(monitor='val_accuracy', patience=10), \n",
        "\n",
        "\n",
        "num_epochs = 100\n",
        "history = model.fit(X_train_padded, y_train_labels_one_hot_encoded, epochs=num_epochs, validation_data=(X_test_padded, y_test_labels_one_hot_encoded), callbacks=[model_checkpoint_callback, early_stopping_callback])"
      ]
    },
    {
      "cell_type": "code",
      "source": [
        "#For Bidirectional LSTMs\n",
        "import matplotlib.pyplot as plt\n",
        "\n",
        "epochs=[x for x in range(1,30)]\n",
        "\n",
        "plt.plot(epochs,history.history['accuracy'])\n",
        "plt.plot(epochs,history.history['val_accuracy'])\n",
        "plt.title('Model Accuracy')\n",
        "plt.ylabel('Accuracy')\n",
        "plt.xlabel('Number Of Epochs')\n",
        "plt.legend(['Train', 'Validation'], loc='upper left')\n",
        "plt.show()"
      ],
      "metadata": {
        "colab": {
          "base_uri": "https://localhost:8080/",
          "height": 295
        },
        "id": "l1DhKFCx-l8X",
        "outputId": "c09bd9a4-3424-4ccc-d10c-d64a38cd31f6"
      },
      "execution_count": null,
      "outputs": [
        {
          "output_type": "display_data",
          "data": {
            "text/plain": [
              "<Figure size 432x288 with 1 Axes>"
            ],
            "image/png": "[encoded data removed]"
          },
          "metadata": {
            "needs_background": "light"
          }
        }
      ]
    },
    {
      "cell_type": "markdown",
      "source": [
        "Prediction for Bi-LSTM"
      ],
      "metadata": {
        "id": "SldMzfTEWMld"
      }
    },
    {
      "cell_type": "code",
      "source": [
        "def preprocessSingleTweet(tweet):\n",
        "\n",
        "    tweet = str(tweet)\n",
        "    \n",
        "    #Removing urls and stripping whitespaces\n",
        "    tweet = re.sub(r'http\\S+', '', str(tweet))\n",
        "    tweet = tweet.strip()\n",
        "\n",
        "    #Removing hashtags and mentions\n",
        "    tweet = ' '.join([word for word in tweet.split() if word[0]!='@' and word[0]!='#'])\n",
        "\n",
        "\n",
        "    #Removing Punctuations\n",
        "    tweet = tweet.translate(str.maketrans('', '', string.punctuation))\n",
        "\n",
        "    #Lowercasing all texts, removing stopwords, and lemmatizing the texts\n",
        "    stopwordsList = stopwords.words('english') \n",
        "    lemmatizer = WordNetLemmatizer()\n",
        "    \n",
        "    tweet = tweet.lower()\n",
        "    tweet = ' '.join([word for word in tweet.split() if word not in stopwordsList])\n",
        "    tweet = ' '.join([lemmatizer.lemmatize(word) for word in tweet.split()])\n",
        "\n",
        "    return tweet"
      ],
      "metadata": {
        "id": "COxSFNFYRpoo"
      },
      "execution_count": null,
      "outputs": []
    },
    {
      "cell_type": "code",
      "source": [
        "def tokenize_and_predict(pre_processed_tweet):\n",
        "    encoded_tweet = tokenizer.texts_to_sequences([pre_processed_tweet])[0]\n",
        "    numpy_array_encoded_tweet = np.array([encoded_tweet])\n",
        "    numpy_array_encoded_tweet_padded = pad_sequences(numpy_array_encoded_tweet,maxlen=max_length, padding=padding_type, truncating=truncation_type)\n",
        "    pred = model.predict(numpy_array_encoded_tweet_padded, verbose=0)\n",
        "    max_idx = np.argmax(pred[0])\n",
        "    sentiment = 0\n",
        "    if max_idx==1:\n",
        "        sentiment = 1\n",
        "    elif max_idx==2:\n",
        "        sentiment = -1\n",
        "    else:\n",
        "        sentiment = 0\n",
        "    return sentiment"
      ],
      "metadata": {
        "id": "bj26YTU4Rpk9"
      },
      "execution_count": null,
      "outputs": []
    },
    {
      "cell_type": "code",
      "source": [
        "y_pred = []\n",
        "for i in range(len(X)):\n",
        "    clean_tweet = preprocessSingleTweet(X[i])\n",
        "    y_pred.append(tokenize_and_predict(clean_tweet)) "
      ],
      "metadata": {
        "id": "1aNZSTStRphd"
      },
      "execution_count": null,
      "outputs": []
    },
    {
      "cell_type": "code",
      "source": [
        "y_pred = np.array(y_pred)"
      ],
      "metadata": {
        "id": "454lmu-fRpdq"
      },
      "execution_count": null,
      "outputs": []
    },
    {
      "cell_type": "markdown",
      "source": [
        "Clssification Report of Bi-LSTM"
      ],
      "metadata": {
        "id": "dC35Tt52WSG_"
      }
    },
    {
      "cell_type": "code",
      "source": [
        "from sklearn.metrics import classification_report, accuracy_score, f1_score\n",
        "\n",
        "print(\"Classification Report:\")\n",
        "print(classification_report(y,y_pred))\n",
        "print(\"\\n\")\n",
        "\n",
        "print(\"Accuracy Score:\")\n",
        "print(accuracy_score(y,y_pred))\n",
        "print(\"\\n\")\n",
        "\n",
        "print(\"f1_score: \")\n",
        "print(f1_score(y,y_pred, average='weighted'))"
      ],
      "metadata": {
        "colab": {
          "base_uri": "https://localhost:8080/"
        },
        "id": "P3Z3c2EmRpZV",
        "outputId": "45348906-1db0-4a3f-cbfe-26126382d63b"
      },
      "execution_count": null,
      "outputs": [
        {
          "output_type": "stream",
          "name": "stdout",
          "text": [
            "Classification Report:\n",
            "              precision    recall  f1-score   support\n",
            "\n",
            "        -1.0       0.88      0.74      0.81       368\n",
            "         0.0       0.00      0.00      0.00       123\n",
            "         1.0       0.71      0.95      0.81       526\n",
            "\n",
            "    accuracy                           0.76      1017\n",
            "   macro avg       0.53      0.57      0.54      1017\n",
            "weighted avg       0.69      0.76      0.71      1017\n",
            "\n",
            "\n",
            "\n",
            "Accuracy Score:\n",
            "0.7610619469026548\n",
            "\n",
            "\n",
            "f1_score: \n",
            "0.7119383601667815\n"
          ]
        },
        {
          "output_type": "stream",
          "name": "stderr",
          "text": [
            "/usr/local/lib/python3.7/dist-packages/sklearn/metrics/_classification.py:1318: UndefinedMetricWarning: Precision and F-score are ill-defined and being set to 0.0 in labels with no predicted samples. Use `zero_division` parameter to control this behavior.\n",
            "  _warn_prf(average, modifier, msg_start, len(result))\n",
            "/usr/local/lib/python3.7/dist-packages/sklearn/metrics/_classification.py:1318: UndefinedMetricWarning: Precision and F-score are ill-defined and being set to 0.0 in labels with no predicted samples. Use `zero_division` parameter to control this behavior.\n",
            "  _warn_prf(average, modifier, msg_start, len(result))\n",
            "/usr/local/lib/python3.7/dist-packages/sklearn/metrics/_classification.py:1318: UndefinedMetricWarning: Precision and F-score are ill-defined and being set to 0.0 in labels with no predicted samples. Use `zero_division` parameter to control this behavior.\n",
            "  _warn_prf(average, modifier, msg_start, len(result))\n"
          ]
        }
      ]
    },
    {
      "cell_type": "markdown",
      "source": [
        "Vader"
      ],
      "metadata": {
        "id": "oaTuHtYUSq2z"
      }
    },
    {
      "cell_type": "code",
      "source": [
        "!pip install vaderSentiment"
      ],
      "metadata": {
        "colab": {
          "base_uri": "https://localhost:8080/"
        },
        "id": "dTJkYVaXUw-c",
        "outputId": "5fd6f195-5551-4a68-87c1-a989550160da"
      },
      "execution_count": null,
      "outputs": [
        {
          "output_type": "stream",
          "name": "stdout",
          "text": [
            "Collecting vaderSentiment\n",
            "  Downloading vaderSentiment-3.3.2-py2.py3-none-any.whl (125 kB)\n",
            "\u001b[?25l\r\u001b[K     |██▋                             | 10 kB 15.4 MB/s eta 0:00:01\r\u001b[K     |█████▏                          | 20 kB 12.8 MB/s eta 0:00:01\r\u001b[K     |███████▉                        | 30 kB 9.9 MB/s eta 0:00:01\r\u001b[K     |██████████▍                     | 40 kB 8.6 MB/s eta 0:00:01\r\u001b[K     |█████████████                   | 51 kB 4.7 MB/s eta 0:00:01\r\u001b[K     |███████████████▋                | 61 kB 5.5 MB/s eta 0:00:01\r\u001b[K     |██████████████████▏             | 71 kB 5.5 MB/s eta 0:00:01\r\u001b[K     |████████████████████▉           | 81 kB 5.3 MB/s eta 0:00:01\r\u001b[K     |███████████████████████▍        | 92 kB 5.8 MB/s eta 0:00:01\r\u001b[K     |██████████████████████████      | 102 kB 5.1 MB/s eta 0:00:01\r\u001b[K     |████████████████████████████▋   | 112 kB 5.1 MB/s eta 0:00:01\r\u001b[K     |███████████████████████████████▏| 122 kB 5.1 MB/s eta 0:00:01\r\u001b[K     |████████████████████████████████| 125 kB 5.1 MB/s \n",
            "\u001b[?25hRequirement already satisfied: requests in /usr/local/lib/python3.7/dist-packages (from vaderSentiment) (2.23.0)\n",
            "Requirement already satisfied: chardet<4,>=3.0.2 in /usr/local/lib/python3.7/dist-packages (from requests->vaderSentiment) (3.0.4)\n",
            "Requirement already satisfied: idna<3,>=2.5 in /usr/local/lib/python3.7/dist-packages (from requests->vaderSentiment) (2.10)\n",
            "Requirement already satisfied: certifi>=2017.4.17 in /usr/local/lib/python3.7/dist-packages (from requests->vaderSentiment) (2021.10.8)\n",
            "Requirement already satisfied: urllib3!=1.25.0,!=1.25.1,<1.26,>=1.21.1 in /usr/local/lib/python3.7/dist-packages (from requests->vaderSentiment) (1.24.3)\n",
            "Installing collected packages: vaderSentiment\n",
            "Successfully installed vaderSentiment-3.3.2\n"
          ]
        }
      ]
    },
    {
      "cell_type": "code",
      "source": [
        "# for i in range(len(X)):\n",
        "#     score =  analyzer.polarity_scores(X[i])\n",
        "#     maxKey = 'neu'\n",
        "#     for j in range(3):\n",
        "        \n"
      ],
      "metadata": {
        "id": "TRx49-Vrn9Fd"
      },
      "execution_count": null,
      "outputs": []
    },
    {
      "cell_type": "code",
      "source": [
        "import nltk\n",
        "nltk.download('vader_lexicon')\n",
        "from nltk.sentiment.vader import SentimentIntensityAnalyzer\n",
        "\n",
        "sid = SentimentIntensityAnalyzer()"
      ],
      "metadata": {
        "colab": {
          "base_uri": "https://localhost:8080/"
        },
        "id": "8tKO6j5ZGP66",
        "outputId": "86f3b7c5-308a-4124-9a2c-d0a8d75dea65"
      },
      "execution_count": null,
      "outputs": [
        {
          "output_type": "stream",
          "name": "stdout",
          "text": [
            "[nltk_data] Downloading package vader_lexicon to /root/nltk_data...\n"
          ]
        },
        {
          "output_type": "stream",
          "name": "stderr",
          "text": [
            "/usr/local/lib/python3.7/dist-packages/nltk/twitter/__init__.py:20: UserWarning: The twython library has not been installed. Some functionality from the twitter package will not be available.\n",
            "  warnings.warn(\"The twython library has not been installed. \"\n"
          ]
        }
      ]
    },
    {
      "cell_type": "code",
      "source": [
        "sid.polarity_scores(X[0])"
      ],
      "metadata": {
        "colab": {
          "base_uri": "https://localhost:8080/"
        },
        "id": "bLbJV0AZvbQv",
        "outputId": "2c8464cd-8a67-44bc-da23-acdb7ec7b772"
      },
      "execution_count": null,
      "outputs": [
        {
          "output_type": "execute_result",
          "data": {
            "text/plain": [
              "{'compound': -0.872, 'neg': 0.32, 'neu': 0.68, 'pos': 0.0}"
            ]
          },
          "metadata": {},
          "execution_count": 15
        }
      ]
    },
    {
      "cell_type": "code",
      "source": [
        "final_vader_probs = [1,2,3]\n",
        "final_lstm_probs = [1,2,3]\n",
        "final_vader_probs = np.array(final_vader_probs)\n",
        "final_lstm_probs = np.array(final_lstm_probs)\n",
        "\n",
        "final_sentiment_score = 3*final_lstm_probs + 4*final_vader_probs\n",
        "print(np.argmax(final_sentiment_score))"
      ],
      "metadata": {
        "colab": {
          "base_uri": "https://localhost:8080/"
        },
        "id": "wNnIZAXivd36",
        "outputId": "f79ce58f-9f18-4c95-c958-f01d2dee4720"
      },
      "execution_count": null,
      "outputs": [
        {
          "output_type": "stream",
          "name": "stdout",
          "text": [
            "2\n"
          ]
        }
      ]
    },
    {
      "cell_type": "code",
      "source": [
        "d = {\"tweet\": X, \"sentiment\": y}\n",
        "df = pd.DataFrame(d)"
      ],
      "metadata": {
        "id": "Ay3Eyxhss7HT"
      },
      "execution_count": null,
      "outputs": []
    },
    {
      "cell_type": "code",
      "source": [
        "print(len(df))\n",
        "df['sentiment'].value_counts()"
      ],
      "metadata": {
        "colab": {
          "base_uri": "https://localhost:8080/"
        },
        "id": "qC5bSnFaGQVP",
        "outputId": "0c77f326-c9c5-4acc-d244-c350a1088adb"
      },
      "execution_count": null,
      "outputs": [
        {
          "output_type": "stream",
          "name": "stdout",
          "text": [
            "1017\n"
          ]
        },
        {
          "output_type": "execute_result",
          "data": {
            "text/plain": [
              " 1.0    526\n",
              "-1.0    368\n",
              " 0.0    123\n",
              "Name: sentiment, dtype: int64"
            ]
          },
          "metadata": {},
          "execution_count": 18
        }
      ]
    },
    {
      "cell_type": "code",
      "source": [
        "import time\n",
        "start = time.process_time()\n",
        "df['scores'] = df[\"tweet\"].apply(lambda tweet: sid.polarity_scores(tweet)) \n",
        "time_taken = time.process_time() - start\n",
        "\n",
        "df['compound']  = df['scores'].apply(lambda score_dict: score_dict['compound'])\n",
        "df['comp_score'] = df['compound'].apply(lambda c: 1.0 if c >0.0 else -1.0 if c <0.0 else 0.0)\n",
        "print(time_taken)\n",
        "df.head()"
      ],
      "metadata": {
        "colab": {
          "base_uri": "https://localhost:8080/",
          "height": 223
        },
        "id": "NSLuVPYMGjFk",
        "outputId": "54fc3f8d-7c86-4d6a-9f2d-2991de5cbf6f"
      },
      "execution_count": null,
      "outputs": [
        {
          "output_type": "stream",
          "name": "stdout",
          "text": [
            "0.2473469210000001\n"
          ]
        },
        {
          "output_type": "execute_result",
          "data": {
            "text/plain": [
              "                                               tweet  sentiment  \\\n",
              "0  update chp said man killed monday night accele...       -1.0   \n",
              "1  another incredible close house vip car deliver...        1.0   \n",
              "2  motorrad definition ce 04 siton made serve tra...        1.0   \n",
              "3  tragedy concerned speeding driver killed partn...       -1.0   \n",
              "4  hi lyn sorry hear bmws repair dm u registratio...       -1.0   \n",
              "\n",
              "                                              scores  compound  comp_score  \n",
              "0  {'neg': 0.32, 'neu': 0.68, 'pos': 0.0, 'compou...   -0.8720        -1.0  \n",
              "1  {'neg': 0.0, 'neu': 0.494, 'pos': 0.506, 'comp...    0.9468         1.0  \n",
              "2  {'neg': 0.0, 'neu': 1.0, 'pos': 0.0, 'compound...    0.0000         0.0  \n",
              "3  {'neg': 0.56, 'neu': 0.44, 'pos': 0.0, 'compou...   -0.8720        -1.0  \n",
              "4  {'neg': 0.072, 'neu': 0.608, 'pos': 0.32, 'com...    0.6705         1.0  "
            ],
            "text/html": [
              "\n",
              "  <div id=\"df-decae048-b934-4923-a34a-23d3636b4b0a\">\n",
              "    <div class=\"colab-df-container\">\n",
              "      <div>\n",
              "<style scoped>\n",
              "    .dataframe tbody tr th:only-of-type {\n",
              "        vertical-align: middle;\n",
              "    }\n",
              "\n",
              "    .dataframe tbody tr th {\n",
              "        vertical-align: top;\n",
              "    }\n",
              "\n",
              "    .dataframe thead th {\n",
              "        text-align: right;\n",
              "    }\n",
              "</style>\n",
              "<table border=\"1\" class=\"dataframe\">\n",
              "  <thead>\n",
              "    <tr style=\"text-align: right;\">\n",
              "      <th></th>\n",
              "      <th>tweet</th>\n",
              "      <th>sentiment</th>\n",
              "      <th>scores</th>\n",
              "      <th>compound</th>\n",
              "      <th>comp_score</th>\n",
              "    </tr>\n",
              "  </thead>\n",
              "  <tbody>\n",
              "    <tr>\n",
              "      <th>0</th>\n",
              "      <td>update chp said man killed monday night accele...</td>\n",
              "      <td>-1.0</td>\n",
              "      <td>{'neg': 0.32, 'neu': 0.68, 'pos': 0.0, 'compou...</td>\n",
              "      <td>-0.8720</td>\n",
              "      <td>-1.0</td>\n",
              "    </tr>\n",
              "    <tr>\n",
              "      <th>1</th>\n",
              "      <td>another incredible close house vip car deliver...</td>\n",
              "      <td>1.0</td>\n",
              "      <td>{'neg': 0.0, 'neu': 0.494, 'pos': 0.506, 'comp...</td>\n",
              "      <td>0.9468</td>\n",
              "      <td>1.0</td>\n",
              "    </tr>\n",
              "    <tr>\n",
              "      <th>2</th>\n",
              "      <td>motorrad definition ce 04 siton made serve tra...</td>\n",
              "      <td>1.0</td>\n",
              "      <td>{'neg': 0.0, 'neu': 1.0, 'pos': 0.0, 'compound...</td>\n",
              "      <td>0.0000</td>\n",
              "      <td>0.0</td>\n",
              "    </tr>\n",
              "    <tr>\n",
              "      <th>3</th>\n",
              "      <td>tragedy concerned speeding driver killed partn...</td>\n",
              "      <td>-1.0</td>\n",
              "      <td>{'neg': 0.56, 'neu': 0.44, 'pos': 0.0, 'compou...</td>\n",
              "      <td>-0.8720</td>\n",
              "      <td>-1.0</td>\n",
              "    </tr>\n",
              "    <tr>\n",
              "      <th>4</th>\n",
              "      <td>hi lyn sorry hear bmws repair dm u registratio...</td>\n",
              "      <td>-1.0</td>\n",
              "      <td>{'neg': 0.072, 'neu': 0.608, 'pos': 0.32, 'com...</td>\n",
              "      <td>0.6705</td>\n",
              "      <td>1.0</td>\n",
              "    </tr>\n",
              "  </tbody>\n",
              "</table>\n",
              "</div>\n",
              "      <button class=\"colab-df-convert\" onclick=\"convertToInteractive('df-decae048-b934-4923-a34a-23d3636b4b0a')\"\n",
              "              title=\"Convert this dataframe to an interactive table.\"\n",
              "              style=\"display:none;\">\n",
              "        \n",
              "  <svg xmlns=\"http://www.w3.org/2000/svg\" height=\"24px\"viewBox=\"0 0 24 24\"\n",
              "       width=\"24px\">\n",
              "    <path d=\"M0 0h24v24H0V0z\" fill=\"none\"/>\n",
              "    <path d=\"M18.56 5.44l.94 2.06.94-2.06 2.06-.94-2.06-.94-.94-2.06-.94 2.06-2.06.94zm-11 1L8.5 8.5l.94-2.06 2.06-.94-2.06-.94L8.5 2.5l-.94 2.06-2.06.94zm10 10l.94 2.06.94-2.06 2.06-.94-2.06-.94-.94-2.06-.94 2.06-2.06.94z\"/><path d=\"M17.41 7.96l-1.37-1.37c-.4-.4-.92-.59-1.43-.59-.52 0-1.04.2-1.43.59L10.3 9.45l-7.72 7.72c-.78.78-.78 2.05 0 2.83L4 21.41c.39.39.9.59 1.41.59.51 0 1.02-.2 1.41-.59l7.78-7.78 2.81-2.81c.8-.78.8-2.07 0-2.86zM5.41 20L4 18.59l7.72-7.72 1.47 1.35L5.41 20z\"/>\n",
              "  </svg>\n",
              "      </button>\n",
              "      \n",
              "  <style>\n",
              "    .colab-df-container {\n",
              "      display:flex;\n",
              "      flex-wrap:wrap;\n",
              "      gap: 12px;\n",
              "    }\n",
              "\n",
              "    .colab-df-convert {\n",
              "      background-color: #E8F0FE;\n",
              "      border: none;\n",
              "      border-radius: 50%;\n",
              "      cursor: pointer;\n",
              "      display: none;\n",
              "      fill: #1967D2;\n",
              "      height: 32px;\n",
              "      padding: 0 0 0 0;\n",
              "      width: 32px;\n",
              "    }\n",
              "\n",
              "    .colab-df-convert:hover {\n",
              "      background-color: #E2EBFA;\n",
              "      box-shadow: 0px 1px 2px rgba(60, 64, 67, 0.3), 0px 1px 3px 1px rgba(60, 64, 67, 0.15);\n",
              "      fill: #174EA6;\n",
              "    }\n",
              "\n",
              "    [theme=dark] .colab-df-convert {\n",
              "      background-color: #3B4455;\n",
              "      fill: #D2E3FC;\n",
              "    }\n",
              "\n",
              "    [theme=dark] .colab-df-convert:hover {\n",
              "      background-color: #434B5C;\n",
              "      box-shadow: 0px 1px 3px 1px rgba(0, 0, 0, 0.15);\n",
              "      filter: drop-shadow(0px 1px 2px rgba(0, 0, 0, 0.3));\n",
              "      fill: #FFFFFF;\n",
              "    }\n",
              "  </style>\n",
              "\n",
              "      <script>\n",
              "        const buttonEl =\n",
              "          document.querySelector('#df-decae048-b934-4923-a34a-23d3636b4b0a button.colab-df-convert');\n",
              "        buttonEl.style.display =\n",
              "          google.colab.kernel.accessAllowed ? 'block' : 'none';\n",
              "\n",
              "        async function convertToInteractive(key) {\n",
              "          const element = document.querySelector('#df-decae048-b934-4923-a34a-23d3636b4b0a');\n",
              "          const dataTable =\n",
              "            await google.colab.kernel.invokeFunction('convertToInteractive',\n",
              "                                                     [key], {});\n",
              "          if (!dataTable) return;\n",
              "\n",
              "          const docLinkHtml = 'Like what you see? Visit the ' +\n",
              "            '<a target=\"_blank\" href=https://colab.research.google.com/notebooks/data_table.ipynb>data table notebook</a>'\n",
              "            + ' to learn more about interactive tables.';\n",
              "          element.innerHTML = '';\n",
              "          dataTable['output_type'] = 'display_data';\n",
              "          await google.colab.output.renderOutput(dataTable, element);\n",
              "          const docLink = document.createElement('div');\n",
              "          docLink.innerHTML = docLinkHtml;\n",
              "          element.appendChild(docLink);\n",
              "        }\n",
              "      </script>\n",
              "    </div>\n",
              "  </div>\n",
              "  "
            ]
          },
          "metadata": {},
          "execution_count": 21
        }
      ]
    },
    {
      "cell_type": "markdown",
      "source": [
        "Classification Report of Vader"
      ],
      "metadata": {
        "id": "TDBJLxx9WcCX"
      }
    },
    {
      "cell_type": "code",
      "source": [
        "from sklearn.metrics import classification_report, confusion_matrix, accuracy_score, f1_score\n",
        "\n",
        "print(\"Confusion Matrix:\")\n",
        "print(confusion_matrix(df[\"sentiment\"],df[\"comp_score\"]))\n",
        "print(\"\\n\")\n",
        "\n",
        "print(\"Classification Report:\")\n",
        "print(classification_report(df[\"sentiment\"],df[\"comp_score\"]))\n",
        "print(\"\\n\")\n",
        "\n",
        "print(\"Accuracy Score:\")\n",
        "print(accuracy_score(df[\"sentiment\"],df[\"comp_score\"]))\n",
        "print(\"\\n\")\n",
        "\n",
        "print(\"f1_score: \")\n",
        "print(f1_score(df[\"sentiment\"],df[\"comp_score\"], average='weighted'))"
      ],
      "metadata": {
        "colab": {
          "base_uri": "https://localhost:8080/"
        },
        "id": "wu0QqHofGoKy",
        "outputId": "7f543715-f932-4643-9d03-bbf0c330529c"
      },
      "execution_count": null,
      "outputs": [
        {
          "output_type": "stream",
          "name": "stdout",
          "text": [
            "Confusion Matrix:\n",
            "[[212  62  94]\n",
            " [ 19  51  53]\n",
            " [ 43 162 321]]\n",
            "\n",
            "\n",
            "Classification Report:\n",
            "              precision    recall  f1-score   support\n",
            "\n",
            "        -1.0       0.77      0.58      0.66       368\n",
            "         0.0       0.19      0.41      0.26       123\n",
            "         1.0       0.69      0.61      0.65       526\n",
            "\n",
            "    accuracy                           0.57      1017\n",
            "   macro avg       0.55      0.53      0.52      1017\n",
            "weighted avg       0.66      0.57      0.60      1017\n",
            "\n",
            "\n",
            "\n",
            "Accuracy Score:\n",
            "0.5742379547689282\n",
            "\n",
            "\n",
            "f1_score: \n",
            "0.6040250676513833\n"
          ]
        }
      ]
    }
  ],
  "metadata": {
    "colab": {
      "collapsed_sections": [],
      "name": "Sentiment_Analysis_More_Data.ipynb",
      "provenance": [],
      "include_colab_link": true
    },
    "kernelspec": {
      "display_name": "Python 3",
      "name": "python3"
    },
    "language_info": {
      "name": "python"
    }
  },
  "nbformat": 4,
  "nbformat_minor": 0
}