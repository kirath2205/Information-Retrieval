{
  "nbformat": 4,
  "nbformat_minor": 0,
  "metadata": {
    "colab": {
      "name": "BMW.ipynb",
      "provenance": [],
      "authorship_tag": "ABX9TyOVsJBgG1MjINNwnAM3w+Yu",
      "include_colab_link": true
    },
    "kernelspec": {
      "name": "python3",
      "display_name": "Python 3"
    },
    "language_info": {
      "name": "python"
    },
    "accelerator": "GPU"
  },
  "cells": [
    {
      "cell_type": "markdown",
      "metadata": {
        "id": "view-in-github",
        "colab_type": "text"
      },
      "source": [
        "<a href=\"https://colab.research.google.com/github/kirath2205/Information-Retrieval/blob/main/BMW.ipynb\" target=\"_parent\"><img src=\"https://colab.research.google.com/assets/colab-badge.svg\" alt=\"Open In Colab\"/></a>"
      ]
    },
    {
      "cell_type": "code",
      "execution_count": 1,
      "metadata": {
        "colab": {
          "base_uri": "https://localhost:8080/",
          "height": 687
        },
        "id": "T9dKBCCPGZOA",
        "outputId": "6782f6c7-68fb-457f-c330-0d974cb74512"
      },
      "outputs": [
        {
          "output_type": "execute_result",
          "data": {
            "text/plain": [
              "             id        username    created_at             date  Label  \\\n",
              "0  1.510000e+18       23ABCNews  1.650000e+12  29/3/2022 23:45   -1.0   \n",
              "1  1.510000e+18  CloseHouseGolf  1.650000e+12  29/3/2022 23:30    1.0   \n",
              "2  1.510000e+18      GadgetFlow  1.650000e+12  29/3/2022 23:30    1.0   \n",
              "3  1.510000e+18   TheBoltonNews  1.650000e+12  29/3/2022 23:02   -1.0   \n",
              "4  1.510000e+18          BMW_UK  1.650000e+12  29/3/2022 22:33   -1.0   \n",
              "\n",
              "                                               tweet language  \\\n",
              "0  UPDATE: CHP said a man was killed Monday night...       en   \n",
              "1  Another incredible Close House VIP car deliver...       en   \n",
              "2  The @BMW Motorrad Definition CE 04 sit-on #eSc...       en   \n",
              "3  'A tragedy for all concerned': Speeding driver...       en   \n",
              "4  @lynpaul6 Hi Lyn, we're sorry to hear your BMW...       en   \n",
              "\n",
              "                         hashtags cashtags  \\\n",
              "0                              []       []   \n",
              "1      ['bmw', 'vip', 'dreamcar']       []   \n",
              "2  ['escooter', 'transportation']       []   \n",
              "3                              []       []   \n",
              "4                              []       []   \n",
              "\n",
              "                                                link  \\\n",
              "0  https://twitter.com/23ABCNews/status/150883271...   \n",
              "1  https://twitter.com/CloseHouseGolf/status/1508...   \n",
              "2  https://twitter.com/GadgetFlow/status/15088288...   \n",
              "3  https://twitter.com/TheBoltonNews/status/15088...   \n",
              "4  https://twitter.com/BMW_UK/status/150881450842...   \n",
              "\n",
              "                                                urls  \\\n",
              "0  ['https://www.turnto23.com/news/local-news/one...   \n",
              "1                                                 []   \n",
              "2  ['https://thegadgetflow.com/portfolio/bmw-moto...   \n",
              "3  ['https://www.theboltonnews.co.uk/news/2002930...   \n",
              "4                                                 []   \n",
              "\n",
              "                                              photos  video  \\\n",
              "0                                                 []      0   \n",
              "1  ['https://pbs.twimg.com/media/FPBv1x2WQA49E4s....      1   \n",
              "2  ['https://pbs.twimg.com/media/FPBv1chX0AcuHfs....      1   \n",
              "3                                                 []      0   \n",
              "4                                                 []      0   \n",
              "\n",
              "                                         thumbnail  nlikes  nreplies  \\\n",
              "0                                              NaN       0         0   \n",
              "1  https://pbs.twimg.com/media/FPBv1x2WQA49E4s.jpg       7         0   \n",
              "2  https://pbs.twimg.com/media/FPBv1chX0AcuHfs.jpg       0         0   \n",
              "3                                              NaN       1         0   \n",
              "4                                              NaN       0         2   \n",
              "\n",
              "   nretweets  \n",
              "0          0  \n",
              "1          0  \n",
              "2          0  \n",
              "3          1  \n",
              "4          0  "
            ],
            "text/html": [
              "\n",
              "  <div id=\"df-fb80192e-65bd-4ce9-9267-210a285bfcb5\">\n",
              "    <div class=\"colab-df-container\">\n",
              "      <div>\n",
              "<style scoped>\n",
              "    .dataframe tbody tr th:only-of-type {\n",
              "        vertical-align: middle;\n",
              "    }\n",
              "\n",
              "    .dataframe tbody tr th {\n",
              "        vertical-align: top;\n",
              "    }\n",
              "\n",
              "    .dataframe thead th {\n",
              "        text-align: right;\n",
              "    }\n",
              "</style>\n",
              "<table border=\"1\" class=\"dataframe\">\n",
              "  <thead>\n",
              "    <tr style=\"text-align: right;\">\n",
              "      <th></th>\n",
              "      <th>id</th>\n",
              "      <th>username</th>\n",
              "      <th>created_at</th>\n",
              "      <th>date</th>\n",
              "      <th>Label</th>\n",
              "      <th>tweet</th>\n",
              "      <th>language</th>\n",
              "      <th>hashtags</th>\n",
              "      <th>cashtags</th>\n",
              "      <th>link</th>\n",
              "      <th>urls</th>\n",
              "      <th>photos</th>\n",
              "      <th>video</th>\n",
              "      <th>thumbnail</th>\n",
              "      <th>nlikes</th>\n",
              "      <th>nreplies</th>\n",
              "      <th>nretweets</th>\n",
              "    </tr>\n",
              "  </thead>\n",
              "  <tbody>\n",
              "    <tr>\n",
              "      <th>0</th>\n",
              "      <td>1.510000e+18</td>\n",
              "      <td>23ABCNews</td>\n",
              "      <td>1.650000e+12</td>\n",
              "      <td>29/3/2022 23:45</td>\n",
              "      <td>-1.0</td>\n",
              "      <td>UPDATE: CHP said a man was killed Monday night...</td>\n",
              "      <td>en</td>\n",
              "      <td>[]</td>\n",
              "      <td>[]</td>\n",
              "      <td>https://twitter.com/23ABCNews/status/150883271...</td>\n",
              "      <td>['https://www.turnto23.com/news/local-news/one...</td>\n",
              "      <td>[]</td>\n",
              "      <td>0</td>\n",
              "      <td>NaN</td>\n",
              "      <td>0</td>\n",
              "      <td>0</td>\n",
              "      <td>0</td>\n",
              "    </tr>\n",
              "    <tr>\n",
              "      <th>1</th>\n",
              "      <td>1.510000e+18</td>\n",
              "      <td>CloseHouseGolf</td>\n",
              "      <td>1.650000e+12</td>\n",
              "      <td>29/3/2022 23:30</td>\n",
              "      <td>1.0</td>\n",
              "      <td>Another incredible Close House VIP car deliver...</td>\n",
              "      <td>en</td>\n",
              "      <td>['bmw', 'vip', 'dreamcar']</td>\n",
              "      <td>[]</td>\n",
              "      <td>https://twitter.com/CloseHouseGolf/status/1508...</td>\n",
              "      <td>[]</td>\n",
              "      <td>['https://pbs.twimg.com/media/FPBv1x2WQA49E4s....</td>\n",
              "      <td>1</td>\n",
              "      <td>https://pbs.twimg.com/media/FPBv1x2WQA49E4s.jpg</td>\n",
              "      <td>7</td>\n",
              "      <td>0</td>\n",
              "      <td>0</td>\n",
              "    </tr>\n",
              "    <tr>\n",
              "      <th>2</th>\n",
              "      <td>1.510000e+18</td>\n",
              "      <td>GadgetFlow</td>\n",
              "      <td>1.650000e+12</td>\n",
              "      <td>29/3/2022 23:30</td>\n",
              "      <td>1.0</td>\n",
              "      <td>The @BMW Motorrad Definition CE 04 sit-on #eSc...</td>\n",
              "      <td>en</td>\n",
              "      <td>['escooter', 'transportation']</td>\n",
              "      <td>[]</td>\n",
              "      <td>https://twitter.com/GadgetFlow/status/15088288...</td>\n",
              "      <td>['https://thegadgetflow.com/portfolio/bmw-moto...</td>\n",
              "      <td>['https://pbs.twimg.com/media/FPBv1chX0AcuHfs....</td>\n",
              "      <td>1</td>\n",
              "      <td>https://pbs.twimg.com/media/FPBv1chX0AcuHfs.jpg</td>\n",
              "      <td>0</td>\n",
              "      <td>0</td>\n",
              "      <td>0</td>\n",
              "    </tr>\n",
              "    <tr>\n",
              "      <th>3</th>\n",
              "      <td>1.510000e+18</td>\n",
              "      <td>TheBoltonNews</td>\n",
              "      <td>1.650000e+12</td>\n",
              "      <td>29/3/2022 23:02</td>\n",
              "      <td>-1.0</td>\n",
              "      <td>'A tragedy for all concerned': Speeding driver...</td>\n",
              "      <td>en</td>\n",
              "      <td>[]</td>\n",
              "      <td>[]</td>\n",
              "      <td>https://twitter.com/TheBoltonNews/status/15088...</td>\n",
              "      <td>['https://www.theboltonnews.co.uk/news/2002930...</td>\n",
              "      <td>[]</td>\n",
              "      <td>0</td>\n",
              "      <td>NaN</td>\n",
              "      <td>1</td>\n",
              "      <td>0</td>\n",
              "      <td>1</td>\n",
              "    </tr>\n",
              "    <tr>\n",
              "      <th>4</th>\n",
              "      <td>1.510000e+18</td>\n",
              "      <td>BMW_UK</td>\n",
              "      <td>1.650000e+12</td>\n",
              "      <td>29/3/2022 22:33</td>\n",
              "      <td>-1.0</td>\n",
              "      <td>@lynpaul6 Hi Lyn, we're sorry to hear your BMW...</td>\n",
              "      <td>en</td>\n",
              "      <td>[]</td>\n",
              "      <td>[]</td>\n",
              "      <td>https://twitter.com/BMW_UK/status/150881450842...</td>\n",
              "      <td>[]</td>\n",
              "      <td>[]</td>\n",
              "      <td>0</td>\n",
              "      <td>NaN</td>\n",
              "      <td>0</td>\n",
              "      <td>2</td>\n",
              "      <td>0</td>\n",
              "    </tr>\n",
              "  </tbody>\n",
              "</table>\n",
              "</div>\n",
              "      <button class=\"colab-df-convert\" onclick=\"convertToInteractive('df-fb80192e-65bd-4ce9-9267-210a285bfcb5')\"\n",
              "              title=\"Convert this dataframe to an interactive table.\"\n",
              "              style=\"display:none;\">\n",
              "        \n",
              "  <svg xmlns=\"http://www.w3.org/2000/svg\" height=\"24px\"viewBox=\"0 0 24 24\"\n",
              "       width=\"24px\">\n",
              "    <path d=\"M0 0h24v24H0V0z\" fill=\"none\"/>\n",
              "    <path d=\"M18.56 5.44l.94 2.06.94-2.06 2.06-.94-2.06-.94-.94-2.06-.94 2.06-2.06.94zm-11 1L8.5 8.5l.94-2.06 2.06-.94-2.06-.94L8.5 2.5l-.94 2.06-2.06.94zm10 10l.94 2.06.94-2.06 2.06-.94-2.06-.94-.94-2.06-.94 2.06-2.06.94z\"/><path d=\"M17.41 7.96l-1.37-1.37c-.4-.4-.92-.59-1.43-.59-.52 0-1.04.2-1.43.59L10.3 9.45l-7.72 7.72c-.78.78-.78 2.05 0 2.83L4 21.41c.39.39.9.59 1.41.59.51 0 1.02-.2 1.41-.59l7.78-7.78 2.81-2.81c.8-.78.8-2.07 0-2.86zM5.41 20L4 18.59l7.72-7.72 1.47 1.35L5.41 20z\"/>\n",
              "  </svg>\n",
              "      </button>\n",
              "      \n",
              "  <style>\n",
              "    .colab-df-container {\n",
              "      display:flex;\n",
              "      flex-wrap:wrap;\n",
              "      gap: 12px;\n",
              "    }\n",
              "\n",
              "    .colab-df-convert {\n",
              "      background-color: #E8F0FE;\n",
              "      border: none;\n",
              "      border-radius: 50%;\n",
              "      cursor: pointer;\n",
              "      display: none;\n",
              "      fill: #1967D2;\n",
              "      height: 32px;\n",
              "      padding: 0 0 0 0;\n",
              "      width: 32px;\n",
              "    }\n",
              "\n",
              "    .colab-df-convert:hover {\n",
              "      background-color: #E2EBFA;\n",
              "      box-shadow: 0px 1px 2px rgba(60, 64, 67, 0.3), 0px 1px 3px 1px rgba(60, 64, 67, 0.15);\n",
              "      fill: #174EA6;\n",
              "    }\n",
              "\n",
              "    [theme=dark] .colab-df-convert {\n",
              "      background-color: #3B4455;\n",
              "      fill: #D2E3FC;\n",
              "    }\n",
              "\n",
              "    [theme=dark] .colab-df-convert:hover {\n",
              "      background-color: #434B5C;\n",
              "      box-shadow: 0px 1px 3px 1px rgba(0, 0, 0, 0.15);\n",
              "      filter: drop-shadow(0px 1px 2px rgba(0, 0, 0, 0.3));\n",
              "      fill: #FFFFFF;\n",
              "    }\n",
              "  </style>\n",
              "\n",
              "      <script>\n",
              "        const buttonEl =\n",
              "          document.querySelector('#df-fb80192e-65bd-4ce9-9267-210a285bfcb5 button.colab-df-convert');\n",
              "        buttonEl.style.display =\n",
              "          google.colab.kernel.accessAllowed ? 'block' : 'none';\n",
              "\n",
              "        async function convertToInteractive(key) {\n",
              "          const element = document.querySelector('#df-fb80192e-65bd-4ce9-9267-210a285bfcb5');\n",
              "          const dataTable =\n",
              "            await google.colab.kernel.invokeFunction('convertToInteractive',\n",
              "                                                     [key], {});\n",
              "          if (!dataTable) return;\n",
              "\n",
              "          const docLinkHtml = 'Like what you see? Visit the ' +\n",
              "            '<a target=\"_blank\" href=https://colab.research.google.com/notebooks/data_table.ipynb>data table notebook</a>'\n",
              "            + ' to learn more about interactive tables.';\n",
              "          element.innerHTML = '';\n",
              "          dataTable['output_type'] = 'display_data';\n",
              "          await google.colab.output.renderOutput(dataTable, element);\n",
              "          const docLink = document.createElement('div');\n",
              "          docLink.innerHTML = docLinkHtml;\n",
              "          element.appendChild(docLink);\n",
              "        }\n",
              "      </script>\n",
              "    </div>\n",
              "  </div>\n",
              "  "
            ]
          },
          "metadata": {},
          "execution_count": 1
        }
      ],
      "source": [
        "import pandas as pd\n",
        "bmw = pd.read_csv('BMW_Verified.csv')\n",
        "bmw.drop(\"Unnamed: 0\",axis=1, inplace=True)\n",
        "bmw = bmw[(bmw['Label']==1) | (bmw['Label']==0) | (bmw['Label']==-1)]\n",
        "bmw.reset_index(inplace=True, drop=True)\n",
        "bmw.head()"
      ]
    },
    {
      "cell_type": "code",
      "source": [
        "bmw.shape"
      ],
      "metadata": {
        "colab": {
          "base_uri": "https://localhost:8080/"
        },
        "id": "dy0HN6INraH1",
        "outputId": "b60a483b-9158-4983-d360-f4ff757ca7b4"
      },
      "execution_count": 2,
      "outputs": [
        {
          "output_type": "execute_result",
          "data": {
            "text/plain": [
              "(170, 17)"
            ]
          },
          "metadata": {},
          "execution_count": 2
        }
      ]
    },
    {
      "cell_type": "code",
      "source": [
        "print(len(bmw[bmw['Label']==1]))\n",
        "print(len(bmw[bmw['Label']==0]))\n",
        "print(len(bmw[bmw['Label']==-1]))"
      ],
      "metadata": {
        "colab": {
          "base_uri": "https://localhost:8080/"
        },
        "id": "Zwg727jRro3C",
        "outputId": "1499c47c-2e0e-4747-f6f0-d262abc305da"
      },
      "execution_count": 4,
      "outputs": [
        {
          "output_type": "stream",
          "name": "stdout",
          "text": [
            "80\n",
            "34\n",
            "56\n"
          ]
        }
      ]
    },
    {
      "cell_type": "code",
      "source": [
        "#Removing urls and stripping whitespaces\n",
        "import re\n",
        "for i in range(len(bmw['tweet'])):\n",
        "    bmw['tweet'][i] = re.sub(r'http\\S+', '', bmw['tweet'][i])\n",
        "    bmw['tweet'][i] = bmw['tweet'][i].strip()"
      ],
      "metadata": {
        "colab": {
          "base_uri": "https://localhost:8080/"
        },
        "id": "8Ia4sEZFJdAv",
        "outputId": "33caa43f-b66c-469d-aa04-9c9dd4264797"
      },
      "execution_count": null,
      "outputs": [
        {
          "output_type": "stream",
          "name": "stderr",
          "text": [
            "/usr/local/lib/python3.7/dist-packages/ipykernel_launcher.py:5: SettingWithCopyWarning: \n",
            "A value is trying to be set on a copy of a slice from a DataFrame\n",
            "\n",
            "See the caveats in the documentation: https://pandas.pydata.org/pandas-docs/stable/user_guide/indexing.html#returning-a-view-versus-a-copy\n",
            "  \"\"\"\n",
            "/usr/local/lib/python3.7/dist-packages/ipykernel_launcher.py:4: SettingWithCopyWarning: \n",
            "A value is trying to be set on a copy of a slice from a DataFrame\n",
            "\n",
            "See the caveats in the documentation: https://pandas.pydata.org/pandas-docs/stable/user_guide/indexing.html#returning-a-view-versus-a-copy\n",
            "  after removing the cwd from sys.path.\n"
          ]
        }
      ]
    },
    {
      "cell_type": "code",
      "source": [
        "#Removing hashtags and mentions\n",
        "for i in range(len(bmw['tweet'])):\n",
        "    bmw['tweet'][i] = ' '.join([word for word in bmw['tweet'][i].split() if word[0]!='@' and word[0]!='#'])\n",
        "    "
      ],
      "metadata": {
        "colab": {
          "base_uri": "https://localhost:8080/"
        },
        "id": "Qq_VOBp2LTrt",
        "outputId": "f0a46f04-f794-471e-f7e0-12bd28dd15a4"
      },
      "execution_count": null,
      "outputs": [
        {
          "output_type": "stream",
          "name": "stderr",
          "text": [
            "/usr/local/lib/python3.7/dist-packages/ipykernel_launcher.py:3: SettingWithCopyWarning: \n",
            "A value is trying to be set on a copy of a slice from a DataFrame\n",
            "\n",
            "See the caveats in the documentation: https://pandas.pydata.org/pandas-docs/stable/user_guide/indexing.html#returning-a-view-versus-a-copy\n",
            "  This is separate from the ipykernel package so we can avoid doing imports until\n"
          ]
        }
      ]
    },
    {
      "cell_type": "code",
      "source": [
        "#Lowercase all texts, remove stopwords, and lemmatize the texts\n",
        "import nltk\n",
        "from nltk.corpus import stopwords\n",
        "from nltk.stem import WordNetLemmatizer\n",
        "\n",
        "# nltk.download('stopwords')\n",
        "# nltk.download('wordnet')\n",
        " \n",
        "stopwordsList = stopwords.words('english') \n",
        "lemmatizer = WordNetLemmatizer()\n",
        "\n",
        "\n",
        "for i in range(len(bmw['tweet'])):\n",
        "    bmw['tweet'][i] = bmw['tweet'][i].lower()\n",
        "    bmw['tweet'][i] = ' '.join([word for word in bmw['tweet'][i].split() if word not in stopwordsList])\n",
        "    bmw['tweet'][i] = ' '.join([lemmatizer.lemmatize(word) for word in bmw['tweet'][i].split()])"
      ],
      "metadata": {
        "colab": {
          "base_uri": "https://localhost:8080/"
        },
        "id": "8Bpe-SAuLAn3",
        "outputId": "baccbdb6-528f-49f2-cdf5-da77835d7721"
      },
      "execution_count": null,
      "outputs": [
        {
          "output_type": "stream",
          "name": "stdout",
          "text": [
            "[nltk_data] Downloading package stopwords to /root/nltk_data...\n",
            "[nltk_data]   Unzipping corpora/stopwords.zip.\n",
            "[nltk_data] Downloading package wordnet to /root/nltk_data...\n",
            "[nltk_data]   Unzipping corpora/wordnet.zip.\n"
          ]
        },
        {
          "output_type": "stream",
          "name": "stderr",
          "text": [
            "/usr/local/lib/python3.7/dist-packages/ipykernel_launcher.py:14: SettingWithCopyWarning: \n",
            "A value is trying to be set on a copy of a slice from a DataFrame\n",
            "\n",
            "See the caveats in the documentation: https://pandas.pydata.org/pandas-docs/stable/user_guide/indexing.html#returning-a-view-versus-a-copy\n",
            "  \n",
            "/usr/local/lib/python3.7/dist-packages/ipykernel_launcher.py:15: SettingWithCopyWarning: \n",
            "A value is trying to be set on a copy of a slice from a DataFrame\n",
            "\n",
            "See the caveats in the documentation: https://pandas.pydata.org/pandas-docs/stable/user_guide/indexing.html#returning-a-view-versus-a-copy\n",
            "  from ipykernel import kernelapp as app\n",
            "/usr/local/lib/python3.7/dist-packages/ipykernel_launcher.py:16: SettingWithCopyWarning: \n",
            "A value is trying to be set on a copy of a slice from a DataFrame\n",
            "\n",
            "See the caveats in the documentation: https://pandas.pydata.org/pandas-docs/stable/user_guide/indexing.html#returning-a-view-versus-a-copy\n",
            "  app.launch_new_instance()\n"
          ]
        }
      ]
    },
    {
      "cell_type": "code",
      "source": [
        "import numpy as np\n",
        "\n",
        "X = np.array(bmw['tweet'].values.tolist())\n",
        "y = np.array(bmw['Label'].astype(int).values.tolist())\n",
        "\n",
        "from sklearn.model_selection import train_test_split\n",
        "X_train, X_test , y_train, y_test = train_test_split(X, y , test_size = 0.10)"
      ],
      "metadata": {
        "id": "RAmQ5WYPLPnv"
      },
      "execution_count": null,
      "outputs": []
    },
    {
      "cell_type": "code",
      "source": [
        "from keras.preprocessing.text import Tokenizer\n",
        "vocab_size = 50000\n",
        "oov_token = \"<OOV>\"\n",
        "tokenizer = Tokenizer(num_words = vocab_size, oov_token=oov_token)\n",
        "tokenizer.fit_on_texts(X_train)"
      ],
      "metadata": {
        "id": "DFe6VP7fajCe"
      },
      "execution_count": null,
      "outputs": []
    },
    {
      "cell_type": "code",
      "source": [
        "word_index = tokenizer.word_index"
      ],
      "metadata": {
        "id": "4JofRTKIai_A"
      },
      "execution_count": null,
      "outputs": []
    },
    {
      "cell_type": "code",
      "source": [
        "print(word_index)"
      ],
      "metadata": {
        "colab": {
          "base_uri": "https://localhost:8080/"
        },
        "id": "uiA_owOuai7s",
        "outputId": "db703d7a-ca09-4d11-f00b-3c7bafc6a233"
      },
      "execution_count": null,
      "outputs": [
        {
          "output_type": "stream",
          "name": "stdout",
          "text": [
            "{'<OOV>': 1, 'bmw': 2, 'car': 3, 'team': 4, 'driver': 5, 'driving': 6, 'price': 7, 'new': 8, 'electric': 9, 'hi': 10, 'vehicle': 11, 'get': 12, 'first': 13, 'year': 14, 'model': 15, '2': 16, 'customer': 17, 'possible': 18, 'soon': 19, '2022': 20, 'review': 21, 'range': 22, 'm4': 23, 'order': 24, 'design': 25, '3': 26, '1': 27, 'ix': 28, '🔥': 29, 'impact': 30, 'touch': 31, 'speeding': 32, 'old': 33, 'influence': 34, 'crashed': 35, 'six': 36, 'inside': 37, 'teen': 38, 'injuries': 39, 'in': 40, 'performance': 41, 'cars': 42, 'dm': 43, 'contact': 44, 'number': 45, 'behind': 46, 'form': 47, 'i4': 48, 'drive': 49, 'road': 50, 'india': 51, 'm3': 52, 'following': 53, 'u': 54, 'series': 55, 'using': 56, 'vin': 57, 'amp': 58, 'april': 59, 'm2': 60, 'look': 61, 'bs': 62, 'competition': 63, 'costs': 64, 'geopolitical': 65, 'exchange': 66, 'read': 67, 'social': 68, 'medium': 69, 'call': 70, 'deputy': 71, 'said': 72, '17': 73, 'suv': 74, 'killing': 75, 'people': 76, 'reportedly': 77, 'suffered': 78, 'minor': 79, 'full': 80, 'run': 81, 'failed': 82, 'police': 83, 'stopped': 84, 'reported': 85, 'way': 86, 'know': 87, 'place': 88, 'race': 89, 'drug': 90, 'future': 91, 'gt': 92, 'one': 93, 'also': 94, 'watch': 95, 'woman': 96, \"bmw's\": 97, 'submit': 98, 'complaint': 99, 'relevant': 100, 'department': 101, 'recommend': 102, 'clicking': 103, 'link': 104, 'support': 105, 'lyn': 106, 'take': 107, 'info': 108, 'mercedes': 109, 'sorry': 110, 'hear': 111, 'hike': 112, 'v': 113, '🦓': 114, 'running': 115, 'increase': 116, 'effect': 117, 'adjust': 118, 'current': 119, 'situation': 120, 'rates': 121, 'service': 122, 'assist': 123, 'fast': 124, 'richard': 125, 'kindly': 126, 'ask': 127, 'found': 128, 'made': 129, '\\u200b': 130, 'last': 131, 'high': 132, 'speed': 133, 'data': 134, 'partner': 135, 'roundabout': 136, 'crash': 137, 'knocked': 138, 'friday': 139, 'long': 140, 'sport': 141, 'name': 142, 'email': 143, 'code': 144, 'used': 145, 'special': 146, 'decided': 147, 'light': 148, 'uninsured': 149, 'ages': 150, 'battery': 151, 'world': 152, '6': 153, 'second': 154, 'charging': 155, 'network': 156, 'learn': 157, 'congratulation': 158, 'gt3': 159, 'win': 160, 'information': 161, 'check': 162, 'beat': 163, 'florida': 164, 'say': 165, 'pro': 166, 'con': 167, 'manual': 168, 'three': 169, 'company': 170, 'go': 171, 'c': 172, 'set': 173, 'due': 174, 'material': 175, 'cost': 176, 'white': 177, '30pm': 178, 'march': 179, 'taken': 180, 'later': 181, 'million': 182, 'including': 183, 'models': 184, 'investigation': 185, 'testing': 186, 'windshield': 187, 'test': 188, 'kind': 189, 'regards': 190, 'status': 191, 'find': 192, 'registration': 193, 'want': 194, 'time': 195, 'digital': 196, 'best': 197, 'tesla': 198, 'xdrive50': 199, 'centre': 200, 'collided': 201, 'fire': 202, 'mile': 203, 'production': 204, '4': 205, 'like': 206, 'toyota': 207, 'benz': 208, \"we're\": 209, 'you': 210, 'aim': 211, 'account': 212, 'least': 213, 'half': 214, 'total': 215, 'sale': 216, '2030': 217, 'please': 218, 'address': 219, 'via': 220, 'ever': 221, 'across': 222, 'real': 223, 'recall': 224, 'audi': 225, 'wild': 226, 'p2': 227, 'p3': 228, 'p10': 229, 'p20': 230, 'turner': 231, 'machine': 232, 'brought': 233, '👇': 234, 'always': 235, 'striving': 236, 'unfortunately': 237, 'insight': 238, 'proceeding': 239, 'colleague': 240, 'stay': 241, 'patient': 242, '‘no': 243, 'defects’': 244, 'ford': 245, 'latest': 246, 'court': 247, 'r': 248, '1250': 249, 'g': 250, 'adventure': 251, 'impassable': 252, 'routes': 253, 'adverse': 254, 'condition': 255, 'remote': 256, 'destinations': 257, 'destination': 258, 'far': 259, 'terrain': 260, 'tough': 261, 'so': 262, 'headed': 263, 'week': 264, 'launched': 265, '5g': 266, 'equipped': 267, 'providing': 268, 'connectivity': 269, 'services': 270, \"'a\": 271, 'tragedy': 272, \"concerned'\": 273, 'killed': 274, 'plunged': 275, 'dealership': 276, 'destroyed': 277, 'ukraine': 278, 'multiple': 279, 'damaged': 280, 'telephone': 281, 'pole': 282, 'afternoon': 283, 'fort': 284, 'walton': 285, 'beach': 286, 'readying': 287, 'list': 288, 'celebrate': 289, \"division's\": 290, '50th': 291, 'anniversary': 292, 'include': 293, 'powerful': 294, 'combustion': 295, 'engined': 296, 'pure': 297, 'details': 298, 'siddharth': 299, 'appreciate': 300, 'interest': 301, 'id': 302, 'state': 303, 'pin': 304, 'location': 305, 'assistance': 306, '–': 307, 'purnima': 308, '300k': 309, 'that’s': 310, 'red': 311, 'yesterday': 312, 'notice': 313, 'marked': 314, 'them': 315, 'licence': 316, 'seized': 317, 'offence': 318, '👍': 319, 'ducati': 320, 'bike': 321, 'raised': 322, 'bar': 323, 'function': 324, 'edrive40': 325, 'extra': 326, 'fun': 327, 'foray': 328, 'manufacturing': 329, 'plan': 330, 'five': 331, 'gigafactories': 332, 'changing': 333, 'better': 334, 'forever': 335, 'leading': 336, '1⃣2⃣h': 337, 'sebring': 338, 'bmw’s': 339, 'powered': 340, 'gain': 341, '100': 342, 'km': 343, '7': 344, 'minutes': 345, '⚡🤔💙': 346, 'history': 347, 'overall': 348, 'truly': 349, 'accomplishment': 350, 'it’s': 351, 'called': 352, 'timeless': 353, 'something': 354, 'today’s': 355, 'absolutely': 356, 'nothing': 357, 'about': 358, \"weekend's\": 359, 'motorsport': 360, 'news': 361, 'online': 362, '‼️': 363, 'season': 364, 'opener': 365, 'headlines': 366, 'more': 367, '👉🏼': 368, 'analysis': 369, 'buying': 370, 'alpina': 371, 'sighted': 372, 'erratically': 373, 'garstang': 374, 'preston': 375, 'smelt': 376, 'strongly': 377, 'cannabis': 378, 'roadside': 379, 'wipe': 380, 'fresh': 381, 'picture': 382, 'furious': 383, 'junior': 384, 'term': 385, '330e': 386, 'xdrive': 387, 'estimate': 388, 'end': 389, 'speculation': 390, 'announces': 391, 'italian': 392, 'losing': 393, 'story': 394, 'spotted': 395, 'salford': 396, 'evening': 397, 'headlight': 398, 'out': 399, 'revealed': 400, 'scrapped': 401, 'final': 402, 'resting': 403, 'impaired': 404, 'cause': 405, 'kill': 406, 'report': 407, 'highlight': 408, 'guise': 409, 'considering': 410, 'consumption': 411, 'known': 412, 'issues👇': 413, 'greenwich': 414, 'thief': 415, 'stole': 416, 'youngster': 417, 'expensive': 418, 'applicable': 419, 'date': 420, 'pedal': 421, 'tested': 422, '→': 423, 'kia': 424, 'peugeot': 425, 'mazda': 426, 'auto': 427, 'part': 428, 'responsible': 429, 'taking': 430, \"farmers'\": 431, 'land': 432, 'video': 433, 'youtube': 434, 'passion': 435, 'commemorating': 436, '50': 437, '💙💜❤️': 438, 'film': 439, '👉': 440, 'limited': 441, 'all': 442, 'wheel': 443, 'join': 444, 'touring': 445, 'lineup': 446, 'rumoured': 447, 'works': 448, 'apart': 449, 'environment': 450, 'rise': 451, 'necessary': 452, 'adjustment': 453, 'change': 454, 'logistical': 455, 'appealing': 456, 'witness': 457, 'fatal': 458, 'collision': 459, \"80's\": 460, 'hit': 461, 'crossed': 462, 'cockton': 463, 'hill': 464, 'around': 465, '11th': 466, 'hospital': 467, 'died': 468, 'hugely': 469, 'loved': 470, '💙': 471, 'literally': 472, 'impossible': 473, 'disagree': 474, '😆': 475, 'beautiful': 476, '😍': 477, 'worth': 478, 'porsche': 479, 'aston': 480, 'martin': 481, 'bentley': 482, 'recovered': 483, 'two': 484, 'month': 485, 'california': 486, 'highway': 487, 'patrol': 488, 'ban': 489, 'fine': 490, 'speeder': 491, 'proving': 492, 'credential': 493, 'ice': 494, 'ix5': 495, 'hydrogen': 496, 'undergoes': 497, 'winter': 498, 'close': 499, 'arctic': 500, 'circle': 501, 'somehow': 502, 'crawl': 503, 'alive': 504, 'sprayed': 505, 'dozen': 506, 'round': 507, 'smiling': 508, 'courier': 509, 'tailgating': 510, 'clifton': 511, 'bridge': 512, 'coupé': 513, 'passionate': 514, 'driver’s': 515, 'haven’t': 516, 'green': 517, 'yet': 518, 'fog': 519, 'here’s': 520, 'enforcement': 521, 'm55': 522, 'morning': 523, 'git': 524, 'ahead': 525, 'lane': 526, 'see': 527, 'liveried': 528, 'continued': 529, 'travel': 530, '90mph': 531, 'roadworks': 532, 'section': 533, 'summons': 534, 'debt': 535, 'dumb': 536, 'cash': 537, 'king': 538, 'paid': 539, 'off': 540, 'home': 541, 'mortgage': 542, 'symbol': 543, 'choice': 544, 'darlington': 545, 'dealer': 546, 'caught': 547, 'suspicious': 548, 'behaviour': 549, 'identification': 550, 'unique': 551, 'identify': 552, 'sold': 553, 'paper': 554, 'stamped': 555, 'either': 556, 'side': 557, 'front': 558, 'door': 559, 'jamb': 560, 'lower': 561, 'left': 562, 'corner': 563, 'winner': 564, 'endurance': 565, 'challenge': 566, '🏁🍾🏆': 567, '📺': 568, 'rolex': 569, '24': 570, 'begin': 571, 'et': 572, 'don’t': 573, 'miss': 574, 'it✨': 575, 'reached': 576, 'legendary': 577, 'record': 578, 'there': 579, 'group': 580, 'enable': 581, 'seamless': 582, 'collaboration': 583, 'process': 584, 'workflow': 585, 'now': 586, 'y': 587, 'buy…': 588, 'uk': 589, 'upper': 590, 'level': 591, 'trim': 592, 'ix’s': 593, 'comfort': 594, 'refinement': 595, 'impressive': 596, 'height': 597, 'travelling': 598, 'town': 599, 'towards': 600, 'watling': 601, 'street': 602, 'crossroads': 603, 'attempted': 604, 'cross': 605, 'especially': 606, 'dash': 607, 'cam': 608, 'footage': 609, '101': 610, 'speak': 611, 'dc': 612, 'jayne': 613, 'gatland': 614, '11': 615, 'handle': 616, 'orange': 617, 'paintwork': 618, '3735': 619, 'm5': 620, 'could': 621, 'near': 622, '£40': 623, '000': 624, 'discount': 625, 'flees': 626, 'foot': 627, 'leaving': 628, 'top': 629, 'mangled': 630, 'postbox': 631, 'plant': 632, 'south': 633, 'carolina': 634, 'produce': 635, '400': 636, 'day': 637, '9': 638, 'position': 639, 'would': 640, 'without': 641, 'involved': 642, 'accident': 643, 'earlier': 644, 'on': 645, 'still': 646, 'looooooong': 647, 'reduce': 648, 'rising': 649, 'input': 650, 'several': 651, 'carmaker': 652, 'tata': 653, 'motors': 654, 'raise': 655, 'come': 656, 'become': 657, 'costlier': 658, 'key': 659, 'feature': 660, 'exclusive': 661, 'broadening': 662, \"tech's\": 663, 'scope': 664, 'polarising': 665, 'smartphone': 666, \"'ultimate\": 667, \"machine'\": 668, 'repairs': 669, \"car's\": 670, \"we'll\": 671, 'happy': 672, 'good': 673, 'ideas': 674, '🤮': 675, 'this': 676, 'further': 677, 'send': 678, 'country': 679, 'phone': 680, 'charge': 681, 'deep': 682, 'dive': 683, 'injured': 684, 'grey': 685, 'night': 686, 'dedicated': 687, 'mobility': 688, 'catch': 689, 'electrifying': 690, 'moment': 691, 'showcase': 692, 'held': 693, 'mumbai': 694, 'winning': 695, 'commission': 696, 'unveiled': 697, 'introduce': 698, 'estate': 699, 'version': 700, 'pretty': 701, 'effort': 702, 'tuning': 703, 'firm': 704, 'bmwindia': 705, '5': 706, 'entire': 707, 'logistics': 708, 'rate': 709, 'ifactory': 710, 'use': 711, 'science': 712, 'artificial': 713, 'intelligence': 714, 'faster': 715, 'accurate': 716, 'transparent': 717, 'merge': 718, 'virtual': 719, 'game': 720, 'changer': 721, 'answer': 722, 'metaverse': 723, 'designed': 724, 'self': 725, 'motorcycle': 726, 'combination': 727, 'stunning': 728, 'cutting': 729, 'edge': 730, 'technologies': 731, 'unmatched': 732, 'dynamics': 733, \"'bullying'\": 734, 'raced': 735, '120mph': 736, 'son': 737, 'pregnant': 738, 'salah': 739, 'ai': 740, 'nemer': 741, 'detail': 742, 'affected': 743, 'airbag': 744, 'curtis': 745, \"what's\": 746, 'happening': 747, 'stop': 748, 'producing': 749, 'v12': 750, 'engines': 751, 'littlest': 752, 'going': 753, 'big': 754, 'power': 755, 'boost': 756, '2023': 757, 'snapped': 758, 'standard': 759, 'accessorised': 760, 'guises': 761, '320i': 762, 'german': 763, 'snap': 764, 'family': 765, 'friendly': 766, 'gen': 767, 'active': 768, 'tourer': 769, 'let': 770, \"'selfies'\": 771, 'announced': 772, 'line': 773, 'up': 774, 'head': 775, 'alert': 776, 'carjacking': 777, '500': 778, 'block': 779, '12th': 780, 'st': 781, 'se': 782, 'lookout': 783, '2016': 784, '305': 785, 'il': 786, 'tag': 787, 'ak24935': 788, 'action': 789, '911': 790, 'w': 791, 'event': 792, 'i20220044077': 793, 'e': 794, 'tron': 795, 'x': 796, 'eqc': 797, 'drag': 798, '⚡️': 799, 'fastest': 800, 'standing': 801, 'quarter': 802, 'here': 803, 'confirmed': 804, 'upcoming': 805, 'limo': 806, 'i7': 807, 'available': 808, 'xdrive60': 809, '500km': 810, 'book': 811, 'm340i': 812, 'you’d': 813, 'need': 814, 'luxurious': 815, 'quiet': 816, 'comfortable': 817, 'ride': 818, 'beautifully': 819, 'sound': 820, 'gorgeous': 821, 'rev': 822, 'effortlessly': 823, 'sleek': 824, 'beauty': 825, 'third': 826, 'engine': 827, 'risk': 828, 'many': 829, 'automotive': 830, 'companies': 831}\n"
          ]
        }
      ]
    },
    {
      "cell_type": "code",
      "source": [
        "X_train_sequences = tokenizer.texts_to_sequences(X_train)"
      ],
      "metadata": {
        "id": "Zir2VnBLai4m"
      },
      "execution_count": null,
      "outputs": []
    },
    {
      "cell_type": "code",
      "source": [
        "X_test_sequences = tokenizer.texts_to_sequences(X_test)"
      ],
      "metadata": {
        "id": "95kR7-Nkai13"
      },
      "execution_count": null,
      "outputs": []
    },
    {
      "cell_type": "code",
      "source": [
        "max_length = 100\n",
        "padding_type='post'\n",
        "truncation_type='post'\n",
        "\n",
        "from keras.preprocessing.sequence import pad_sequences\n",
        "\n",
        "X_test_padded = pad_sequences(X_test_sequences,maxlen=max_length, padding=padding_type, truncating=truncation_type)\n",
        "X_train_padded = pad_sequences(X_train_sequences,maxlen=max_length, padding=padding_type, truncating=truncation_type)\n"
      ],
      "metadata": {
        "id": "E2BE_qy2aix4"
      },
      "execution_count": null,
      "outputs": []
    },
    {
      "cell_type": "code",
      "source": [
        "!wget --no-check-certificate \\\n",
        "     http://nlp.stanford.edu/data/glove.6B.zip \\\n",
        "     -O /tmp/glove.6B.zip"
      ],
      "metadata": {
        "colab": {
          "base_uri": "https://localhost:8080/"
        },
        "id": "j0WGNz7QbCyo",
        "outputId": "6a3ce5f9-dc1a-41c7-8d73-2bf2d8bc33f1"
      },
      "execution_count": null,
      "outputs": [
        {
          "output_type": "stream",
          "name": "stdout",
          "text": [
            "--2022-04-02 03:59:07--  http://nlp.stanford.edu/data/glove.6B.zip\n",
            "Resolving nlp.stanford.edu (nlp.stanford.edu)... 171.64.67.140\n",
            "Connecting to nlp.stanford.edu (nlp.stanford.edu)|171.64.67.140|:80... connected.\n",
            "HTTP request sent, awaiting response... 302 Found\n",
            "Location: https://nlp.stanford.edu/data/glove.6B.zip [following]\n",
            "--2022-04-02 03:59:07--  https://nlp.stanford.edu/data/glove.6B.zip\n",
            "Connecting to nlp.stanford.edu (nlp.stanford.edu)|171.64.67.140|:443... connected.\n",
            "HTTP request sent, awaiting response... 301 Moved Permanently\n",
            "Location: http://downloads.cs.stanford.edu/nlp/data/glove.6B.zip [following]\n",
            "--2022-04-02 03:59:07--  http://downloads.cs.stanford.edu/nlp/data/glove.6B.zip\n",
            "Resolving downloads.cs.stanford.edu (downloads.cs.stanford.edu)... 171.64.64.22\n",
            "Connecting to downloads.cs.stanford.edu (downloads.cs.stanford.edu)|171.64.64.22|:80... connected.\n",
            "HTTP request sent, awaiting response... 200 OK\n",
            "Length: 862182613 (822M) [application/zip]\n",
            "Saving to: ‘/tmp/glove.6B.zip’\n",
            "\n",
            "/tmp/glove.6B.zip   100%[===================>] 822.24M  5.09MB/s    in 2m 40s  \n",
            "\n",
            "2022-04-02 04:01:47 (5.14 MB/s) - ‘/tmp/glove.6B.zip’ saved [862182613/862182613]\n",
            "\n"
          ]
        }
      ]
    },
    {
      "cell_type": "code",
      "source": [
        "import os\n",
        "import zipfile\n",
        "with zipfile.ZipFile('/tmp/glove.6B.zip', 'r') as zip_ref:\n",
        "    zip_ref.extractall('/tmp/glove')"
      ],
      "metadata": {
        "id": "5-_Oox0RbCuv"
      },
      "execution_count": null,
      "outputs": []
    },
    {
      "cell_type": "code",
      "source": [
        "import numpy as np\n",
        "embeddings_index = {}\n",
        "f = open('/tmp/glove/glove.6B.100d.txt')\n",
        "for line in f:\n",
        "    values = line.split()\n",
        "    word = values[0]\n",
        "    coefs = np.asarray(values[1:], dtype='float32')\n",
        "    embeddings_index[word] = coefs\n",
        "f.close()\n",
        "\n",
        "print('Found %s word vectors.' % len(embeddings_index))"
      ],
      "metadata": {
        "colab": {
          "base_uri": "https://localhost:8080/"
        },
        "id": "jfi_vW5nbCrM",
        "outputId": "26c8295c-a7d0-4711-9340-cc240c9afcc3"
      },
      "execution_count": null,
      "outputs": [
        {
          "output_type": "stream",
          "name": "stdout",
          "text": [
            "Found 400000 word vectors.\n"
          ]
        }
      ]
    },
    {
      "cell_type": "code",
      "source": [
        "embedding_matrix = np.zeros((len(word_index) + 1, max_length))\n",
        "for word, i in word_index.items():\n",
        "    embedding_vector = embeddings_index.get(word)\n",
        "    if embedding_vector is not None:\n",
        "        # words not found in embedding index will be all-zeros.\n",
        "        embedding_matrix[i] = embedding_vector"
      ],
      "metadata": {
        "id": "3SOe6WjIbCm4"
      },
      "execution_count": null,
      "outputs": []
    },
    {
      "cell_type": "code",
      "source": [
        "from tensorflow.keras.layers import Embedding, LSTM, Dense, Bidirectional\n",
        "\n",
        "embedding_layer = Embedding(input_dim=len(word_index) + 1,\n",
        "                            output_dim=max_length,\n",
        "                            weights=[embedding_matrix],\n",
        "                            input_length=max_length,\n",
        "                            trainable=False)"
      ],
      "metadata": {
        "id": "Mvcj5iEzaidr"
      },
      "execution_count": null,
      "outputs": []
    },
    {
      "cell_type": "code",
      "source": [
        "from tensorflow.keras.models import Sequential\n",
        "model = Sequential([\n",
        "    embedding_layer,\n",
        "    Bidirectional(LSTM(150, return_sequences=True)), \n",
        "    Bidirectional(LSTM(150)),\n",
        "    Dense(128, activation='relu'),\n",
        "   Dense(3, activation='softmax')\n",
        "])"
      ],
      "metadata": {
        "id": "nnrFv51Xdaqe"
      },
      "execution_count": null,
      "outputs": []
    },
    {
      "cell_type": "code",
      "source": [
        "model.compile(loss='categorical_crossentropy',optimizer='adam',metrics=['accuracy'])"
      ],
      "metadata": {
        "id": "P-dt2b6kdaj3"
      },
      "execution_count": null,
      "outputs": []
    },
    {
      "cell_type": "code",
      "source": [
        "training_padded = np.array(X_train_padded, dtype=np.uint8)\n",
        "training_labels = np.array(y_train, dtype=np.uint8)\n",
        "testing_padded = np.array(X_test_padded, dtype=np.uint8)\n",
        "testing_labels = np.array(y_test, dtype=np.uint8)"
      ],
      "metadata": {
        "id": "0zrlw_FqeVFx"
      },
      "execution_count": null,
      "outputs": []
    },
    {
      "cell_type": "code",
      "source": [
        "import tensorflow\n",
        "y_train = tensorflow.keras.utils.to_categorical(y_train, 3)\n",
        "y_test = tensorflow.keras.utils.to_categorical(y_test, 3)\n",
        "\n",
        "from tensorflow.keras.callbacks import EarlyStopping, TensorBoard\n",
        "%load_ext tensorboard\n",
        "!rm -rf logs\n",
        "\n",
        "log_folder = 'logs'\n",
        "callbacks = [\n",
        "            EarlyStopping(patience = 10),\n",
        "            TensorBoard(log_dir=log_folder)\n",
        "            ]\n",
        "num_epochs = 2\n",
        "history = model.fit(X_train_padded, y_train, epochs=num_epochs, validation_data=(X_test_padded, y_test),callbacks=callbacks)"
      ],
      "metadata": {
        "colab": {
          "base_uri": "https://localhost:8080/",
          "height": 405
        },
        "id": "8-vBKNKudaa2",
        "outputId": "7828eb69-488e-4c3b-b346-834c00f38652"
      },
      "execution_count": null,
      "outputs": [
        {
          "output_type": "stream",
          "name": "stdout",
          "text": [
            "The tensorboard extension is already loaded. To reload it, use:\n",
            "  %reload_ext tensorboard\n",
            "Epoch 1/2\n"
          ]
        },
        {
          "output_type": "error",
          "ename": "ValueError",
          "evalue": "ignored",
          "traceback": [
            "\u001b[0;31m---------------------------------------------------------------------------\u001b[0m",
            "\u001b[0;31mValueError\u001b[0m                                Traceback (most recent call last)",
            "\u001b[0;32m<ipython-input-46-bd97b4cd8b43>\u001b[0m in \u001b[0;36m<module>\u001b[0;34m()\u001b[0m\n\u001b[1;32m     13\u001b[0m             ]\n\u001b[1;32m     14\u001b[0m \u001b[0mnum_epochs\u001b[0m \u001b[0;34m=\u001b[0m \u001b[0;36m2\u001b[0m\u001b[0;34m\u001b[0m\u001b[0;34m\u001b[0m\u001b[0m\n\u001b[0;32m---> 15\u001b[0;31m \u001b[0mhistory\u001b[0m \u001b[0;34m=\u001b[0m \u001b[0mmodel\u001b[0m\u001b[0;34m.\u001b[0m\u001b[0mfit\u001b[0m\u001b[0;34m(\u001b[0m\u001b[0mX_train_padded\u001b[0m\u001b[0;34m,\u001b[0m \u001b[0my_train\u001b[0m\u001b[0;34m,\u001b[0m \u001b[0mepochs\u001b[0m\u001b[0;34m=\u001b[0m\u001b[0mnum_epochs\u001b[0m\u001b[0;34m,\u001b[0m \u001b[0mvalidation_data\u001b[0m\u001b[0;34m=\u001b[0m\u001b[0;34m(\u001b[0m\u001b[0mX_test_padded\u001b[0m\u001b[0;34m,\u001b[0m \u001b[0my_test\u001b[0m\u001b[0;34m)\u001b[0m\u001b[0;34m,\u001b[0m\u001b[0mcallbacks\u001b[0m\u001b[0;34m=\u001b[0m\u001b[0mcallbacks\u001b[0m\u001b[0;34m)\u001b[0m\u001b[0;34m\u001b[0m\u001b[0;34m\u001b[0m\u001b[0m\n\u001b[0m",
            "\u001b[0;32m/usr/local/lib/python3.7/dist-packages/keras/utils/traceback_utils.py\u001b[0m in \u001b[0;36merror_handler\u001b[0;34m(*args, **kwargs)\u001b[0m\n\u001b[1;32m     65\u001b[0m     \u001b[0;32mexcept\u001b[0m \u001b[0mException\u001b[0m \u001b[0;32mas\u001b[0m \u001b[0me\u001b[0m\u001b[0;34m:\u001b[0m  \u001b[0;31m# pylint: disable=broad-except\u001b[0m\u001b[0;34m\u001b[0m\u001b[0;34m\u001b[0m\u001b[0m\n\u001b[1;32m     66\u001b[0m       \u001b[0mfiltered_tb\u001b[0m \u001b[0;34m=\u001b[0m \u001b[0m_process_traceback_frames\u001b[0m\u001b[0;34m(\u001b[0m\u001b[0me\u001b[0m\u001b[0;34m.\u001b[0m\u001b[0m__traceback__\u001b[0m\u001b[0;34m)\u001b[0m\u001b[0;34m\u001b[0m\u001b[0;34m\u001b[0m\u001b[0m\n\u001b[0;32m---> 67\u001b[0;31m       \u001b[0;32mraise\u001b[0m \u001b[0me\u001b[0m\u001b[0;34m.\u001b[0m\u001b[0mwith_traceback\u001b[0m\u001b[0;34m(\u001b[0m\u001b[0mfiltered_tb\u001b[0m\u001b[0;34m)\u001b[0m \u001b[0;32mfrom\u001b[0m \u001b[0;32mNone\u001b[0m\u001b[0;34m\u001b[0m\u001b[0;34m\u001b[0m\u001b[0m\n\u001b[0m\u001b[1;32m     68\u001b[0m     \u001b[0;32mfinally\u001b[0m\u001b[0;34m:\u001b[0m\u001b[0;34m\u001b[0m\u001b[0;34m\u001b[0m\u001b[0m\n\u001b[1;32m     69\u001b[0m       \u001b[0;32mdel\u001b[0m \u001b[0mfiltered_tb\u001b[0m\u001b[0;34m\u001b[0m\u001b[0;34m\u001b[0m\u001b[0m\n",
            "\u001b[0;32m/usr/local/lib/python3.7/dist-packages/tensorflow/python/eager/def_function.py\u001b[0m in \u001b[0;36m_call\u001b[0;34m(self, *args, **kwds)\u001b[0m\n\u001b[1;32m    954\u001b[0m       \u001b[0mresults\u001b[0m \u001b[0;34m=\u001b[0m \u001b[0mself\u001b[0m\u001b[0;34m.\u001b[0m\u001b[0m_stateful_fn\u001b[0m\u001b[0;34m(\u001b[0m\u001b[0;34m*\u001b[0m\u001b[0margs\u001b[0m\u001b[0;34m,\u001b[0m \u001b[0;34m**\u001b[0m\u001b[0mkwds\u001b[0m\u001b[0;34m)\u001b[0m\u001b[0;34m\u001b[0m\u001b[0;34m\u001b[0m\u001b[0m\n\u001b[1;32m    955\u001b[0m       \u001b[0;32mif\u001b[0m \u001b[0mself\u001b[0m\u001b[0;34m.\u001b[0m\u001b[0m_created_variables\u001b[0m \u001b[0;32mand\u001b[0m \u001b[0;32mnot\u001b[0m \u001b[0mALLOW_DYNAMIC_VARIABLE_CREATION\u001b[0m\u001b[0;34m:\u001b[0m\u001b[0;34m\u001b[0m\u001b[0;34m\u001b[0m\u001b[0m\n\u001b[0;32m--> 956\u001b[0;31m         raise ValueError(\"Creating variables on a non-first call to a function\"\n\u001b[0m\u001b[1;32m    957\u001b[0m                          \" decorated with tf.function.\")\n\u001b[1;32m    958\u001b[0m       \u001b[0;32mreturn\u001b[0m \u001b[0mresults\u001b[0m\u001b[0;34m\u001b[0m\u001b[0;34m\u001b[0m\u001b[0m\n",
            "\u001b[0;31mValueError\u001b[0m: Creating variables on a non-first call to a function decorated with tf.function."
          ]
        }
      ]
    },
    {
      "cell_type": "code",
      "source": [
        ""
      ],
      "metadata": {
        "id": "x7JUvHw0daSL"
      },
      "execution_count": null,
      "outputs": []
    },
    {
      "cell_type": "code",
      "source": [
        ""
      ],
      "metadata": {
        "id": "FgNGDXDIdaJa"
      },
      "execution_count": null,
      "outputs": []
    },
    {
      "cell_type": "code",
      "source": [
        ""
      ],
      "metadata": {
        "id": "SeQx1Pj4daDP"
      },
      "execution_count": null,
      "outputs": []
    },
    {
      "cell_type": "code",
      "source": [
        ""
      ],
      "metadata": {
        "id": "Q2mtfyZ_dZ9T"
      },
      "execution_count": null,
      "outputs": []
    },
    {
      "cell_type": "code",
      "source": [
        ""
      ],
      "metadata": {
        "id": "FNJHrj5qdZ0o"
      },
      "execution_count": null,
      "outputs": []
    },
    {
      "cell_type": "code",
      "source": [
        "# from keras.preprocessing.text import Tokenizer\n",
        "# from keras.preprocessing.sequence import pad_sequences\n",
        "# from keras import regularizers\n",
        "\n",
        "# max_words = 5000\n",
        "# max_len = 200\n",
        "\n",
        "# tokenizer = Tokenizer(num_words=max_words)\n",
        "# tokenizer.fit_on_texts(data)\n",
        "# sequences = tokenizer.texts_to_sequences(data)\n",
        "# tweets = pad_sequences(sequences, maxlen=max_len)\n",
        "# print(tweets)"
      ],
      "metadata": {
        "colab": {
          "base_uri": "https://localhost:8080/"
        },
        "id": "6iWFnaZfO9tR",
        "outputId": "126fa02f-db3d-465c-edc2-9e9249e7f256"
      },
      "execution_count": null,
      "outputs": [
        {
          "output_type": "stream",
          "name": "stdout",
          "text": [
            "[[  0   0   0 ...   1 233 113]\n",
            " [  0   0   0 ... 236  65  66]\n",
            " [  0   0   0 ... 243 244 245]\n",
            " ...\n",
            " [  0   0   0 ... 110 111  56]\n",
            " [  0   0   0 ... 119 802 180]\n",
            " [  0   0   0 ... 229 805  87]]\n"
          ]
        }
      ]
    },
    {
      "cell_type": "code",
      "source": [
        "\n"
      ],
      "metadata": {
        "id": "a974XRWvRsec"
      },
      "execution_count": null,
      "outputs": []
    },
    {
      "cell_type": "code",
      "source": [
        ""
      ],
      "metadata": {
        "id": "UjZ9R-BrR2me"
      },
      "execution_count": null,
      "outputs": []
    },
    {
      "cell_type": "code",
      "source": [
        ""
      ],
      "metadata": {
        "id": "DQSMzhrNS2-s"
      },
      "execution_count": null,
      "outputs": []
    },
    {
      "cell_type": "code",
      "source": [
        ""
      ],
      "metadata": {
        "id": "eM3pmzm-S55r"
      },
      "execution_count": null,
      "outputs": []
    }
  ]
}