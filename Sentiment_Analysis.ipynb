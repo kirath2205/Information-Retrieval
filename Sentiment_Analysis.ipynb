{
  "nbformat": 4,
  "nbformat_minor": 0,
  "metadata": {
    "colab": {
      "name": "Sentiment Analysis.ipynb",
      "provenance": [],
      "collapsed_sections": [],
      "authorship_tag": "ABX9TyMkQ30kvckbQKTn+j0Q3gYQ",
      "include_colab_link": true
    },
    "kernelspec": {
      "name": "python3",
      "display_name": "Python 3"
    },
    "language_info": {
      "name": "python"
    }
  },
  "cells": [
    {
      "cell_type": "markdown",
      "metadata": {
        "id": "view-in-github",
        "colab_type": "text"
      },
      "source": [
        "<a href=\"https://colab.research.google.com/github/kirath2205/Information-Retrieval/blob/main/Sentiment_Analysis.ipynb\" target=\"_parent\"><img src=\"https://colab.research.google.com/assets/colab-badge.svg\" alt=\"Open In Colab\"/></a>"
      ]
    },
    {
      "cell_type": "code",
      "execution_count": null,
      "metadata": {
        "colab": {
          "base_uri": "https://localhost:8080/",
          "height": 687
        },
        "id": "T9dKBCCPGZOA",
        "outputId": "db66d845-d14e-4c90-90de-bf0ffd07f4d2"
      },
      "outputs": [
        {
          "output_type": "execute_result",
          "data": {
            "text/plain": [
              "             id        username    created_at             date  Sentiment  \\\n",
              "0  1.510000e+18       23ABCNews  1.650000e+12  29/3/2022 23:45       -1.0   \n",
              "1  1.510000e+18  CloseHouseGolf  1.650000e+12  29/3/2022 23:30        1.0   \n",
              "2  1.510000e+18      GadgetFlow  1.650000e+12  29/3/2022 23:30        1.0   \n",
              "3  1.510000e+18   TheBoltonNews  1.650000e+12  29/3/2022 23:02       -1.0   \n",
              "4  1.510000e+18          BMW_UK  1.650000e+12  29/3/2022 22:33       -1.0   \n",
              "\n",
              "                                               tweet language  \\\n",
              "0  UPDATE: CHP said a man was killed Monday night...       en   \n",
              "1  Another incredible Close House VIP car deliver...       en   \n",
              "2  The @BMW Motorrad Definition CE 04 sit-on #eSc...       en   \n",
              "3  'A tragedy for all concerned': Speeding driver...       en   \n",
              "4  @lynpaul6 Hi Lyn, we're sorry to hear your BMW...       en   \n",
              "\n",
              "                         hashtags cashtags  \\\n",
              "0                              []       []   \n",
              "1      ['bmw', 'vip', 'dreamcar']       []   \n",
              "2  ['escooter', 'transportation']       []   \n",
              "3                              []       []   \n",
              "4                              []       []   \n",
              "\n",
              "                                                link  \\\n",
              "0  https://twitter.com/23ABCNews/status/150883271...   \n",
              "1  https://twitter.com/CloseHouseGolf/status/1508...   \n",
              "2  https://twitter.com/GadgetFlow/status/15088288...   \n",
              "3  https://twitter.com/TheBoltonNews/status/15088...   \n",
              "4  https://twitter.com/BMW_UK/status/150881450842...   \n",
              "\n",
              "                                                urls  \\\n",
              "0  ['https://www.turnto23.com/news/local-news/one...   \n",
              "1                                                 []   \n",
              "2  ['https://thegadgetflow.com/portfolio/bmw-moto...   \n",
              "3  ['https://www.theboltonnews.co.uk/news/2002930...   \n",
              "4                                                 []   \n",
              "\n",
              "                                              photos  video  \\\n",
              "0                                                 []      0   \n",
              "1  ['https://pbs.twimg.com/media/FPBv1x2WQA49E4s....      1   \n",
              "2  ['https://pbs.twimg.com/media/FPBv1chX0AcuHfs....      1   \n",
              "3                                                 []      0   \n",
              "4                                                 []      0   \n",
              "\n",
              "                                         thumbnail  nlikes  nreplies  \\\n",
              "0                                              NaN       0         0   \n",
              "1  https://pbs.twimg.com/media/FPBv1x2WQA49E4s.jpg       7         0   \n",
              "2  https://pbs.twimg.com/media/FPBv1chX0AcuHfs.jpg       0         0   \n",
              "3                                              NaN       1         0   \n",
              "4                                              NaN       0         2   \n",
              "\n",
              "   nretweets  \n",
              "0          0  \n",
              "1          0  \n",
              "2          0  \n",
              "3          1  \n",
              "4          0  "
            ],
            "text/html": [
              "\n",
              "  <div id=\"df-3d6f600c-61e3-4980-ad52-a8d8c96b1956\">\n",
              "    <div class=\"colab-df-container\">\n",
              "      <div>\n",
              "<style scoped>\n",
              "    .dataframe tbody tr th:only-of-type {\n",
              "        vertical-align: middle;\n",
              "    }\n",
              "\n",
              "    .dataframe tbody tr th {\n",
              "        vertical-align: top;\n",
              "    }\n",
              "\n",
              "    .dataframe thead th {\n",
              "        text-align: right;\n",
              "    }\n",
              "</style>\n",
              "<table border=\"1\" class=\"dataframe\">\n",
              "  <thead>\n",
              "    <tr style=\"text-align: right;\">\n",
              "      <th></th>\n",
              "      <th>id</th>\n",
              "      <th>username</th>\n",
              "      <th>created_at</th>\n",
              "      <th>date</th>\n",
              "      <th>Sentiment</th>\n",
              "      <th>tweet</th>\n",
              "      <th>language</th>\n",
              "      <th>hashtags</th>\n",
              "      <th>cashtags</th>\n",
              "      <th>link</th>\n",
              "      <th>urls</th>\n",
              "      <th>photos</th>\n",
              "      <th>video</th>\n",
              "      <th>thumbnail</th>\n",
              "      <th>nlikes</th>\n",
              "      <th>nreplies</th>\n",
              "      <th>nretweets</th>\n",
              "    </tr>\n",
              "  </thead>\n",
              "  <tbody>\n",
              "    <tr>\n",
              "      <th>0</th>\n",
              "      <td>1.510000e+18</td>\n",
              "      <td>23ABCNews</td>\n",
              "      <td>1.650000e+12</td>\n",
              "      <td>29/3/2022 23:45</td>\n",
              "      <td>-1.0</td>\n",
              "      <td>UPDATE: CHP said a man was killed Monday night...</td>\n",
              "      <td>en</td>\n",
              "      <td>[]</td>\n",
              "      <td>[]</td>\n",
              "      <td>https://twitter.com/23ABCNews/status/150883271...</td>\n",
              "      <td>['https://www.turnto23.com/news/local-news/one...</td>\n",
              "      <td>[]</td>\n",
              "      <td>0</td>\n",
              "      <td>NaN</td>\n",
              "      <td>0</td>\n",
              "      <td>0</td>\n",
              "      <td>0</td>\n",
              "    </tr>\n",
              "    <tr>\n",
              "      <th>1</th>\n",
              "      <td>1.510000e+18</td>\n",
              "      <td>CloseHouseGolf</td>\n",
              "      <td>1.650000e+12</td>\n",
              "      <td>29/3/2022 23:30</td>\n",
              "      <td>1.0</td>\n",
              "      <td>Another incredible Close House VIP car deliver...</td>\n",
              "      <td>en</td>\n",
              "      <td>['bmw', 'vip', 'dreamcar']</td>\n",
              "      <td>[]</td>\n",
              "      <td>https://twitter.com/CloseHouseGolf/status/1508...</td>\n",
              "      <td>[]</td>\n",
              "      <td>['https://pbs.twimg.com/media/FPBv1x2WQA49E4s....</td>\n",
              "      <td>1</td>\n",
              "      <td>https://pbs.twimg.com/media/FPBv1x2WQA49E4s.jpg</td>\n",
              "      <td>7</td>\n",
              "      <td>0</td>\n",
              "      <td>0</td>\n",
              "    </tr>\n",
              "    <tr>\n",
              "      <th>2</th>\n",
              "      <td>1.510000e+18</td>\n",
              "      <td>GadgetFlow</td>\n",
              "      <td>1.650000e+12</td>\n",
              "      <td>29/3/2022 23:30</td>\n",
              "      <td>1.0</td>\n",
              "      <td>The @BMW Motorrad Definition CE 04 sit-on #eSc...</td>\n",
              "      <td>en</td>\n",
              "      <td>['escooter', 'transportation']</td>\n",
              "      <td>[]</td>\n",
              "      <td>https://twitter.com/GadgetFlow/status/15088288...</td>\n",
              "      <td>['https://thegadgetflow.com/portfolio/bmw-moto...</td>\n",
              "      <td>['https://pbs.twimg.com/media/FPBv1chX0AcuHfs....</td>\n",
              "      <td>1</td>\n",
              "      <td>https://pbs.twimg.com/media/FPBv1chX0AcuHfs.jpg</td>\n",
              "      <td>0</td>\n",
              "      <td>0</td>\n",
              "      <td>0</td>\n",
              "    </tr>\n",
              "    <tr>\n",
              "      <th>3</th>\n",
              "      <td>1.510000e+18</td>\n",
              "      <td>TheBoltonNews</td>\n",
              "      <td>1.650000e+12</td>\n",
              "      <td>29/3/2022 23:02</td>\n",
              "      <td>-1.0</td>\n",
              "      <td>'A tragedy for all concerned': Speeding driver...</td>\n",
              "      <td>en</td>\n",
              "      <td>[]</td>\n",
              "      <td>[]</td>\n",
              "      <td>https://twitter.com/TheBoltonNews/status/15088...</td>\n",
              "      <td>['https://www.theboltonnews.co.uk/news/2002930...</td>\n",
              "      <td>[]</td>\n",
              "      <td>0</td>\n",
              "      <td>NaN</td>\n",
              "      <td>1</td>\n",
              "      <td>0</td>\n",
              "      <td>1</td>\n",
              "    </tr>\n",
              "    <tr>\n",
              "      <th>4</th>\n",
              "      <td>1.510000e+18</td>\n",
              "      <td>BMW_UK</td>\n",
              "      <td>1.650000e+12</td>\n",
              "      <td>29/3/2022 22:33</td>\n",
              "      <td>-1.0</td>\n",
              "      <td>@lynpaul6 Hi Lyn, we're sorry to hear your BMW...</td>\n",
              "      <td>en</td>\n",
              "      <td>[]</td>\n",
              "      <td>[]</td>\n",
              "      <td>https://twitter.com/BMW_UK/status/150881450842...</td>\n",
              "      <td>[]</td>\n",
              "      <td>[]</td>\n",
              "      <td>0</td>\n",
              "      <td>NaN</td>\n",
              "      <td>0</td>\n",
              "      <td>2</td>\n",
              "      <td>0</td>\n",
              "    </tr>\n",
              "  </tbody>\n",
              "</table>\n",
              "</div>\n",
              "      <button class=\"colab-df-convert\" onclick=\"convertToInteractive('df-3d6f600c-61e3-4980-ad52-a8d8c96b1956')\"\n",
              "              title=\"Convert this dataframe to an interactive table.\"\n",
              "              style=\"display:none;\">\n",
              "        \n",
              "  <svg xmlns=\"http://www.w3.org/2000/svg\" height=\"24px\"viewBox=\"0 0 24 24\"\n",
              "       width=\"24px\">\n",
              "    <path d=\"M0 0h24v24H0V0z\" fill=\"none\"/>\n",
              "    <path d=\"M18.56 5.44l.94 2.06.94-2.06 2.06-.94-2.06-.94-.94-2.06-.94 2.06-2.06.94zm-11 1L8.5 8.5l.94-2.06 2.06-.94-2.06-.94L8.5 2.5l-.94 2.06-2.06.94zm10 10l.94 2.06.94-2.06 2.06-.94-2.06-.94-.94-2.06-.94 2.06-2.06.94z\"/><path d=\"M17.41 7.96l-1.37-1.37c-.4-.4-.92-.59-1.43-.59-.52 0-1.04.2-1.43.59L10.3 9.45l-7.72 7.72c-.78.78-.78 2.05 0 2.83L4 21.41c.39.39.9.59 1.41.59.51 0 1.02-.2 1.41-.59l7.78-7.78 2.81-2.81c.8-.78.8-2.07 0-2.86zM5.41 20L4 18.59l7.72-7.72 1.47 1.35L5.41 20z\"/>\n",
              "  </svg>\n",
              "      </button>\n",
              "      \n",
              "  <style>\n",
              "    .colab-df-container {\n",
              "      display:flex;\n",
              "      flex-wrap:wrap;\n",
              "      gap: 12px;\n",
              "    }\n",
              "\n",
              "    .colab-df-convert {\n",
              "      background-color: #E8F0FE;\n",
              "      border: none;\n",
              "      border-radius: 50%;\n",
              "      cursor: pointer;\n",
              "      display: none;\n",
              "      fill: #1967D2;\n",
              "      height: 32px;\n",
              "      padding: 0 0 0 0;\n",
              "      width: 32px;\n",
              "    }\n",
              "\n",
              "    .colab-df-convert:hover {\n",
              "      background-color: #E2EBFA;\n",
              "      box-shadow: 0px 1px 2px rgba(60, 64, 67, 0.3), 0px 1px 3px 1px rgba(60, 64, 67, 0.15);\n",
              "      fill: #174EA6;\n",
              "    }\n",
              "\n",
              "    [theme=dark] .colab-df-convert {\n",
              "      background-color: #3B4455;\n",
              "      fill: #D2E3FC;\n",
              "    }\n",
              "\n",
              "    [theme=dark] .colab-df-convert:hover {\n",
              "      background-color: #434B5C;\n",
              "      box-shadow: 0px 1px 3px 1px rgba(0, 0, 0, 0.15);\n",
              "      filter: drop-shadow(0px 1px 2px rgba(0, 0, 0, 0.3));\n",
              "      fill: #FFFFFF;\n",
              "    }\n",
              "  </style>\n",
              "\n",
              "      <script>\n",
              "        const buttonEl =\n",
              "          document.querySelector('#df-3d6f600c-61e3-4980-ad52-a8d8c96b1956 button.colab-df-convert');\n",
              "        buttonEl.style.display =\n",
              "          google.colab.kernel.accessAllowed ? 'block' : 'none';\n",
              "\n",
              "        async function convertToInteractive(key) {\n",
              "          const element = document.querySelector('#df-3d6f600c-61e3-4980-ad52-a8d8c96b1956');\n",
              "          const dataTable =\n",
              "            await google.colab.kernel.invokeFunction('convertToInteractive',\n",
              "                                                     [key], {});\n",
              "          if (!dataTable) return;\n",
              "\n",
              "          const docLinkHtml = 'Like what you see? Visit the ' +\n",
              "            '<a target=\"_blank\" href=https://colab.research.google.com/notebooks/data_table.ipynb>data table notebook</a>'\n",
              "            + ' to learn more about interactive tables.';\n",
              "          element.innerHTML = '';\n",
              "          dataTable['output_type'] = 'display_data';\n",
              "          await google.colab.output.renderOutput(dataTable, element);\n",
              "          const docLink = document.createElement('div');\n",
              "          docLink.innerHTML = docLinkHtml;\n",
              "          element.appendChild(docLink);\n",
              "        }\n",
              "      </script>\n",
              "    </div>\n",
              "  </div>\n",
              "  "
            ]
          },
          "metadata": {},
          "execution_count": 1
        }
      ],
      "source": [
        "import pandas as pd\n",
        "bmw = pd.read_csv('BMW_Labelled.csv')\n",
        "bmw.drop(\"Unnamed: 0\",axis=1, inplace=True)\n",
        "bmw = bmw[(bmw['Sentiment']==1) | (bmw['Sentiment']==0) | (bmw['Sentiment']==-1)]\n",
        "bmw.reset_index(inplace=True, drop=True)\n",
        "bmw.head()"
      ]
    },
    {
      "cell_type": "code",
      "source": [
        "bmw.shape"
      ],
      "metadata": {
        "colab": {
          "base_uri": "https://localhost:8080/"
        },
        "id": "dy0HN6INraH1",
        "outputId": "7e09d0c5-bb26-4bc2-ff4f-fafe633ad670"
      },
      "execution_count": null,
      "outputs": [
        {
          "output_type": "execute_result",
          "data": {
            "text/plain": [
              "(438, 17)"
            ]
          },
          "metadata": {},
          "execution_count": 2
        }
      ]
    },
    {
      "cell_type": "code",
      "source": [
        "print(\"Positive: \"+str(len(bmw[bmw['Sentiment']==1])))\n",
        "print(\"Neutral: \"+str(len(bmw[bmw['Sentiment']==0])))\n",
        "print(\"Negative: \"+str(len(bmw[bmw['Sentiment']==-1])))"
      ],
      "metadata": {
        "colab": {
          "base_uri": "https://localhost:8080/"
        },
        "id": "Zwg727jRro3C",
        "outputId": "975c91e3-7fa9-4f7d-a682-d64a05e58e94"
      },
      "execution_count": null,
      "outputs": [
        {
          "output_type": "stream",
          "name": "stdout",
          "text": [
            "Positive: 204\n",
            "Neutral: 66\n",
            "Negative: 168\n"
          ]
        }
      ]
    },
    {
      "cell_type": "code",
      "source": [
        "tesla = pd.read_csv('labelled_data_tesla.csv')\n",
        "tesla.drop(\"Unnamed: 0\",axis=1, inplace=True)\n",
        "tesla = tesla[(tesla['Sentiment']==1) | (tesla['Sentiment']==0) | (tesla['Sentiment']==-1)]\n",
        "tesla.reset_index(inplace=True, drop=True)\n",
        "tesla.head()"
      ],
      "metadata": {
        "colab": {
          "base_uri": "https://localhost:8080/",
          "height": 530
        },
        "id": "8Ia4sEZFJdAv",
        "outputId": "515c45fc-6ab2-4237-e0c2-8ba4776792b4"
      },
      "execution_count": null,
      "outputs": [
        {
          "output_type": "execute_result",
          "data": {
            "text/plain": [
              "             id         username    created_at             date  Sentiment  \\\n",
              "0  1.510000e+18     stonercatstv  1.650000e+12  29/3/2022 23:42        0.0   \n",
              "1  1.510000e+18     YahooFinance  1.650000e+12  29/3/2022 23:41        1.0   \n",
              "2  1.510000e+18  AlbertBridgeCap  1.650000e+12  29/3/2022 23:35       -1.0   \n",
              "3  1.510000e+18  EntrepreneurIND  1.650000e+12  29/3/2022 23:30        1.0   \n",
              "4  1.510000e+18         SamAntar  1.650000e+12  29/3/2022 23:25       -1.0   \n",
              "\n",
              "                                               tweet language  \\\n",
              "0  @dillonthecoder dillon haha thx for letting me...       en   \n",
              "1  Tesla stock split indicates 'a massive positio...       en   \n",
              "2  $-for-$, the F-150 Lightning will have the sam...       en   \n",
              "3  #Creative, #dynamic and perpetually active â€“...       en   \n",
              "4  Yes. You can fool 100% of your bagholders, 98%...       en   \n",
              "\n",
              "                                            hashtags  cashtags  \\\n",
              "0                                                 []        []   \n",
              "1                                                 []        []   \n",
              "2                                                 []  ['tsla']   \n",
              "3  ['creative', 'dynamic', 'elonmusk', 'twitter',...        []   \n",
              "4                                                 []  ['tsla']   \n",
              "\n",
              "                                                link  \\\n",
              "0  https://twitter.com/stonercatstv/status/150883...   \n",
              "1  https://twitter.com/YahooFinance/status/150883...   \n",
              "2  https://twitter.com/AlbertBridgeCap/status/150...   \n",
              "3  https://twitter.com/EntrepreneurIND/status/150...   \n",
              "4  https://twitter.com/SamAntar/status/1508827795...   \n",
              "\n",
              "                                                urls  \\\n",
              "0                                                 []   \n",
              "1                        ['https://yhoo.it/3uDPJ0F']   \n",
              "2  ['https://www.caranddriver.com/ford/f-150-ligh...   \n",
              "3    ['https://www.entrepreneur.com/article/423267']   \n",
              "4                                                 []   \n",
              "\n",
              "                                              photos  video  \\\n",
              "0                                                 []    0.0   \n",
              "1  ['https://pbs.twimg.com/media/FPByXztWUAICHiY....    1.0   \n",
              "2                                                 []    0.0   \n",
              "3                                                 []    0.0   \n",
              "4                                                 []    0.0   \n",
              "\n",
              "                                         thumbnail  nlikes  nreplies  \\\n",
              "0                                              NaN     0.0       0.0   \n",
              "1  https://pbs.twimg.com/media/FPByXztWUAICHiY.jpg    20.0       1.0   \n",
              "2                                              NaN     5.0       3.0   \n",
              "3                                              NaN     0.0       0.0   \n",
              "4                                              NaN     4.0       0.0   \n",
              "\n",
              "   nretweets  \n",
              "0        0.0  \n",
              "1        3.0  \n",
              "2        0.0  \n",
              "3        1.0  \n",
              "4        0.0  "
            ],
            "text/html": [
              "\n",
              "  <div id=\"df-e292d146-ed43-458d-9737-6071da01c041\">\n",
              "    <div class=\"colab-df-container\">\n",
              "      <div>\n",
              "<style scoped>\n",
              "    .dataframe tbody tr th:only-of-type {\n",
              "        vertical-align: middle;\n",
              "    }\n",
              "\n",
              "    .dataframe tbody tr th {\n",
              "        vertical-align: top;\n",
              "    }\n",
              "\n",
              "    .dataframe thead th {\n",
              "        text-align: right;\n",
              "    }\n",
              "</style>\n",
              "<table border=\"1\" class=\"dataframe\">\n",
              "  <thead>\n",
              "    <tr style=\"text-align: right;\">\n",
              "      <th></th>\n",
              "      <th>id</th>\n",
              "      <th>username</th>\n",
              "      <th>created_at</th>\n",
              "      <th>date</th>\n",
              "      <th>Sentiment</th>\n",
              "      <th>tweet</th>\n",
              "      <th>language</th>\n",
              "      <th>hashtags</th>\n",
              "      <th>cashtags</th>\n",
              "      <th>link</th>\n",
              "      <th>urls</th>\n",
              "      <th>photos</th>\n",
              "      <th>video</th>\n",
              "      <th>thumbnail</th>\n",
              "      <th>nlikes</th>\n",
              "      <th>nreplies</th>\n",
              "      <th>nretweets</th>\n",
              "    </tr>\n",
              "  </thead>\n",
              "  <tbody>\n",
              "    <tr>\n",
              "      <th>0</th>\n",
              "      <td>1.510000e+18</td>\n",
              "      <td>stonercatstv</td>\n",
              "      <td>1.650000e+12</td>\n",
              "      <td>29/3/2022 23:42</td>\n",
              "      <td>0.0</td>\n",
              "      <td>@dillonthecoder dillon haha thx for letting me...</td>\n",
              "      <td>en</td>\n",
              "      <td>[]</td>\n",
              "      <td>[]</td>\n",
              "      <td>https://twitter.com/stonercatstv/status/150883...</td>\n",
              "      <td>[]</td>\n",
              "      <td>[]</td>\n",
              "      <td>0.0</td>\n",
              "      <td>NaN</td>\n",
              "      <td>0.0</td>\n",
              "      <td>0.0</td>\n",
              "      <td>0.0</td>\n",
              "    </tr>\n",
              "    <tr>\n",
              "      <th>1</th>\n",
              "      <td>1.510000e+18</td>\n",
              "      <td>YahooFinance</td>\n",
              "      <td>1.650000e+12</td>\n",
              "      <td>29/3/2022 23:41</td>\n",
              "      <td>1.0</td>\n",
              "      <td>Tesla stock split indicates 'a massive positio...</td>\n",
              "      <td>en</td>\n",
              "      <td>[]</td>\n",
              "      <td>[]</td>\n",
              "      <td>https://twitter.com/YahooFinance/status/150883...</td>\n",
              "      <td>['https://yhoo.it/3uDPJ0F']</td>\n",
              "      <td>['https://pbs.twimg.com/media/FPByXztWUAICHiY....</td>\n",
              "      <td>1.0</td>\n",
              "      <td>https://pbs.twimg.com/media/FPByXztWUAICHiY.jpg</td>\n",
              "      <td>20.0</td>\n",
              "      <td>1.0</td>\n",
              "      <td>3.0</td>\n",
              "    </tr>\n",
              "    <tr>\n",
              "      <th>2</th>\n",
              "      <td>1.510000e+18</td>\n",
              "      <td>AlbertBridgeCap</td>\n",
              "      <td>1.650000e+12</td>\n",
              "      <td>29/3/2022 23:35</td>\n",
              "      <td>-1.0</td>\n",
              "      <td>$-for-$, the F-150 Lightning will have the sam...</td>\n",
              "      <td>en</td>\n",
              "      <td>[]</td>\n",
              "      <td>['tsla']</td>\n",
              "      <td>https://twitter.com/AlbertBridgeCap/status/150...</td>\n",
              "      <td>['https://www.caranddriver.com/ford/f-150-ligh...</td>\n",
              "      <td>[]</td>\n",
              "      <td>0.0</td>\n",
              "      <td>NaN</td>\n",
              "      <td>5.0</td>\n",
              "      <td>3.0</td>\n",
              "      <td>0.0</td>\n",
              "    </tr>\n",
              "    <tr>\n",
              "      <th>3</th>\n",
              "      <td>1.510000e+18</td>\n",
              "      <td>EntrepreneurIND</td>\n",
              "      <td>1.650000e+12</td>\n",
              "      <td>29/3/2022 23:30</td>\n",
              "      <td>1.0</td>\n",
              "      <td>#Creative, #dynamic and perpetually active â€“...</td>\n",
              "      <td>en</td>\n",
              "      <td>['creative', 'dynamic', 'elonmusk', 'twitter',...</td>\n",
              "      <td>[]</td>\n",
              "      <td>https://twitter.com/EntrepreneurIND/status/150...</td>\n",
              "      <td>['https://www.entrepreneur.com/article/423267']</td>\n",
              "      <td>[]</td>\n",
              "      <td>0.0</td>\n",
              "      <td>NaN</td>\n",
              "      <td>0.0</td>\n",
              "      <td>0.0</td>\n",
              "      <td>1.0</td>\n",
              "    </tr>\n",
              "    <tr>\n",
              "      <th>4</th>\n",
              "      <td>1.510000e+18</td>\n",
              "      <td>SamAntar</td>\n",
              "      <td>1.650000e+12</td>\n",
              "      <td>29/3/2022 23:25</td>\n",
              "      <td>-1.0</td>\n",
              "      <td>Yes. You can fool 100% of your bagholders, 98%...</td>\n",
              "      <td>en</td>\n",
              "      <td>[]</td>\n",
              "      <td>['tsla']</td>\n",
              "      <td>https://twitter.com/SamAntar/status/1508827795...</td>\n",
              "      <td>[]</td>\n",
              "      <td>[]</td>\n",
              "      <td>0.0</td>\n",
              "      <td>NaN</td>\n",
              "      <td>4.0</td>\n",
              "      <td>0.0</td>\n",
              "      <td>0.0</td>\n",
              "    </tr>\n",
              "  </tbody>\n",
              "</table>\n",
              "</div>\n",
              "      <button class=\"colab-df-convert\" onclick=\"convertToInteractive('df-e292d146-ed43-458d-9737-6071da01c041')\"\n",
              "              title=\"Convert this dataframe to an interactive table.\"\n",
              "              style=\"display:none;\">\n",
              "        \n",
              "  <svg xmlns=\"http://www.w3.org/2000/svg\" height=\"24px\"viewBox=\"0 0 24 24\"\n",
              "       width=\"24px\">\n",
              "    <path d=\"M0 0h24v24H0V0z\" fill=\"none\"/>\n",
              "    <path d=\"M18.56 5.44l.94 2.06.94-2.06 2.06-.94-2.06-.94-.94-2.06-.94 2.06-2.06.94zm-11 1L8.5 8.5l.94-2.06 2.06-.94-2.06-.94L8.5 2.5l-.94 2.06-2.06.94zm10 10l.94 2.06.94-2.06 2.06-.94-2.06-.94-.94-2.06-.94 2.06-2.06.94z\"/><path d=\"M17.41 7.96l-1.37-1.37c-.4-.4-.92-.59-1.43-.59-.52 0-1.04.2-1.43.59L10.3 9.45l-7.72 7.72c-.78.78-.78 2.05 0 2.83L4 21.41c.39.39.9.59 1.41.59.51 0 1.02-.2 1.41-.59l7.78-7.78 2.81-2.81c.8-.78.8-2.07 0-2.86zM5.41 20L4 18.59l7.72-7.72 1.47 1.35L5.41 20z\"/>\n",
              "  </svg>\n",
              "      </button>\n",
              "      \n",
              "  <style>\n",
              "    .colab-df-container {\n",
              "      display:flex;\n",
              "      flex-wrap:wrap;\n",
              "      gap: 12px;\n",
              "    }\n",
              "\n",
              "    .colab-df-convert {\n",
              "      background-color: #E8F0FE;\n",
              "      border: none;\n",
              "      border-radius: 50%;\n",
              "      cursor: pointer;\n",
              "      display: none;\n",
              "      fill: #1967D2;\n",
              "      height: 32px;\n",
              "      padding: 0 0 0 0;\n",
              "      width: 32px;\n",
              "    }\n",
              "\n",
              "    .colab-df-convert:hover {\n",
              "      background-color: #E2EBFA;\n",
              "      box-shadow: 0px 1px 2px rgba(60, 64, 67, 0.3), 0px 1px 3px 1px rgba(60, 64, 67, 0.15);\n",
              "      fill: #174EA6;\n",
              "    }\n",
              "\n",
              "    [theme=dark] .colab-df-convert {\n",
              "      background-color: #3B4455;\n",
              "      fill: #D2E3FC;\n",
              "    }\n",
              "\n",
              "    [theme=dark] .colab-df-convert:hover {\n",
              "      background-color: #434B5C;\n",
              "      box-shadow: 0px 1px 3px 1px rgba(0, 0, 0, 0.15);\n",
              "      filter: drop-shadow(0px 1px 2px rgba(0, 0, 0, 0.3));\n",
              "      fill: #FFFFFF;\n",
              "    }\n",
              "  </style>\n",
              "\n",
              "      <script>\n",
              "        const buttonEl =\n",
              "          document.querySelector('#df-e292d146-ed43-458d-9737-6071da01c041 button.colab-df-convert');\n",
              "        buttonEl.style.display =\n",
              "          google.colab.kernel.accessAllowed ? 'block' : 'none';\n",
              "\n",
              "        async function convertToInteractive(key) {\n",
              "          const element = document.querySelector('#df-e292d146-ed43-458d-9737-6071da01c041');\n",
              "          const dataTable =\n",
              "            await google.colab.kernel.invokeFunction('convertToInteractive',\n",
              "                                                     [key], {});\n",
              "          if (!dataTable) return;\n",
              "\n",
              "          const docLinkHtml = 'Like what you see? Visit the ' +\n",
              "            '<a target=\"_blank\" href=https://colab.research.google.com/notebooks/data_table.ipynb>data table notebook</a>'\n",
              "            + ' to learn more about interactive tables.';\n",
              "          element.innerHTML = '';\n",
              "          dataTable['output_type'] = 'display_data';\n",
              "          await google.colab.output.renderOutput(dataTable, element);\n",
              "          const docLink = document.createElement('div');\n",
              "          docLink.innerHTML = docLinkHtml;\n",
              "          element.appendChild(docLink);\n",
              "        }\n",
              "      </script>\n",
              "    </div>\n",
              "  </div>\n",
              "  "
            ]
          },
          "metadata": {},
          "execution_count": 4
        }
      ]
    },
    {
      "cell_type": "code",
      "source": [
        "tesla.shape"
      ],
      "metadata": {
        "colab": {
          "base_uri": "https://localhost:8080/"
        },
        "id": "Qq_VOBp2LTrt",
        "outputId": "93930f91-a23f-48cf-edc2-8f3c5e4680d5"
      },
      "execution_count": null,
      "outputs": [
        {
          "output_type": "execute_result",
          "data": {
            "text/plain": [
              "(579, 17)"
            ]
          },
          "metadata": {},
          "execution_count": 5
        }
      ]
    },
    {
      "cell_type": "code",
      "source": [
        "print(\"Positive: \"+str(len(tesla[tesla['Sentiment']==1])))\n",
        "print(\"Neutral: \"+str(len(tesla[tesla['Sentiment']==0])))\n",
        "print(\"Negative: \"+str(len(tesla[tesla['Sentiment']==-1])))"
      ],
      "metadata": {
        "colab": {
          "base_uri": "https://localhost:8080/"
        },
        "id": "8Bpe-SAuLAn3",
        "outputId": "a74b248e-4550-44a4-a97d-6dabe8c8c1c9"
      },
      "execution_count": null,
      "outputs": [
        {
          "output_type": "stream",
          "name": "stdout",
          "text": [
            "Positive: 322\n",
            "Neutral: 57\n",
            "Negative: 200\n"
          ]
        }
      ]
    },
    {
      "cell_type": "code",
      "source": [
        "df = pd.concat([bmw,tesla])\n",
        "df.reset_index(inplace=True, drop=True)"
      ],
      "metadata": {
        "id": "sixe7XphwJsC"
      },
      "execution_count": null,
      "outputs": []
    },
    {
      "cell_type": "code",
      "source": [
        "df.shape"
      ],
      "metadata": {
        "colab": {
          "base_uri": "https://localhost:8080/"
        },
        "id": "GPTelnEAwJpN",
        "outputId": "4438d438-af22-4801-d382-86af6a55669f"
      },
      "execution_count": null,
      "outputs": [
        {
          "output_type": "execute_result",
          "data": {
            "text/plain": [
              "(1017, 17)"
            ]
          },
          "metadata": {},
          "execution_count": 8
        }
      ]
    },
    {
      "cell_type": "code",
      "source": [
        "df.head()"
      ],
      "metadata": {
        "colab": {
          "base_uri": "https://localhost:8080/",
          "height": 687
        },
        "id": "wCSum7cOxiF8",
        "outputId": "fa048ff1-0d9e-42b4-9add-2cb79cdfb726"
      },
      "execution_count": null,
      "outputs": [
        {
          "output_type": "execute_result",
          "data": {
            "text/plain": [
              "             id        username    created_at             date  Sentiment  \\\n",
              "0  1.510000e+18       23ABCNews  1.650000e+12  29/3/2022 23:45       -1.0   \n",
              "1  1.510000e+18  CloseHouseGolf  1.650000e+12  29/3/2022 23:30        1.0   \n",
              "2  1.510000e+18      GadgetFlow  1.650000e+12  29/3/2022 23:30        1.0   \n",
              "3  1.510000e+18   TheBoltonNews  1.650000e+12  29/3/2022 23:02       -1.0   \n",
              "4  1.510000e+18          BMW_UK  1.650000e+12  29/3/2022 22:33       -1.0   \n",
              "\n",
              "                                               tweet language  \\\n",
              "0  UPDATE: CHP said a man was killed Monday night...       en   \n",
              "1  Another incredible Close House VIP car deliver...       en   \n",
              "2  The @BMW Motorrad Definition CE 04 sit-on #eSc...       en   \n",
              "3  'A tragedy for all concerned': Speeding driver...       en   \n",
              "4  @lynpaul6 Hi Lyn, we're sorry to hear your BMW...       en   \n",
              "\n",
              "                         hashtags cashtags  \\\n",
              "0                              []       []   \n",
              "1      ['bmw', 'vip', 'dreamcar']       []   \n",
              "2  ['escooter', 'transportation']       []   \n",
              "3                              []       []   \n",
              "4                              []       []   \n",
              "\n",
              "                                                link  \\\n",
              "0  https://twitter.com/23ABCNews/status/150883271...   \n",
              "1  https://twitter.com/CloseHouseGolf/status/1508...   \n",
              "2  https://twitter.com/GadgetFlow/status/15088288...   \n",
              "3  https://twitter.com/TheBoltonNews/status/15088...   \n",
              "4  https://twitter.com/BMW_UK/status/150881450842...   \n",
              "\n",
              "                                                urls  \\\n",
              "0  ['https://www.turnto23.com/news/local-news/one...   \n",
              "1                                                 []   \n",
              "2  ['https://thegadgetflow.com/portfolio/bmw-moto...   \n",
              "3  ['https://www.theboltonnews.co.uk/news/2002930...   \n",
              "4                                                 []   \n",
              "\n",
              "                                              photos  video  \\\n",
              "0                                                 []    0.0   \n",
              "1  ['https://pbs.twimg.com/media/FPBv1x2WQA49E4s....    1.0   \n",
              "2  ['https://pbs.twimg.com/media/FPBv1chX0AcuHfs....    1.0   \n",
              "3                                                 []    0.0   \n",
              "4                                                 []    0.0   \n",
              "\n",
              "                                         thumbnail  nlikes  nreplies  \\\n",
              "0                                              NaN     0.0       0.0   \n",
              "1  https://pbs.twimg.com/media/FPBv1x2WQA49E4s.jpg     7.0       0.0   \n",
              "2  https://pbs.twimg.com/media/FPBv1chX0AcuHfs.jpg     0.0       0.0   \n",
              "3                                              NaN     1.0       0.0   \n",
              "4                                              NaN     0.0       2.0   \n",
              "\n",
              "   nretweets  \n",
              "0        0.0  \n",
              "1        0.0  \n",
              "2        0.0  \n",
              "3        1.0  \n",
              "4        0.0  "
            ],
            "text/html": [
              "\n",
              "  <div id=\"df-fc8bbf8c-f2ca-49f6-b2ce-8c7f2baf1204\">\n",
              "    <div class=\"colab-df-container\">\n",
              "      <div>\n",
              "<style scoped>\n",
              "    .dataframe tbody tr th:only-of-type {\n",
              "        vertical-align: middle;\n",
              "    }\n",
              "\n",
              "    .dataframe tbody tr th {\n",
              "        vertical-align: top;\n",
              "    }\n",
              "\n",
              "    .dataframe thead th {\n",
              "        text-align: right;\n",
              "    }\n",
              "</style>\n",
              "<table border=\"1\" class=\"dataframe\">\n",
              "  <thead>\n",
              "    <tr style=\"text-align: right;\">\n",
              "      <th></th>\n",
              "      <th>id</th>\n",
              "      <th>username</th>\n",
              "      <th>created_at</th>\n",
              "      <th>date</th>\n",
              "      <th>Sentiment</th>\n",
              "      <th>tweet</th>\n",
              "      <th>language</th>\n",
              "      <th>hashtags</th>\n",
              "      <th>cashtags</th>\n",
              "      <th>link</th>\n",
              "      <th>urls</th>\n",
              "      <th>photos</th>\n",
              "      <th>video</th>\n",
              "      <th>thumbnail</th>\n",
              "      <th>nlikes</th>\n",
              "      <th>nreplies</th>\n",
              "      <th>nretweets</th>\n",
              "    </tr>\n",
              "  </thead>\n",
              "  <tbody>\n",
              "    <tr>\n",
              "      <th>0</th>\n",
              "      <td>1.510000e+18</td>\n",
              "      <td>23ABCNews</td>\n",
              "      <td>1.650000e+12</td>\n",
              "      <td>29/3/2022 23:45</td>\n",
              "      <td>-1.0</td>\n",
              "      <td>UPDATE: CHP said a man was killed Monday night...</td>\n",
              "      <td>en</td>\n",
              "      <td>[]</td>\n",
              "      <td>[]</td>\n",
              "      <td>https://twitter.com/23ABCNews/status/150883271...</td>\n",
              "      <td>['https://www.turnto23.com/news/local-news/one...</td>\n",
              "      <td>[]</td>\n",
              "      <td>0.0</td>\n",
              "      <td>NaN</td>\n",
              "      <td>0.0</td>\n",
              "      <td>0.0</td>\n",
              "      <td>0.0</td>\n",
              "    </tr>\n",
              "    <tr>\n",
              "      <th>1</th>\n",
              "      <td>1.510000e+18</td>\n",
              "      <td>CloseHouseGolf</td>\n",
              "      <td>1.650000e+12</td>\n",
              "      <td>29/3/2022 23:30</td>\n",
              "      <td>1.0</td>\n",
              "      <td>Another incredible Close House VIP car deliver...</td>\n",
              "      <td>en</td>\n",
              "      <td>['bmw', 'vip', 'dreamcar']</td>\n",
              "      <td>[]</td>\n",
              "      <td>https://twitter.com/CloseHouseGolf/status/1508...</td>\n",
              "      <td>[]</td>\n",
              "      <td>['https://pbs.twimg.com/media/FPBv1x2WQA49E4s....</td>\n",
              "      <td>1.0</td>\n",
              "      <td>https://pbs.twimg.com/media/FPBv1x2WQA49E4s.jpg</td>\n",
              "      <td>7.0</td>\n",
              "      <td>0.0</td>\n",
              "      <td>0.0</td>\n",
              "    </tr>\n",
              "    <tr>\n",
              "      <th>2</th>\n",
              "      <td>1.510000e+18</td>\n",
              "      <td>GadgetFlow</td>\n",
              "      <td>1.650000e+12</td>\n",
              "      <td>29/3/2022 23:30</td>\n",
              "      <td>1.0</td>\n",
              "      <td>The @BMW Motorrad Definition CE 04 sit-on #eSc...</td>\n",
              "      <td>en</td>\n",
              "      <td>['escooter', 'transportation']</td>\n",
              "      <td>[]</td>\n",
              "      <td>https://twitter.com/GadgetFlow/status/15088288...</td>\n",
              "      <td>['https://thegadgetflow.com/portfolio/bmw-moto...</td>\n",
              "      <td>['https://pbs.twimg.com/media/FPBv1chX0AcuHfs....</td>\n",
              "      <td>1.0</td>\n",
              "      <td>https://pbs.twimg.com/media/FPBv1chX0AcuHfs.jpg</td>\n",
              "      <td>0.0</td>\n",
              "      <td>0.0</td>\n",
              "      <td>0.0</td>\n",
              "    </tr>\n",
              "    <tr>\n",
              "      <th>3</th>\n",
              "      <td>1.510000e+18</td>\n",
              "      <td>TheBoltonNews</td>\n",
              "      <td>1.650000e+12</td>\n",
              "      <td>29/3/2022 23:02</td>\n",
              "      <td>-1.0</td>\n",
              "      <td>'A tragedy for all concerned': Speeding driver...</td>\n",
              "      <td>en</td>\n",
              "      <td>[]</td>\n",
              "      <td>[]</td>\n",
              "      <td>https://twitter.com/TheBoltonNews/status/15088...</td>\n",
              "      <td>['https://www.theboltonnews.co.uk/news/2002930...</td>\n",
              "      <td>[]</td>\n",
              "      <td>0.0</td>\n",
              "      <td>NaN</td>\n",
              "      <td>1.0</td>\n",
              "      <td>0.0</td>\n",
              "      <td>1.0</td>\n",
              "    </tr>\n",
              "    <tr>\n",
              "      <th>4</th>\n",
              "      <td>1.510000e+18</td>\n",
              "      <td>BMW_UK</td>\n",
              "      <td>1.650000e+12</td>\n",
              "      <td>29/3/2022 22:33</td>\n",
              "      <td>-1.0</td>\n",
              "      <td>@lynpaul6 Hi Lyn, we're sorry to hear your BMW...</td>\n",
              "      <td>en</td>\n",
              "      <td>[]</td>\n",
              "      <td>[]</td>\n",
              "      <td>https://twitter.com/BMW_UK/status/150881450842...</td>\n",
              "      <td>[]</td>\n",
              "      <td>[]</td>\n",
              "      <td>0.0</td>\n",
              "      <td>NaN</td>\n",
              "      <td>0.0</td>\n",
              "      <td>2.0</td>\n",
              "      <td>0.0</td>\n",
              "    </tr>\n",
              "  </tbody>\n",
              "</table>\n",
              "</div>\n",
              "      <button class=\"colab-df-convert\" onclick=\"convertToInteractive('df-fc8bbf8c-f2ca-49f6-b2ce-8c7f2baf1204')\"\n",
              "              title=\"Convert this dataframe to an interactive table.\"\n",
              "              style=\"display:none;\">\n",
              "        \n",
              "  <svg xmlns=\"http://www.w3.org/2000/svg\" height=\"24px\"viewBox=\"0 0 24 24\"\n",
              "       width=\"24px\">\n",
              "    <path d=\"M0 0h24v24H0V0z\" fill=\"none\"/>\n",
              "    <path d=\"M18.56 5.44l.94 2.06.94-2.06 2.06-.94-2.06-.94-.94-2.06-.94 2.06-2.06.94zm-11 1L8.5 8.5l.94-2.06 2.06-.94-2.06-.94L8.5 2.5l-.94 2.06-2.06.94zm10 10l.94 2.06.94-2.06 2.06-.94-2.06-.94-.94-2.06-.94 2.06-2.06.94z\"/><path d=\"M17.41 7.96l-1.37-1.37c-.4-.4-.92-.59-1.43-.59-.52 0-1.04.2-1.43.59L10.3 9.45l-7.72 7.72c-.78.78-.78 2.05 0 2.83L4 21.41c.39.39.9.59 1.41.59.51 0 1.02-.2 1.41-.59l7.78-7.78 2.81-2.81c.8-.78.8-2.07 0-2.86zM5.41 20L4 18.59l7.72-7.72 1.47 1.35L5.41 20z\"/>\n",
              "  </svg>\n",
              "      </button>\n",
              "      \n",
              "  <style>\n",
              "    .colab-df-container {\n",
              "      display:flex;\n",
              "      flex-wrap:wrap;\n",
              "      gap: 12px;\n",
              "    }\n",
              "\n",
              "    .colab-df-convert {\n",
              "      background-color: #E8F0FE;\n",
              "      border: none;\n",
              "      border-radius: 50%;\n",
              "      cursor: pointer;\n",
              "      display: none;\n",
              "      fill: #1967D2;\n",
              "      height: 32px;\n",
              "      padding: 0 0 0 0;\n",
              "      width: 32px;\n",
              "    }\n",
              "\n",
              "    .colab-df-convert:hover {\n",
              "      background-color: #E2EBFA;\n",
              "      box-shadow: 0px 1px 2px rgba(60, 64, 67, 0.3), 0px 1px 3px 1px rgba(60, 64, 67, 0.15);\n",
              "      fill: #174EA6;\n",
              "    }\n",
              "\n",
              "    [theme=dark] .colab-df-convert {\n",
              "      background-color: #3B4455;\n",
              "      fill: #D2E3FC;\n",
              "    }\n",
              "\n",
              "    [theme=dark] .colab-df-convert:hover {\n",
              "      background-color: #434B5C;\n",
              "      box-shadow: 0px 1px 3px 1px rgba(0, 0, 0, 0.15);\n",
              "      filter: drop-shadow(0px 1px 2px rgba(0, 0, 0, 0.3));\n",
              "      fill: #FFFFFF;\n",
              "    }\n",
              "  </style>\n",
              "\n",
              "      <script>\n",
              "        const buttonEl =\n",
              "          document.querySelector('#df-fc8bbf8c-f2ca-49f6-b2ce-8c7f2baf1204 button.colab-df-convert');\n",
              "        buttonEl.style.display =\n",
              "          google.colab.kernel.accessAllowed ? 'block' : 'none';\n",
              "\n",
              "        async function convertToInteractive(key) {\n",
              "          const element = document.querySelector('#df-fc8bbf8c-f2ca-49f6-b2ce-8c7f2baf1204');\n",
              "          const dataTable =\n",
              "            await google.colab.kernel.invokeFunction('convertToInteractive',\n",
              "                                                     [key], {});\n",
              "          if (!dataTable) return;\n",
              "\n",
              "          const docLinkHtml = 'Like what you see? Visit the ' +\n",
              "            '<a target=\"_blank\" href=https://colab.research.google.com/notebooks/data_table.ipynb>data table notebook</a>'\n",
              "            + ' to learn more about interactive tables.';\n",
              "          element.innerHTML = '';\n",
              "          dataTable['output_type'] = 'display_data';\n",
              "          await google.colab.output.renderOutput(dataTable, element);\n",
              "          const docLink = document.createElement('div');\n",
              "          docLink.innerHTML = docLinkHtml;\n",
              "          element.appendChild(docLink);\n",
              "        }\n",
              "      </script>\n",
              "    </div>\n",
              "  </div>\n",
              "  "
            ]
          },
          "metadata": {},
          "execution_count": 9
        }
      ]
    },
    {
      "cell_type": "markdown",
      "source": [
        "Data Pre Processing"
      ],
      "metadata": {
        "id": "DQHhMdTgUrto"
      }
    },
    {
      "cell_type": "code",
      "source": [
        "import pandas as pd\n",
        "import re\n",
        "import nltk\n",
        "from nltk.corpus import stopwords\n",
        "from nltk.stem import WordNetLemmatizer\n",
        "import string\n",
        "\n",
        "\n",
        "#Run these two lines only once\n",
        "nltk.download('stopwords')\n",
        "nltk.download('wordnet')\n",
        "\n",
        "valid_characters = string.ascii_letters+\".,';\"\n",
        "\n",
        "def preprocess_tweets(df):\n",
        "\n",
        "    \n",
        "    #Removing urls and stripping whitespaces\n",
        "    for i in range(len(df['tweet'])):\n",
        "        df['tweet'][i] = re.sub(r'http\\S+', '', df['tweet'][i])\n",
        "        df['tweet'][i] = df['tweet'][i].strip()\n",
        "\n",
        "    \n",
        "    #Removing hashtags and mentions\n",
        "    for i in range(len(df['tweet'])):\n",
        "        df['tweet'][i] = ' '.join([word for word in df['tweet'][i].split() if word[0]!='@' and word[0]!='#'])\n",
        "\n",
        "    #Only keeping words containing ascii letters\n",
        "    for i in range(len(df['tweet'])):\n",
        "        new_tweet_list = []\n",
        "        for word in df['tweet'][i].split():\n",
        "            is_valid_word = True\n",
        "            for letter in word:\n",
        "                if letter not in valid_characters:\n",
        "                    is_valid_word = False\n",
        "                    break\n",
        "            if is_valid_word:\n",
        "                new_tweet_list.append(word)\n",
        "\n",
        "        df['tweet'][i] = ' '.join(new_tweet_list)\n",
        "\n",
        "\n",
        "\n",
        "\n",
        "    #Lowercasing all texts, removing stopwords, and lemmatizing the texts\n",
        "    stopwordsList = stopwords.words('english') \n",
        "    lemmatizer = WordNetLemmatizer()\n",
        "    for i in range(len(df['tweet'])):\n",
        "        df['tweet'][i] = df['tweet'][i].lower()\n",
        "        df['tweet'][i] = ' '.join([word for word in df['tweet'][i].split() if word not in stopwordsList])\n",
        "        df['tweet'][i] = ' '.join([lemmatizer.lemmatize(word) for word in df['tweet'][i].split()])\n",
        "\n",
        "    return df\n",
        "\n",
        "\n",
        "\n",
        "df = preprocess_tweets(df)\n",
        "    \n",
        "\n",
        "\n",
        "    \n",
        "\n",
        "\n",
        "\n",
        "    \n",
        "\n"
      ],
      "metadata": {
        "colab": {
          "base_uri": "https://localhost:8080/"
        },
        "id": "o6ZSfYjbM31S",
        "outputId": "1c4137a9-dfe2-483c-a635-661d4d6aefb9"
      },
      "execution_count": null,
      "outputs": [
        {
          "output_type": "stream",
          "name": "stdout",
          "text": [
            "[nltk_data] Downloading package stopwords to /root/nltk_data...\n",
            "[nltk_data]   Unzipping corpora/stopwords.zip.\n",
            "[nltk_data] Downloading package wordnet to /root/nltk_data...\n",
            "[nltk_data]   Unzipping corpora/wordnet.zip.\n"
          ]
        },
        {
          "output_type": "stream",
          "name": "stderr",
          "text": [
            "/usr/local/lib/python3.7/dist-packages/ipykernel_launcher.py:20: SettingWithCopyWarning: \n",
            "A value is trying to be set on a copy of a slice from a DataFrame\n",
            "\n",
            "See the caveats in the documentation: https://pandas.pydata.org/pandas-docs/stable/user_guide/indexing.html#returning-a-view-versus-a-copy\n",
            "/usr/local/lib/python3.7/dist-packages/ipykernel_launcher.py:21: SettingWithCopyWarning: \n",
            "A value is trying to be set on a copy of a slice from a DataFrame\n",
            "\n",
            "See the caveats in the documentation: https://pandas.pydata.org/pandas-docs/stable/user_guide/indexing.html#returning-a-view-versus-a-copy\n",
            "/usr/local/lib/python3.7/dist-packages/ipykernel_launcher.py:26: SettingWithCopyWarning: \n",
            "A value is trying to be set on a copy of a slice from a DataFrame\n",
            "\n",
            "See the caveats in the documentation: https://pandas.pydata.org/pandas-docs/stable/user_guide/indexing.html#returning-a-view-versus-a-copy\n",
            "/usr/local/lib/python3.7/dist-packages/ipykernel_launcher.py:40: SettingWithCopyWarning: \n",
            "A value is trying to be set on a copy of a slice from a DataFrame\n",
            "\n",
            "See the caveats in the documentation: https://pandas.pydata.org/pandas-docs/stable/user_guide/indexing.html#returning-a-view-versus-a-copy\n",
            "/usr/local/lib/python3.7/dist-packages/ipykernel_launcher.py:49: SettingWithCopyWarning: \n",
            "A value is trying to be set on a copy of a slice from a DataFrame\n",
            "\n",
            "See the caveats in the documentation: https://pandas.pydata.org/pandas-docs/stable/user_guide/indexing.html#returning-a-view-versus-a-copy\n",
            "/usr/local/lib/python3.7/dist-packages/ipykernel_launcher.py:50: SettingWithCopyWarning: \n",
            "A value is trying to be set on a copy of a slice from a DataFrame\n",
            "\n",
            "See the caveats in the documentation: https://pandas.pydata.org/pandas-docs/stable/user_guide/indexing.html#returning-a-view-versus-a-copy\n",
            "/usr/local/lib/python3.7/dist-packages/ipykernel_launcher.py:51: SettingWithCopyWarning: \n",
            "A value is trying to be set on a copy of a slice from a DataFrame\n",
            "\n",
            "See the caveats in the documentation: https://pandas.pydata.org/pandas-docs/stable/user_guide/indexing.html#returning-a-view-versus-a-copy\n"
          ]
        }
      ]
    },
    {
      "cell_type": "markdown",
      "source": [
        "Data Train Test Split"
      ],
      "metadata": {
        "id": "E_XXXnQrUu14"
      }
    },
    {
      "cell_type": "code",
      "source": [
        "\n",
        "import numpy as np\n",
        " \n",
        "train_size = 0.8\n",
        "\n",
        "X_pos = np.array(df[df['Sentiment']==1]['tweet'])\n",
        "X_neu = np.array(df[df['Sentiment']==0]['tweet'])\n",
        "X_neg = np.array(df[df['Sentiment']==-1]['tweet'])\n",
        "\n",
        "np.random.shuffle(X_pos)\n",
        "np.random.shuffle(X_neu)\n",
        "np.random.shuffle(X_neg)\n",
        "\n",
        "X_train_pos = X_pos[:int(np.floor(train_size*len(X_pos)))]\n",
        "X_train_neu = X_neu[:int(np.floor(train_size*len(X_neu)))]\n",
        "X_train_neg = X_neg[:int(np.floor(train_size*len(X_neg)))]\n",
        "\n",
        "y_train_pos = np.array([1]*len(X_train_pos))\n",
        "y_train_neu = np.array([0]*len(X_train_neu))\n",
        "y_train_neg = np.array([-1]*len(X_train_neg))\n",
        "\n",
        "X_test_pos = X_pos[int(np.floor(train_size*len(X_pos))):]\n",
        "X_test_neu = X_neu[int(np.floor(train_size*len(X_neu))):]\n",
        "X_test_neg = X_neg[int(np.floor(train_size*len(X_neg))):]\n",
        "\n",
        "y_test_pos = np.array([1]*len(X_test_pos))\n",
        "y_test_neu = np.array([0]*len(X_test_neu))\n",
        "y_test_neg = np.array([-1]*len(X_test_neg))\n",
        "\n",
        "\n",
        "X_train = np.concatenate((X_train_pos, X_train_neu, X_train_neg),axis=None)\n",
        "y_train = np.concatenate((y_train_pos, y_train_neu, y_train_neg),axis=None)\n",
        "X_test = np.concatenate((X_test_pos, X_test_neu, X_test_neg),axis=None)\n",
        "y_test = np.concatenate((y_test_pos, y_test_neu, y_test_neg),axis=None)\n",
        "\n",
        "\n",
        "\n",
        "\n",
        "\n"
      ],
      "metadata": {
        "id": "QSSwE-XcvA0S"
      },
      "execution_count": null,
      "outputs": []
    },
    {
      "cell_type": "code",
      "source": [
        "len(X_test)"
      ],
      "metadata": {
        "colab": {
          "base_uri": "https://localhost:8080/"
        },
        "id": "lWn7VkwnL8RX",
        "outputId": "2e051431-2b2f-4caf-d8aa-106e0c0d1640"
      },
      "execution_count": null,
      "outputs": [
        {
          "output_type": "execute_result",
          "data": {
            "text/plain": [
              "205"
            ]
          },
          "metadata": {},
          "execution_count": 15
        }
      ]
    },
    {
      "cell_type": "markdown",
      "source": [
        "Word Tokenization"
      ],
      "metadata": {
        "id": "KFpYqRdJUzye"
      }
    },
    {
      "cell_type": "code",
      "source": [
        "from keras.preprocessing.text import Tokenizer\n",
        "vocab_size = 5000\n",
        "oov_token = \"<OOV>\"\n",
        "tokenizer = Tokenizer(num_words = vocab_size, oov_token=oov_token)\n",
        "tokenizer.fit_on_texts(X_train)"
      ],
      "metadata": {
        "id": "DFe6VP7fajCe"
      },
      "execution_count": null,
      "outputs": []
    },
    {
      "cell_type": "code",
      "source": [
        "word_index = tokenizer.word_index"
      ],
      "metadata": {
        "id": "4JofRTKIai_A"
      },
      "execution_count": null,
      "outputs": []
    },
    {
      "cell_type": "code",
      "source": [
        "print(word_index)"
      ],
      "metadata": {
        "colab": {
          "base_uri": "https://localhost:8080/"
        },
        "id": "uiA_owOuai7s",
        "outputId": "5ca94b94-64ca-4a5a-cc22-1f76001ea1e7"
      },
      "execution_count": null,
      "outputs": [
        {
          "output_type": "stream",
          "name": "stdout",
          "text": [
            "{'<OOV>': 1, 'tesla': 2, 'bmw': 3, 'car': 4, 'new': 5, 'stock': 6, 'elon': 7, 'musk': 8, 'vehicle': 9, 'u': 10, 'first': 11, 'split': 12, 'year': 13, 'driver': 14, 'electric': 15, 'said': 16, 'model': 17, 'one': 18, 'like': 19, 'say': 20, 'driving': 21, 'via': 22, 'could': 23, 'know': 24, 'medium': 25, 'company': 26, 'time': 27, 'get': 28, 'black': 29, 'would': 30, 'drive': 31, 'price': 32, 'day': 33, 'people': 34, 'factory': 35, 'platform': 36, 'share': 37, 'plant': 38, 'go': 39, 'battery': 40, 'social': 41, 'ev': 42, 'two': 43, 'executive': 44, 'twitter': 45, 'worker': 46, 'want': 47, 'police': 48, 'production': 49, 'last': 50, 'billion': 51, 'call': 52, 'market': 53, 'series': 54, 'big': 55, 'road': 56, 'take': 57, 'look': 58, 'set': 59, 'employee': 60, 'good': 61, 'engine': 62, 'read': 63, 'crash': 64, 'team': 65, 'ix': 66, 'ceo': 67, 'buy': 68, 'chief': 69, 'performance': 70, 'million': 71, 'plan': 72, 'make': 73, 'another': 74, 's': 75, 'news': 76, 'next': 77, 'officer': 78, 'german': 79, 'report': 80, 'man': 81, 'april': 82, 'seek': 83, 'high': 84, 'tweet': 85, 'giving': 86, 'former': 87, 'see': 88, 'range': 89, 'found': 90, 'covid': 91, 'building': 92, 'top': 93, 'second': 94, 'best': 95, \"tesla's\": 96, 'describe': 97, 'recall': 98, 'future': 99, 'design': 100, 'soon': 101, 'right': 102, 'apple': 103, 'week': 104, 'got': 105, 'announced': 106, 'texas': 107, 'sport': 108, 'video': 109, 'going': 110, 'india': 111, 'california': 112, 'opening': 113, 'suv': 114, 'way': 115, 'technology': 116, 'thanks': 117, 'maker': 118, 'may': 119, 'free': 120, 'speech': 121, 'need': 122, 'today': 123, 'le': 124, 'v': 125, 'launch': 126, 'business': 127, 'number': 128, 'watch': 129, 'stop': 130, 'fire': 131, 'approval': 132, 'come': 133, 'world': 134, 'amazon': 135, 'inc': 136, 'billionaire': 137, 'thing': 138, 'worth': 139, \"bmw's\": 140, 'cars': 141, 'never': 142, 'lot': 143, 'love': 144, 'trillion': 145, 'many': 146, 'home': 147, 'owner': 148, 'manufacturing': 149, 'gigafactory': 150, 'hit': 151, 'shanghai': 152, 'breaking': 153, 'hi': 154, 'called': 155, 'making': 156, 'using': 157, 'old': 158, 'sale': 159, 'years': 160, 'early': 161, 'shareholder': 162, 'energy': 163, 'meet': 164, 'ever': 165, 'due': 166, 'support': 167, 'thank': 168, 'full': 169, 'following': 170, 'lawsuit': 171, 'arrested': 172, 'stolen': 173, 'also': 174, 'ford': 175, 'great': 176, 'gruenheide': 177, 'risk': 178, 'form': 179, 'issue': 180, 'net': 181, 'group': 182, 'it': 183, 'three': 184, 'part': 185, 'saturday': 186, 'fun': 187, 'coupe': 188, 'display': 189, 'start': 190, 'since': 191, 'use': 192, 'motor': 193, 'account': 194, 'across': 195, 'join': 196, 'competition': 197, 'china': 198, 'luxury': 199, 'even': 200, 'listen': 201, 'automotive': 202, 'south': 203, 'investment': 204, 'back': 205, 'job': 206, 'made': 207, 'inside': 208, 'think': 209, 'tech': 210, 'hold': 211, 'street': 212, 'austin': 213, 'end': 214, \"musk's\": 215, 'work': 216, 'image': 217, 'department': 218, 'race': 219, 'possible': 220, 'speeding': 221, 'crashed': 222, 'scene': 223, 'still': 224, 'according': 225, 'supercharger': 226, 'post': 227, 'win': 228, 'racism': 229, 'tsla': 230, 'name': 231, 'among': 232, 'change': 233, 'jump': 234, 'lakh': 235, 'feature': 236, 'learn': 237, 'line': 238, 'higher': 239, 'increase': 240, 'major': 241, 'out': 242, 'supply': 243, 'expand': 244, 'germany': 245, 'white': 246, 'check': 247, 'well': 248, 'local': 249, 'put': 250, 'let': 251, 'berlin': 252, 'order': 253, 'ask': 254, 'near': 255, 'beat': 256, 'supplier': 257, 'already': 258, 'enough': 259, 'minor': 260, 'dm': 261, 'reportedly': 262, 'woman': 263, 'night': 264, 'party': 265, 'customer': 266, 'running': 267, 'without': 268, 'around': 269, 'oversaw': 270, 'handover': 271, 'perfect': 272, 'point': 273, 'serious': 274, 'better': 275, 'morning': 276, 'action': 277, 'every': 278, 'you': 279, 'person': 280, 'sec': 281, 'move': 282, 'latest': 283, 'brand': 284, 'automaker': 285, 'detail': 286, 'convertible': 287, 'bad': 288, 'update': 289, 'charging': 290, \"what's\": 291, 'give': 292, 'expanding': 293, 'space': 294, 'money': 295, \"here's\": 296, 'facing': 297, 'boost': 298, 'green': 299, 'environmental': 300, 'looking': 301, 'find': 302, 'gas': 303, \"i've\": 304, 'getting': 305, 'drove': 306, 'speed': 307, 'turn': 308, 'rival': 309, 'event': 310, 'spark': 311, 'rally': 312, 'yes': 313, 'five': 314, 'happy': 315, 'traffic': 316, 'recommend': 317, 'side': 318, 'state': 319, 'review': 320, 'please': 321, 'current': 322, 'touch': 323, 'hear': 324, 'sure': 325, 'rearview': 326, 'life': 327, 'influence': 328, 'killing': 329, 'teen': 330, 'injuries': 331, 'culture': 332, 'property': 333, 'available': 334, 'system': 335, 'service': 336, 'sustainable': 337, \"automaker's\": 338, 'sharing': 339, 'project': 340, 'investor': 341, 'might': 342, 'idea': 343, 'open': 344, 'smart': 345, 'now': 346, 'auto': 347, \"he's\": 348, 'adhere': 349, 'result': 350, 'workplace': 351, 'nvidia': 352, 'google': 353, 'almost': 354, 'option': 355, 'per': 356, 'single': 357, 'test': 358, \"pelosi's\": 359, 'husband': 360, 'monday': 361, 'family': 362, 'mobility': 363, 'r': 364, 'sold': 365, 'unit': 366, 'strong': 367, 'least': 368, 'light': 369, 'used': 370, 'long': 371, \"we're\": 372, 'ready': 373, 'says': 374, 'network': 375, 'america': 376, 'able': 377, 'charge': 378, 'become': 379, 'ride': 380, 'jobs': 381, 'blocked': 382, 'press': 383, 'shop': 384, 'opened': 385, 'x': 386, 'far': 387, 'power': 388, 'deal': 389, 'given': 390, 'community': 391, 'in': 392, 'much': 393, 'more': 394, \"that's\": 395, 'russia': 396, 'partner': 397, 'this': 398, 'recent': 399, 'wall': 400, 'drag': 401, 'run': 402, 'stopped': 403, 'task': 404, 'ahead': 405, 'drop': 406, 'super': 407, 'giga': 408, 'entry': 409, 'sound': 410, 'feel': 411, 'retail': 412, 'really': 413, 'story': 414, 'something': 415, 'ukraine': 416, 'official': 417, 'nhtsa': 418, 'talking': 419, 'someone': 420, 'march': 421, 'celebrate': 422, 'contact': 423, 'speak': 424, 'collision': 425, 'often': 426, 'delay': 427, 'deputy': 428, 'six': 429, 'suffered': 430, 'seen': 431, 'along': 432, 'third': 433, 'hike': 434, 'position': 435, 'gold': 436, 'taking': 437, 'potential': 438, 'dividend': 439, 'meeting': 440, 'record': 441, 'history': 442, 'place': 443, 'thought': 444, 'creating': 445, 'recently': 446, 'ac': 447, 'upgrade': 448, 'package': 449, 'bitcoin': 450, 'microsoft': 451, 'offer': 452, 'mile': 453, 'active': 454, 'hand': 455, 'towards': 456, 'powerful': 457, 'waiting': 458, 'book': 459, 'nancy': 460, 'term': 461, 'saying': 462, 'trading': 463, 'help': 464, 'chip': 465, 'picture': 466, 'fast': 467, 'weekend': 468, 'caught': 469, 'real': 470, 'gain': 471, 'km': 472, 'youtube': 473, 'interesting': 474, 'control': 475, 'kind': 476, 'mini': 477, 'y': 478, 'city': 479, 'defense': 480, 'pound': 481, 'podcast': 482, 'beautiful': 483, 'employees': 484, 'course': 485, 'receive': 486, 'hub': 487, 'including': 488, 'porsche': 489, 'investigation': 490, 'patrol': 491, 'digital': 492, 'cheered': 493, 'water': 494, 'operation': 495, 'month': 496, 'sabbatical': 497, 'scooter': 498, 'g': 499, 'fastest': 500, 'absolutely': 501, 'tax': 502, 'analyst': 503, 'roadster': 504, 'manufacture': 505, 'comfort': 506, 'carolina': 507, 'produce': 508, 'corporate': 509, 'dan': 510, 'sedan': 511, 'send': 512, 'oil': 513, 'user': 514, 'large': 515, 'demand': 516, 'spartanburg': 517, 'european': 518, 'key': 519, 'dancing': 520, 'air': 521, 'push': 522, 'cost': 523, \"'i\": 524, 'science': 525, 'land': 526, 'standard': 527, 'others': 528, 'tell': 529, 'trader': 530, 'selling': 531, 'special': 532, 'shot': 533, 'exclusive': 534, 'pay': 535, 'confirmed': 536, 'there': 537, 'dynamic': 538, 'alphabet': 539, 'xdrive': 540, 'cyber': 541, 'public': 542, 'roof': 543, 'onto': 544, 'assist': 545, 'sign': 546, 'driven': 547, 'catl': 548, 'global': 549, 'amazing': 550, 'show': 551, 'm': 552, 'wrong': 553, 'park': 554, 'always': 555, 'dealership': 556, 'government': 557, 'lane': 558, 'killed': 559, 'gabi': 560, 'lyn': 561, 'certain': 562, 'email': 563, 'info': 564, 'submit': 565, 'complaint': 566, 'clicking': 567, 'corner': 568, 'vote': 569, 'invest': 570, 'fight': 571, 'racist': 572, 'routinely': 573, 'cause': 574, 'aptiv': 575, 'girl': 576, 'fighting': 577, 'fleeing': 578, 'reported': 579, 'fleet': 580, 'sorry': 581, 'concern': 582, 'hospital': 583, 'problem': 584, 'behalf': 585, 'fired': 586, 'shooting': 587, 'on': 588, 'spacex': 589, 'raised': 590, 'possibility': 591, 'modern': 592, 'direction': 593, 'annual': 594, 'uk': 595, 'industry': 596, 'important': 597, 'jealous': 598, 'congratulation': 599, 'impossible': 600, 'received': 601, 'behavior': 602, 'output': 603, 'travel': 604, 'richest': 605, 'saw': 606, 'jumped': 607, 'yet': 608, 'again': 609, 'launched': 610, 'data': 611, 'station': 612, 'locally': 613, 'practicality': 614, 'gran': 615, 'wait': 616, 'larger': 617, 'pull': 618, 'later': 619, 'till': 620, 'schnitzer': 621, 'showroom': 622, 'premium': 623, 'level': 624, 'aim': 625, 'half': 626, 'total': 627, 'comment': 628, 'small': 629, 'target': 630, 'climate': 631, 'agreement': 632, 'customers': 633, 'either': 634, 'town': 635, 'carbon': 636, 'working': 637, 'amid': 638, 'master': 639, 'im': 640, 'bear': 641, 'shares': 642, 'seeking': 643, 'hope': 644, 'likely': 645, 'europe': 646, 'safety': 647, 'away': 648, 'alpina': 649, 'fsd': 650, 'mercedes': 651, 'longer': 652, 'sell': 653, 'site': 654, 'judge': 655, 'force': 656, 'beauty': 657, 'mean': 658, 'lightning': 659, 'list': 660, 'wild': 661, 'game': 662, 'produced': 663, 'create': 664, 'mark': 665, 'edition': 666, 'fuel': 667, 'models': 668, 'activist': 669, \"factory's\": 670, 'entrance': 671, 'upstate': 672, 'present': 673, 'vehicles': 674, 'addition': 675, 'chat': 676, 'shuts': 677, 'dominating': 678, 'cycle': 679, 'bold': 680, 'insurance': 681, 'parked': 682, 'condition': 683, 'here': 684, 'keep': 685, 'engines': 686, 'quality': 687, 'past': 688, 'innovative': 689, 'lost': 690, 'biggest': 691, 'alive': 692, 'maybe': 693, 'begin': 694, 'critical': 695, 'experience': 696, 'bunch': 697, 'export': 698, 'notice': 699, 'nasdaq': 700, 'close': 701, 'represents': 702, 'approach': 703, 'allows': 704, 'built': 705, 'body': 706, 'assembly': 707, 'predecessor': 708, 'uber': 709, 'weeks': 710, 'seeing': 711, 'index': 712, 'actually': 713, 'must': 714, 'late': 715, 'cybertruck': 716, 'huge': 717, 'growing': 718, 'yesterday': 719, 'plaid': 720, 'area': 721, 'etc': 722, 'marking': 723, 'inaugural': 724, \"'the\": 725, 'rolled': 726, 'wednesday': 727, 'cash': 728, 'status': 729, 'schwarzenegger': 730, 'bowl': 731, 'beginning': 732, 'legendary': 733, 'dance': 734, 'motorrad': 735, 'blend': 736, 'fair': 737, 'viral': 738, 'probably': 739, 'product': 740, 'faster': 741, 'answer': 742, 'rising': 743, 'firm': 744, 'kid': 745, 'successful': 746, 'general': 747, 'proposal': 748, 'pile': 749, 'hot': 750, 'match': 751, 'outside': 752, 'play': 753, 'promotions': 754, 'giant': 755, 'version': 756, 'meta': 757, 'build': 758, 'imagine': 759, 'manual': 760, 'no': 761, 'tv': 762, 'appear': 763, 'rover': 764, 'solar': 765, 'chinese': 766, 'overnight': 767, 'manufacturer': 768, 'expect': 769, 'head': 770, 'afternoon': 771, 'sometimes': 772, 'announces': 773, 'motorsport': 774, 'bike': 775, 'de': 776, 'short': 777, 'anything': 778, 'automobile': 779, 'pricing': 780, 'behind': 781, 'attention': 782, 'aggressive': 783, 'cc': 784, 'landed': 785, \"let's\": 786, 'goal': 787, 'trying': 788, 'separate': 789, 'trouble': 790, 'nice': 791, 'especially': 792, 'testing': 793, 'flying': 794, 'cut': 795, 'information': 796, 'season': 797, 'la': 798, 'employment': 799, 'fort': 800, 'nikola': 801, 'bridge': 802, 'removed': 803, 'letting': 804, 'folk': 805, 'anniversary': 806, 'controversial': 807, 'relevant': 808, 'vin': 809, 'registration': 810, 'front': 811, 'audi': 812, 'destroyed': 813, 'cannot': 814, 'odd': 815, 'plunge': 816, 'material': 817, \"i'm\": 818, \"can't\": 819, 'replacement': 820, 'slur': 821, 'aimed': 822, 'segregated': 823, 'hardest': 824, 'allegedly': 825, 'led': 826, 'chase': 827, 'intersection': 828, 'los': 829, 'angeles': 830, 'anyone': 831, 'stay': 832, 'ditch': 833, 'opposition': 834, 'four': 835, 'failing': 836, 'wife': 837, 'failed': 838, 'centre': 839, 'assigned': 840, 'situation': 841, 'jury': 842, 'private': 843, 'suspicion': 844, 'owned': 845, 'federal': 846, 'fremont': 847, 'hurt': 848, 'file': 849, 'bus': 850, 'allegation': 851, 'feb': 852, 'recalling': 853, 'refuse': 854, 'country': 855, 'suzuki': 856, 'yen': 857, 'abandoned': 858, 'injured': 859, 'suspect': 860, 'filed': 861, 'closed': 862, 'blue': 863, 'rates': 864, 'joy': 865, 'poor': 866, 'custody': 867, \"point'\": 868, 'friday': 869, 'geopolitical': 870, 'exchange': 871, 'collided': 872, 'died': 873, 'box': 874, 'involved': 875, 'accident': 876, 'earlier': 877, 'met': 878, 'step': 879, 'colour': 880, 'flow': 881, 'example': 882, 'forward': 883, 'known': 884, 'for': 885, 'quote': 886, 'innovation': 887, 'august': 888, 'hinted': 889, 'plagued': 890, 'profit': 891, 'figure': 892, 'lounge': 893, 'wheel': 894, 'overall': 895, 'ages': 896, 'standing': 897, 'accounts': 898, 'stating': 899, 'complain': 900, 'discipline': 901, 'tweets': 902, 'asked': 903, 'inflation': 904, 'aggression': 905, 'netflix': 906, 'o': 907, 'equity': 908, 'shake': 909, 'designed': 910, 'aircar': 911, 'reach': 912, 'nearly': 913, 'washington': 914, 'ppl': 915, 'regularly': 916, 'dc': 917, 'sporty': 918, 'based': 919, 'dropped': 920, 'extra': 921, 'providing': 922, 'connectivity': 923, 'services': 924, 'danced': 925, 'joked': 926, 'fan': 927, 'client': 928, 'glimpse': 929, 'hint': 930, 'pleasure': 931, 'snow': 932, 'brings': 933, 'fully': 934, 'headed': 935, 'facelifted': 936, 'redesigned': 937, 'screen': 938, 'period': 939, 'unveils': 940, 'unique': 941, 'element': 942, 'pretending': 943, 'poly': 944, 'exist': 945, 'ethereum': 946, 'except': 947, 'low': 948, 'wear': 949, 'break': 950, 'spectacular': 951, 'paris': 952, 'fresh': 953, 'lead': 954, 'verification': 955, 'acquiring': 956, 'square': 957, 'stunning': 958, 'edge': 959, 'bring': 960, 'estimated': 961, 'roll': 962, 'tear': 963, 'jonas': 964, 'red': 965, 'massive': 966, 'priced': 967, 'spike': 968, 'whale': 969, 'watching': 970, 'accurate': 971, 'society': 972, 'fly': 973, 'request': 974, 'enable': 975, 'unveiled': 976, 'se': 977, 'booking': 978, 'hog': 979, 'homies': 980, 'holder': 981, 'mr': 982, 'beast': 983, 'meant': 984, 'piece': 985, 'immediately': 986, 'approves': 987, 'payout': 988, 'settlement': 989, 'accumulate': 990, 'double': 991, 'mid': 992, 'defend': 993, 'middle': 994, 'sleek': 995, 'episode': 996, 'include': 997, 'literally': 998, 'ship': 999, 'hours': 1000, 'mentioned': 1001, 'ticker': 1002, 'meme': 1003, 'generate': 1004, 'largest': 1005, 'sit': 1006, 'winter': 1007, 'track': 1008, 'virtual': 1009, 'own': 1010, 'stage': 1011, 'software': 1012, 'nissan': 1013, 'reached': 1014, 'milestone': 1015, 'cent': 1016, 'bentley': 1017, 'recovered': 1018, 'highway': 1019, 'lean': 1020, 'ifactory': 1021, 'member': 1022, 'intelligence': 1023, 'discover': 1024, 'although': 1025, 'chancellor': 1026, 'olaf': 1027, 'scholz': 1028, 'lauded': 1029, 'pretty': 1030, 'gmbh': 1031, 'searched': 1032, 'several': 1033, 'beautifully': 1034, 'ce': 1035, 'borrowed': 1036, 'statement': 1037, 'heart': 1038, 'realized': 1039, 'so': 1040, 'electrifying': 1041, 'round': 1042, 'wltp': 1043, 'machine': 1044, 'lol': 1045, 'plus': 1046, 'excited': 1047, 'all': 1048, 'activity': 1049, 'p': 1050, \"tuesday's\": 1051, \"mcdonald's\": 1052, 'walmart': 1053, 'petco': 1054, 'tuning': 1055, 'loved': 1056, 'endangered': 1057, 'specie': 1058, 'keeping': 1059, 'necessarily': 1060, 'whole': 1061, 'winner': 1062, 'challenge': 1063, 'passionate': 1064, 'flat': 1065, 'trip': 1066, 'cease': 1067, 'ultimate': 1068, 'note': 1069, 'shown': 1070, 'definitely': 1071, 'earnings': 1072, 'exciting': 1073, 'house': 1074, 'continued': 1075, 'phev': 1076, 'and': 1077, 'neil': 1078, 'dream': 1079, 'improvement': 1080, 'stack': 1081, 'trio': 1082, 'shift': 1083, 'plz': 1084, 'barrel': 1085, 'pilot': 1086, 'policy': 1087, 'fans': 1088, 'award': 1089, 'named': 1090, 'do': 1091, \"world's\": 1092, 'trillionaire': 1093, 'traded': 1094, 'contract': 1095, 'legal': 1096, 'specific': 1097, 'invite': 1098, 'ticket': 1099, 'backed': 1100, 'everyone': 1101, 'mine': 1102, 'oh': 1103, 'understand': 1104, 'gotta': 1105, 'president': 1106, 'actor': 1107, 'shutdown': 1108, 'limit': 1109, 'crazy': 1110, 'suspending': 1111, 'hybrid': 1112, 'gamestop': 1113, 'dumb': 1114, 'taken': 1115, 'arnold': 1116, 'zeus': 1117, 'ad': 1118, 'vanishing': 1119, 'opens': 1120, 'needs': 1121, 'believe': 1122, 'luxurious': 1123, 'comfortable': 1124, 'sa': 1125, 'division': 1126, 'gail': 1127, 'traveling': 1128, 'lose': 1129, 'tuesday': 1130, 'continue': 1131, 'throwing': 1132, 'rented': 1133, 'saloon': 1134, 'court': 1135, 'handle': 1136, 'incredibly': 1137, 'inviting': 1138, 'door': 1139, 'neighbor': 1140, 'lt': 1141, 'added': 1142, 'tourer': 1143, 'hollywood': 1144, 'eye': 1145, 'us': 1146, 'completely': 1147, 'background': 1148, 'recap': 1149, 'paul': 1150, 'russian': 1151, 'introduce': 1152, 'effort': 1153, 'teaser': 1154, 'hey': 1155, 'sc': 1156, 'asking': 1157, 'cap': 1158, 'berkshire': 1159, 'rodeo': 1160, 'longest': 1161, 'mileage': 1162, 'planning': 1163, 'materials': 1164, 'winning': 1165, 'wedbush': 1166, 'ives': 1167, 'delivery': 1168, 'foray': 1169, 'gigafactories': 1170, 'changing': 1171, 'halt': 1172, 'scanner': 1173, 'surge': 1174, 'newly': 1175, 'constructed': 1176, 'clean': 1177, 'coming': 1178, 'thursday': 1179, 'doubling': 1180, 'steel': 1181, 'individual': 1182, 'weighs': 1183, 'leader': 1184, 'utility': 1185, 'beta': 1186, 'county': 1187, 'proud': 1188, 'construction': 1189, 'assume': 1190, 'soar': 1191, 'vision': 1192, 'concept': 1193, 'bicycle': 1194, 'modest': 1195, 'dominance': 1196, 'entirely': 1197, 'starting': 1198, 'astronaut': 1199, 'happening': 1200, 'anytime': 1201, 'upcoming': 1202, 'grand': 1203, 'steering': 1204, 'ability': 1205, 'profile': 1206, 'sun': 1207, 'word': 1208, 'little': 1209, 'publishes': 1210, 'humanoid': 1211, 'robot': 1212, 'directly': 1213, 'rather': 1214, 'daily': 1215, 'fix': 1216, 'turned': 1217, 'glad': 1218, 'companies': 1219, 'labor': 1220, 'continuing': 1221, 'budget': 1222, 'spending': 1223, 'tree': 1224, 'appreciate': 1225, 'experiences': 1226, 'videos': 1227, 'futuristic': 1228, 'commercial': 1229, 'co': 1230, 'raw': 1231, 'sheet': 1232, 'c': 1233, 'lamborghini': 1234, 'pace': 1235, 'enjoy': 1236, 'star': 1237, 'difference': 1238, 'lacked': 1239, 'honda': 1240, 'celebrating': 1241, 'csl': 1242, 'took': 1243, 'finding': 1244, 'true': 1245, 'championship': 1246, 'erie': 1247, 'ramp': 1248, 'blvd': 1249, 'sw': 1250, 'reopened': 1251, 'west': 1252, 'toyota': 1253, 'epilepsy': 1254, 'diagnosis': 1255, 'spent': 1256, 'enduring': 1257, 'diagnostic': 1258, 'imaging': 1259, 'mri': 1260, 'lesion': 1261, 'brain': 1262, 'surgeon': 1263, 'robotic': 1264, 'laser': 1265, 'tested': 1266, 'tagged': 1267, \"we'll\": 1268, 'examines': 1269, 'about': 1270, 'bos': 1271, 'visible': 1272, 'windshield': 1273, 'kindly': 1274, 'code': 1275, 'location': 1276, 'whether': 1277, 'sent': 1278, 'hyundai': 1279, 'ioniq': 1280, 'are': 1281, 'base': 1282, 'rocket': 1283, 'decided': 1284, 'insight': 1285, 'lockdown': 1286, 'a': 1287, 'richard': 1288, 'regards': 1289, 'voting': 1290, 'kia': 1291, 'reward': 1292, 'elite': 1293, 'hydrogen': 1294, 'adapter': 1295, 'prove': 1296, 'bought': 1297, 'delivers': 1298, 'quarter': 1299, 'ways': 1300, 'different': 1301, \"'supposedly'\": 1302, 'changed': 1303, 'mind': 1304, 'areas': 1305, 'denied': 1306, 'boy': 1307, 'oakleigh': 1308, 'left': 1309, 'hitting': 1310, 'truck': 1311, 'dandenong': 1312, 'warrigal': 1313, 'rd': 1314, 'threatened': 1315, 'spoke': 1316, 'cheap': 1317, 'allowed': 1318, 'essential': 1319, 'restricted': 1320, 'dude': 1321, 'eb': 1322, 'fined': 1323, 'widely': 1324, 'affect': 1325, 'spotted': 1326, 'uninsured': 1327, 'drug': 1328, 'reason': 1329, 'equivalent': 1330, 'cng': 1331, 'them': 1332, 'dominate': 1333, 'knocked': 1334, 'chatman': 1335, 'mother': 1336, 'wanted': 1337, 'crashing': 1338, 'advertising': 1339, 'opp': 1340, 'process': 1341, 'pulling': 1342, 'longboards': 1343, 'silver': 1344, 'builder': 1345, \"family's\": 1346, 'disturbing': 1347, 'link': 1348, 'lawmakers': 1349, 'region': 1350, 'seized': 1351, 'imo': 1352, 'source': 1353, 'plunged': 1354, 'done': 1355, 'alleged': 1356, 'parking': 1357, 'phone': 1358, 'further': 1359, 'school': 1360, 'rampant': 1361, 'older': 1362, 'majority': 1363, 'forced': 1364, 'japanese': 1365, 'be': 1366, 'act': 1367, 'cell': 1368, 'capacity': 1369, \"california's\": 1370, 'complaining': 1371, 'ploughed': 1372, 'crowd': 1373, 'illegal': 1374, 'cathie': 1375, 'wood': 1376, 'trim': 1377, 'stake': 1378, 'initiate': 1379, 'damage': 1380, 'raise': 1381, 'arduous': 1382, 'robbery': 1383, 'principle': 1384, 'escape': 1385, 'cannabis': 1386, 'roadside': 1387, 'housing': 1388, 'happened': 1389, 'despite': 1390, 'supposed': 1391, 'up': 1392, 'men': 1393, 'van': 1394, 'warned': 1395, 'chart': 1396, 'pursuit': 1397, 'rested': 1398, 'rebuttal': 1399, 'brentwood': 1400, 'brent': 1401, 'reinking': 1402, 'stole': 1403, 'dangerous': 1404, 'startup': 1405, 'poll': 1406, 'survives': 1407, 'plunging': 1408, 'storey': 1409, 'smashing': 1410, 'horrified': 1411, 'onlooker': 1412, 'teenager': 1413, 'effect': 1414, 'adjust': 1415, 'costs': 1416, 'impact': 1417, 'footage': 1418, 'trademarked': 1419, 'yr': 1420, 'quit': 1421, 'snohomish': 1422, 'roundabout': 1423, 'pc': 1424, 'inconvenience': 1425, 'message': 1426, 'rate': 1427, 'garden': 1428, 'flame': 1429, \"'\": 1430, 'thief': 1431, 'homeowner': 1432, 'arrest': 1433, 'calling': 1434, 'taxi': 1435, 'offence': 1436, 'media': 1437, 'whose': 1438, 'false': 1439, 'kill': 1440, 'grey': 1441, 'neighborhood': 1442, 'henry': 1443, 'hudson': 1444, 'parkway': 1445, 'amtrak': 1446, 'tiny': 1447, 'indie': 1448, 'knowledge': 1449, 'florida': 1450, 'address': 1451, 'pursued': 1452, 'looooooong': 1453, \"pacquiao's\": 1454, 'camp': 1455, 'lawmaker': 1456, 'january': 1457, 'jeepneys': 1458, 'subway': 1459, 'boring': 1460, 'mobile': 1461, 'minivan': 1462, 'wayne': 1463, 'advanced': 1464, 'thinking': 1465, 'seem': 1466, 'liking': 1467, 'awesome': 1468, 'shook': 1469, 'afp': 1470, 'silent': 1471, 'violent': 1472, 'industrialist': 1473, 'secretly': 1474, 'truly': 1475, 'accomplishment': 1476, 'smile': 1477, 'disputed': 1478, 'replace': 1479, 'tweeted': 1480, 'generally': 1481, 'physical': 1482, 'downforce': 1483, 'increased': 1484, \"schnitzer's\": 1485, 'returns': 1486, 'amd': 1487, \"domino's\": 1488, 'dispute': 1489, 'mix': 1490, 'cloud': 1491, 'ar': 1492, 'airspeed': 1493, 'hour': 1494, 'distance': 1495, 'chicago': 1496, 'richmond': 1497, 'giddy': 1498, 'prospect': 1499, 'geared': 1500, 'memorable': 1501, 'steptronic': 1502, 'gearbox': 1503, 'estimates': 1504, 'notable': 1505, 'fortunes': 1506, 'bernard': 1507, 'arnault': 1508, 'loser': 1509, 'fortune': 1510, 'filing': 1511, 'wral': 1512, 'techwire': 1513, 'rose': 1514, 'sharply': 1515, 'dorset': 1516, 'unanimous': 1517, 'praise': 1518, 'resident': 1519, 'saga': 1520, 'began': 1521, 'forefront': 1522, 'spaciousness': 1523, 'agreeing': 1524, 'headlamp': 1525, 'taillights': 1526, 'grille': 1527, 'variant': 1528, 'plug': 1529, \"carmaker's\": 1530, 'nine': 1531, 'fewer': 1532, 'seating': 1533, 'lighting': 1534, 'solana': 1535, 'kick': 1536, \"year's\": 1537, 'rallied': 1538, 'highest': 1539, 'basically': 1540, 'speeds': 1541, 'regen': 1542, 'braking': 1543, 'slows': 1544, 'generates': 1545, 'electricity': 1546, 'consider': 1547, 'brake': 1548, 'pad': 1549, 'consumables': 1550, 'down': 1551, 'leg': 1552, 'inauguration': 1553, 'alert': 1554, 'mountain': 1555, 'switched': 1556, 'hq': 1557, 'gesture': 1558, 'combined': 1559, 'greener': 1560, 'overcomes': 1561, 'crisis': 1562, 'furious': 1563, 'junior': 1564, 'sense': 1565, 'extend': 1566, 'simply': 1567, 'modifies': 1568, 'fiber': 1569, 'aero': 1570, 'combination': 1571, 'cutting': 1572, 'technologies': 1573, 'unmatched': 1574, 'dynamics': 1575, 'gust': 1576, 'strength': 1577, 'covered': 1578, 'protocol': 1579, 'convenience': 1580, 'forgot': 1581, 'revenue': 1582, \"elon's\": 1583, 'adam': 1584, \"biden's\": 1585, 'proposed': 1586, 'requesting': 1587, 'cheaper': 1588, 'amount': 1589, 'everyday': 1590, 'attractive': 1591, 'skyrocketed': 1592, 'steadily': 1593, 'announcing': 1594, 'enabling': 1595, 'pick': 1596, 'boot': 1597, 'matching': 1598, 'equivalently': 1599, 'sized': 1600, 'crossovers': 1601, 'restore': 1602, 'momentum': 1603, 'previously': 1604, 'rely': 1605, 'import': 1606, 'discussion': 1607, 'fud': 1608, 'obsession': 1609, 'mental': 1610, 'illness': 1611, 'surpass': 1612, 'asian': 1613, 'makers': 1614, 'kite': 1615, 'mesquite': 1616, 'hill': 1617, 'explains': 1618, 'cooper': 1619, 'whats': 1620, 'ur': 1621, 'fav': 1622, 'pink': 1623, 'wrapped': 1624, 'nft': 1625, 'specifically': 1626, 'acquisition': 1627, 'longtime': 1628, 'collaborator': 1629, 'tuner': 1630, 'folded': 1631, 'clever': 1632, 'entice': 1633, 'buyer': 1634, 'waymo': 1635, 'mapped': 1636, 'amg': 1637, 'gle': 1638, 'exactly': 1639, 'decanter': 1640, 'paired': 1641, 'merch': 1642, 'branded': 1643, 'tequila': 1644, 'apparently': 1645, 'listed': 1646, 'achieve': 1647, 'feat': 1648, 'founder': 1649, 'finish': 1650, 'negative': 1651, 'payoff': 1652, 'sentence': 1653, 'ikea': 1654, 'exoskeleton': 1655, 'add': 1656, 'lift': 1657, 'busy': 1658, 'epa': 1659, 'theory': 1660, 'disagree': 1661, 'handed': 1662, 'facility': 1663, 'workers': 1664, 'ultimately': 1665, 'ubering': 1666, 'riding': 1667, 'east': 1668, 'hartford': 1669, 'bobsleigh': 1670, 'simulator': 1671, 'athlete': 1672, 'beijing': 1673, 'olympic': 1674, 'recreates': 1675, 'curve': 1676, 'natural': 1677, 'reckoned': 1678, 'utilise': 1679, 'dinan': 1680, 'africa': 1681, 'iveco': 1682, 'valued': 1683, 'clock': 1684, 'befittingly': 1685, 'flagship': 1686, 'customisation': 1687, \"'individual'\": 1688, 'programme': 1689, 'interested': 1690, 'fomo': 1691, 'chain': 1692, 'crunch': 1693, 'factor': 1694, 'fine': 1695, 'economy': 1696, 'rule': 1697, 'acquired': 1698, 'collaboration': 1699, 'aston': 1700, 'martin': 1701, 'art': 1702, 'defining': 1703, 'milan': 1704, 'board': 1705, 'engineered': 1706, 'greg': 1707, 'february': 1708, 'mg': 1709, 'cupra': 1710, 'host': 1711, 'numerous': 1712, 'international': 1713, 'events': 1714, 'delayed': 1715, 'presented': 1716, 'favourite': 1717, 'prototypes': 1718, 'elegant': 1719, 'lmr': 1720, 'composer': 1721, 'hitter': 1722, 'motorcycle': 1723, 'lowered': 1724, 'adventure': 1725, 'impassable': 1726, 'routes': 1727, 'adverse': 1728, 'remote': 1729, 'destinations': 1730, 'destination': 1731, 'terrain': 1732, 'environments': 1733, 'weighted': 1734, 'kwh': 1735, 'gpu': 1736, 'type': 1737, 'office': 1738, 'warm': 1739, 'surprisingly': 1740, 'spacious': 1741, 'save': 1742, 'annually': 1743, 'date': 1744, 'reasonable': 1745, 'economic': 1746, 'pixar': 1747, 'jimmy': 1748, 'argues': 1749, 'busiest': 1750, 'gareth': 1751, 'jones': 1752, 'cosmetic': 1753, 'overhaul': 1754, 'ecu': 1755, 'lifting': 1756, 'hugely': 1757, 'components': 1758, 'supplying': 1759, 'angle': 1760, 'endurance': 1761, 'rolex': 1762, 'et': 1763, 'miss': 1764, 'offset': 1765, 'loss': 1766, 'banks': 1767, 'silence': 1768, 'colours': 1769, 'excluding': 1770, 'enjoys': 1771, 'seat': 1772, 'zero': 1773, 'emission': 1774, 'miles': 1775, 'colors': 1776, 'reaction': 1777, 'thas': 1778, 'failure': 1779, 'viable': 1780, 'decade': 1781, 'sacrifice': 1782, 'investments': 1783, 'perpetually': 1784, 'reactions': 1785, 'tied': 1786, 'surprising': 1787, 'triple': 1788, 'prices': 1789, 'incredible': 1790, 'vip': 1791, 'delivered': 1792, 'fantastic': 1793, 'goethe': 1794, 'click': 1795, 'meter': 1796, 'boast': 1797, 'substantial': 1798, 'steve': 1799, 'sutcliffe': 1800, 'admit': 1801, 'aapl': 1802, 'nvda': 1803, 'fb': 1804, 'popular': 1805, 'kweb': 1806, 'remember': 1807, 'hello': 1808, 'shape': 1809, 'gift': 1810, 'grid': 1811, 'rational': 1812, 'rationing': 1813, 'prolific': 1814, 'himself': 1815, 'snapping': 1816, 'cyberquad': 1817, 'toss': 1818, 'en': 1819, 'vorm': 1820, 'crossover': 1821, 'delighted': 1822, 'kudos': 1823, 'updating': 1824, 'regs': 1825, 'strip': 1826, 'safe': 1827, 'chosen': 1828, 'supposedly': 1829, 'priority': 1830, 'greater': 1831, 'illuminated': 1832, 'kidney': 1833, 'grilles': 1834, 'suspends': 1835, 'couple': 1836, 'ya': 1837, 'def': 1838, 'compensation': 1839, 'sleeper': 1840, 'donald': 1841, 'trump': 1842, 'dwayne': 1843, \"rock'\": 1844, 'johnson': 1845, 'treating': 1846, 'overpowers': 1847, 'pop': 1848, 'accused': 1849, 'exit': 1850, 'regulator': 1851, 'joking': 1852, 'underrated': 1853, 'io': 1854, 'widget': 1855, 'convenient': 1856, 'quick': 1857, 'access': 1858, 'unlock': 1859, 'spied': 1860, 'gta': 1861, 'canadian': 1862, 'consumer': 1863, 'confidence': 1864, 'fall': 1865, 'climbs': 1866, 'debt': 1867, 'king': 1868, 'mortgage': 1869, 'symbol': 1870, 'choice': 1871, 'playing': 1872, 'fyi': 1873, 'lustier': 1874, 'continues': 1875, 'legacy': 1876, 'definition': 1877, 'serve': 1878, 'transportation': 1879, 'communication': 1880, 'analog': 1881, 'worlds': 1882, 'victory': 1883, 'hundred': 1884, 'dollar': 1885, 'unloaded': 1886, 'gone': 1887, 'roughly': 1888, \"'dad\": 1889, 'quiet': 1890, 'gorgeous': 1891, 'rev': 1892, 'effortlessly': 1893, 'agenda': 1894, 'eq': 1895, 'onslaught': 1896, 'pipeline': 1897, 'artificial': 1898, 'transparent': 1899, 'merge': 1900, 'changer': 1901, 'metaverse': 1902, 'session': 1903, 'setting': 1904, 'cfd': 1905, 'usual': 1906, 'stuff': 1907, 'refresh': 1908, 'button': 1909, 'revealing': 1910, \"'most\": 1911, \"trusted'\": 1912, 'developing': 1913, 'study': 1914, 'lightweight': 1915, 'chassis': 1916, 'orange': 1917, 'paintwork': 1918, 'discount': 1919, 'bang': 1920, 'summer': 1921, 'rv': 1922, 'attend': 1923, 'k': 1924, 'fairing': 1925, 'weather': 1926, 'protection': 1927, 'revised': 1928, 'pair': 1929, 'hayek': 1930, 'electrify': 1931, 'benchmarking': 1932, 'hong': 1933, 'kong': 1934, 'cake': 1935, 'why': 1936, 'pullback': 1937, 'healthy': 1938, 'entries': 1939, 'breather': 1940, 'looks': 1941, 'practical': 1942, 'sensible': 1943, 'convince': 1944, 'demonstration': 1945, 'hosted': 1946, 'rim': 1947, 'stare': 1948, 'quite': 1949, 'comms': 1950, 'narrative': 1951, \"nobody's\": 1952, 'whirlwind': 1953, 'manic': 1954, 'sleeping': 1955, 'icymi': 1956, 'sector': 1957, \"germany's\": 1958, 'northeast': 1959, 'broadening': 1960, \"tech's\": 1961, 'scope': 1962, 'role': 1963, 'assignments': 1964, 'attorney': 1965, 'prohibits': 1966, 'discrimination': 1967, 'carmaking': 1968, 'territory': 1969, 'kaliningrad': 1970, 'exporting': 1971, 'estate': 1972, 'claim': 1973, 'considering': 1974, 'projected': 1975, \"he'll\": 1976, 'tinkering': 1977, 'hood': 1978, 'signups': 1979, 'intelligent': 1980, 'agreed': 1981, 'invested': 1982, 'remarkable': 1983, 'formidable': 1984, 'permission': 1985, 'saudi': 1986, 'aramco': 1987, 'precise': 1988, 'efficient': 1989, 'edrive': 1990, 'forerunner': 1991, 'shadow': 1992, 'limited': 1993, 'only': 1994, 'sending': 1995, 'lovely': 1996, 'thami': 1997, 'kwazi': 1998, 'enjoying': 1999, 'lively': 2000, 'expectation': 2001, 'rwd': 2002, 'horsepower': 2003, 'cabin': 2004, 'room': 2005, 'adults': 2006, 'understated': 2007, 'exterior': 2008, 'chevy': 2009, 'remembering': 2010, 'carmaker': 2011, 'discontinuing': 2012, 'exported': 2013, 'condemn': 2014, 'streak': 2015, 'belief': 2016, 'trending': 2017, 'expectations': 2018, 'music': 2019, 'ear': 2020, 'jaguar': 2021, 'conflict': 2022, 'cnbc': 2023, \"today's\": 2024, 'hero': 2025, 'motocorp': 2026, 'farmhouse': 2027, 'santa': 2028, 'barbara': 2029, 'provide': 2030, 'ambassador': 2031, 'inspiring': 2032, 'included': 2033, 'fund': 2034, \"one's\": 2035, 'perform': 2036, 'moose': 2037, 'discussed': 2038, 'owners': 2039, 'ux': 2040, 'programming': 2041, 'interface': 2042, 'suck': 2043, 'hopefully': 2044, 'chennai': 2045, 'tamil': 2046, 'nadu': 2047, 'faang': 2048, 'crude': 2049, 'actions': 2050, 'expressive': 2051, 'sculpted': 2052, 'fibre': 2053, 'equipped': 2054, 'minute': 2055, 'transform': 2056, 'craft': 2057, 'below': 2058, 'unlike': 2059, 'panels': 2060, 'attic': 2061, 'slash': 2062, 'bill': 2063, 'includes': 2064, 'autosteer': 2065, 'announcement': 2066, 'congratulations': 2067, 'happen': 2068, 'bringing': 2069, 'singled': 2070, 'whereas': 2071, 'exempted': 2072, 'denier': 2073, 'disclose': 2074, 'plainly': 2075, 'obligation': 2076, 'combine': 2077, 'perfected': 2078, 'expertise': 2079, 'ruthless': 2080, 'visit': 2081, 'adaptive': 2082, 'motorbike': 2083, 'amby': 2084, 'tap': 2085, 'urban': 2086, 'ratio': 2087, 'reclaimed': 2088, 'losses': 2089, 'wsb': 2090, 'moved': 2091, 'breakeven': 2092, 'zone': 2093, 'ducati': 2094, 'bar': 2095, 'function': 2096, 'remake': 2097, 'products': 2098, 'floating': 2099, 'falcon': 2100, 'heavy': 2101, \"it'd\": 2102, 'fitting': 2103, 'live': 2104, 'drone': 2105, 'bigger': 2106, 'infrastructure': 2107, 'else': 2108, 'legends': 2109, 'engineering': 2110, 'seminal': 2111, 'imagery': 2112, 'prepping': 2113, 'facelift': 2114, 'commenced': 2115, 'leading': 2116, 'sebring': 2117, 'limo': 2118, 'remind': 2119, 'goated': 2120, 'transcontinental': 2121, 'sight': 2122, \"harley's\": 2123, 'edging': 2124, \"munich's\": 2125, 'smallest': 2126, 'dems': 2127, 'handout': 2128, 'balance': 2129, 'style': 2130, 'perfectly': 2131, 'positioned': 2132, 'enters': 2133, 'generation': 2134, 'fabric': 2135, 'outrun': 2136, 'exceedingly': 2137, 'photo': 2138, 'caption': 2139, 'admire': 2140, 'north': 2141, 'ambitions': 2142, 'wapo': 2143, 'antic': 2144, 'ai': 2145, 'announce': 2146, 'gq': 2147, 'seamless': 2148, 'download': 2149, 'personality': 2150, \"'moderate\": 2151, 'volume': 2152, \"production'\": 2153, 'authorize': 2154, 'additional': 2155, \"securities'\": 2156, 'discuss': 2157, 'benzinga': 2158, 'bull': 2159, 'disney': 2160, 'carl': 2161, 'icahn': 2162, \"'what's\": 2163, \"america'\": 2164, 'buddy': 2165, 'wanna': 2166, 'equipment': 2167, 'shenyang': 2168, 'days': 2169, 'yuan': 2170, 'shipped': 2171, 'express': 2172, 'cgep': 2173, 'adding': 2174, 'joined': 2175, 'greenville': 2176, 'expansion': 2177, 'blasting': 2178, 'case': 2179, 'wholeheartedly': 2180, 'agree': 2181, 'futurum': 2182, 'chips': 2183, 'thorough': 2184, 'preparing': 2185, 'milking': 2186, 'pump': 2187, 'fizzled': 2188, 'comparison': 2189, 'warp': 2190, 'main': 2191, 'improving': 2192, 'tile': 2193, 'rokit': 2194, 'mb': 2195, 'challenger': 2196, 'ryley': 2197, 'hoping': 2198, 'developer': 2199, 'skin': 2200, 'prototype': 2201, 'color': 2202, 'surface': 2203, 'platforms': 2204, 'weak': 2205, 'perhaps': 2206, 'guy': 2207, 'takeover': 2208, 'returning': 2209, 'spacecraft': 2210, 'b': 2211, 'carjack': 2212, 'impactful': 2213, 'achieving': 2214, 'biased': 2215, 'topped': 2216, 'tour': 2217, 'secretary': 2218, 'marty': 2219, 'walsh': 2220, 'spends': 2221, 'ads': 2222, 'heck': 2223, 'breakout': 2224, 'weekly': 2225, 'follow': 2226, 'favorite': 2227, 'bnn': 2228, 'bloomberg': 2229, 'gen': 2230, \"'selfies'\": 2231, \"haven't\": 2232, 'started': 2233, 'farley': 2234, 'succeeds': 2235, 'rampage': 2236, 'palm': 2237, 'reflected': 2238, 'window': 2239, 'pov': 2240, 'article': 2241, 'littlest': 2242, 'snapped': 2243, 'accessorised': 2244, 'guises': 2245, 'arrival': 2246, 'showdown': 2247, 'interior': 2248, 'upgraded': 2249, 'climb': 2250, 'seems': 2251, 'powerwalls': 2252, 'powered': 2253, 'gained': 2254, 'airworthiness': 2255, 'clearance': 2256, 'slovakia': 2257, \"pilot's\": 2258, 'license': 2259, 'celebrates': 2260, 'coil': 2261, 'blank': 2262, 'stamp': 2263, 'metal': 2264, 'hathaway': 2265, 'unitedhealth': 2266, 'touring': 2267, 'lineup': 2268, 'rumoured': 2269, 'works': 2270, 'royce': 2271, 'tracking': 2272, 'cementing': 2273, \"weekend's\": 2274, 'online': 2275, 'opener': 2276, 'headlines': 2277, 'passion': 2278, 'commemorating': 2279, 'film': 2280, 'retain': 2281, 'reputation': 2282, \"driver's\": 2283, 'wildly': 2284, 'pigeon': 2285, 'soprano': 2286, 'kat': 2287, 'kirby': 2288, 'grad': 2289, 'student': 2290, 'eastman': 2291, 'accompanist': 2292, 'hanyun': 2293, 'gu': 2294, 'absolute': 2295, 'powerhouse': 2296, 'speaking': 2297, 'gate': 2298, 'cfas': 2299, 'explain': 2300, 'blessed': 2301, 'felt': 2302, 'bit': 2303, 'pro': 2304, 'con': 2305, 'retailer': 2306, 'searching': 2307, 'technician': 2308, 'handbrake': 2309, 'differ': 2310, 'depending': 2311, 'hiring': 2312, 'organisation': 2313, 'yamaha': 2314, 'raid': 2315, 'comments': 2316, 'ownership': 2317, 'accord': 2318, 'leaked': 2319, 'throwback': 2320, 'racer': 2321, 'hommage': 2322, 'cue': 2323, 'iconic': 2324, 'batmobile': 2325, 'self': 2326, 'wind': 2327, 'procar': 2328, 'eastbound': 2329, 'carquinez': 2330, 'dawn': 2331, 'fiery': 2332, 'suffers': 2333, 'injury': 2334, 'colliding': 2335, 'equally': 2336, 'potent': 2337, 'andy': 2338, 'page': 2339, 'can': 2340, 'everything': 2341, 'elicit': 2342, 'ridicule': 2343, 'spectrum': 2344, 'deranged': 2345, 'idiot': 2346, 'smarter': 2347, 'broadly': 2348, 'guessing': 2349, \"chris's\": 2350, 'lower': 2351, 'hammer': 2352, 'classic': 2353, 'badge': 2354, 'founding': 2355, 'l': 2356, 'indicated': 2357, 'symptoms': 2358, 'sportier': 2359, 'somehow': 2360, 'crawl': 2361, 'sprayed': 2362, 'dozen': 2363, 'readying': 2364, \"division's\": 2365, 'philosophy': 2366, 'gear': 2367, 'styling': 2368, 'siddharth': 2369, 'interest': 2370, 'id': 2371, 'pin': 2372, 'assistance': 2373, 'purnima': 2374, 'dedicated': 2375, 'catch': 2376, 'moment': 2377, 'showcase': 2378, 'held': 2379, 'mumbai': 2380, 'commission': 2381, 'cat': 2382, 'hosting': 2383, 'birthday': 2384, 'occasion': 2385, 'moines': 2386, 'skybox': 2387, 'suites': 2388, 'regular': 2389, 'suite': 2390, 'however': 2391, 'salah': 2392, 'soft': 2393, 'hardcore': 2394, 'cheer': 2395, 'philipp': 2396, 'damnit': 2397, 'prasit': 2398, 'aphiphunya': 2399, 'adventurous': 2400, 'rode': 2401, 'thailand': 2402, 'spotify': 2403, 'identification': 2404, 'identify': 2405, 'paper': 2406, 'stamped': 2407, 'jamb': 2408, 'dillon': 2409, 'haha': 2410, 'thx': 2411, 'borrow': 2412, 'btw': 2413, 'funny': 2414, 'eqc': 2415, 'dealer': 2416, 'arrange': 2417, \"'major\": 2418, \"announcement'\": 2419, 'commercialize': 2420, 'divergent': 2421, 'troll': 2422, 'brilliance': 2423, 'stupidity': 2424, 'me': 2425, 'published': 2426, 'generated': 2427, 'question': 2428, 'prep': 2429, 'goodness': 2430, 'biz': 2431, 'headline': 2432, 'yield': 2433, 'stabilize': 2434, 'rout': 2435, 'responds': 2436, 'questioned': 2437, 'putin': 2438, 'founded': 2439, 'nokia': 2440, 'ibm': 2441, 'motorola': 2442, 'samsung': 2443, 'hp': 2444, 'sony': 2445, 'intel': 2446, 'dell': 2447, 'cisco': 2448, 'salesforce': 2449, 'facebook': 2450, 'airbnb': 2451, 'zoom': 2452, 'coinbase': 2453, 'genesis': 2454, 'sharp': 2455, 'compare': 2456, 'quarterfinal': 2457, 'stocks': 2458, 'etfs': 2459, 'crypto': 2460, 'portfolio': 2461, 'hertz': 2462, 'program': 2463, 'safer': 2464, 'easier': 2465, 'rewarding': 2466, 'immediate': 2467, 'chris': 2468, 'valet': 2469, 'jacked': 2470, 'magically': 2471, 'disappeared': 2472, 'valeted': 2473, 'deep': 2474, 'dive': 2475, 'roadshow': 2476, 'turning': 2477, 'rider': 2478, 'bonovo': 2479, 'ignition': 2480, 'presenter': 2481, 'francisco': 2482, 'nwamba': 2483, \"trader's\": 2484, 'cheat': 2485, 'buying': 2486, 'speculation': 2487, 'italian': 2488, 'gt': 2489, 'losing': 2490, 'dog': 2491, 'inspired': 2492, 'highly': 2493, 'capable': 2494, 'evs': 2495, 'charity': 2496, 'lemme': 2497, 'learned': 2498, 'prado': 2499, 'swap': 2500, 'offroader': 2501, 'interview': 2502, 'horrifying': 2503, 'quarterly': 2504, 'deliveries': 2505, 'cop': 2506, 'offered': 2507, 'lots': 2508, 'defect': 2509, 'national': 2510, 'administration': 2511, 'launching': 2512, 'screamed': 2513, 'protested': 2514, 'sue': 2515, 'anonymity': 2516, 'discus': 2517, 'sensitive': 2518, 'then': 2519, 'ugly': 2520, 'classy': 2521, 'subconsciously': 2522, 'insecure': 2523, 'purchase': 2524, 'criticized': 2525, 'similar': 2526, 'restrict': 2527, 'argument': 2528, 'labelled': 2529, 'selective': 2530, 'qa': 2531, 'chair': 2532, 'convolute': 2533, 'unrelated': 2534, 'matters': 2535, 'claiming': 2536, 'expects': 2537, 'nio': 2538, 'indication': 2539, 'mad': 2540, 'getaway': 2541, 'empty': 2542, 'demands': 2543, 'twice': 2544, 'elsewhere': 2545, 'urge': 2546, 'admiration': 2547, 'willingness': 2548, 'harmed': 2549, 'immune': 2550, 'criticism': 2551, 'rich': 2552, 'subsidy': 2553, 'salford': 2554, 'evening': 2555, 'headlight': 2556, 'revealed': 2557, 'final': 2558, 'resting': 2559, 'fitted': 2560, 'research': 2561, 'ben': 2562, 'cunniff': 2563, 'pulled': 2564, 'texting': 2565, 'taser': 2566, 'etf': 2567, 'investing': 2568, 'character': 2569, 'ceos': 2570, 'indonesia': 2571, 'negotiation': 2572, 'doors': 2573, 'fro': 2574, 'charted': 2575, 'taycan': 2576, 'downtime': 2577, 'indicates': 2578, 'peoria': 2579, 'tracked': 2580, 'compete': 2581, 'timeless': 2582, 'nothing': 2583, 'smiling': 2584, 'courier': 2585, 'tailgating': 2586, 'clifton': 2587, 'repairs': 2588, \"car's\": 2589, 'ice': 2590, 'aftermarket': 2591, 'catching': 2592, 'induced': 2593, 'monica': 2594, 'african': 2595, 'american': 2596, 'tasks': 2597, 'nobody': 2598, 'gave': 2599, 'authority': 2600, 'offering': 2601, 'oxford': 2602, 'issues': 2603, \"there's\": 2604, 'shortage': 2605, 'monitoring': 2606, 'closely': 2607, 'trial': 2608, 'decide': 2609, 'york': 2610, 'rear': 2611, 'plate': 2612, 'smash': 2613, \"'revenge\": 2614, \"tractor'\": 2615, 'pour': 2616, 'amc': 2617, 'realisation': 2618, 'engagement': 2619, 'vw': 2620, 'broader': 2621, 'analysis': 2622, 'untold': 2623, 'gob': 2624, 'taxpayer': 2625, 'subsidies': 2626, 'clown': 2627, 'god': 2628, 'lengthy': 2629, 'shed': 2630, 'ct': 2631, 'recalled': 2632, 'bug': 2633, 'dopey': 2634, 'attitude': 2635, 'have': 2636, 'dominates': 2637, 'monopoly': 2638, 'frame': 2639, 'battle': 2640, 'basic': 2641, 'economics': 2642, 'robber': 2643, 'flee': 2644, 'atm': 2645, 'mpumalanga': 2646, 'leaving': 2647, 'jersey': 2648, 'stories': 2649, 'released': 2650, 'particular': 2651, 'roblox': 2652, 'dev': 2653, 'shower': 2654, 'girlfriend': 2655, 'bed': 2656, 'workstation': 2657, 'afford': 2658, 'vile': 2659, 'drastically': 2660, 'personnel': 2661, 'shocking': 2662, 'deeply': 2663, 'douchebag': 2664, 'unbelievable': 2665, 'asshole': 2666, \"we'd\": 2667, 'closer': 2668, 'associated': 2669, 'slammed': 2670, 'sentenced': 2671, 'singlehandedly': 2672, 'hilarious': 2673, 'heard': 2674, 'dutch': 2675, 'gazprom': 2676, 'moscow': 2677, 'rage': 2678, 'incident': 2679, 'october': 2680, 'awarded': 2681, 'elevator': 2682, 'operator': 2683, 'blind': 2684, 'racial': 2685, 'taunt': 2686, 'offensive': 2687, 'graffiti': 2688, \"shropshire's\": 2689, 'aware': 2690, 'raining': 2691, 'oakland': 2692, 'overjoyed': 2693, 'slow': 2694, 'tragically': 2695, 'maypole': 2696, 'thousand': 2697, 'alleging': 2698, 'unchecked': 2699, 'compartment': 2700, 'fires': 2701, 'suspend': 2702, 'wiring': 2703, 'harness': 2704, 'derailed': 2705, 'war': 2706, 'college': 2707, 'graduate': 2708, 'salary': 2709, 'regardless': 2710, 'arguably': 2711, 'compelling': 2712, 'expensive': 2713, 'willful': 2714, 'competitive': 2715, 'striving': 2716, 'unfortunately': 2717, 'proceeding': 2718, 'colleague': 2719, 'patient': 2720, 'san': 2721, 'andres': 2722, 'h': 2723, 'del': 2724, 'pilar': 2725, 'malate': 2726, 'audio': 2727, 'contemporary': 2728, 'amperex': 2729, 'reviewing': 2730, 'english': 2731, 'spanish': 2732, 'supervisors': 2733, 'spinning': 2734, 'gathered': 2735, 'umgeni': 2736, 'intersite': 2737, 'avenue': 2738, 'durban': 2739, 'coincidence': 2740, 'posting': 2741, 'extensive': 2742, 'abuse': 2743, 'rigorously': 2744, 'defending': 2745, 'craziest': 2746, 'shit': 2747, 'rte': 2748, 'fish': 2749, 'tail': 2750, 'slam': 2751, 'weltmeister': 2752, 'wake': 2753, 'surging': 2754, 'towing': 2755, 'reliability': 2756, 'too': 2757, 'steadfastly': 2758, 'refinery': 2759, 'mass': 2760, 'alabama': 2761, 'kingpin': 2762, 'ended': 2763, 'london': 2764, 'civilizations': 2765, 'democracies': 2766, 'insisted': 2767, 'limitation': 2768, 'appeal': 2769, 'santon': 2770, 'avoiding': 2771, 'rabbit': 2772, 'careless': 2773, 'fool': 2774, 'bagholders': 2775, 'managed': 2776, 'recover': 2777, 'rifle': 2778, 'magazines': 2779, 'jamming': 2780, 'device': 2781, 'radios': 2782, 'astute': 2783, 'confiscated': 2784, 'porche': 2785, 'cayene': 2786, 'kevin': 2787, 'wonder': 2788, 'telling': 2789, 'facto': 2790, 'definer': 2791, 'fundamentally': 2792, 'undermines': 2793, 'freedoms': 2794, 'ipswich': 2795, 'features': 2796, 'penny': 2797, 'rivian': 2798, 'reasons': 2799, 'holy': 2800, 'crap': 2801, \"'drink\": 2802, \"driver'\": 2803, 'lucky': 2804, \"'taped\": 2805, \"door'\": 2806, 'sighted': 2807, 'erratically': 2808, 'garstang': 2809, 'preston': 2810, 'smelt': 2811, 'strongly': 2812, 'wipe': 2813, 'talked': 2814, \"nio's\": 2815, 'alongside': 2816, 'existing': 2817, 'premier': 2818, 'showing': 2819, 'dinner': 2820, 'worried': 2821, 'impatient': 2822, 'guess': 2823, 'everytime': 2824, 'fence': 2825, 'stockton': 2826, 'lewis': 2827, 'allen': 2828, 'junction': 2829, 'cnet': 2830, 'pushed': 2831, 'washed': 2832, 'instead': 2833, 'quibble': 2834, 'wonky': 2835, 'autonomy': 2836, 'confront': 2837, 'fact': 2838, 'adopted': 2839, 'ideas': 2840, 'armed': 2841, 'prime': 2842, 'watched': 2843, 'clear': 2844, 'stick': 2845, 'merc': 2846, 'evade': 2847, 'stand': 2848, 'human': 2849, 'inherently': 2850, 'gravitate': 2851, 'aspiring': 2852, 'playground': 2853, 'taunts': 2854, 'bcso': 2855, 'tamya': 2856, 'alexander': 2857, 'daughter': 2858, 'serenity': 2859, 'williams': 2860, 'vining': 2861, 'circle': 2862, 'yall': 2863, 'extended': 2864, 'shrugging': 2865, 'soaring': 2866, 'treasury': 2867, 'yields': 2868, 'ignore': 2869, \"don't\": 2870, 'retreat': 2871, 'signal': 2872, 'weakness': 2873, 'i': 2874, 'went': 2875, 'actual': 2876, 'urus': 2877, 'brabus': 2878, 'sky': 2879, \"presenter's\": 2880, 'crushed': 2881, 'falling': 2882, 'oak': 2883, 'storm': 2884, 'malik': 2885, 'storing': 2886, 'pounds': 2887, 'requires': 2888, 'apologize': 2889, 'eating': 2890, \"'non\": 2891, \"vegan'\": 2892, 'breakfast': 2893, 'sandwich': 2894, 'cleared': 2895, 'technically': 2896, 'sniffed': 2897, 'stash': 2898, 'dad': 2899, 'lamppost': 2900, 'blamed': 2901, 'constabulary': 2902, 'introduced': 2903, 'neighbouring': 2904, 'northumbria': 2905, 'september': 2906, 'scrapped': 2907, 'witness': 2908, 'phalen': 2909, 'testifies': 2910, 'requirement': 2911, 'robotaxis': 2912, 'effectively': 2913, 'require': 2914, 'partnerships': 2915, 'demise': 2916, 'pity': 2917, 'narcissist': 2918, 'focused': 2919, 'banning': 2920, \"anyone's\": 2921, 'whatever': 2922, 'currently': 2923, 'signalled': 2924, 'offences': 2925, 'hard': 2926, 'distinctive': 2927, 'herded': 2928, 'sheepdog': 2929, 'residential': 2930, 'neighbourhood': 2931, 'scummy': 2932, 'reviewed': 2933, 'channel': 2934, 'entered': 2935, 'believed': 2936, 'adheres': 2937, 'voted': 2938, 'consequence': 2939, 'devolved': 2940, 'personal': 2941, 'nightmare': 2942, 'pattern': 2943, 'harassment': 2944, \"'spinning'\": 2945, 'plough': 2946, 'racing': 2947, 'connect': 2948, 'internet': 2949, 'security': 2950, 'hacked': 2951, 'afraid': 2952, 'brought': 2953, 'travelling': 2954, 'watling': 2955, 'crossroads': 2956, 'attempted': 2957, 'cross': 2958, 'dash': 2959, 'cam': 2960, 'jayne': 2961, 'gatland': 2962, \"'elon\": 2963, 'encouraged': 2964, 'spreading': 2965, 'hate': 2966, 'confused': 2967, 'phrase': 2968, 'clarify': 2969, 'shared': 2970, 'trademark': 2971, 'randomness': 2972, 'scary': 2973, 'tonight': 2974, 'chester': 2975, 'swerved': 2976, 'ejected': 2977, 'together': 2978, 'hug': 2979, 'sweating': 2980, 'things': 2981, 'monroe': 2982, 'flooding': 2983, 'river': 2984, 'knew': 2985, 'anyway': 2986, 'needed': 2987, 'stalled': 2988, 'cattle': 2989, 'farmer': 2990, 'helped': 2991, 'idle': 2992, \"'a\": 2993, 'tragedy': 2994, 'na': 2995, 'scarcity': 2996, 'dey': 2997, 'carjacking': 2998, 'block': 2999, 'st': 3000, 'lookout': 3001, 'il': 3002, 'tag': 3003, 'connection': 3004, 'web': 3005, 'broken': 3006, 'response': 3007, 'chrome': 3008, 'websites': 3009, 'regret': 3010, 'uh': 3011, 'huh': 3012, 'engaged': 3013, 'corrections': 3014, 'undercut': 3015, 'hanging': 3016, \"monday's\": 3017, \"we've\": 3018, 'questions': 3019, 'replying': 3020, 'results': 3021, 'dramatic': 3022, 'melbourne': 3023, 'came': 3024, 'entire': 3025, 'logistics': 3026, 'sadly': 3027, 'birmingham': 3028, 'druid': 3029, 'medical': 3030, 'staff': 3031, 'multiple': 3032, 'damaged': 3033, 'telephone': 3034, 'pole': 3035, 'walton': 3036, 'beach': 3037, 'hurtles': 3038, \"residents'\": 3039, 'bursting': 3040, 'nypd': 3041, 'iding': 3042, 'riverdale': 3043, 'ave': 3044, 'violence': 3045, 'tolerated': 3046, 'plantation': 3047, 'slave': 3048, 'brutal': 3049, 'but': 3050, 'female': 3051, 'fortunate': 3052, 'walk': 3053, 'neasden': 3054, 'demolished': 3055, 'blew': 3056, 'drink': 3057, 'subsequently': 3058, 'apart': 3059, 'environment': 3060, 'rise': 3061, 'necessary': 3062, 'adjustment': 3063, 'logistical': 3064, 'loses': 3065, 'rebate': 3066, 'faked': 3067, 'death': 3068, 'conviction': 3069, 'carelessly': 3070, 'greenwich': 3071, 'youngster': 3072, 'backseat': 3073, 'filled': 3074, 'catalytic': 3075, 'chandler': 3076, 'suspects': 3077, 'arbitration': 3078, 'favor': 3079, 'employers': 3080, 'supervisor': 3081, 'fatal': 3082, 'marked': 3083, 'roommate': 3084, 'slain': 3085, 'gay': 3086, \"activist's\": 3087, 'discovered': 3088, 'invites': 3089, 'defender': 3090, 'aligning': 3091, 'overt': 3092, 'foster': 3093, \"'she\": 3094, 'subaru': 3095, 'jumping': 3096, 'gofundme': 3097, 'claimed': 3098, 'safest': 3099, 'ftc': 3100, 'investigated': 3101, 'guest': 3102, 'autopilot': 3103, 'prof': 3104, 'geistfeld': 3105, 'criminal': 3106, 'prosecution': 3107, 'precedent': 3108, 'wsj': 3109, 'exiting': 3110, 'foot': 3111, 'lawmen': 3112, 'ran': 3113, 'officers': 3114, 'weapon': 3115, 'remain': 3116, 'committed': 3117, 'guns': 3118, 'environmentalist': 3119, 'displaying': 3120, 'banner': 3121, 'flagging': 3122, 'peugeot': 3123, 'mazda': 3124, 'responsible': 3125, \"farmers'\": 3126, 'albion': 3127, 'spalding': 3128, 'aged': 3129, 'remains': 3130, 'pls': 3131, 'avoid': 3132, 'garage': 3133, 'crowbar': 3134, 'revenge': 3135, 'attack': 3136, 'vauxhall': 3137, 'zafira': 3138, 'tiong': 3139, 'bahru': 3140, 'judgement': 3141, 'polite': 3142, 'jabu': 3143, 'mahlangu': 3144, 'negligent': 3145, 'reckless': 3146, 'regarding': 3147, 'involving': 3148, 'minibus': 3149, 'ekurhuleni': 3150, 'metro': 3151, 'cheapest': 3152, 'lolol': 3153, 'cuz': 3154, \"man's\": 3155, 'southampton': 3156, 'crossing': 3157, 'struck': 3158, 'civic': 3159, 'kent': 3160, 'gbh': 3161, 'intent': 3162, 'evidence': 3163, 'theft': 3164, 'journals': 3165, 'symptom': 3166, 'severe': 3167, 'schizophrenia': 3168, 'bruno': 3169, 'laying': 3170, 'cone': 3171, 'carjacked': 3172, 'yukon': 3173, 'upholds': 3174, 'verdict': 3175, 'spontaneously': 3176, 'combusted': 3177, 'irondequoit': 3178, 'surcharge': 3179, 'guzzling': 3180, 'cancel': 3181, 'arrive': 3182, 'tomorrow': 3183, 'appalling': 3184, 'unorganized': 3185, 'appears': 3186, 'improved': 3187, 'southwick': 3188, 'abutment': 3189, 'dead': 3190, 'semiconductor': 3191, 'producing': 3192, 'dept': 3193, 'vijay': 3194, 'civil': 3195, 'attachment': 3196, 'bank': 3197, 'penalty': 3198, 'imported': 3199, 'therefore': 3200, 'paid': 3201, 'alone': 3202, 'protest': 3203, 'united': 3204, 'reverse': 3205, 'electrical': 3206, \"'bullying'\": 3207, 'raced': 3208, 'son': 3209, 'pregnant': 3210, 'insider': 3211, 'coastal': 3212, 'cool': 3213, 'millionaire': 3214, 'friend': 3215, 'mil': 3216, 'each': 3217, 'obv': 3218, 'gal': 3219, 'gadot': 3220, 'assign': 3221, 'fist': 3222, 'amongst': 3223, 'firms': 3224, 'slight': 3225, 'positive': 3226, 'enabled': 3227, 'thus': 3228, 'competing': 3229, 'fierce': 3230, 'scrutiny': 3231, 'landing': 3232, 'echo': 3233, 'fled': 3234, 'rental': 3235, 'stranded': 3236, 'extremely': 3237, 'reliable': 3238, 'brief': 3239, 'pause': 3240, 'properly': 3241, 'transmitted': 3242, 'minimum': 3243, 'chose': 3244, 'remove': 3245, 'spot': 3246, 'fourth': 3247, 'hm': 3248, 'notification': 3249, 'camera': 3250, 'view': 3251, 'holding': 3252, 'bulkier': 3253, 'sheldon': 3254, 'der': 3255, 'linde': 3256, 'aecom': 3257, 'wave': 3258, 'relocations': 3259, 'networking': 3260, 'exec': 3261, 'predicts': 3262, 'impaired': 3263, 'swapping': 3264, 'scale': 3265, 'though': 3266, 'undermine': 3267, 'motors': 3268, 'bullish': 3269, \"they've\": 3270, 'capital': 3271, \"'l'\": 3272, 'follower': 3273, 'harass': 3274, 'tm': 3275, 'dirty': 3276, 'desist': 3277, 'boxed': 3278, 'squad': 3279, 'denies': 3280, 'bearing': 3281, 'decision': 3282, 'army': 3283, 'veteran': 3284, 'promoted': 3285, 'manager': 3286, 'affected': 3287, 'airbag': 3288, 'curtis': 3289, 'burst': 3290, 'polarising': 3291, 'smartphone': 3292, \"'ultimate\": 3293, \"machine'\": 3294, 'whilst': 3295, 'recovery': 3296, 'hazel': 3297, 'grove': 3298, 'tutor': 3299, 'located': 3300, 'sat': 3301, 'unattended': 3302, 'forensically': 3303, 'examined': 3304, 'returned': 3305, 'train': 3306, 'tracks': 3307, 'passenger': 3308, 'prosecutor': 3309, 'witnesses': 3310, 'phelan': 3311, 'waffle': 3312}\n"
          ]
        }
      ]
    },
    {
      "cell_type": "code",
      "source": [
        "X_train_sequences = tokenizer.texts_to_sequences(X_train)"
      ],
      "metadata": {
        "id": "Zir2VnBLai4m"
      },
      "execution_count": null,
      "outputs": []
    },
    {
      "cell_type": "code",
      "source": [
        "X_test_sequences = tokenizer.texts_to_sequences(X_test)"
      ],
      "metadata": {
        "id": "95kR7-Nkai13"
      },
      "execution_count": null,
      "outputs": []
    },
    {
      "cell_type": "code",
      "source": [
        "max_length = 100\n",
        "padding_type='post'\n",
        "truncation_type='post'\n",
        "\n",
        "from keras.preprocessing.sequence import pad_sequences\n",
        "\n",
        "X_test_padded = pad_sequences(X_test_sequences,maxlen=max_length, padding=padding_type, truncating=truncation_type)\n",
        "X_train_padded = pad_sequences(X_train_sequences,maxlen=max_length, padding=padding_type, truncating=truncation_type)\n"
      ],
      "metadata": {
        "id": "E2BE_qy2aix4"
      },
      "execution_count": null,
      "outputs": []
    },
    {
      "cell_type": "markdown",
      "source": [
        "Stanford GloVe Embeddings"
      ],
      "metadata": {
        "id": "0N5Rr8Y_U2_x"
      }
    },
    {
      "cell_type": "code",
      "source": [
        "!wget --no-check-certificate \\\n",
        "     http://nlp.stanford.edu/data/glove.6B.zip \\\n",
        "     -O /tmp/glove.6B.zip"
      ],
      "metadata": {
        "colab": {
          "base_uri": "https://localhost:8080/"
        },
        "id": "j0WGNz7QbCyo",
        "outputId": "08c88def-ace8-4b92-999b-5bf607d6aec4"
      },
      "execution_count": null,
      "outputs": [
        {
          "output_type": "stream",
          "name": "stdout",
          "text": [
            "--2022-04-06 13:13:20--  http://nlp.stanford.edu/data/glove.6B.zip\n",
            "Resolving nlp.stanford.edu (nlp.stanford.edu)... 171.64.67.140\n",
            "Connecting to nlp.stanford.edu (nlp.stanford.edu)|171.64.67.140|:80... connected.\n",
            "HTTP request sent, awaiting response... 302 Found\n",
            "Location: https://nlp.stanford.edu/data/glove.6B.zip [following]\n",
            "--2022-04-06 13:13:20--  https://nlp.stanford.edu/data/glove.6B.zip\n",
            "Connecting to nlp.stanford.edu (nlp.stanford.edu)|171.64.67.140|:443... connected.\n",
            "HTTP request sent, awaiting response... 301 Moved Permanently\n",
            "Location: http://downloads.cs.stanford.edu/nlp/data/glove.6B.zip [following]\n",
            "--2022-04-06 13:13:20--  http://downloads.cs.stanford.edu/nlp/data/glove.6B.zip\n",
            "Resolving downloads.cs.stanford.edu (downloads.cs.stanford.edu)... 171.64.64.22\n",
            "Connecting to downloads.cs.stanford.edu (downloads.cs.stanford.edu)|171.64.64.22|:80... connected.\n",
            "HTTP request sent, awaiting response... 200 OK\n",
            "Length: 862182613 (822M) [application/zip]\n",
            "Saving to: ‘/tmp/glove.6B.zip’\n",
            "\n",
            "/tmp/glove.6B.zip   100%[===================>] 822.24M  5.20MB/s    in 2m 41s  \n",
            "\n",
            "2022-04-06 13:16:01 (5.11 MB/s) - ‘/tmp/glove.6B.zip’ saved [862182613/862182613]\n",
            "\n"
          ]
        }
      ]
    },
    {
      "cell_type": "code",
      "source": [
        "import os\n",
        "import zipfile\n",
        "with zipfile.ZipFile('/tmp/glove.6B.zip', 'r') as zip_ref:\n",
        "    zip_ref.extractall('/tmp/glove')"
      ],
      "metadata": {
        "id": "5-_Oox0RbCuv"
      },
      "execution_count": null,
      "outputs": []
    },
    {
      "cell_type": "code",
      "source": [
        "embeddings_index = {}\n",
        "f = open('/tmp/glove/glove.6B.100d.txt')\n",
        "for line in f:\n",
        "    values = line.split()\n",
        "    word = values[0]\n",
        "    coefs = np.asarray(values[1:], dtype='float32')\n",
        "    embeddings_index[word] = coefs\n",
        "f.close()\n",
        "\n",
        "print('Found %s word vectors.' % len(embeddings_index))"
      ],
      "metadata": {
        "colab": {
          "base_uri": "https://localhost:8080/"
        },
        "id": "jfi_vW5nbCrM",
        "outputId": "616ae5fc-c039-4187-cb6f-178f1799c785"
      },
      "execution_count": null,
      "outputs": [
        {
          "output_type": "stream",
          "name": "stdout",
          "text": [
            "Found 400000 word vectors.\n"
          ]
        }
      ]
    },
    {
      "cell_type": "code",
      "source": [
        "embedding_matrix = np.zeros((len(word_index) + 1, max_length))\n",
        "for word, i in word_index.items():\n",
        "    embedding_vector = embeddings_index.get(word)\n",
        "    if embedding_vector is not None:\n",
        "        # words not found in embedding index will be all-zeros.\n",
        "        embedding_matrix[i] = embedding_vector"
      ],
      "metadata": {
        "id": "3SOe6WjIbCm4"
      },
      "execution_count": null,
      "outputs": []
    },
    {
      "cell_type": "code",
      "source": [
        "from tensorflow.keras.layers import Embedding, LSTM, Dense, Bidirectional, Dropout\n",
        "\n",
        "embedding_layer = Embedding(input_dim=len(word_index) + 1,\n",
        "                            output_dim=max_length,\n",
        "                            weights=[embedding_matrix],\n",
        "                            input_length=max_length,\n",
        "                            trainable=True)"
      ],
      "metadata": {
        "id": "Mvcj5iEzaidr"
      },
      "execution_count": null,
      "outputs": []
    },
    {
      "cell_type": "markdown",
      "source": [
        "Bi-LSTM Model"
      ],
      "metadata": {
        "id": "5h7MjtcXU9Ra"
      }
    },
    {
      "cell_type": "code",
      "source": [
        "import tensorflow as tf\n",
        "\n",
        "tf.keras.backend.clear_session()\n",
        "\n",
        "from tensorflow.keras.models import Sequential\n",
        "\n",
        "\n",
        "#Bidirectional LSTM based model\n",
        "model = Sequential([\n",
        "                                    \n",
        "    embedding_layer,\n",
        "    Bidirectional(LSTM(64, return_sequences=True, dropout=0.5, recurrent_dropout=0.5)), \n",
        "    Bidirectional(LSTM(32, return_sequences=True, dropout=0.5, recurrent_dropout=0.5)),\n",
        "    Bidirectional(LSTM(16, dropout=0.5, recurrent_dropout=0.5)),\n",
        "    Dense(128, activation='relu', kernel_regularizer='l2'),\n",
        "    Dropout(0.4),\n",
        "    Dense(64, activation='relu', kernel_regularizer='l2'),\n",
        "   Dense(3, activation='softmax')\n",
        "])\n",
        "\n",
        "\n",
        "\n",
        "\n"
      ],
      "metadata": {
        "id": "nnrFv51Xdaqe"
      },
      "execution_count": null,
      "outputs": []
    },
    {
      "cell_type": "code",
      "source": [
        "model.compile(loss='categorical_crossentropy',optimizer='adam',metrics=['accuracy'])"
      ],
      "metadata": {
        "id": "P-dt2b6kdaj3"
      },
      "execution_count": null,
      "outputs": []
    },
    {
      "cell_type": "code",
      "source": [
        "X_train_padded = np.array(X_train_padded)\n",
        "y_train_labels = np.array(y_train)\n",
        "X_test_padded = np.array(X_test_padded)\n",
        "y_test_labels = np.array(y_test)"
      ],
      "metadata": {
        "id": "0zrlw_FqeVFx"
      },
      "execution_count": null,
      "outputs": []
    },
    {
      "cell_type": "code",
      "source": [
        "import tensorflow as tf\n",
        "y_train_labels_one_hot_encoded = tf.keras.utils.to_categorical(y_train_labels, 3)\n",
        "y_test_labels_one_hot_encoded = tf.keras.utils.to_categorical(y_test_labels, 3)"
      ],
      "metadata": {
        "id": "8-vBKNKudaa2"
      },
      "execution_count": null,
      "outputs": []
    },
    {
      "cell_type": "code",
      "source": [
        "#Bi-LSTMs\n",
        "import tensorflow\n",
        "from tensorflow.keras.callbacks import EarlyStopping\n",
        "\n",
        "checkpoint_filepath = 'weights.{epoch:02d}-{val_loss:.2f}.h5'\n",
        "\n",
        "model_checkpoint_callback = tensorflow.keras.callbacks.ModelCheckpoint(\n",
        "    filepath=checkpoint_filepath,\n",
        "    monitor='val_accuracy',\n",
        "    mode='max',\n",
        "    save_best_only=True)\n",
        "\n",
        "\n",
        "early_stopping_callback = EarlyStopping(monitor='val_accuracy', patience=10), \n",
        "\n",
        "\n",
        "num_epochs = 100\n",
        "history = model.fit(X_train_padded, y_train_labels_one_hot_encoded, epochs=num_epochs, validation_data=(X_test_padded, y_test_labels_one_hot_encoded), callbacks=[model_checkpoint_callback, early_stopping_callback])"
      ],
      "metadata": {
        "colab": {
          "base_uri": "https://localhost:8080/"
        },
        "id": "XzcHeq5qDNlP",
        "outputId": "2128d4b8-a3bb-424f-d828-c3c774b3ce45"
      },
      "execution_count": null,
      "outputs": [
        {
          "output_type": "stream",
          "name": "stdout",
          "text": [
            "Epoch 1/100\n",
            "26/26 [==============================] - 136s 4s/step - loss: 2.1717 - accuracy: 0.4655 - val_loss: 1.8820 - val_accuracy: 0.5171\n",
            "Epoch 2/100\n",
            "26/26 [==============================] - 116s 4s/step - loss: 1.7253 - accuracy: 0.5357 - val_loss: 1.5464 - val_accuracy: 0.5171\n",
            "Epoch 3/100\n",
            "26/26 [==============================] - 115s 4s/step - loss: 1.3757 - accuracy: 0.6601 - val_loss: 1.2422 - val_accuracy: 0.6829\n",
            "Epoch 4/100\n",
            "26/26 [==============================] - 114s 4s/step - loss: 1.1387 - accuracy: 0.7057 - val_loss: 1.0733 - val_accuracy: 0.7268\n",
            "Epoch 5/100\n",
            "26/26 [==============================] - 113s 4s/step - loss: 0.9593 - accuracy: 0.7463 - val_loss: 0.9606 - val_accuracy: 0.7415\n",
            "Epoch 6/100\n",
            "26/26 [==============================] - 111s 4s/step - loss: 0.8270 - accuracy: 0.7623 - val_loss: 0.8919 - val_accuracy: 0.7366\n",
            "Epoch 7/100\n",
            "26/26 [==============================] - 111s 4s/step - loss: 0.7148 - accuracy: 0.7980 - val_loss: 0.8942 - val_accuracy: 0.7268\n",
            "Epoch 8/100\n",
            "26/26 [==============================] - 109s 4s/step - loss: 0.6162 - accuracy: 0.8264 - val_loss: 0.8676 - val_accuracy: 0.7073\n",
            "Epoch 9/100\n",
            "26/26 [==============================] - 109s 4s/step - loss: 0.5731 - accuracy: 0.8288 - val_loss: 0.8650 - val_accuracy: 0.7366\n",
            "Epoch 10/100\n",
            "26/26 [==============================] - 107s 4s/step - loss: 0.5185 - accuracy: 0.8485 - val_loss: 0.8796 - val_accuracy: 0.7317\n",
            "Epoch 11/100\n",
            "26/26 [==============================] - 109s 4s/step - loss: 0.4645 - accuracy: 0.8744 - val_loss: 0.8796 - val_accuracy: 0.6976\n",
            "Epoch 12/100\n",
            "26/26 [==============================] - 108s 4s/step - loss: 0.4696 - accuracy: 0.8596 - val_loss: 0.9840 - val_accuracy: 0.7171\n",
            "Epoch 13/100\n",
            "26/26 [==============================] - 107s 4s/step - loss: 0.3569 - accuracy: 0.9076 - val_loss: 0.8940 - val_accuracy: 0.7561\n",
            "Epoch 14/100\n",
            "26/26 [==============================] - 107s 4s/step - loss: 0.3378 - accuracy: 0.9064 - val_loss: 0.9393 - val_accuracy: 0.7610\n",
            "Epoch 15/100\n",
            "26/26 [==============================] - 107s 4s/step - loss: 0.2933 - accuracy: 0.9261 - val_loss: 0.9484 - val_accuracy: 0.7073\n",
            "Epoch 16/100\n",
            "26/26 [==============================] - 111s 4s/step - loss: 0.3047 - accuracy: 0.9298 - val_loss: 0.9547 - val_accuracy: 0.7122\n",
            "Epoch 17/100\n",
            "26/26 [==============================] - 107s 4s/step - loss: 0.2633 - accuracy: 0.9421 - val_loss: 0.9598 - val_accuracy: 0.7024\n",
            "Epoch 18/100\n",
            "26/26 [==============================] - 107s 4s/step - loss: 0.2434 - accuracy: 0.9458 - val_loss: 0.9916 - val_accuracy: 0.7512\n",
            "Epoch 19/100\n",
            "26/26 [==============================] - 106s 4s/step - loss: 0.2283 - accuracy: 0.9446 - val_loss: 0.9974 - val_accuracy: 0.7512\n",
            "Epoch 20/100\n",
            "26/26 [==============================] - 109s 4s/step - loss: 0.2215 - accuracy: 0.9495 - val_loss: 0.9738 - val_accuracy: 0.7463\n",
            "Epoch 21/100\n",
            "26/26 [==============================] - 107s 4s/step - loss: 0.1921 - accuracy: 0.9594 - val_loss: 1.0467 - val_accuracy: 0.7854\n",
            "Epoch 22/100\n",
            "26/26 [==============================] - 107s 4s/step - loss: 0.1974 - accuracy: 0.9557 - val_loss: 1.0600 - val_accuracy: 0.7463\n",
            "Epoch 23/100\n",
            "26/26 [==============================] - 113s 4s/step - loss: 0.1567 - accuracy: 0.9717 - val_loss: 1.1458 - val_accuracy: 0.7610\n",
            "Epoch 24/100\n",
            "26/26 [==============================] - 110s 4s/step - loss: 0.1810 - accuracy: 0.9655 - val_loss: 1.0368 - val_accuracy: 0.7366\n",
            "Epoch 25/100\n",
            "26/26 [==============================] - 109s 4s/step - loss: 0.1894 - accuracy: 0.9618 - val_loss: 1.0499 - val_accuracy: 0.7610\n",
            "Epoch 26/100\n",
            "26/26 [==============================] - 106s 4s/step - loss: 0.1293 - accuracy: 0.9803 - val_loss: 1.0276 - val_accuracy: 0.7463\n",
            "Epoch 27/100\n",
            "26/26 [==============================] - 106s 4s/step - loss: 0.1269 - accuracy: 0.9791 - val_loss: 1.1716 - val_accuracy: 0.7561\n",
            "Epoch 28/100\n",
            "26/26 [==============================] - 105s 4s/step - loss: 0.1567 - accuracy: 0.9754 - val_loss: 1.0250 - val_accuracy: 0.7561\n",
            "Epoch 29/100\n",
            "26/26 [==============================] - 108s 4s/step - loss: 0.1398 - accuracy: 0.9704 - val_loss: 1.0165 - val_accuracy: 0.7805\n",
            "Epoch 30/100\n",
            "26/26 [==============================] - 108s 4s/step - loss: 0.1394 - accuracy: 0.9741 - val_loss: 1.0517 - val_accuracy: 0.7220\n",
            "Epoch 31/100\n",
            "26/26 [==============================] - 110s 4s/step - loss: 0.1163 - accuracy: 0.9840 - val_loss: 1.1240 - val_accuracy: 0.7659\n"
          ]
        }
      ]
    },
    {
      "cell_type": "code",
      "source": [
        "#For Bidirectional LSTMs\n",
        "import matplotlib.pyplot as plt\n",
        "\n",
        "epochs=[x for x in range(1,32)]\n",
        "\n",
        "plt.plot(epochs,history.history['accuracy'])\n",
        "plt.plot(epochs,history.history['val_accuracy'])\n",
        "plt.title('Model Accuracy')\n",
        "plt.ylabel('Accuracy')\n",
        "plt.xlabel('Number Of Epochs')\n",
        "plt.legend(['Train', 'Validation'], loc='upper left')\n",
        "plt.show()"
      ],
      "metadata": {
        "id": "5xu8Bes8DNNh",
        "colab": {
          "base_uri": "https://localhost:8080/",
          "height": 295
        },
        "outputId": "365200f7-a871-444f-c834-7ae2b97a4b74"
      },
      "execution_count": null,
      "outputs": [
        {
          "output_type": "display_data",
          "data": {
            "text/plain": [
              "<Figure size 432x288 with 1 Axes>"
            ],
            "image/png": "[encoded data removed]"
          },
          "metadata": {
            "needs_background": "light"
          }
        }
      ]
    },
    {
      "cell_type": "code",
      "source": [
        "#For Bidirectional LSTMs\n",
        "epochs=[x for x in range(1,len(history.history['loss']))]\n",
        "\n",
        "plt.plot(epochs,history.history['loss'])\n",
        "plt.plot(epochs,history.history['val_loss'])\n",
        "plt.title('Model Loss')\n",
        "plt.ylabel('Loss')\n",
        "plt.xlabel('Number Of Epochs')\n",
        "plt.legend(['Train', 'Validation'], loc='upper right')\n",
        "plt.show()"
      ],
      "metadata": {
        "colab": {
          "base_uri": "https://localhost:8080/",
          "height": 295
        },
        "id": "mbmCYUAJG_tD",
        "outputId": "742f2d84-40f9-4b2e-e23f-795633fe6ddd"
      },
      "execution_count": null,
      "outputs": [
        {
          "output_type": "display_data",
          "data": {
            "text/plain": [
              "<Figure size 432x288 with 1 Axes>"
            ],
            "image/png": "[encoded data removed]"
          },
          "metadata": {
            "needs_background": "light"
          }
        }
      ]
    }
  ]
}