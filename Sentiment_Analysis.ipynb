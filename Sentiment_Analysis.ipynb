{
  "nbformat": 4,
  "nbformat_minor": 0,
  "metadata": {
    "colab": {
      "name": "Sentiment Analysis.ipynb",
      "provenance": [],
      "collapsed_sections": [],
      "authorship_tag": "ABX9TyNHv9iKuPrgpKZ+Kh1ilVqm",
      "include_colab_link": true
    },
    "kernelspec": {
      "name": "python3",
      "display_name": "Python 3"
    },
    "language_info": {
      "name": "python"
    },
    "accelerator": "GPU"
  },
  "cells": [
    {
      "cell_type": "markdown",
      "metadata": {
        "id": "view-in-github",
        "colab_type": "text"
      },
      "source": [
        "<a href=\"https://colab.research.google.com/github/kirath2205/Information-Retrieval/blob/main/Sentiment_Analysis.ipynb\" target=\"_parent\"><img src=\"https://colab.research.google.com/assets/colab-badge.svg\" alt=\"Open In Colab\"/></a>"
      ]
    },
    {
      "cell_type": "code",
      "execution_count": 1,
      "metadata": {
        "colab": {
          "base_uri": "https://localhost:8080/",
          "height": 687
        },
        "id": "T9dKBCCPGZOA",
        "outputId": "cda4574c-e674-4a4a-afee-a7cd048b4937"
      },
      "outputs": [
        {
          "output_type": "execute_result",
          "data": {
            "text/plain": [
              "             id        username    created_at             date  Sentiment  \\\n",
              "0  1.510000e+18       23ABCNews  1.650000e+12  29/3/2022 23:45       -1.0   \n",
              "1  1.510000e+18  CloseHouseGolf  1.650000e+12  29/3/2022 23:30        1.0   \n",
              "2  1.510000e+18      GadgetFlow  1.650000e+12  29/3/2022 23:30        1.0   \n",
              "3  1.510000e+18   TheBoltonNews  1.650000e+12  29/3/2022 23:02       -1.0   \n",
              "4  1.510000e+18          BMW_UK  1.650000e+12  29/3/2022 22:33       -1.0   \n",
              "\n",
              "                                               tweet language  \\\n",
              "0  UPDATE: CHP said a man was killed Monday night...       en   \n",
              "1  Another incredible Close House VIP car deliver...       en   \n",
              "2  The @BMW Motorrad Definition CE 04 sit-on #eSc...       en   \n",
              "3  'A tragedy for all concerned': Speeding driver...       en   \n",
              "4  @lynpaul6 Hi Lyn, we're sorry to hear your BMW...       en   \n",
              "\n",
              "                         hashtags cashtags  \\\n",
              "0                              []       []   \n",
              "1      ['bmw', 'vip', 'dreamcar']       []   \n",
              "2  ['escooter', 'transportation']       []   \n",
              "3                              []       []   \n",
              "4                              []       []   \n",
              "\n",
              "                                                link  \\\n",
              "0  https://twitter.com/23ABCNews/status/150883271...   \n",
              "1  https://twitter.com/CloseHouseGolf/status/1508...   \n",
              "2  https://twitter.com/GadgetFlow/status/15088288...   \n",
              "3  https://twitter.com/TheBoltonNews/status/15088...   \n",
              "4  https://twitter.com/BMW_UK/status/150881450842...   \n",
              "\n",
              "                                                urls  \\\n",
              "0  ['https://www.turnto23.com/news/local-news/one...   \n",
              "1                                                 []   \n",
              "2  ['https://thegadgetflow.com/portfolio/bmw-moto...   \n",
              "3  ['https://www.theboltonnews.co.uk/news/2002930...   \n",
              "4                                                 []   \n",
              "\n",
              "                                              photos  video  \\\n",
              "0                                                 []      0   \n",
              "1  ['https://pbs.twimg.com/media/FPBv1x2WQA49E4s....      1   \n",
              "2  ['https://pbs.twimg.com/media/FPBv1chX0AcuHfs....      1   \n",
              "3                                                 []      0   \n",
              "4                                                 []      0   \n",
              "\n",
              "                                         thumbnail  nlikes  nreplies  \\\n",
              "0                                              NaN       0         0   \n",
              "1  https://pbs.twimg.com/media/FPBv1x2WQA49E4s.jpg       7         0   \n",
              "2  https://pbs.twimg.com/media/FPBv1chX0AcuHfs.jpg       0         0   \n",
              "3                                              NaN       1         0   \n",
              "4                                              NaN       0         2   \n",
              "\n",
              "   nretweets  \n",
              "0          0  \n",
              "1          0  \n",
              "2          0  \n",
              "3          1  \n",
              "4          0  "
            ],
            "text/html": [
              "\n",
              "  <div id=\"df-5b94f4a8-6d96-4c5c-9713-d36eb71cfc4a\">\n",
              "    <div class=\"colab-df-container\">\n",
              "      <div>\n",
              "<style scoped>\n",
              "    .dataframe tbody tr th:only-of-type {\n",
              "        vertical-align: middle;\n",
              "    }\n",
              "\n",
              "    .dataframe tbody tr th {\n",
              "        vertical-align: top;\n",
              "    }\n",
              "\n",
              "    .dataframe thead th {\n",
              "        text-align: right;\n",
              "    }\n",
              "</style>\n",
              "<table border=\"1\" class=\"dataframe\">\n",
              "  <thead>\n",
              "    <tr style=\"text-align: right;\">\n",
              "      <th></th>\n",
              "      <th>id</th>\n",
              "      <th>username</th>\n",
              "      <th>created_at</th>\n",
              "      <th>date</th>\n",
              "      <th>Sentiment</th>\n",
              "      <th>tweet</th>\n",
              "      <th>language</th>\n",
              "      <th>hashtags</th>\n",
              "      <th>cashtags</th>\n",
              "      <th>link</th>\n",
              "      <th>urls</th>\n",
              "      <th>photos</th>\n",
              "      <th>video</th>\n",
              "      <th>thumbnail</th>\n",
              "      <th>nlikes</th>\n",
              "      <th>nreplies</th>\n",
              "      <th>nretweets</th>\n",
              "    </tr>\n",
              "  </thead>\n",
              "  <tbody>\n",
              "    <tr>\n",
              "      <th>0</th>\n",
              "      <td>1.510000e+18</td>\n",
              "      <td>23ABCNews</td>\n",
              "      <td>1.650000e+12</td>\n",
              "      <td>29/3/2022 23:45</td>\n",
              "      <td>-1.0</td>\n",
              "      <td>UPDATE: CHP said a man was killed Monday night...</td>\n",
              "      <td>en</td>\n",
              "      <td>[]</td>\n",
              "      <td>[]</td>\n",
              "      <td>https://twitter.com/23ABCNews/status/150883271...</td>\n",
              "      <td>['https://www.turnto23.com/news/local-news/one...</td>\n",
              "      <td>[]</td>\n",
              "      <td>0</td>\n",
              "      <td>NaN</td>\n",
              "      <td>0</td>\n",
              "      <td>0</td>\n",
              "      <td>0</td>\n",
              "    </tr>\n",
              "    <tr>\n",
              "      <th>1</th>\n",
              "      <td>1.510000e+18</td>\n",
              "      <td>CloseHouseGolf</td>\n",
              "      <td>1.650000e+12</td>\n",
              "      <td>29/3/2022 23:30</td>\n",
              "      <td>1.0</td>\n",
              "      <td>Another incredible Close House VIP car deliver...</td>\n",
              "      <td>en</td>\n",
              "      <td>['bmw', 'vip', 'dreamcar']</td>\n",
              "      <td>[]</td>\n",
              "      <td>https://twitter.com/CloseHouseGolf/status/1508...</td>\n",
              "      <td>[]</td>\n",
              "      <td>['https://pbs.twimg.com/media/FPBv1x2WQA49E4s....</td>\n",
              "      <td>1</td>\n",
              "      <td>https://pbs.twimg.com/media/FPBv1x2WQA49E4s.jpg</td>\n",
              "      <td>7</td>\n",
              "      <td>0</td>\n",
              "      <td>0</td>\n",
              "    </tr>\n",
              "    <tr>\n",
              "      <th>2</th>\n",
              "      <td>1.510000e+18</td>\n",
              "      <td>GadgetFlow</td>\n",
              "      <td>1.650000e+12</td>\n",
              "      <td>29/3/2022 23:30</td>\n",
              "      <td>1.0</td>\n",
              "      <td>The @BMW Motorrad Definition CE 04 sit-on #eSc...</td>\n",
              "      <td>en</td>\n",
              "      <td>['escooter', 'transportation']</td>\n",
              "      <td>[]</td>\n",
              "      <td>https://twitter.com/GadgetFlow/status/15088288...</td>\n",
              "      <td>['https://thegadgetflow.com/portfolio/bmw-moto...</td>\n",
              "      <td>['https://pbs.twimg.com/media/FPBv1chX0AcuHfs....</td>\n",
              "      <td>1</td>\n",
              "      <td>https://pbs.twimg.com/media/FPBv1chX0AcuHfs.jpg</td>\n",
              "      <td>0</td>\n",
              "      <td>0</td>\n",
              "      <td>0</td>\n",
              "    </tr>\n",
              "    <tr>\n",
              "      <th>3</th>\n",
              "      <td>1.510000e+18</td>\n",
              "      <td>TheBoltonNews</td>\n",
              "      <td>1.650000e+12</td>\n",
              "      <td>29/3/2022 23:02</td>\n",
              "      <td>-1.0</td>\n",
              "      <td>'A tragedy for all concerned': Speeding driver...</td>\n",
              "      <td>en</td>\n",
              "      <td>[]</td>\n",
              "      <td>[]</td>\n",
              "      <td>https://twitter.com/TheBoltonNews/status/15088...</td>\n",
              "      <td>['https://www.theboltonnews.co.uk/news/2002930...</td>\n",
              "      <td>[]</td>\n",
              "      <td>0</td>\n",
              "      <td>NaN</td>\n",
              "      <td>1</td>\n",
              "      <td>0</td>\n",
              "      <td>1</td>\n",
              "    </tr>\n",
              "    <tr>\n",
              "      <th>4</th>\n",
              "      <td>1.510000e+18</td>\n",
              "      <td>BMW_UK</td>\n",
              "      <td>1.650000e+12</td>\n",
              "      <td>29/3/2022 22:33</td>\n",
              "      <td>-1.0</td>\n",
              "      <td>@lynpaul6 Hi Lyn, we're sorry to hear your BMW...</td>\n",
              "      <td>en</td>\n",
              "      <td>[]</td>\n",
              "      <td>[]</td>\n",
              "      <td>https://twitter.com/BMW_UK/status/150881450842...</td>\n",
              "      <td>[]</td>\n",
              "      <td>[]</td>\n",
              "      <td>0</td>\n",
              "      <td>NaN</td>\n",
              "      <td>0</td>\n",
              "      <td>2</td>\n",
              "      <td>0</td>\n",
              "    </tr>\n",
              "  </tbody>\n",
              "</table>\n",
              "</div>\n",
              "      <button class=\"colab-df-convert\" onclick=\"convertToInteractive('df-5b94f4a8-6d96-4c5c-9713-d36eb71cfc4a')\"\n",
              "              title=\"Convert this dataframe to an interactive table.\"\n",
              "              style=\"display:none;\">\n",
              "        \n",
              "  <svg xmlns=\"http://www.w3.org/2000/svg\" height=\"24px\"viewBox=\"0 0 24 24\"\n",
              "       width=\"24px\">\n",
              "    <path d=\"M0 0h24v24H0V0z\" fill=\"none\"/>\n",
              "    <path d=\"M18.56 5.44l.94 2.06.94-2.06 2.06-.94-2.06-.94-.94-2.06-.94 2.06-2.06.94zm-11 1L8.5 8.5l.94-2.06 2.06-.94-2.06-.94L8.5 2.5l-.94 2.06-2.06.94zm10 10l.94 2.06.94-2.06 2.06-.94-2.06-.94-.94-2.06-.94 2.06-2.06.94z\"/><path d=\"M17.41 7.96l-1.37-1.37c-.4-.4-.92-.59-1.43-.59-.52 0-1.04.2-1.43.59L10.3 9.45l-7.72 7.72c-.78.78-.78 2.05 0 2.83L4 21.41c.39.39.9.59 1.41.59.51 0 1.02-.2 1.41-.59l7.78-7.78 2.81-2.81c.8-.78.8-2.07 0-2.86zM5.41 20L4 18.59l7.72-7.72 1.47 1.35L5.41 20z\"/>\n",
              "  </svg>\n",
              "      </button>\n",
              "      \n",
              "  <style>\n",
              "    .colab-df-container {\n",
              "      display:flex;\n",
              "      flex-wrap:wrap;\n",
              "      gap: 12px;\n",
              "    }\n",
              "\n",
              "    .colab-df-convert {\n",
              "      background-color: #E8F0FE;\n",
              "      border: none;\n",
              "      border-radius: 50%;\n",
              "      cursor: pointer;\n",
              "      display: none;\n",
              "      fill: #1967D2;\n",
              "      height: 32px;\n",
              "      padding: 0 0 0 0;\n",
              "      width: 32px;\n",
              "    }\n",
              "\n",
              "    .colab-df-convert:hover {\n",
              "      background-color: #E2EBFA;\n",
              "      box-shadow: 0px 1px 2px rgba(60, 64, 67, 0.3), 0px 1px 3px 1px rgba(60, 64, 67, 0.15);\n",
              "      fill: #174EA6;\n",
              "    }\n",
              "\n",
              "    [theme=dark] .colab-df-convert {\n",
              "      background-color: #3B4455;\n",
              "      fill: #D2E3FC;\n",
              "    }\n",
              "\n",
              "    [theme=dark] .colab-df-convert:hover {\n",
              "      background-color: #434B5C;\n",
              "      box-shadow: 0px 1px 3px 1px rgba(0, 0, 0, 0.15);\n",
              "      filter: drop-shadow(0px 1px 2px rgba(0, 0, 0, 0.3));\n",
              "      fill: #FFFFFF;\n",
              "    }\n",
              "  </style>\n",
              "\n",
              "      <script>\n",
              "        const buttonEl =\n",
              "          document.querySelector('#df-5b94f4a8-6d96-4c5c-9713-d36eb71cfc4a button.colab-df-convert');\n",
              "        buttonEl.style.display =\n",
              "          google.colab.kernel.accessAllowed ? 'block' : 'none';\n",
              "\n",
              "        async function convertToInteractive(key) {\n",
              "          const element = document.querySelector('#df-5b94f4a8-6d96-4c5c-9713-d36eb71cfc4a');\n",
              "          const dataTable =\n",
              "            await google.colab.kernel.invokeFunction('convertToInteractive',\n",
              "                                                     [key], {});\n",
              "          if (!dataTable) return;\n",
              "\n",
              "          const docLinkHtml = 'Like what you see? Visit the ' +\n",
              "            '<a target=\"_blank\" href=https://colab.research.google.com/notebooks/data_table.ipynb>data table notebook</a>'\n",
              "            + ' to learn more about interactive tables.';\n",
              "          element.innerHTML = '';\n",
              "          dataTable['output_type'] = 'display_data';\n",
              "          await google.colab.output.renderOutput(dataTable, element);\n",
              "          const docLink = document.createElement('div');\n",
              "          docLink.innerHTML = docLinkHtml;\n",
              "          element.appendChild(docLink);\n",
              "        }\n",
              "      </script>\n",
              "    </div>\n",
              "  </div>\n",
              "  "
            ]
          },
          "metadata": {},
          "execution_count": 1
        }
      ],
      "source": [
        "import pandas as pd\n",
        "bmw = pd.read_csv('BMW_Labelled.csv')\n",
        "bmw.drop(\"Unnamed: 0\",axis=1, inplace=True)\n",
        "bmw = bmw[(bmw['Sentiment']==1) | (bmw['Sentiment']==0) | (bmw['Sentiment']==-1)]\n",
        "bmw.reset_index(inplace=True, drop=True)\n",
        "bmw.head()"
      ]
    },
    {
      "cell_type": "code",
      "source": [
        "bmw.shape"
      ],
      "metadata": {
        "colab": {
          "base_uri": "https://localhost:8080/"
        },
        "id": "dy0HN6INraH1",
        "outputId": "bfa62b51-4ee1-47cb-d9b0-73ebed8814b4"
      },
      "execution_count": 2,
      "outputs": [
        {
          "output_type": "execute_result",
          "data": {
            "text/plain": [
              "(438, 17)"
            ]
          },
          "metadata": {},
          "execution_count": 2
        }
      ]
    },
    {
      "cell_type": "code",
      "source": [
        "print(\"Positive: \"+str(len(bmw[bmw['Sentiment']==1])))\n",
        "print(\"Neutral: \"+str(len(bmw[bmw['Sentiment']==0])))\n",
        "print(\"Negative: \"+str(len(bmw[bmw['Sentiment']==-1])))"
      ],
      "metadata": {
        "colab": {
          "base_uri": "https://localhost:8080/"
        },
        "id": "Zwg727jRro3C",
        "outputId": "83fb0c95-8576-42be-96bc-7eaf9fbd01d7"
      },
      "execution_count": 3,
      "outputs": [
        {
          "output_type": "stream",
          "name": "stdout",
          "text": [
            "Positive: 204\n",
            "Neutral: 66\n",
            "Negative: 168\n"
          ]
        }
      ]
    },
    {
      "cell_type": "code",
      "source": [
        "tesla = pd.read_csv('labelled_data_tesla.csv')\n",
        "tesla.drop(\"Unnamed: 0\",axis=1, inplace=True)\n",
        "tesla = tesla[(tesla['Sentiment']==1) | (tesla['Sentiment']==0) | (tesla['Sentiment']==-1)]\n",
        "tesla.reset_index(inplace=True, drop=True)\n",
        "tesla.head()"
      ],
      "metadata": {
        "colab": {
          "base_uri": "https://localhost:8080/",
          "height": 530
        },
        "id": "8Ia4sEZFJdAv",
        "outputId": "ecf6255f-c8b2-46e5-f00b-044d708df646"
      },
      "execution_count": 4,
      "outputs": [
        {
          "output_type": "execute_result",
          "data": {
            "text/plain": [
              "             id         username    created_at             date  Sentiment  \\\n",
              "0  1.510000e+18     stonercatstv  1.650000e+12  29/3/2022 23:42        0.0   \n",
              "1  1.510000e+18     YahooFinance  1.650000e+12  29/3/2022 23:41        1.0   \n",
              "2  1.510000e+18  AlbertBridgeCap  1.650000e+12  29/3/2022 23:35       -1.0   \n",
              "3  1.510000e+18  EntrepreneurIND  1.650000e+12  29/3/2022 23:30        1.0   \n",
              "4  1.510000e+18         SamAntar  1.650000e+12  29/3/2022 23:25       -1.0   \n",
              "\n",
              "                                               tweet language  \\\n",
              "0  @dillonthecoder dillon haha thx for letting me...       en   \n",
              "1  Tesla stock split indicates 'a massive positio...       en   \n",
              "2  $-for-$, the F-150 Lightning will have the sam...       en   \n",
              "3  #Creative, #dynamic and perpetually active â€“...       en   \n",
              "4  Yes. You can fool 100% of your bagholders, 98%...       en   \n",
              "\n",
              "                                            hashtags  cashtags  \\\n",
              "0                                                 []        []   \n",
              "1                                                 []        []   \n",
              "2                                                 []  ['tsla']   \n",
              "3  ['creative', 'dynamic', 'elonmusk', 'twitter',...        []   \n",
              "4                                                 []  ['tsla']   \n",
              "\n",
              "                                                link  \\\n",
              "0  https://twitter.com/stonercatstv/status/150883...   \n",
              "1  https://twitter.com/YahooFinance/status/150883...   \n",
              "2  https://twitter.com/AlbertBridgeCap/status/150...   \n",
              "3  https://twitter.com/EntrepreneurIND/status/150...   \n",
              "4  https://twitter.com/SamAntar/status/1508827795...   \n",
              "\n",
              "                                                urls  \\\n",
              "0                                                 []   \n",
              "1                        ['https://yhoo.it/3uDPJ0F']   \n",
              "2  ['https://www.caranddriver.com/ford/f-150-ligh...   \n",
              "3    ['https://www.entrepreneur.com/article/423267']   \n",
              "4                                                 []   \n",
              "\n",
              "                                              photos  video  \\\n",
              "0                                                 []    0.0   \n",
              "1  ['https://pbs.twimg.com/media/FPByXztWUAICHiY....    1.0   \n",
              "2                                                 []    0.0   \n",
              "3                                                 []    0.0   \n",
              "4                                                 []    0.0   \n",
              "\n",
              "                                         thumbnail  nlikes  nreplies  \\\n",
              "0                                              NaN     0.0       0.0   \n",
              "1  https://pbs.twimg.com/media/FPByXztWUAICHiY.jpg    20.0       1.0   \n",
              "2                                              NaN     5.0       3.0   \n",
              "3                                              NaN     0.0       0.0   \n",
              "4                                              NaN     4.0       0.0   \n",
              "\n",
              "   nretweets  \n",
              "0        0.0  \n",
              "1        3.0  \n",
              "2        0.0  \n",
              "3        1.0  \n",
              "4        0.0  "
            ],
            "text/html": [
              "\n",
              "  <div id=\"df-df309e46-3b0e-44a9-b207-16cf22820c9d\">\n",
              "    <div class=\"colab-df-container\">\n",
              "      <div>\n",
              "<style scoped>\n",
              "    .dataframe tbody tr th:only-of-type {\n",
              "        vertical-align: middle;\n",
              "    }\n",
              "\n",
              "    .dataframe tbody tr th {\n",
              "        vertical-align: top;\n",
              "    }\n",
              "\n",
              "    .dataframe thead th {\n",
              "        text-align: right;\n",
              "    }\n",
              "</style>\n",
              "<table border=\"1\" class=\"dataframe\">\n",
              "  <thead>\n",
              "    <tr style=\"text-align: right;\">\n",
              "      <th></th>\n",
              "      <th>id</th>\n",
              "      <th>username</th>\n",
              "      <th>created_at</th>\n",
              "      <th>date</th>\n",
              "      <th>Sentiment</th>\n",
              "      <th>tweet</th>\n",
              "      <th>language</th>\n",
              "      <th>hashtags</th>\n",
              "      <th>cashtags</th>\n",
              "      <th>link</th>\n",
              "      <th>urls</th>\n",
              "      <th>photos</th>\n",
              "      <th>video</th>\n",
              "      <th>thumbnail</th>\n",
              "      <th>nlikes</th>\n",
              "      <th>nreplies</th>\n",
              "      <th>nretweets</th>\n",
              "    </tr>\n",
              "  </thead>\n",
              "  <tbody>\n",
              "    <tr>\n",
              "      <th>0</th>\n",
              "      <td>1.510000e+18</td>\n",
              "      <td>stonercatstv</td>\n",
              "      <td>1.650000e+12</td>\n",
              "      <td>29/3/2022 23:42</td>\n",
              "      <td>0.0</td>\n",
              "      <td>@dillonthecoder dillon haha thx for letting me...</td>\n",
              "      <td>en</td>\n",
              "      <td>[]</td>\n",
              "      <td>[]</td>\n",
              "      <td>https://twitter.com/stonercatstv/status/150883...</td>\n",
              "      <td>[]</td>\n",
              "      <td>[]</td>\n",
              "      <td>0.0</td>\n",
              "      <td>NaN</td>\n",
              "      <td>0.0</td>\n",
              "      <td>0.0</td>\n",
              "      <td>0.0</td>\n",
              "    </tr>\n",
              "    <tr>\n",
              "      <th>1</th>\n",
              "      <td>1.510000e+18</td>\n",
              "      <td>YahooFinance</td>\n",
              "      <td>1.650000e+12</td>\n",
              "      <td>29/3/2022 23:41</td>\n",
              "      <td>1.0</td>\n",
              "      <td>Tesla stock split indicates 'a massive positio...</td>\n",
              "      <td>en</td>\n",
              "      <td>[]</td>\n",
              "      <td>[]</td>\n",
              "      <td>https://twitter.com/YahooFinance/status/150883...</td>\n",
              "      <td>['https://yhoo.it/3uDPJ0F']</td>\n",
              "      <td>['https://pbs.twimg.com/media/FPByXztWUAICHiY....</td>\n",
              "      <td>1.0</td>\n",
              "      <td>https://pbs.twimg.com/media/FPByXztWUAICHiY.jpg</td>\n",
              "      <td>20.0</td>\n",
              "      <td>1.0</td>\n",
              "      <td>3.0</td>\n",
              "    </tr>\n",
              "    <tr>\n",
              "      <th>2</th>\n",
              "      <td>1.510000e+18</td>\n",
              "      <td>AlbertBridgeCap</td>\n",
              "      <td>1.650000e+12</td>\n",
              "      <td>29/3/2022 23:35</td>\n",
              "      <td>-1.0</td>\n",
              "      <td>$-for-$, the F-150 Lightning will have the sam...</td>\n",
              "      <td>en</td>\n",
              "      <td>[]</td>\n",
              "      <td>['tsla']</td>\n",
              "      <td>https://twitter.com/AlbertBridgeCap/status/150...</td>\n",
              "      <td>['https://www.caranddriver.com/ford/f-150-ligh...</td>\n",
              "      <td>[]</td>\n",
              "      <td>0.0</td>\n",
              "      <td>NaN</td>\n",
              "      <td>5.0</td>\n",
              "      <td>3.0</td>\n",
              "      <td>0.0</td>\n",
              "    </tr>\n",
              "    <tr>\n",
              "      <th>3</th>\n",
              "      <td>1.510000e+18</td>\n",
              "      <td>EntrepreneurIND</td>\n",
              "      <td>1.650000e+12</td>\n",
              "      <td>29/3/2022 23:30</td>\n",
              "      <td>1.0</td>\n",
              "      <td>#Creative, #dynamic and perpetually active â€“...</td>\n",
              "      <td>en</td>\n",
              "      <td>['creative', 'dynamic', 'elonmusk', 'twitter',...</td>\n",
              "      <td>[]</td>\n",
              "      <td>https://twitter.com/EntrepreneurIND/status/150...</td>\n",
              "      <td>['https://www.entrepreneur.com/article/423267']</td>\n",
              "      <td>[]</td>\n",
              "      <td>0.0</td>\n",
              "      <td>NaN</td>\n",
              "      <td>0.0</td>\n",
              "      <td>0.0</td>\n",
              "      <td>1.0</td>\n",
              "    </tr>\n",
              "    <tr>\n",
              "      <th>4</th>\n",
              "      <td>1.510000e+18</td>\n",
              "      <td>SamAntar</td>\n",
              "      <td>1.650000e+12</td>\n",
              "      <td>29/3/2022 23:25</td>\n",
              "      <td>-1.0</td>\n",
              "      <td>Yes. You can fool 100% of your bagholders, 98%...</td>\n",
              "      <td>en</td>\n",
              "      <td>[]</td>\n",
              "      <td>['tsla']</td>\n",
              "      <td>https://twitter.com/SamAntar/status/1508827795...</td>\n",
              "      <td>[]</td>\n",
              "      <td>[]</td>\n",
              "      <td>0.0</td>\n",
              "      <td>NaN</td>\n",
              "      <td>4.0</td>\n",
              "      <td>0.0</td>\n",
              "      <td>0.0</td>\n",
              "    </tr>\n",
              "  </tbody>\n",
              "</table>\n",
              "</div>\n",
              "      <button class=\"colab-df-convert\" onclick=\"convertToInteractive('df-df309e46-3b0e-44a9-b207-16cf22820c9d')\"\n",
              "              title=\"Convert this dataframe to an interactive table.\"\n",
              "              style=\"display:none;\">\n",
              "        \n",
              "  <svg xmlns=\"http://www.w3.org/2000/svg\" height=\"24px\"viewBox=\"0 0 24 24\"\n",
              "       width=\"24px\">\n",
              "    <path d=\"M0 0h24v24H0V0z\" fill=\"none\"/>\n",
              "    <path d=\"M18.56 5.44l.94 2.06.94-2.06 2.06-.94-2.06-.94-.94-2.06-.94 2.06-2.06.94zm-11 1L8.5 8.5l.94-2.06 2.06-.94-2.06-.94L8.5 2.5l-.94 2.06-2.06.94zm10 10l.94 2.06.94-2.06 2.06-.94-2.06-.94-.94-2.06-.94 2.06-2.06.94z\"/><path d=\"M17.41 7.96l-1.37-1.37c-.4-.4-.92-.59-1.43-.59-.52 0-1.04.2-1.43.59L10.3 9.45l-7.72 7.72c-.78.78-.78 2.05 0 2.83L4 21.41c.39.39.9.59 1.41.59.51 0 1.02-.2 1.41-.59l7.78-7.78 2.81-2.81c.8-.78.8-2.07 0-2.86zM5.41 20L4 18.59l7.72-7.72 1.47 1.35L5.41 20z\"/>\n",
              "  </svg>\n",
              "      </button>\n",
              "      \n",
              "  <style>\n",
              "    .colab-df-container {\n",
              "      display:flex;\n",
              "      flex-wrap:wrap;\n",
              "      gap: 12px;\n",
              "    }\n",
              "\n",
              "    .colab-df-convert {\n",
              "      background-color: #E8F0FE;\n",
              "      border: none;\n",
              "      border-radius: 50%;\n",
              "      cursor: pointer;\n",
              "      display: none;\n",
              "      fill: #1967D2;\n",
              "      height: 32px;\n",
              "      padding: 0 0 0 0;\n",
              "      width: 32px;\n",
              "    }\n",
              "\n",
              "    .colab-df-convert:hover {\n",
              "      background-color: #E2EBFA;\n",
              "      box-shadow: 0px 1px 2px rgba(60, 64, 67, 0.3), 0px 1px 3px 1px rgba(60, 64, 67, 0.15);\n",
              "      fill: #174EA6;\n",
              "    }\n",
              "\n",
              "    [theme=dark] .colab-df-convert {\n",
              "      background-color: #3B4455;\n",
              "      fill: #D2E3FC;\n",
              "    }\n",
              "\n",
              "    [theme=dark] .colab-df-convert:hover {\n",
              "      background-color: #434B5C;\n",
              "      box-shadow: 0px 1px 3px 1px rgba(0, 0, 0, 0.15);\n",
              "      filter: drop-shadow(0px 1px 2px rgba(0, 0, 0, 0.3));\n",
              "      fill: #FFFFFF;\n",
              "    }\n",
              "  </style>\n",
              "\n",
              "      <script>\n",
              "        const buttonEl =\n",
              "          document.querySelector('#df-df309e46-3b0e-44a9-b207-16cf22820c9d button.colab-df-convert');\n",
              "        buttonEl.style.display =\n",
              "          google.colab.kernel.accessAllowed ? 'block' : 'none';\n",
              "\n",
              "        async function convertToInteractive(key) {\n",
              "          const element = document.querySelector('#df-df309e46-3b0e-44a9-b207-16cf22820c9d');\n",
              "          const dataTable =\n",
              "            await google.colab.kernel.invokeFunction('convertToInteractive',\n",
              "                                                     [key], {});\n",
              "          if (!dataTable) return;\n",
              "\n",
              "          const docLinkHtml = 'Like what you see? Visit the ' +\n",
              "            '<a target=\"_blank\" href=https://colab.research.google.com/notebooks/data_table.ipynb>data table notebook</a>'\n",
              "            + ' to learn more about interactive tables.';\n",
              "          element.innerHTML = '';\n",
              "          dataTable['output_type'] = 'display_data';\n",
              "          await google.colab.output.renderOutput(dataTable, element);\n",
              "          const docLink = document.createElement('div');\n",
              "          docLink.innerHTML = docLinkHtml;\n",
              "          element.appendChild(docLink);\n",
              "        }\n",
              "      </script>\n",
              "    </div>\n",
              "  </div>\n",
              "  "
            ]
          },
          "metadata": {},
          "execution_count": 4
        }
      ]
    },
    {
      "cell_type": "code",
      "source": [
        "tesla.shape"
      ],
      "metadata": {
        "colab": {
          "base_uri": "https://localhost:8080/"
        },
        "id": "Qq_VOBp2LTrt",
        "outputId": "87642f6e-48b9-4d76-cb89-18fd6274f6c3"
      },
      "execution_count": 5,
      "outputs": [
        {
          "output_type": "execute_result",
          "data": {
            "text/plain": [
              "(579, 17)"
            ]
          },
          "metadata": {},
          "execution_count": 5
        }
      ]
    },
    {
      "cell_type": "code",
      "source": [
        "print(\"Positive: \"+str(len(tesla[tesla['Sentiment']==1])))\n",
        "print(\"Neutral: \"+str(len(tesla[tesla['Sentiment']==0])))\n",
        "print(\"Negative: \"+str(len(tesla[tesla['Sentiment']==-1])))"
      ],
      "metadata": {
        "colab": {
          "base_uri": "https://localhost:8080/"
        },
        "id": "8Bpe-SAuLAn3",
        "outputId": "fe85a79c-a362-4cf5-dd81-3128aca010e4"
      },
      "execution_count": 6,
      "outputs": [
        {
          "output_type": "stream",
          "name": "stdout",
          "text": [
            "Positive: 322\n",
            "Neutral: 57\n",
            "Negative: 200\n"
          ]
        }
      ]
    },
    {
      "cell_type": "code",
      "source": [
        "df = pd.concat([bmw,tesla])\n",
        "df.reset_index(inplace=True, drop=True)"
      ],
      "metadata": {
        "id": "sixe7XphwJsC"
      },
      "execution_count": 7,
      "outputs": []
    },
    {
      "cell_type": "code",
      "source": [
        "df.shape"
      ],
      "metadata": {
        "colab": {
          "base_uri": "https://localhost:8080/"
        },
        "id": "GPTelnEAwJpN",
        "outputId": "5ce99d84-b310-47c6-ad8e-08edcdc99dd0"
      },
      "execution_count": 8,
      "outputs": [
        {
          "output_type": "execute_result",
          "data": {
            "text/plain": [
              "(1017, 17)"
            ]
          },
          "metadata": {},
          "execution_count": 8
        }
      ]
    },
    {
      "cell_type": "code",
      "source": [
        "df.head()"
      ],
      "metadata": {
        "colab": {
          "base_uri": "https://localhost:8080/",
          "height": 687
        },
        "id": "wCSum7cOxiF8",
        "outputId": "59796084-51a7-4329-f384-256919410d37"
      },
      "execution_count": 9,
      "outputs": [
        {
          "output_type": "execute_result",
          "data": {
            "text/plain": [
              "             id        username    created_at             date  Sentiment  \\\n",
              "0  1.510000e+18       23ABCNews  1.650000e+12  29/3/2022 23:45       -1.0   \n",
              "1  1.510000e+18  CloseHouseGolf  1.650000e+12  29/3/2022 23:30        1.0   \n",
              "2  1.510000e+18      GadgetFlow  1.650000e+12  29/3/2022 23:30        1.0   \n",
              "3  1.510000e+18   TheBoltonNews  1.650000e+12  29/3/2022 23:02       -1.0   \n",
              "4  1.510000e+18          BMW_UK  1.650000e+12  29/3/2022 22:33       -1.0   \n",
              "\n",
              "                                               tweet language  \\\n",
              "0  UPDATE: CHP said a man was killed Monday night...       en   \n",
              "1  Another incredible Close House VIP car deliver...       en   \n",
              "2  The @BMW Motorrad Definition CE 04 sit-on #eSc...       en   \n",
              "3  'A tragedy for all concerned': Speeding driver...       en   \n",
              "4  @lynpaul6 Hi Lyn, we're sorry to hear your BMW...       en   \n",
              "\n",
              "                         hashtags cashtags  \\\n",
              "0                              []       []   \n",
              "1      ['bmw', 'vip', 'dreamcar']       []   \n",
              "2  ['escooter', 'transportation']       []   \n",
              "3                              []       []   \n",
              "4                              []       []   \n",
              "\n",
              "                                                link  \\\n",
              "0  https://twitter.com/23ABCNews/status/150883271...   \n",
              "1  https://twitter.com/CloseHouseGolf/status/1508...   \n",
              "2  https://twitter.com/GadgetFlow/status/15088288...   \n",
              "3  https://twitter.com/TheBoltonNews/status/15088...   \n",
              "4  https://twitter.com/BMW_UK/status/150881450842...   \n",
              "\n",
              "                                                urls  \\\n",
              "0  ['https://www.turnto23.com/news/local-news/one...   \n",
              "1                                                 []   \n",
              "2  ['https://thegadgetflow.com/portfolio/bmw-moto...   \n",
              "3  ['https://www.theboltonnews.co.uk/news/2002930...   \n",
              "4                                                 []   \n",
              "\n",
              "                                              photos  video  \\\n",
              "0                                                 []    0.0   \n",
              "1  ['https://pbs.twimg.com/media/FPBv1x2WQA49E4s....    1.0   \n",
              "2  ['https://pbs.twimg.com/media/FPBv1chX0AcuHfs....    1.0   \n",
              "3                                                 []    0.0   \n",
              "4                                                 []    0.0   \n",
              "\n",
              "                                         thumbnail  nlikes  nreplies  \\\n",
              "0                                              NaN     0.0       0.0   \n",
              "1  https://pbs.twimg.com/media/FPBv1x2WQA49E4s.jpg     7.0       0.0   \n",
              "2  https://pbs.twimg.com/media/FPBv1chX0AcuHfs.jpg     0.0       0.0   \n",
              "3                                              NaN     1.0       0.0   \n",
              "4                                              NaN     0.0       2.0   \n",
              "\n",
              "   nretweets  \n",
              "0        0.0  \n",
              "1        0.0  \n",
              "2        0.0  \n",
              "3        1.0  \n",
              "4        0.0  "
            ],
            "text/html": [
              "\n",
              "  <div id=\"df-9266419e-8c8d-4e3a-8fd6-54ea13b535cf\">\n",
              "    <div class=\"colab-df-container\">\n",
              "      <div>\n",
              "<style scoped>\n",
              "    .dataframe tbody tr th:only-of-type {\n",
              "        vertical-align: middle;\n",
              "    }\n",
              "\n",
              "    .dataframe tbody tr th {\n",
              "        vertical-align: top;\n",
              "    }\n",
              "\n",
              "    .dataframe thead th {\n",
              "        text-align: right;\n",
              "    }\n",
              "</style>\n",
              "<table border=\"1\" class=\"dataframe\">\n",
              "  <thead>\n",
              "    <tr style=\"text-align: right;\">\n",
              "      <th></th>\n",
              "      <th>id</th>\n",
              "      <th>username</th>\n",
              "      <th>created_at</th>\n",
              "      <th>date</th>\n",
              "      <th>Sentiment</th>\n",
              "      <th>tweet</th>\n",
              "      <th>language</th>\n",
              "      <th>hashtags</th>\n",
              "      <th>cashtags</th>\n",
              "      <th>link</th>\n",
              "      <th>urls</th>\n",
              "      <th>photos</th>\n",
              "      <th>video</th>\n",
              "      <th>thumbnail</th>\n",
              "      <th>nlikes</th>\n",
              "      <th>nreplies</th>\n",
              "      <th>nretweets</th>\n",
              "    </tr>\n",
              "  </thead>\n",
              "  <tbody>\n",
              "    <tr>\n",
              "      <th>0</th>\n",
              "      <td>1.510000e+18</td>\n",
              "      <td>23ABCNews</td>\n",
              "      <td>1.650000e+12</td>\n",
              "      <td>29/3/2022 23:45</td>\n",
              "      <td>-1.0</td>\n",
              "      <td>UPDATE: CHP said a man was killed Monday night...</td>\n",
              "      <td>en</td>\n",
              "      <td>[]</td>\n",
              "      <td>[]</td>\n",
              "      <td>https://twitter.com/23ABCNews/status/150883271...</td>\n",
              "      <td>['https://www.turnto23.com/news/local-news/one...</td>\n",
              "      <td>[]</td>\n",
              "      <td>0.0</td>\n",
              "      <td>NaN</td>\n",
              "      <td>0.0</td>\n",
              "      <td>0.0</td>\n",
              "      <td>0.0</td>\n",
              "    </tr>\n",
              "    <tr>\n",
              "      <th>1</th>\n",
              "      <td>1.510000e+18</td>\n",
              "      <td>CloseHouseGolf</td>\n",
              "      <td>1.650000e+12</td>\n",
              "      <td>29/3/2022 23:30</td>\n",
              "      <td>1.0</td>\n",
              "      <td>Another incredible Close House VIP car deliver...</td>\n",
              "      <td>en</td>\n",
              "      <td>['bmw', 'vip', 'dreamcar']</td>\n",
              "      <td>[]</td>\n",
              "      <td>https://twitter.com/CloseHouseGolf/status/1508...</td>\n",
              "      <td>[]</td>\n",
              "      <td>['https://pbs.twimg.com/media/FPBv1x2WQA49E4s....</td>\n",
              "      <td>1.0</td>\n",
              "      <td>https://pbs.twimg.com/media/FPBv1x2WQA49E4s.jpg</td>\n",
              "      <td>7.0</td>\n",
              "      <td>0.0</td>\n",
              "      <td>0.0</td>\n",
              "    </tr>\n",
              "    <tr>\n",
              "      <th>2</th>\n",
              "      <td>1.510000e+18</td>\n",
              "      <td>GadgetFlow</td>\n",
              "      <td>1.650000e+12</td>\n",
              "      <td>29/3/2022 23:30</td>\n",
              "      <td>1.0</td>\n",
              "      <td>The @BMW Motorrad Definition CE 04 sit-on #eSc...</td>\n",
              "      <td>en</td>\n",
              "      <td>['escooter', 'transportation']</td>\n",
              "      <td>[]</td>\n",
              "      <td>https://twitter.com/GadgetFlow/status/15088288...</td>\n",
              "      <td>['https://thegadgetflow.com/portfolio/bmw-moto...</td>\n",
              "      <td>['https://pbs.twimg.com/media/FPBv1chX0AcuHfs....</td>\n",
              "      <td>1.0</td>\n",
              "      <td>https://pbs.twimg.com/media/FPBv1chX0AcuHfs.jpg</td>\n",
              "      <td>0.0</td>\n",
              "      <td>0.0</td>\n",
              "      <td>0.0</td>\n",
              "    </tr>\n",
              "    <tr>\n",
              "      <th>3</th>\n",
              "      <td>1.510000e+18</td>\n",
              "      <td>TheBoltonNews</td>\n",
              "      <td>1.650000e+12</td>\n",
              "      <td>29/3/2022 23:02</td>\n",
              "      <td>-1.0</td>\n",
              "      <td>'A tragedy for all concerned': Speeding driver...</td>\n",
              "      <td>en</td>\n",
              "      <td>[]</td>\n",
              "      <td>[]</td>\n",
              "      <td>https://twitter.com/TheBoltonNews/status/15088...</td>\n",
              "      <td>['https://www.theboltonnews.co.uk/news/2002930...</td>\n",
              "      <td>[]</td>\n",
              "      <td>0.0</td>\n",
              "      <td>NaN</td>\n",
              "      <td>1.0</td>\n",
              "      <td>0.0</td>\n",
              "      <td>1.0</td>\n",
              "    </tr>\n",
              "    <tr>\n",
              "      <th>4</th>\n",
              "      <td>1.510000e+18</td>\n",
              "      <td>BMW_UK</td>\n",
              "      <td>1.650000e+12</td>\n",
              "      <td>29/3/2022 22:33</td>\n",
              "      <td>-1.0</td>\n",
              "      <td>@lynpaul6 Hi Lyn, we're sorry to hear your BMW...</td>\n",
              "      <td>en</td>\n",
              "      <td>[]</td>\n",
              "      <td>[]</td>\n",
              "      <td>https://twitter.com/BMW_UK/status/150881450842...</td>\n",
              "      <td>[]</td>\n",
              "      <td>[]</td>\n",
              "      <td>0.0</td>\n",
              "      <td>NaN</td>\n",
              "      <td>0.0</td>\n",
              "      <td>2.0</td>\n",
              "      <td>0.0</td>\n",
              "    </tr>\n",
              "  </tbody>\n",
              "</table>\n",
              "</div>\n",
              "      <button class=\"colab-df-convert\" onclick=\"convertToInteractive('df-9266419e-8c8d-4e3a-8fd6-54ea13b535cf')\"\n",
              "              title=\"Convert this dataframe to an interactive table.\"\n",
              "              style=\"display:none;\">\n",
              "        \n",
              "  <svg xmlns=\"http://www.w3.org/2000/svg\" height=\"24px\"viewBox=\"0 0 24 24\"\n",
              "       width=\"24px\">\n",
              "    <path d=\"M0 0h24v24H0V0z\" fill=\"none\"/>\n",
              "    <path d=\"M18.56 5.44l.94 2.06.94-2.06 2.06-.94-2.06-.94-.94-2.06-.94 2.06-2.06.94zm-11 1L8.5 8.5l.94-2.06 2.06-.94-2.06-.94L8.5 2.5l-.94 2.06-2.06.94zm10 10l.94 2.06.94-2.06 2.06-.94-2.06-.94-.94-2.06-.94 2.06-2.06.94z\"/><path d=\"M17.41 7.96l-1.37-1.37c-.4-.4-.92-.59-1.43-.59-.52 0-1.04.2-1.43.59L10.3 9.45l-7.72 7.72c-.78.78-.78 2.05 0 2.83L4 21.41c.39.39.9.59 1.41.59.51 0 1.02-.2 1.41-.59l7.78-7.78 2.81-2.81c.8-.78.8-2.07 0-2.86zM5.41 20L4 18.59l7.72-7.72 1.47 1.35L5.41 20z\"/>\n",
              "  </svg>\n",
              "      </button>\n",
              "      \n",
              "  <style>\n",
              "    .colab-df-container {\n",
              "      display:flex;\n",
              "      flex-wrap:wrap;\n",
              "      gap: 12px;\n",
              "    }\n",
              "\n",
              "    .colab-df-convert {\n",
              "      background-color: #E8F0FE;\n",
              "      border: none;\n",
              "      border-radius: 50%;\n",
              "      cursor: pointer;\n",
              "      display: none;\n",
              "      fill: #1967D2;\n",
              "      height: 32px;\n",
              "      padding: 0 0 0 0;\n",
              "      width: 32px;\n",
              "    }\n",
              "\n",
              "    .colab-df-convert:hover {\n",
              "      background-color: #E2EBFA;\n",
              "      box-shadow: 0px 1px 2px rgba(60, 64, 67, 0.3), 0px 1px 3px 1px rgba(60, 64, 67, 0.15);\n",
              "      fill: #174EA6;\n",
              "    }\n",
              "\n",
              "    [theme=dark] .colab-df-convert {\n",
              "      background-color: #3B4455;\n",
              "      fill: #D2E3FC;\n",
              "    }\n",
              "\n",
              "    [theme=dark] .colab-df-convert:hover {\n",
              "      background-color: #434B5C;\n",
              "      box-shadow: 0px 1px 3px 1px rgba(0, 0, 0, 0.15);\n",
              "      filter: drop-shadow(0px 1px 2px rgba(0, 0, 0, 0.3));\n",
              "      fill: #FFFFFF;\n",
              "    }\n",
              "  </style>\n",
              "\n",
              "      <script>\n",
              "        const buttonEl =\n",
              "          document.querySelector('#df-9266419e-8c8d-4e3a-8fd6-54ea13b535cf button.colab-df-convert');\n",
              "        buttonEl.style.display =\n",
              "          google.colab.kernel.accessAllowed ? 'block' : 'none';\n",
              "\n",
              "        async function convertToInteractive(key) {\n",
              "          const element = document.querySelector('#df-9266419e-8c8d-4e3a-8fd6-54ea13b535cf');\n",
              "          const dataTable =\n",
              "            await google.colab.kernel.invokeFunction('convertToInteractive',\n",
              "                                                     [key], {});\n",
              "          if (!dataTable) return;\n",
              "\n",
              "          const docLinkHtml = 'Like what you see? Visit the ' +\n",
              "            '<a target=\"_blank\" href=https://colab.research.google.com/notebooks/data_table.ipynb>data table notebook</a>'\n",
              "            + ' to learn more about interactive tables.';\n",
              "          element.innerHTML = '';\n",
              "          dataTable['output_type'] = 'display_data';\n",
              "          await google.colab.output.renderOutput(dataTable, element);\n",
              "          const docLink = document.createElement('div');\n",
              "          docLink.innerHTML = docLinkHtml;\n",
              "          element.appendChild(docLink);\n",
              "        }\n",
              "      </script>\n",
              "    </div>\n",
              "  </div>\n",
              "  "
            ]
          },
          "metadata": {},
          "execution_count": 9
        }
      ]
    },
    {
      "cell_type": "code",
      "source": [
        "import pandas as pd\n",
        "import re\n",
        "import nltk\n",
        "from nltk.corpus import stopwords\n",
        "from nltk.stem import WordNetLemmatizer\n",
        "import string\n",
        "\n",
        "\n",
        "#Run these two lines only once\n",
        "nltk.download('stopwords')\n",
        "nltk.download('wordnet')\n",
        "\n",
        "valid_characters = string.ascii_letters+\".,';\"\n",
        "\n",
        "def preprocess_tweets(df):\n",
        "\n",
        "    print(df['tweet'][0])\n",
        "    #Removing urls and stripping whitespaces\n",
        "    for i in range(len(df['tweet'])):\n",
        "        df['tweet'][i] = re.sub(r'http\\S+', '', df['tweet'][i])\n",
        "        df['tweet'][i] = df['tweet'][i].strip()\n",
        "\n",
        "    \n",
        "    #Removing hashtags and mentions\n",
        "    for i in range(len(df['tweet'])):\n",
        "        df['tweet'][i] = ' '.join([word for word in df['tweet'][i].split() if word[0]!='@' and word[0]!='#'])\n",
        "\n",
        "    #Only keeping words containing ascii letters\n",
        "    for i in range(len(df['tweet'])):\n",
        "        new_tweet_list = []\n",
        "        for word in df['tweet'][i].split():\n",
        "            is_valid_word = True\n",
        "            for letter in word:\n",
        "                if letter not in valid_characters:\n",
        "                    is_valid_word = False\n",
        "                    break\n",
        "            if is_valid_word:\n",
        "                new_tweet_list.append(word)\n",
        "\n",
        "        df['tweet'][i] = ' '.join(new_tweet_list)\n",
        "\n",
        "\n",
        "\n",
        "\n",
        "    #Lowercasing all texts, removing stopwords, and lemmatizing the texts\n",
        "    stopwordsList = stopwords.words('english') \n",
        "    lemmatizer = WordNetLemmatizer()\n",
        "    for i in range(len(df['tweet'])):\n",
        "        df['tweet'][i] = df['tweet'][i].lower()\n",
        "        df['tweet'][i] = ' '.join([word for word in df['tweet'][i].split() if word not in stopwordsList])\n",
        "        df['tweet'][i] = ' '.join([lemmatizer.lemmatize(word) for word in df['tweet'][i].split()])\n",
        "\n",
        "    return df\n",
        "\n",
        "\n",
        "\n",
        "df = preprocess_tweets(df)\n",
        "    \n",
        "\n",
        "\n",
        "    \n",
        "\n",
        "\n",
        "\n",
        "    \n",
        "\n"
      ],
      "metadata": {
        "colab": {
          "base_uri": "https://localhost:8080/"
        },
        "id": "o6ZSfYjbM31S",
        "outputId": "f9e6e33f-2d83-46ff-b684-86c7bbcc19d9"
      },
      "execution_count": 10,
      "outputs": [
        {
          "output_type": "stream",
          "name": "stdout",
          "text": [
            "[nltk_data] Downloading package stopwords to /root/nltk_data...\n",
            "[nltk_data]   Unzipping corpora/stopwords.zip.\n",
            "[nltk_data] Downloading package wordnet to /root/nltk_data...\n",
            "[nltk_data]   Unzipping corpora/wordnet.zip.\n",
            "UPDATE: CHP said a man was killed Monday night after accelerating his car rapidly in the rain caused him to lose control of his 2009 BMW and veer into the opposite lane of traffic and crash in a Ford in Northwest Bakersfield.  https://t.co/N9cxzMbWaZ\n"
          ]
        },
        {
          "output_type": "stream",
          "name": "stderr",
          "text": [
            "/usr/local/lib/python3.7/dist-packages/ipykernel_launcher.py:20: SettingWithCopyWarning: \n",
            "A value is trying to be set on a copy of a slice from a DataFrame\n",
            "\n",
            "See the caveats in the documentation: https://pandas.pydata.org/pandas-docs/stable/user_guide/indexing.html#returning-a-view-versus-a-copy\n",
            "/usr/local/lib/python3.7/dist-packages/ipykernel_launcher.py:21: SettingWithCopyWarning: \n",
            "A value is trying to be set on a copy of a slice from a DataFrame\n",
            "\n",
            "See the caveats in the documentation: https://pandas.pydata.org/pandas-docs/stable/user_guide/indexing.html#returning-a-view-versus-a-copy\n",
            "/usr/local/lib/python3.7/dist-packages/ipykernel_launcher.py:26: SettingWithCopyWarning: \n",
            "A value is trying to be set on a copy of a slice from a DataFrame\n",
            "\n",
            "See the caveats in the documentation: https://pandas.pydata.org/pandas-docs/stable/user_guide/indexing.html#returning-a-view-versus-a-copy\n",
            "/usr/local/lib/python3.7/dist-packages/ipykernel_launcher.py:40: SettingWithCopyWarning: \n",
            "A value is trying to be set on a copy of a slice from a DataFrame\n",
            "\n",
            "See the caveats in the documentation: https://pandas.pydata.org/pandas-docs/stable/user_guide/indexing.html#returning-a-view-versus-a-copy\n",
            "/usr/local/lib/python3.7/dist-packages/ipykernel_launcher.py:49: SettingWithCopyWarning: \n",
            "A value is trying to be set on a copy of a slice from a DataFrame\n",
            "\n",
            "See the caveats in the documentation: https://pandas.pydata.org/pandas-docs/stable/user_guide/indexing.html#returning-a-view-versus-a-copy\n",
            "/usr/local/lib/python3.7/dist-packages/ipykernel_launcher.py:50: SettingWithCopyWarning: \n",
            "A value is trying to be set on a copy of a slice from a DataFrame\n",
            "\n",
            "See the caveats in the documentation: https://pandas.pydata.org/pandas-docs/stable/user_guide/indexing.html#returning-a-view-versus-a-copy\n",
            "/usr/local/lib/python3.7/dist-packages/ipykernel_launcher.py:51: SettingWithCopyWarning: \n",
            "A value is trying to be set on a copy of a slice from a DataFrame\n",
            "\n",
            "See the caveats in the documentation: https://pandas.pydata.org/pandas-docs/stable/user_guide/indexing.html#returning-a-view-versus-a-copy\n"
          ]
        }
      ]
    },
    {
      "cell_type": "code",
      "source": [
        "\n",
        "import numpy as np\n",
        " \n",
        "train_size = 0.8\n",
        "\n",
        "X_pos = np.array(df[df['Sentiment']==1]['tweet'])\n",
        "X_neu = np.array(df[df['Sentiment']==0]['tweet'])\n",
        "X_neg = np.array(df[df['Sentiment']==-1]['tweet'])\n",
        "\n",
        "np.random.shuffle(X_pos)\n",
        "np.random.shuffle(X_neu)\n",
        "np.random.shuffle(X_neg)\n",
        "\n",
        "X_train_pos = X_pos[:int(np.floor(train_size*len(X_pos)))]\n",
        "X_train_neu = X_neu[:int(np.floor(train_size*len(X_neu)))]\n",
        "X_train_neg = X_neg[:int(np.floor(train_size*len(X_neg)))]\n",
        "\n",
        "y_train_pos = np.array([1]*len(X_train_pos))\n",
        "y_train_neu = np.array([0]*len(X_train_neu))\n",
        "y_train_neg = np.array([-1]*len(X_train_neg))\n",
        "\n",
        "X_test_pos = X_pos[int(np.floor(train_size*len(X_pos))):]\n",
        "X_test_neu = X_neu[int(np.floor(train_size*len(X_neu))):]\n",
        "X_test_neg = X_neg[int(np.floor(train_size*len(X_neg))):]\n",
        "\n",
        "y_test_pos = np.array([1]*len(X_test_pos))\n",
        "y_test_neu = np.array([0]*len(X_test_neu))\n",
        "y_test_neg = np.array([-1]*len(X_test_neg))\n",
        "\n",
        "\n",
        "X_train = np.concatenate((X_train_pos, X_train_neu, X_train_neg),axis=None)\n",
        "y_train = np.concatenate((y_train_pos, y_train_neu, y_train_neg),axis=None)\n",
        "X_test = np.concatenate((X_test_pos, X_test_neu, X_test_neg),axis=None)\n",
        "y_test = np.concatenate((y_test_pos, y_test_neu, y_test_neg),axis=None)\n",
        "\n",
        "\n",
        "\n",
        "\n",
        "\n",
        "\n",
        "# X_pos_train, X_pos_test , y_pos_train, y_pos_test = train_test_split(X_pos, y , test_size = 0.10)"
      ],
      "metadata": {
        "id": "QSSwE-XcvA0S"
      },
      "execution_count": 11,
      "outputs": []
    },
    {
      "cell_type": "code",
      "source": [
        "len(X_test)"
      ],
      "metadata": {
        "colab": {
          "base_uri": "https://localhost:8080/"
        },
        "id": "lWn7VkwnL8RX",
        "outputId": "c154dc18-5c59-4202-bc1a-4b79be277b78"
      },
      "execution_count": 12,
      "outputs": [
        {
          "output_type": "execute_result",
          "data": {
            "text/plain": [
              "205"
            ]
          },
          "metadata": {},
          "execution_count": 12
        }
      ]
    },
    {
      "cell_type": "code",
      "source": [
        "from keras.preprocessing.text import Tokenizer\n",
        "vocab_size = 5000\n",
        "oov_token = \"<OOV>\"\n",
        "tokenizer = Tokenizer(num_words = vocab_size, oov_token=oov_token)\n",
        "tokenizer.fit_on_texts(X_train)"
      ],
      "metadata": {
        "id": "DFe6VP7fajCe"
      },
      "execution_count": 13,
      "outputs": []
    },
    {
      "cell_type": "code",
      "source": [
        "word_index = tokenizer.word_index"
      ],
      "metadata": {
        "id": "4JofRTKIai_A"
      },
      "execution_count": 14,
      "outputs": []
    },
    {
      "cell_type": "code",
      "source": [
        "print(word_index)"
      ],
      "metadata": {
        "colab": {
          "base_uri": "https://localhost:8080/"
        },
        "id": "uiA_owOuai7s",
        "outputId": "94611c34-0a76-40a2-e363-3790bd619133"
      },
      "execution_count": 15,
      "outputs": [
        {
          "output_type": "stream",
          "name": "stdout",
          "text": [
            "{'<OOV>': 1, 'tesla': 2, 'bmw': 3, 'car': 4, 'new': 5, 'stock': 6, 'elon': 7, 'vehicle': 8, 'musk': 9, 'year': 10, 'electric': 11, 'u': 12, 'driver': 13, 'model': 14, 'first': 15, 'split': 16, 'say': 17, 'price': 18, 'like': 19, 'said': 20, 'via': 21, 'driving': 22, 'black': 23, 'one': 24, 'two': 25, 'would': 26, 'day': 27, 'know': 28, 'time': 29, 'get': 30, 'share': 31, 'people': 32, 'could': 33, 'factory': 34, 'drive': 35, 'medium': 36, 'company': 37, 'take': 38, 'production': 39, 'road': 40, 'twitter': 41, 'plant': 42, 'battery': 43, 'billion': 44, 'ix': 45, 'big': 46, 'ceo': 47, 'worker': 48, 'want': 49, \"tesla's\": 50, 'look': 51, 'series': 52, 'another': 53, 'april': 54, 'crash': 55, 'social': 56, 'ev': 57, 'make': 58, 'platform': 59, 'second': 60, 'call': 61, 'former': 62, 'design': 63, 'watch': 64, 'million': 65, 'go': 66, 'range': 67, 'plan': 68, 'man': 69, 'police': 70, 'read': 71, 'german': 72, 'set': 73, 'market': 74, 'week': 75, 'le': 76, 'employee': 77, 'buy': 78, 'maker': 79, 'gigafactory': 80, 'engine': 81, 's': 82, 'last': 83, 'number': 84, 'see': 85, 'good': 86, 'executive': 87, 'news': 88, 'going': 89, 'best': 90, 'future': 91, 'top': 92, 'covid': 93, 'report': 94, 'technology': 95, 'thing': 96, 'next': 97, 'come': 98, 'announced': 99, 'performance': 100, 'right': 101, 'speech': 102, 'india': 103, 'stop': 104, 'recall': 105, 'world': 106, 'chief': 107, 'thanks': 108, 'sale': 109, 'may': 110, 'found': 111, 'texas': 112, 'apple': 113, 'free': 114, 'california': 115, 'also': 116, 'love': 117, 'officer': 118, 'team': 119, 'work': 120, 'across': 121, 'suv': 122, 'arrested': 123, 'describe': 124, 'v': 125, 'launch': 126, 'high': 127, 'every': 128, 'full': 129, 'video': 130, 'amazon': 131, 'way': 132, 'cars': 133, 'opening': 134, 'supply': 135, 'join': 136, 'seek': 137, 'soon': 138, 'energy': 139, 'need': 140, 'years': 141, 'issue': 142, 'giving': 143, 'today': 144, 'hit': 145, 'never': 146, 'hi': 147, 'following': 148, 'three': 149, 'really': 150, 'owner': 151, 'street': 152, 'inside': 153, 'worth': 154, 'shanghai': 155, 'tweet': 156, 'got': 157, 'it': 158, 'ever': 159, 'trillion': 160, 'since': 161, 'support': 162, 'made': 163, 'fun': 164, 'gruenheide': 165, 'making': 166, 'job': 167, 'event': 168, 'near': 169, 'ukraine': 170, 'something': 171, 'many': 172, 'called': 173, 'scene': 174, 'stolen': 175, 'still': 176, 'lot': 177, 'ahead': 178, 'using': 179, 'find': 180, 'net': 181, \"bmw's\": 182, 'win': 183, 'germany': 184, 'billionaire': 185, 'display': 186, 'shareholder': 187, 'turn': 188, 'racism': 189, 'building': 190, 'home': 191, 'russia': 192, 'luxury': 193, 'five': 194, 'fire': 195, 'tech': 196, 'start': 197, 'account': 198, 'due': 199, 'china': 200, 'jump': 201, 'motor': 202, 'ford': 203, 'department': 204, 'march': 205, 'around': 206, 'image': 207, 'happy': 208, 'breaking': 209, 'lawsuit': 210, 'increase': 211, 'out': 212, 'group': 213, 'learn': 214, 'use': 215, 'recently': 216, 'better': 217, 'tsla': 218, 'system': 219, 'old': 220, \"musk's\": 221, 'put': 222, 'supercharger': 223, 'dance': 224, 'person': 225, 'feature': 226, 'workplace': 227, 'great': 228, 'sport': 229, 'review': 230, 'manufacturing': 231, 'change': 232, 'back': 233, 'move': 234, 'think': 235, 'thank': 236, 'sure': 237, 'coupe': 238, 'meet': 239, 'yes': 240, 'woman': 241, 'morning': 242, 'x': 243, 'higher': 244, 'automotive': 245, 'local': 246, 'bad': 247, 'business': 248, 'even': 249, 'supplier': 250, 'customer': 251, 'please': 252, 'party': 253, 'crashed': 254, 'approval': 255, 'unit': 256, 'delivery': 257, 'well': 258, 'power': 259, \"that's\": 260, 'amazing': 261, 'detail': 262, 'perfect': 263, 'europe': 264, 'automaker': 265, 'drove': 266, 'lead': 267, 'deal': 268, 'hold': 269, 'berlin': 270, 'listen': 271, 'green': 272, 'gas': 273, 'looking': 274, 'according': 275, 'update': 276, 'already': 277, 'mobility': 278, 'major': 279, 'competition': 280, 'result': 281, 'oversaw': 282, 'handover': 283, 'sold': 284, 'oil': 285, 'part': 286, 'line': 287, 'expand': 288, 'effect': 289, 'early': 290, 'live': 291, 'trading': 292, 'per': 293, 'enough': 294, 'wait': 295, 'give': 296, 'inc': 297, 'talking': 298, 'action': 299, 'name': 300, 'seen': 301, 'biggest': 302, 'european': 303, 'least': 304, 'auto': 305, 'end': 306, 'form': 307, 'ask': 308, 'drag': 309, 'let': 310, 'run': 311, 'yet': 312, 'risk': 313, 'white': 314, 'possible': 315, 'lane': 316, 'killed': 317, 'current': 318, 'rearview': 319, 'hike': 320, 'speeding': 321, 'died': 322, 'third': 323, 'property': 324, 'waiting': 325, 'analyst': 326, 'given': 327, 'super': 328, 'faster': 329, 'track': 330, 'sharing': 331, 'strong': 332, 'nhtsa': 333, \"he's\": 334, 'boost': 335, 'meeting': 336, 'hear': 337, 'might': 338, 'product': 339, 'charging': 340, 'used': 341, 'control': 342, 'tax': 343, 'become': 344, 'almost': 345, 'uk': 346, 'getting': 347, 'sec': 348, 'monday': 349, 'caught': 350, 'far': 351, 'started': 352, \"i've\": 353, \"automaker's\": 354, 'sell': 355, 'receive': 356, 'export': 357, 'later': 358, 'powerful': 359, 'sound': 360, 'special': 361, 'single': 362, 'point': 363, 'post': 364, 'record': 365, 'opened': 366, 'long': 367, 'austin': 368, 'area': 369, 'believe': 370, 'onto': 371, 'latest': 372, 'innovative': 373, 'behind': 374, 'serious': 375, 'ride': 376, 'running': 377, 'offer': 378, 'rose': 379, 'edition': 380, 'partner': 381, 'service': 382, 'environmental': 383, 'smart': 384, 'important': 385, 'space': 386, 'project': 387, 'south': 388, 'richest': 389, 'again': 390, 'exclusive': 391, 'month': 392, 'selling': 393, 'including': 394, 'yesterday': 395, 'this': 396, 'race': 397, 'exchange': 398, 'drop': 399, 'play': 400, 'nvidia': 401, 'google': 402, 'saturday': 403, 'beat': 404, 'manufacturer': 405, 'lakh': 406, 'version': 407, 'there': 408, 'absolutely': 409, 'order': 410, 'air': 411, 'light': 412, 'vision': 413, \"'i\": 414, 'check': 415, 'task': 416, 'cost': 417, 'rival': 418, 'submit': 419, 'contact': 420, 'touch': 421, 'nikola': 422, 'dm': 423, 'night': 424, 'fighting': 425, 'speak': 426, 'life': 427, 'delay': 428, 'culture': 429, 'along': 430, 'hospital': 431, 'collision': 432, 'often': 433, 'build': 434, 'massive': 435, 'dan': 436, 'hope': 437, 'digital': 438, 'impact': 439, 'virtual': 440, 'husband': 441, 'help': 442, 'course': 443, 'gold': 444, 'gain': 445, \"we're\": 446, \"let's\": 447, 'cybertruck': 448, 'community': 449, 'interesting': 450, 'safety': 451, 'america': 452, 'spacex': 453, 'key': 454, \"here's\": 455, 'showroom': 456, 'customers': 457, 'network': 458, 'term': 459, 'comfort': 460, 'mean': 461, 'sign': 462, 'announces': 463, 'podcast': 464, 'push': 465, 'government': 466, 'city': 467, 'fastest': 468, 'keep': 469, 'roof': 470, 'sustainable': 471, 'travel': 472, 'longer': 473, 'brand': 474, 'till': 475, 'now': 476, 'book': 477, 'says': 478, 'speed': 479, 'creating': 480, 'example': 481, 'shares': 482, 'profit': 483, 'able': 484, 'modern': 485, 'adhere': 486, 'facing': 487, 'beautiful': 488, 'starting': 489, 'earnings': 490, 'raised': 491, 'chip': 492, 'crisis': 493, 'more': 494, 'feel': 495, 'among': 496, 'mile': 497, 'giant': 498, 'cheered': 499, 'hub': 500, 'half': 501, 'aim': 502, 'corporate': 503, 'blocked': 504, 'water': 505, 'blend': 506, 'nice': 507, 'jobs': 508, 'family': 509, 'expanding': 510, 'park': 511, 'days': 512, 'wrong': 513, 'someone': 514, 'investment': 515, 'much': 516, 'send': 517, 'pay': 518, 'microsoft': 519, 'money': 520, 'side': 521, 'probably': 522, 'km': 523, 'standard': 524, 'dancing': 525, 'saying': 526, 'separate': 527, 'despite': 528, 'place': 529, 'charge': 530, 'patrol': 531, 'no': 532, 'picture': 533, 'dealer': 534, 'cannot': 535, 'message': 536, 'complaint': 537, 'recommend': 538, 'clicking': 539, 'state': 540, 'certain': 541, 'went': 542, 'minor': 543, 'idea': 544, 'bought': 545, 'plunge': 546, 'material': 547, 'corner': 548, 'vote': 549, 'ditch': 550, 'aptiv': 551, 'costs': 552, 'rates': 553, 'routinely': 554, 'hardest': 555, 'girl': 556, 'fleeing': 557, 'teen': 558, 'cause': 559, 'injured': 560, 'failed': 561, 'stopped': 562, 'fremont': 563, 'influence': 564, 'reportedly': 565, 'injuries': 566, 'racist': 567, 'friday': 568, 'problem': 569, 'drug': 570, 'federal': 571, 'behalf': 572, 'chase': 573, 'segregated': 574, 'position': 575, \"'\": 576, 'ives': 577, 'produced': 578, 'longest': 579, 'winning': 580, 'rally': 581, 'wall': 582, 'schwarzenegger': 583, 'bowl': 584, 'seamless': 585, 'process': 586, 'bold': 587, 'information': 588, 'c': 589, 'science': 590, 'real': 591, 'game': 592, 'answer': 593, 'hint': 594, \"pelosi's\": 595, 'assist': 596, 'sabbatical': 597, 'recap': 598, 'fine': 599, 'fuel': 600, 'rule': 601, 'excited': 602, 'enjoy': 603, 'unique': 604, 'manager': 605, 'talk': 606, 'manufacture': 607, 'taking': 608, 'lost': 609, 'innovation': 610, 'president': 611, \"'the\": 612, 'true': 613, 'huge': 614, 'premium': 615, 'show': 616, 'either': 617, 'acquiring': 618, 'town': 619, 'short': 620, 'anything': 621, 'experience': 622, 'firm': 623, 'open': 624, 'loved': 625, 'station': 626, 'spending': 627, 'small': 628, 'truck': 629, 'weekend': 630, 'option': 631, 'im': 632, 'bear': 633, 'locally': 634, 'practicality': 635, 'gran': 636, 'g': 637, 'flying': 638, 'fsd': 639, 'division': 640, 'break': 641, 'm': 642, 'received': 643, 'behavior': 644, 'here': 645, 'carbon': 646, 'expect': 647, 'head': 648, 'outside': 649, 'climate': 650, 'giga': 651, 'chat': 652, 'direction': 653, 'site': 654, 'upgrade': 655, 'own': 656, 'trim': 657, 'pull': 658, 'period': 659, 'towards': 660, 'test': 661, 'without': 662, 'sedan': 663, 'roadster': 664, 'note': 665, 'throwing': 666, 'hand': 667, 'operation': 668, 'press': 669, 'shop': 670, 'currently': 671, 'industry': 672, 'benzinga': 673, 'although': 674, 'available': 675, 'word': 676, 'demand': 677, 'download': 678, 'solar': 679, 'provide': 680, 'sleek': 681, 'thought': 682, 'cent': 683, 'impossible': 684, 'convertible': 685, 'employees': 686, 'considering': 687, 'lightning': 688, 'y': 689, 'master': 690, 'possibility': 691, 'ac': 692, 'red': 693, 'fair': 694, 'investigation': 695, 'bridge': 696, 'beauty': 697, 'imagine': 698, 'pricing': 699, 'watching': 700, 'folk': 701, \"we've\": 702, 'annual': 703, 'fast': 704, \"world's\": 705, 'sharply': 706, 'reach': 707, 'plaid': 708, 'allowed': 709, 'marking': 710, 'inaugural': 711, 'rolled': 712, 'youtube': 713, 'ready': 714, 'roll': 715, \"what's\": 716, 'total': 717, 'close': 718, 'activist': 719, \"factory's\": 720, 'entrance': 721, 'jealous': 722, 'land': 723, 'mini': 724, 'saloon': 725, 'must': 726, 'known': 727, 'output': 728, 'pound': 729, 'chinese': 730, 'notice': 731, 'asked': 732, 'dealership': 733, 'interior': 734, 'potential': 735, 'comfortable': 736, 'several': 737, 'landed': 738, 'directly': 739, 'shot': 740, 'congratulation': 741, 'challenge': 742, 'begin': 743, 'meta': 744, 'status': 745, 'hot': 746, 'inviting': 747, 'do': 748, 'large': 749, 'recent': 750, 'alphabet': 751, 'spark': 752, 'in': 753, 'tuesday': 754, 'past': 755, \"tuesday's\": 756, \"mcdonald's\": 757, 'walmart': 758, 'petco': 759, 'distance': 760, 'alpina': 761, 'wednesday': 762, 'promotions': 763, 'bitcoin': 764, 'history': 765, 'present': 766, 'bike': 767, 'xdrive': 768, 'regularly': 769, 'target': 770, 'entry': 771, 'de': 772, 'capital': 773, 'mark': 774, 'dominate': 775, 'racing': 776, 'steering': 777, 'poll': 778, 'warned': 779, 'consequence': 780, 'voting': 781, 'manual': 782, 'engines': 783, 'sometimes': 784, 'mercedes': 785, 'trying': 786, 'cut': 787, 'catl': 788, 'jumped': 789, 'season': 790, 'technical': 791, 'cash': 792, 'cyber': 793, 'beta': 794, 'traffic': 795, 'viral': 796, 'porsche': 797, 'models': 798, 'story': 799, 'motorrad': 800, 'quality': 801, 'saw': 802, 'away': 803, 'cc': 804, 'insurance': 805, 'parked': 806, 'dynamic': 807, 'level': 808, 'confirmed': 809, 'crypto': 810, 'west': 811, 'revealed': 812, 'round': 813, 'country': 814, 'relevant': 815, 'kind': 816, 'odd': 817, 'star': 818, 'email': 819, 'audi': 820, 'destroyed': 821, 'onlooker': 822, 'letting': 823, 'decided': 824, 'toyota': 825, 'info': 826, \"i'm\": 827, \"can't\": 828, 'replacement': 829, 'lyn': 830, 'tested': 831, 'crossing': 832, 'examines': 833, 'registration': 834, 'celebrate': 835, 'invest': 836, 'adjust': 837, 'assigned': 838, 'poor': 839, 'reason': 840, 'suspicion': 841, 'four': 842, 'burst': 843, 'flame': 844, 'seized': 845, 'leaving': 846, 'evening': 847, 'crowd': 848, 'illegal': 849, 'intersection': 850, 'rd': 851, 'reported': 852, 'geopolitical': 853, 'situation': 854, 'fleet': 855, 'knocked': 856, 'escape': 857, 'crashing': 858, 'deputy': 859, 'killing': 860, 'six': 861, 'suffered': 862, 'abandoned': 863, 'recalling': 864, 'custody': 865, 'wife': 866, 'hurt': 867, 'slur': 868, 'aimed': 869, 'collided': 870, 'bus': 871, 'jury': 872, 'private': 873, 'concern': 874, 'box': 875, 'allegation': 876, 'feb': 877, 'rampant': 878, 'raise': 879, 'fired': 880, 'footage': 881, 'blue': 882, 'closed': 883, 'calling': 884, 'filed': 885, \"point'\": 886, 'file': 887, 'mentioned': 888, 'ticker': 889, 'planning': 890, \"'a\": 891, 'strength': 892, 'announcing': 893, 'seeking': 894, 'calif': 895, 'streak': 896, 'wedbush': 897, 'appear': 898, 'hollywood': 899, 'enable': 900, 'collaboration': 901, 'statement': 902, 'question': 903, 'ifactory': 904, 'data': 905, 'intelligence': 906, 'accurate': 907, 'metaverse': 908, 'began': 909, 'inflation': 910, 'nancy': 911, 'meant': 912, 'doubling': 913, 'overnight': 914, 'athlete': 915, 'winter': 916, 'spectacular': 917, 'colour': 918, 'shuts': 919, 'dominating': 920, 'cycle': 921, 'bentley': 922, 'publishes': 923, 'piece': 924, 'shutdown': 925, 'tweets': 926, 'soar': 927, 'comment': 928, 'on': 929, 'economy': 930, 'glad': 931, 'welcome': 932, 'discus': 933, 'role': 934, 'necessarily': 935, 'whole': 936, 'maybe': 937, 'society': 938, 'activity': 939, 'p': 940, 'actor': 941, 'accumulate': 942, 'lounge': 943, 'wheel': 944, 'labor': 945, 'angle': 946, 'purchase': 947, 'fan': 948, 'element': 949, 'always': 950, 'verification': 951, 'simply': 952, 'square': 953, 'else': 954, 'ultimate': 955, 'zero': 956, 'miles': 957, 'steel': 958, 'surge': 959, 'r': 960, 'covered': 961, 'contract': 962, 'traded': 963, 'critical': 964, 'flat': 965, 'offset': 966, 'loss': 967, 'banks': 968, 'pleasure': 969, 'snow': 970, 'brings': 971, 'fully': 972, 'tweak': 973, 'adventure': 974, 'condition': 975, 'so': 976, 'commercial': 977, 'trio': 978, 'alert': 979, 'balance': 980, 'accounts': 981, 'stating': 982, 'complain': 983, 'discipline': 984, 'machine': 985, 'fibre': 986, 'upstate': 987, 'sc': 988, 'opens': 989, 'step': 990, 'astronaut': 991, 'russian': 992, 'b': 993, 'pilot': 994, 'exciting': 995, 'immediately': 996, 'force': 997, 'stage': 998, 'software': 999, 'suspending': 1000, 'leader': 1001, 'meme': 1002, 'sporty': 1003, 'you': 1004, 'represents': 1005, 'approach': 1006, 'allows': 1007, 'built': 1008, 'body': 1009, 'assembly': 1010, 'jones': 1011, 'jonas': 1012, 'quote': 1013, 'beginning': 1014, 'additional': 1015, 'newly': 1016, 'plagued': 1017, 'figure': 1018, 'amc': 1019, 'booking': 1020, 'photo': 1021, 'little': 1022, 'trip': 1023, 'kid': 1024, 'largest': 1025, 'august': 1026, 'specific': 1027, 'invite': 1028, 'priority': 1029, 'personality': 1030, 'clean': 1031, 'coming': 1032, 'thursday': 1033, 'alive': 1034, 'sports': 1035, 'planet': 1036, 'incredible': 1037, 'chester': 1038, 'sun': 1039, 'aggressive': 1040, 'episode': 1041, 'list': 1042, 'theory': 1043, 'include': 1044, 'camp': 1045, 'met': 1046, 'bicycle': 1047, 'schnitzer': 1048, 'overcomes': 1049, 'navigation': 1050, 'cockpit': 1051, 'visit': 1052, 'beast': 1053, 'signal': 1054, 'official': 1055, 'anytime': 1056, 'beautifully': 1057, 'announcement': 1058, 'tonight': 1059, 'estimated': 1060, 'rather': 1061, 'trillionaire': 1062, 'strategic': 1063, 'milestone': 1064, 'individual': 1065, 'eye': 1066, 'spike': 1067, 'whale': 1068, 'tear': 1069, 'amid': 1070, 'poly': 1071, 'services': 1072, 'budget': 1073, 'bill': 1074, 'house': 1075, 'continued': 1076, 'chancellor': 1077, 'olaf': 1078, 'scholz': 1079, 'lauded': 1080, 'rover': 1081, 'halt': 1082, 'tv': 1083, 'likely': 1084, 'wild': 1085, 'ship': 1086, 'proud': 1087, 'award': 1088, 'flow': 1089, 'forward': 1090, 'for': 1091, 'barrel': 1092, 'judge': 1093, 'investor': 1094, 'luxurious': 1095, 'biz': 1096, 'finally': 1097, 'cutting': 1098, 'combine': 1099, 'suspends': 1100, 'aston': 1101, 'martin': 1102, 'london': 1103, 'searched': 1104, 'winner': 1105, 'et': 1106, 'bull': 1107, 'reached': 1108, 'legendary': 1109, 'us': 1110, 'fix': 1111, 'turned': 1112, 'court': 1113, 'door': 1114, 'neighbor': 1115, 'package': 1116, 'click': 1117, 'match': 1118, 'background': 1119, 'named': 1120, 'tell': 1121, 'retail': 1122, 'trader': 1123, 'incredibly': 1124, 'mr': 1125, 'actually': 1126, 'edge': 1127, 'cap': 1128, 'lean': 1129, 'companies': 1130, 'gamestop': 1131, 'berkshire': 1132, 'definitely': 1133, 'vehicles': 1134, 'addition': 1135, 'modest': 1136, 'losses': 1137, 'ages': 1138, 'designed': 1139, 'aircar': 1140, 'nearly': 1141, 'hour': 1142, 'washington': 1143, 'dc': 1144, 'bunch': 1145, 'profile': 1146, 'spartanburg': 1147, 'county': 1148, 'entirely': 1149, 'officially': 1150, 'continuing': 1151, 'weekly': 1152, 'shake': 1153, 'touring': 1154, 'compare': 1155, 'principle': 1156, 'legal': 1157, 'styling': 1158, 'heart': 1159, 'automobile': 1160, 'minute': 1161, 'asking': 1162, 'pretending': 1163, 'exist': 1164, 'ethereum': 1165, 'case': 1166, 'trouble': 1167, 'lt': 1168, 'exit': 1169, 'regulator': 1170, 'rented': 1171, 'added': 1172, 'predecessor': 1173, 'stunning': 1174, 'afternoon': 1175, 'create': 1176, 'weighs': 1177, 'paris': 1178, 'agreement': 1179, 'efficient': 1180, 'dumb': 1181, 'taken': 1182, 'teaser': 1183, 'grand': 1184, 'study': 1185, 'predicts': 1186, 'boast': 1187, 'nissan': 1188, 'includes': 1189, 'amby': 1190, 'clever': 1191, 'regular': 1192, 'gone': 1193, 'roughly': 1194, \"'dad\": 1195, 'recovered': 1196, 'highway': 1197, 'unveiled': 1198, 'se': 1199, 'general': 1200, 'fresh': 1201, 'lamborghini': 1202, 'union': 1203, 'election': 1204, 'nike': 1205, 'arnold': 1206, 'zeus': 1207, 'ad': 1208, 'except': 1209, 'low': 1210, 'wear': 1211, 'introduce': 1212, 'effort': 1213, 'tuning': 1214, 'standing': 1215, 'room': 1216, 'materials': 1217, 'exterior': 1218, 'chevy': 1219, 'all': 1220, 'block': 1221, 'hybrid': 1222, 'plus': 1223, 'dropped': 1224, 'excellent': 1225, 'hog': 1226, 'homies': 1227, 'date': 1228, 'seems': 1229, 'crazy': 1230, 'fans': 1231, 'headed': 1232, 'realized': 1233, 'testing': 1234, 'potent': 1235, 'powertrain': 1236, 'needs': 1237, 'working': 1238, 'offering': 1239, 'paid': 1240, 'global': 1241, 'attention': 1242, 'cease': 1243, 'pace': 1244, 'netflix': 1245, 'electrifying': 1246, 'entered': 1247, 'putin': 1248, 'humanoid': 1249, 'robot': 1250, 'regards': 1251, 'rocket': 1252, 'code': 1253, 'location': 1254, 'everything': 1255, 'about': 1256, 'lower': 1257, 'facebook': 1258, 'uber': 1259, 'adapter': 1260, 'asshole': 1261, \"we'll\": 1262, 'fort': 1263, 'erie': 1264, 'reopened': 1265, 'rental': 1266, 'took': 1267, 'quarter': 1268, 'are': 1269, 'published': 1270, 'guess': 1271, 'link': 1272, 'colliding': 1273, 'pro': 1274, 'con': 1275, 'whether': 1276, 'anniversary': 1277, 'driven': 1278, 'prove': 1279, 'delivers': 1280, 'championship': 1281, 'lacked': 1282, 'controversial': 1283, 'gabi': 1284, 'spent': 1285, 'removed': 1286, 'bos': 1287, 'visible': 1288, 'lockdown': 1289, 'a': 1290, 'windshield': 1291, 'hyundai': 1292, 'ioniq': 1293, 'learned': 1294, 'showing': 1295, 'entire': 1296, 'ways': 1297, 'different': 1298, 'fight': 1299, \"'supposedly'\": 1300, 'vin': 1301, 'seeing': 1302, 'reward': 1303, 'elite': 1304, 'finding': 1305, 'left': 1306, 'heard': 1307, 'suspect': 1308, 'parking': 1309, 'brought': 1310, 'logistics': 1311, 'chatman': 1312, 'mother': 1313, 'late': 1314, 'wanted': 1315, 'happened': 1316, 'thief': 1317, 'quit': 1318, 'plate': 1319, 'florida': 1320, 'kill': 1321, 'startup': 1322, 'towing': 1323, 'longboards': 1324, 'opposition': 1325, 'robber': 1326, 'flee': 1327, 'atm': 1328, 'mpumalanga': 1329, 'everyone': 1330, 'done': 1331, 'accident': 1332, 'involving': 1333, 'subaru': 1334, 'source': 1335, 'uninsured': 1336, 'capacity': 1337, 'disturbing': 1338, 'math': 1339, 'ago': 1340, 'pushed': 1341, 'mid': 1342, 'cannabis': 1343, 'arduous': 1344, 'guest': 1345, 'others': 1346, 'goal': 1347, 'smiling': 1348, 'courier': 1349, 'tailgating': 1350, \"'drink\": 1351, \"driver'\": 1352, 'lucky': 1353, \"'taped\": 1354, \"door'\": 1355, \"'spinning'\": 1356, 'plough': 1357, 'public': 1358, 'pick': 1359, 'analysis': 1360, 'la': 1361, 'fatal': 1362, 'user': 1363, 'be': 1364, 'pursued': 1365, 'dangerous': 1366, 'failing': 1367, 'especially': 1368, 'older': 1369, 'majority': 1370, 'false': 1371, 'owned': 1372, 'refuse': 1373, 'suzuki': 1374, 'yen': 1375, 'produce': 1376, 'essential': 1377, 'stay': 1378, 'restricted': 1379, 'scary': 1380, 'yr': 1381, 'alleged': 1382, 'xinjiang': 1383, 'uyghurs': 1384, 'concentration': 1385, 'genocide': 1386, 'foot': 1387, 'cathie': 1388, 'wood': 1389, 'stake': 1390, 'initiate': 1391, 'teenager': 1392, 'dramatic': 1393, 'oakleigh': 1394, 'dandenong': 1395, 'warrigal': 1396, 'nasdaq': 1397, 'neighborhood': 1398, 'media': 1399, 'sorry': 1400, 'needed': 1401, 'bullish': 1402, 'cool': 1403, 'spotted': 1404, 'up': 1405, 'eb': 1406, 'taxi': 1407, 'tiny': 1408, 'indie': 1409, 'arrest': 1410, 'interview': 1411, 'personal': 1412, 'nightmare': 1413, 'pattern': 1414, 'harassment': 1415, 'shooting': 1416, 'ended': 1417, 'southwick': 1418, 'dude': 1419, 'led': 1420, 'slave': 1421, 'evil': 1422, 'volkswagen': 1423, 'forced': 1424, 'men': 1425, 'school': 1426, 'fined': 1427, 'damage': 1428, 'ugly': 1429, 'cheap': 1430, 'expensive': 1431, 'act': 1432, 'producing': 1433, 'further': 1434, 'address': 1435, 'phone': 1436, 'parkway': 1437, 'amtrak': 1438, 'plunged': 1439, 'roundabout': 1440, 'employment': 1441, 'housing': 1442, 'centre': 1443, 'complaining': 1444, 'survives': 1445, 'plunging': 1446, 'storey': 1447, 'smashing': 1448, 'horrified': 1449, 'whose': 1450, 'mind': 1451, 'areas': 1452, 'denied': 1453, 'changed': 1454, 'advertising': 1455, 'rising': 1456, 'cop': 1457, 'gave': 1458, 'builder': 1459, \"family's\": 1460, 'snohomish': 1461, 'cell': 1462, 'grey': 1463, 'homeowner': 1464, 'wsb': 1465, 'indicates': 1466, 'skyrocketed': 1467, 'steadily': 1468, 'enabling': 1469, 'revolution': 1470, 'off': 1471, 'tom': 1472, 'bohigian': 1473, 'fresno': 1474, 'bolt': 1475, 'belief': 1476, 'trending': 1477, 'expectations': 1478, 'pair': 1479, 'hayek': 1480, 'electrify': 1481, 'workflow': 1482, 'james': 1483, 'artificial': 1484, 'transparent': 1485, 'merge': 1486, 'changer': 1487, 'saga': 1488, 'tweeted': 1489, 'generally': 1490, 'physical': 1491, 'included': 1492, 'index': 1493, 'fund': 1494, \"one's\": 1495, 'bobsleigh': 1496, 'simulator': 1497, 'beijing': 1498, 'olympic': 1499, 'recreates': 1500, 'curve': 1501, 'wayne': 1502, 'february': 1503, 'mg': 1504, 'cupra': 1505, 'wapo': 1506, 'antic': 1507, 'ai': 1508, 'mountain': 1509, 'revolutionary': 1510, 'summit': 1511, 'sponsored': 1512, 'components': 1513, 'supplying': 1514, 'protocol': 1515, 'bring': 1516, 'convenience': 1517, 'discussion': 1518, 'fud': 1519, 'obsession': 1520, 'mental': 1521, 'illness': 1522, 'economic': 1523, 'pixar': 1524, 'jimmy': 1525, 'argues': 1526, 'sleeper': 1527, 'donald': 1528, 'trump': 1529, 'dwayne': 1530, \"rock'\": 1531, 'johnson': 1532, 'treating': 1533, \"'army\": 1534, \"robots'\": 1535, 'techno': 1536, 'achieve': 1537, 'feat': 1538, 'silent': 1539, 'violent': 1540, 'tour': 1541, 'secretary': 1542, 'marty': 1543, 'walsh': 1544, 'honestly': 1545, 'stacking': 1546, 'doge': 1547, 'bag': 1548, 'fewer': 1549, 'seating': 1550, 'lighting': 1551, 'preparing': 1552, 'sense': 1553, 'extend': 1554, 'happening': 1555, 'bigger': 1556, 'infrastructure': 1557, 'seat': 1558, 'emission': 1559, 'owning': 1560, 'prius': 1561, 'novelty': 1562, 'sized': 1563, 'knowing': 1564, 'fluctuation': 1565, 'nbd': 1566, 'filing': 1567, 'follow': 1568, 'favorite': 1569, 'hugely': 1570, 'transcontinental': 1571, 'sight': 1572, \"harley's\": 1573, 'gust': 1574, 'dems': 1575, 'handout': 1576, 'happen': 1577, 'excluding': 1578, 'enjoys': 1579, 'forefront': 1580, 'spaciousness': 1581, 'subtle': 1582, 'impassable': 1583, 'routes': 1584, 'adverse': 1585, 'remote': 1586, 'destinations': 1587, 'destination': 1588, 'terrain': 1589, 'powered': 1590, 'gained': 1591, 'airworthiness': 1592, 'clearance': 1593, 'slovakia': 1594, \"pilot's\": 1595, 'license': 1596, 'fly': 1597, 'waymo': 1598, 'mapped': 1599, 'agenda': 1600, 'sa': 1601, 'eq': 1602, 'onslaught': 1603, 'pipeline': 1604, 'style': 1605, 'disputed': 1606, 'gpu': 1607, 'type': 1608, 'office': 1609, 'warm': 1610, 'lol': 1611, 'expressive': 1612, 'sculpted': 1613, 'invested': 1614, 'larger': 1615, 'lustier': 1616, 'continues': 1617, 'legacy': 1618, 'proof': 1619, 'returning': 1620, 'spacecraft': 1621, 'carjack': 1622, 'decanter': 1623, 'paired': 1624, 'merch': 1625, 'branded': 1626, 'tequila': 1627, 'apparently': 1628, 'listed': 1629, 'natural': 1630, 'reckoned': 1631, 'utilise': 1632, 'dinan': 1633, 'refinement': 1634, 'impressive': 1635, 'height': 1636, 'acquire': 1637, 'plug': 1638, \"carmaker's\": 1639, 'nine': 1640, 'faang': 1641, 'crude': 1642, 'actions': 1643, 'geared': 1644, 'memorable': 1645, 'steptronic': 1646, 'gearbox': 1647, 'phev': 1648, 'and': 1649, 'neil': 1650, 'dream': 1651, 'gareth': 1652, 'foray': 1653, 'gigafactories': 1654, 'changing': 1655, 'usual': 1656, 'stuff': 1657, 'ff': 1658, 'created': 1659, 'dilution': 1660, 'reaction': 1661, 'thas': 1662, 'shown': 1663, 'failure': 1664, 'viable': 1665, 'decade': 1666, 'sacrifice': 1667, 'investments': 1668, 'shook': 1669, 'afp': 1670, 'gme': 1671, 'shadow': 1672, 'limited': 1673, 'only': 1674, 'caption': 1675, 'sit': 1676, 'admire': 1677, 'middle': 1678, 'summer': 1679, 'rv': 1680, 'attend': 1681, 'music': 1682, 'ear': 1683, 'chosen': 1684, 'supposedly': 1685, 'greater': 1686, 'ticket': 1687, 'optimus': 1688, 'preserving': 1689, 'memories': 1690, 'constructed': 1691, 'farmhouse': 1692, 'santa': 1693, 'barbara': 1694, 'dorset': 1695, 'unanimous': 1696, 'praise': 1697, 'resident': 1698, 'endangered': 1699, 'specie': 1700, 'keeping': 1701, 'tremendous': 1702, 'purpose': 1703, 'that': 1704, 'yung': 1705, 'fomo': 1706, 'chain': 1707, 'crunch': 1708, 'factor': 1709, 'literally': 1710, 'disagree': 1711, 'enters': 1712, 'generation': 1713, 'fabric': 1714, 'outrun': 1715, 'exceedingly': 1716, 'handed': 1717, 'facility': 1718, 'workers': 1719, 'ultimately': 1720, 'triple': 1721, 'prices': 1722, 'busy': 1723, 'epa': 1724, \"pacquiao's\": 1725, 'lawmaker': 1726, 'january': 1727, 'jeepneys': 1728, 'subway': 1729, 'boring': 1730, 'edging': 1731, 'modifies': 1732, 'fiber': 1733, 'aero': 1734, 'accessing': 1735, 'operating': 1736, 'intuitive': 1737, 'professional': 1738, 'biased': 1739, 'equity': 1740, 'active': 1741, 'add': 1742, 'valuation': 1743, 'prepping': 1744, 'facelift': 1745, 'commenced': 1746, 'favourite': 1747, 'prototypes': 1748, 'elegant': 1749, 'lmr': 1750, 'handle': 1751, 'orange': 1752, 'paintwork': 1753, 'discount': 1754, 'speculate': 1755, \"tomorrow's\": 1756, 'amusing': 1757, 'themselves': 1758, \"it'll\": 1759, 'w': 1760, 'mar': 1761, \"i'll\": 1762, 'overdeliver': 1763, 'promise': 1764, 'psyched': 1765, 'revenue': 1766, 'milking': 1767, 'pump': 1768, 'fizzled': 1769, 'comparison': 1770, 'projected': 1771, 'follows': 1772, 'vault': 1773, 'investors': 1774, 'thorough': 1775, 'endeavor': 1776, 'pure': 1777, 'basketball': 1778, 'thread': 1779, 'hater': 1780, 'chennai': 1781, 'tamil': 1782, 'nadu': 1783, 'hong': 1784, 'kong': 1785, \"elon's\": 1786, 'adam': 1787, \"biden's\": 1788, 'proposed': 1789, 'launched': 1790, 'providing': 1791, 'connectivity': 1792, 'vip': 1793, 'delivered': 1794, 'fantastic': 1795, 'industrialist': 1796, 'secretly': 1797, 'jaguar': 1798, 'conflict': 1799, 'futurum': 1800, 'chips': 1801, 'ominous': 1802, 'ubering': 1803, 'riding': 1804, 'announce': 1805, 'gq': 1806, 'advanced': 1807, 'thinking': 1808, 'grid': 1809, 'rational': 1810, 'rationing': 1811, 'comms': 1812, 'narrative': 1813, \"nobody's\": 1814, 'whirlwind': 1815, 'manic': 1816, 'ambassador': 1817, 'inspiring': 1818, 'approves': 1819, 'payout': 1820, 'settlement': 1821, 'restore': 1822, 'momentum': 1823, 'previously': 1824, 'rely': 1825, 'import': 1826, 'replace': 1827, 'upgraded': 1828, 'adding': 1829, 'carolina': 1830, 'seem': 1831, 'liking': 1832, 'dividend': 1833, 'paul': 1834, 'quiet': 1835, 'gorgeous': 1836, 'rev': 1837, 'effortlessly': 1838, 'rolling': 1839, 'ribbon': 1840, 'handing': 1841, 'whipping': 1842, 'ramping': 1843, 'wral': 1844, 'techwire': 1845, 'danced': 1846, 'joked': 1847, 'client': 1848, 'glimpse': 1849, 'incentive': 1850, 'disproportionately': 1851, 'benefit': 1852, 'broadening': 1853, \"tech's\": 1854, 'scope': 1855, 'icymi': 1856, 'sector': 1857, \"germany's\": 1858, 'northeast': 1859, 'confirms': 1860, 'wont': 1861, 'oligarch': 1862, 'annually': 1863, 'delayed': 1864, 'presented': 1865, 'equipment': 1866, 'shenyang': 1867, 'yuan': 1868, 'shipped': 1869, 'express': 1870, 'cgep': 1871, 'bang': 1872, 'growing': 1873, 'requesting': 1874, 'cheaper': 1875, 'amount': 1876, 'everyday': 1877, 'attractive': 1878, 'sentry': 1879, 'mode': 1880, 'endurance': 1881, 'rolex': 1882, 'miss': 1883, 'disney': 1884, 'carl': 1885, 'icahn': 1886, \"'what's\": 1887, \"america'\": 1888, 'cake': 1889, 'why': 1890, 'lightweight': 1891, 'chassis': 1892, 'north': 1893, 'platforms': 1894, 'weak': 1895, 'perhaps': 1896, 'guy': 1897, 'takeover': 1898, 'percent': 1899, 'main': 1900, 'improving': 1901, 'tile': 1902, 'downforce': 1903, 'increased': 1904, 'aggression': 1905, \"schnitzer's\": 1906, 'moved': 1907, 'breakeven': 1908, 'zone': 1909, 'goethe': 1910, 'meter': 1911, 'rim': 1912, 'stare': 1913, 'quite': 1914, 'crossover': 1915, 'delighted': 1916, 'proposal': 1917, 'pile': 1918, 'dispute': 1919, 'founder': 1920, 'gail': 1921, 'traveling': 1922, 'lose': 1923, 'hello': 1924, 'shape': 1925, 'plz': 1926, 'gift': 1927, \"today's\": 1928, 'hero': 1929, 'motocorp': 1930, 'scanner': 1931, 'forgot': 1932, 'art': 1933, 'defining': 1934, 'milan': 1935, 'board': 1936, 'member': 1937, 'heated': 1938, 'memory': 1939, 'busiest': 1940, 'acquired': 1941, 'gta': 1942, 'canadian': 1943, 'consumer': 1944, 'confidence': 1945, 'fall': 1946, 'climbs': 1947, 'assignments': 1948, 'attorney': 1949, 'prohibits': 1950, 'discrimination': 1951, 'saudi': 1952, 'aramco': 1953, 'cnbc': 1954, 'tied': 1955, 'surprising': 1956, 'salzgitter': 1957, 'ag': 1958, 'gmbh': 1959, 'host': 1960, 'numerous': 1961, 'international': 1962, 'events': 1963, 'ratio': 1964, 'reclaimed': 1965, 'ducati': 1966, 'bar': 1967, 'function': 1968, 'airspeed': 1969, 'chicago': 1970, 'ppl': 1971, 'richmond': 1972, 'giddy': 1973, 'prospect': 1974, 'unloaded': 1975, 'weeks': 1976, 'perfectly': 1977, 'positioned': 1978, 'construction': 1979, 'bringing': 1980, 'unlike': 1981, 'panels': 1982, 'attic': 1983, 'slash': 1984, 'utility': 1985, 'remake': 1986, 'products': 1987, 'floating': 1988, 'falcon': 1989, 'heavy': 1990, \"it'd\": 1991, 'fitting': 1992, 'clock': 1993, 'befittingly': 1994, 'flagship': 1995, 'customisation': 1996, \"'individual'\": 1997, 'programme': 1998, 'interested': 1999, 'heck': 2000, 'breakout': 2001, 'leg': 2002, 'inauguration': 2003, 'grew': 2004, 'sublime': 2005, 'remind': 2006, 'goated': 2007, 'putting': 2008, 'exercise': 2009, 'refresh': 2010, 'button': 2011, 'kudos': 2012, 'updating': 2013, 'regs': 2014, 'strip': 2015, 'safe': 2016, 'hey': 2017, 'tinkering': 2018, 'hood': 2019, 'signups': 2020, 'intelligent': 2021, 'legends': 2022, 'engineering': 2023, 'seminal': 2024, 'imagery': 2025, 'greg': 2026, 'arrival': 2027, 'showdown': 2028, 'perform': 2029, 'moose': 2030, 'lineup': 2031, 'rumoured': 2032, 'works': 2033, 'equipped': 2034, 'transform': 2035, 'craft': 2036, 'below': 2037, 'vanishing': 2038, 'revealing': 2039, 'permission': 2040, 'solana': 2041, 'motorcycle': 2042, 'wholeheartedly': 2043, 'agree': 2044, 'amg': 2045, 'gle': 2046, 'exactly': 2047, 'composer': 2048, \"haven't\": 2049, 'farley': 2050, 'succeeds': 2051, 'forecast': 2052, 'accused': 2053, 'limit': 2054, 'k': 2055, 'successful': 2056, 'redesigned': 2057, 'fairing': 2058, 'weather': 2059, 'protection': 2060, 'revised': 2061, 'tourer': 2062, 'combination': 2063, 'technologies': 2064, 'unmatched': 2065, 'dynamics': 2066, 'supremely': 2067, 'reviews': 2068, 'congratulations': 2069, 'acquisition': 2070, 'longtime': 2071, 'collaborator': 2072, 'tuner': 2073, 'folded': 2074, 'rampage': 2075, 'whats': 2076, 'ur': 2077, 'fav': 2078, 'switched': 2079, 'hq': 2080, 'gesture': 2081, 'combined': 2082, 'greener': 2083, 'gen': 2084, 'cruise': 2085, 'overall': 2086, 'truly': 2087, 'accomplishment': 2088, 'precise': 2089, 'edrive': 2090, 'forerunner': 2091, 'hours': 2092, 'generate': 2093, 'class': 2094, 'structure': 2095, 'continuous': 2096, 'evolution': 2097, 'podium': 2098, 'debt': 2099, 'king': 2100, 'mortgage': 2101, 'symbol': 2102, 'choice': 2103, 'africa': 2104, 'iveco': 2105, 'valued': 2106, 'autosteer': 2107, 'defined': 2108, 'visual': 2109, 'lightness': 2110, 'athleticism': 2111, 'cooper': 2112, 'sleeping': 2113, 'benchmarking': 2114, 'overpowers': 2115, 'pop': 2116, 'adaptive': 2117, 'concept': 2118, 'motorbike': 2119, 'tap': 2120, 'urban': 2121, 'royce': 2122, 'admit': 2123, 'canada': 2124, 'substantial': 2125, 'improvement': 2126, 'stack': 2127, 'steve': 2128, 'sutcliffe': 2129, 'playing': 2130, 'fyi': 2131, 'basically': 2132, 'speeds': 2133, 'regen': 2134, 'braking': 2135, 'slows': 2136, 'generates': 2137, 'electricity': 2138, 'consider': 2139, 'brake': 2140, 'pad': 2141, 'consumables': 2142, 'down': 2143, 'estate': 2144, 'pretty': 2145, 'developer': 2146, 'skin': 2147, 'prototype': 2148, 'color': 2149, 'surface': 2150, 'smile': 2151, 'mileage': 2152, 'rwd': 2153, 'horsepower': 2154, 'cabin': 2155, 'adults': 2156, 'understated': 2157, 'remembering': 2158, 'father': 2159, 'l': 2160, 'reasonable': 2161, 'xl': 2162, 'pending': 2163, 'spied': 2164, 'surprisingly': 2165, 'spacious': 2166, 'save': 2167, 'request': 2168, 'explains': 2169, 'spends': 2170, 'ads': 2171, 'authorize': 2172, \"securities'\": 2173, 'discuss': 2174, 'based': 2175, 'estimates': 2176, 'notable': 2177, 'fortunes': 2178, 'bernard': 2179, 'arnault': 2180, 'loser': 2181, 'fortune': 2182, 'palm': 2183, 'tree': 2184, 'reflected': 2185, 'window': 2186, 'hathaway': 2187, 'unitedhealth': 2188, 'awesome': 2189, 'pink': 2190, 'wrapped': 2191, 'nft': 2192, 'holder': 2193, 'specifically': 2194, 'buddy': 2195, 'wanna': 2196, 'cosmetic': 2197, 'overhaul': 2198, 'ecu': 2199, 'lifting': 2200, 'mobile': 2201, 'minivan': 2202, 'powerwalls': 2203, 'underrated': 2204, 'io': 2205, 'widget': 2206, 'convenient': 2207, 'quick': 2208, 'access': 2209, 'unlock': 2210, 'etc': 2211, 'joking': 2212, 'lovely': 2213, 'thami': 2214, 'kwazi': 2215, 'enjoying': 2216, 'agreeing': 2217, 'lowered': 2218, 'snapping': 2219, 'cyberquad': 2220, 'toss': 2221, 'lively': 2222, 'expectation': 2223, 'furious': 2224, 'junior': 2225, 'littlest': 2226, 'snapped': 2227, 'accessorised': 2228, 'guises': 2229, 'extra': 2230, 'entice': 2231, 'buyer': 2232, 'fault': 2233, 'engineered': 2234, 'discover': 2235, 'kick': 2236, \"year's\": 2237, 'rallied': 2238, 'highest': 2239, 'definition': 2240, 'ce': 2241, 'serve': 2242, 'transportation': 2243, 'communication': 2244, 'scooter': 2245, 'analog': 2246, 'worlds': 2247, \"he'll\": 2248, 'cloud': 2249, 'ar': 2250, 'grup': 2251, 'topped': 2252, 'victory': 2253, 'hundred': 2254, 'dollar': 2255, 'within': 2256, 'premiere': 2257, 'discreetly': 2258, 'begun': 2259, 'adorned': 2260, 'glorious': 2261, 'attire': 2262, 'expected': 2263, 'debut': 2264, 'illuminated': 2265, 'kidney': 2266, 'grilles': 2267, \"munich's\": 2268, 'smallest': 2269, 'ability': 2270, 'en': 2271, 'vorm': 2272, 'silence': 2273, 'colours': 2274, 'consecutive': 2275, 'jan': 2276, 'straight': 2277, 'oct': 2278, 'goldplay': 2279, 'golden': 2280, 'elements': 2281, 'returns': 2282, 'amd': 2283, \"domino's\": 2284, 'environments': 2285, 'weighted': 2286, 'kwh': 2287, 'wltp': 2288, \"moscow's\": 2289, 'invasion': 2290, 'kiev': 2291, 'vladimir': 2292, \"'moderate\": 2293, 'volume': 2294, \"production'\": 2295, 'remarkable': 2296, 'formidable': 2297, 'salah': 2298, 'commercialize': 2299, 'divergent': 2300, 'troll': 2301, 'brilliance': 2302, 'stupidity': 2303, 'gordon': 2304, 'dog': 2305, 'inspired': 2306, 'arrange': 2307, 'richard': 2308, 'porn': 2309, 'mia': 2310, 'malkova': 2311, 'flaunt': 2312, 'lemme': 2313, 'prasit': 2314, 'aphiphunya': 2315, 'adventurous': 2316, 'rode': 2317, 'thailand': 2318, 'spotify': 2319, 'siddharth': 2320, 'appreciate': 2321, 'interest': 2322, 'kindly': 2323, 'id': 2324, 'pin': 2325, 'assistance': 2326, 'purnima': 2327, 'equally': 2328, 'priced': 2329, 'mine': 2330, 'elicit': 2331, 'ridicule': 2332, 'spectrum': 2333, 'deranged': 2334, 'idiot': 2335, 'smarter': 2336, 'broadly': 2337, 'guessing': 2338, \"chris's\": 2339, 'founded': 2340, 'nokia': 2341, 'ibm': 2342, 'motorola': 2343, 'samsung': 2344, 'hp': 2345, 'sony': 2346, 'intel': 2347, 'dell': 2348, 'cisco': 2349, 'salesforce': 2350, 'airbnb': 2351, 'zoom': 2352, 'coinbase': 2353, 'hatchback': 2354, 'driveline': 2355, 'overseas': 2356, 'globalization': 2357, 'stagflation': 2358, \"fund's\": 2359, 'insight': 2360, 'intvu': 2361, 'goodness': 2362, 'dedicated': 2363, 'catch': 2364, 'moment': 2365, 'showcase': 2366, 'held': 2367, 'mumbai': 2368, 'commission': 2369, 'pm': 2370, 'eqc': 2371, 'hydrogen': 2372, 'ramp': 2373, 'blvd': 2374, 'sw': 2375, 'wildly': 2376, 'pigeon': 2377, 'soprano': 2378, 'kat': 2379, 'kirby': 2380, 'grad': 2381, 'student': 2382, 'eastman': 2383, 'accompanist': 2384, 'hanyun': 2385, 'gu': 2386, 'absolute': 2387, 'powerhouse': 2388, 'me': 2389, 'speaking': 2390, 'reveals': 2391, 'southeast': 2392, 'asia': 2393, 'cheer': 2394, 'philipp': 2395, 'airborne': 2396, 'baxter': 2397, 'alvarado': 2398, 'stunt': 2399, 'dillon': 2400, 'haha': 2401, 'thx': 2402, 'borrow': 2403, 'btw': 2404, 'funny': 2405, 'responds': 2406, 'questioned': 2407, 'fog': 2408, 'generated': 2409, 'cat': 2410, 'zf': 2411, 'base': 2412, 'rybrook': 2413, 'rugby': 2414, 'ball': 2415, 'throw': 2416, 'boot': 2417, 'enter': 2418, 'sent': 2419, 'damnit': 2420, 'honda': 2421, 'eastbound': 2422, 'carquinez': 2423, 'dawn': 2424, 'fiery': 2425, 'suffers': 2426, 'injury': 2427, 'hosting': 2428, 'birthday': 2429, 'celebrating': 2430, 'occasion': 2431, 'moines': 2432, 'skybox': 2433, 'suites': 2434, 'suite': 2435, 'colleague': 2436, 'evaluation': 2437, 'while': 2438, 'valet': 2439, 'jacked': 2440, 'magically': 2441, 'disappeared': 2442, 'valeted': 2443, 'procar': 2444, 'hammer': 2445, 'blessed': 2446, 'felt': 2447, 'bit': 2448, 'andy': 2449, 'tagged': 2450, 'page': 2451, 'can': 2452, 'ignition': 2453, 'presenter': 2454, 'francisco': 2455, 'nwamba': 2456, 'philosophy': 2457, 'gear': 2458, 'epilepsy': 2459, 'diagnosis': 2460, 'enduring': 2461, 'diagnostic': 2462, 'imaging': 2463, 'mri': 2464, 'lesion': 2465, 'brain': 2466, 'surgeon': 2467, 'robotic': 2468, 'laser': 2469, 'indicated': 2470, 'symptoms': 2471, 'headline': 2472, 'yield': 2473, 'stabilize': 2474, 'rout': 2475, 'somehow': 2476, 'crawl': 2477, 'sprayed': 2478, 'dozen': 2479, 'genesis': 2480, 'sharp': 2481, 'clarify': 2482, 'article': 2483, 'emerged': 2484, 'online': 2485, 'highly': 2486, 'capable': 2487, 'futuristic': 2488, 'evs': 2489, 'however': 2490, 'turning': 2491, 'rider': 2492, 'bonovo': 2493, 'highlight': 2494, 'guise': 2495, 'consumption': 2496, \"trader's\": 2497, 'cheat': 2498, 'sheet': 2499, 'kia': 2500, 'gate': 2501, 'cambridge': 2502, 'walk': 2503, 'zebra': 2504, 'grind': 2505, 'pass': 2506, 'identification': 2507, 'identify': 2508, 'paper': 2509, 'stamped': 2510, 'front': 2511, 'jamb': 2512, 'buying': 2513, 'oh': 2514, 'readying': 2515, \"division's\": 2516, 'hertz': 2517, 'program': 2518, 'safer': 2519, 'easier': 2520, 'rewarding': 2521, 'immediate': 2522, 'chris': 2523, 'self': 2524, 'wind': 2525, 'quarterfinal': 2526, 'stocks': 2527, 'etfs': 2528, 'portfolio': 2529, 'speculation': 2530, 'italian': 2531, 'gt': 2532, 'losing': 2533, 'deep': 2534, 'dive': 2535, \"'major\": 2536, \"announcement'\": 2537, 'dutch': 2538, 'gazprom': 2539, 'moscow': 2540, 'rage': 2541, 'incident': 2542, 'recalled': 2543, 'bug': 2544, 'douchebag': 2545, 'unbelievable': 2546, 'monica': 2547, 'african': 2548, 'american': 2549, 'tasks': 2550, 'nobody': 2551, 'borrowed': 2552, 'dinner': 2553, 'greenwich': 2554, 'stole': 2555, 'youngster': 2556, 'squad': 2557, 'denies': 2558, 'bearing': 2559, 'decision': 2560, 'angry': 2561, 'voluntarily': 2562, 'rejected': 2563, 'payment': 2564, 'itself': 2565, 'silver': 2566, 'rear': 2567, 'cheapest': 2568, 'lolol': 2569, 'cuz': 2570, 'impaired': 2571, 'hard': 2572, 'distinctive': 2573, 'herded': 2574, 'sheepdog': 2575, 'responded': 2576, 'robson': 2577, 'observed': 2578, 'roadway': 2579, 'tiong': 2580, 'bahru': 2581, 'judgement': 2582, 'inconvenience': 2583, 'polite': 2584, 'serf': 2585, 'facto': 2586, 'fundamentally': 2587, 'undermines': 2588, 'planetary': 2589, 'health': 2590, 'lenin': 2591, 'fortunate': 2592, 'wasted': 2593, 'blew': 2594, 'charged': 2595, 'spinning': 2596, 'ploughed': 2597, 'gathered': 2598, 'umgeni': 2599, 'intersite': 2600, 'avenue': 2601, 'durban': 2602, 'roblox': 2603, 'dev': 2604, 'them': 2605, 'shower': 2606, 'girlfriend': 2607, 'bed': 2608, 'fool': 2609, 'bagholders': 2610, 'bhiwandi': 2611, 'kongaon': 2612, 'rickshaw': 2613, 'fixing': 2614, 'fake': 2615, 'containing': 2616, 'pple': 2617, 'die': 2618, 'engwata': 2619, 'mackinnon': 2620, 'nairobi': 2621, 'mombasa': 2622, 'magistrate': 2623, 'filter': 2624, 'marked': 2625, 'offence': 2626, 'reliability': 2627, 'too': 2628, 'steadfastly': 2629, 'lengthy': 2630, 'shed': 2631, 'gallon': 2632, 'problems': 2633, 'sniffed': 2634, 'stash': 2635, 'assume': 2636, 'defender': 2637, 'aligning': 2638, 'overt': 2639, 'foster': 2640, \"'she\": 2641, 'rodeo': 2642, 'stand': 2643, 'human': 2644, 'inherently': 2645, 'gravitate': 2646, 'aspiring': 2647, 'playground': 2648, 'taunts': 2649, 'constabulary': 2650, 'introduced': 2651, 'pursuit': 2652, 'policy': 2653, 'neighbouring': 2654, 'northumbria': 2655, 'september': 2656, 'scrapped': 2657, 'clifton': 2658, 'ipswich': 2659, 'partnerships': 2660, 'san': 2661, 'andres': 2662, 'h': 2663, 'del': 2664, 'pilar': 2665, 'malate': 2666, 'audio': 2667, 'workstation': 2668, 'afford': 2669, 'pc': 2670, 'roommate': 2671, 'slain': 2672, 'gay': 2673, \"activist's\": 2674, 'discovered': 2675, 'trade': 2676, 'outline': 2677, 'coincidence': 2678, 'posting': 2679, 'extensive': 2680, 'abuse': 2681, 'rigorously': 2682, 'defending': 2683, 'appealing': 2684, 'witness': 2685, 'crossed': 2686, 'cockton': 2687, 'hill': 2688, 'dad': 2689, 'lamppost': 2690, 'blamed': 2691, 'plume': 2692, 'smoke': 2693, 'billow': 2694, 'believed': 2695, 'adheres': 2696, 'voted': 2697, 'college': 2698, 'graduate': 2699, 'salary': 2700, 'earlier': 2701, 'boxed': 2702, 'kevin': 2703, 'wonder': 2704, 'telling': 2705, 'enforcement': 2706, 'git': 2707, 'liveried': 2708, 'roadworks': 2709, 'section': 2710, 'summons': 2711, 'demise': 2712, 'pity': 2713, 'compartment': 2714, 'fires': 2715, 'stranded': 2716, 'extremely': 2717, 'reliable': 2718, 'japanese': 2719, 'apart': 2720, 'environment': 2721, 'rise': 2722, 'necessary': 2723, 'adjustment': 2724, 'logistical': 2725, 'convolute': 2726, 'unrelated': 2727, 'matters': 2728, 'claiming': 2729, \"'bullying'\": 2730, 'raced': 2731, 'son': 2732, 'pregnant': 2733, 'signalled': 2734, 'offences': 2735, 'randomness': 2736, 'swerved': 2737, 'ejected': 2738, 'together': 2739, 'hug': 2740, 'sweating': 2741, 'things': 2742, 'english': 2743, 'spanish': 2744, 'supervisors': 2745, 'sadly': 2746, 'birmingham': 2747, 'druid': 2748, 'medical': 2749, 'staff': 2750, 'ban': 2751, 'speeder': 2752, 'october': 2753, 'awarded': 2754, 'elevator': 2755, 'operator': 2756, 'blind': 2757, 'racial': 2758, 'taunt': 2759, 'offensive': 2760, 'graffiti': 2761, 'banning': 2762, \"anyone's\": 2763, 'whatever': 2764, 'invitation': 2765, 'drew': 2766, 'criticism': 2767, 'showcasing': 2768, 'ice': 2769, 'cng': 2770, 'aftermarket': 2771, 'catching': 2772, 'induced': 2773, 'exiting': 2774, 'lawmen': 2775, 'ran': 2776, 'officers': 2777, 'weapon': 2778, 'remain': 2779, 'committed': 2780, 'guns': 2781, 'thousand': 2782, 'alleging': 2783, 'unchecked': 2784, 'pressure': 2785, 'flattery': 2786, 'threat': 2787, 'persuade': 2788, 'comply': 2789, 'measures': 2790, 'issuing': 2791, 'voluntary': 2792, 'recalls': 2793, 'eating': 2794, \"'non\": 2795, \"vegan'\": 2796, 'breakfast': 2797, 'sandwich': 2798, 'melbourne': 2799, 'came': 2800, 'engaged': 2801, 'corrections': 2802, 'undercut': 2803, 'hanging': 2804, 'chart': 2805, \"monday's\": 2806, 'reviewed': 2807, 'channel': 2808, 'na': 2809, 'scarcity': 2810, 'dey': 2811, 'landing': 2812, 'echo': 2813, 'fled': 2814, 'lawmakers': 2815, 'region': 2816, 'wsj': 2817, 'brief': 2818, 'pause': 2819, 'ark': 2820, 'explain': 2821, 'ideas': 2822, 'co': 2823, 'compete': 2824, 'laying': 2825, 'cone': 2826, 'armed': 2827, 'robbery': 2828, 'prime': 2829, 'watched': 2830, 'clear': 2831, 'stick': 2832, 'civilizations': 2833, 'democracies': 2834, 'insisted': 2835, 'limitation': 2836, 'getaway': 2837, 'empty': 2838, 'qa': 2839, 'chair': 2840, 'jabu': 2841, 'mahlangu': 2842, 'negligent': 2843, 'reckless': 2844, 'regarding': 2845, 'minibus': 2846, 'ekurhuleni': 2847, 'metro': 2848, 'insider': 2849, 'coastal': 2850, 'millionaire': 2851, 'friend': 2852, 'mil': 2853, 'each': 2854, 'obv': 2855, 'gal': 2856, 'gadot': 2857, 'apologize': 2858, 'joy': 2859, 'residential': 2860, 'neighbourhood': 2861, 'scummy': 2862, 'dept': 2863, 'vijay': 2864, 'civil': 2865, 'attachment': 2866, 'bank': 2867, 'penalty': 2868, 'imported': 2869, 'therefore': 2870, 'alone': 2871, 'protest': 2872, 'times': 2873, 'described': 2874, 'pioneering': 2875, 'devolved': 2876, 'faked': 2877, 'death': 2878, 'conviction': 2879, 'carelessly': 2880, 'disruption': 2881, 'nypd': 2882, 'iding': 2883, 'riverdale': 2884, 'ave': 2885, 'violence': 2886, 'tolerated': 2887, 'arbitration': 2888, 'favor': 2889, 'employers': 2890, 'supervisor': 2891, 'authority': 2892, 'aecom': 2893, 'wave': 2894, 'relocations': 2895, 'networking': 2896, 'exec': 2897, 'rich': 2898, 'subsidy': 2899, \"investigation's\": 2900, 'portsmouth': 2901, 'waterlooville': 2902, 'mad': 2903, 'boy': 2904, 'allegedly': 2905, 'horrifying': 2906, 'hitting': 2907, 'then': 2908, 'obvious': 2909, 'unacceptable': 2910, 'rate': 2911, 'doors': 2912, 'fro': 2913, 'plantation': 2914, 'brutal': 2915, 'but': 2916, 'tre': 2917, 'bev': 2918, 'beating': 2919, 'semi': 2920, 'fucking': 2921, 'sends': 2922, 'labors': 2923, 'van': 2924, 'hm': 2925, 'notification': 2926, 'camera': 2927, 'view': 2928, 'holding': 2929, 'santon': 2930, 'avoiding': 2931, 'rabbit': 2932, 'careless': 2933, 'craziest': 2934, 'shit': 2935, 'rte': 2936, 'fish': 2937, 'tail': 2938, 'slam': 2939, 'classy': 2940, 'subconsciously': 2941, 'insecure': 2942, 'defend': 2943, 'criticized': 2944, 'regardless': 2945, 'arguably': 2946, 'compelling': 2947, 'willful': 2948, 'competitive': 2949, 'storing': 2950, 'equivalent': 2951, 'pounds': 2952, 'requires': 2953, 'connect': 2954, 'internet': 2955, 'security': 2956, 'hacked': 2957, 'afraid': 2958, 'features': 2959, 'penny': 2960, 'rivian': 2961, 'reasons': 2962, 'holy': 2963, 'crap': 2964, 'cnet': 2965, 'mass': 2966, 'alabama': 2967, 'kingpin': 2968, 'wiring': 2969, 'curtailing': 2970, 'war': 2971, 'urus': 2972, 'brabus': 2973, \"california's\": 2974, 'los': 2975, 'angeles': 2976, 'particular': 2977, 'continue': 2978, 'dead': 2979, 'henry': 2980, 'hudson': 2981, 'imo': 2982, 'refinery': 2983, 'slammed': 2984, 'sentenced': 2985, 'tragedy': 2986, 'guzzling': 2987, 'bottleneck': 2988, 'worried': 2989, 'impatient': 2990, 'everytime': 2991, 'dismissed': 2992, 'alternative': 2993, 'path': 2994, 'swapping': 2995, 'suitable': 2996, 'widescale': 2997, 'disagrees': 2998, 'semiconductor': 2999, 'untold': 3000, 'gob': 3001, 'taxpayer': 3002, 'subsidies': 3003, 'clown': 3004, 'god': 3005, 'upholds': 3006, 'verdict': 3007, 'spontaneously': 3008, 'combusted': 3009, 'irondequoit': 3010, 'united': 3011, 'reverse': 3012, 'talked': 3013, 'experiences': 3014, 'uh': 3015, 'huh': 3016, 'tragically': 3017, 'maypole': 3018, 'timeless': 3019, 'nothing': 3020, 'opp': 3021, 'pulling': 3022, 'narcissist': 3023, 'focused': 3024, 'carjacked': 3025, 'yukon': 3026, 'pour': 3027, 'invites': 3028, 'daily': 3029, 'halted': 3030, 'totalenergies': 3031, 'bcso': 3032, 'tamya': 3033, 'alexander': 3034, 'daughter': 3035, 'serenity': 3036, 'williams': 3037, 'vining': 3038, 'circle': 3039, 'fourth': 3040, 'twice': 3041, 'moving': 3042, 'ct': 3043, 'travelling': 3044, 'watling': 3045, 'crossroads': 3046, 'attempted': 3047, 'cross': 3048, 'dash': 3049, 'cam': 3050, 'jayne': 3051, 'gatland': 3052, 'applicable': 3053, 'army': 3054, 'veteran': 3055, 'promoted': 3056, 'sighted': 3057, 'erratically': 3058, 'garstang': 3059, 'preston': 3060, 'smelt': 3061, 'strongly': 3062, 'roadside': 3063, 'wipe': 3064, 'jumping': 3065, 'gofundme': 3066, 'actual': 3067, 'hinted': 3068, 'loses': 3069, 'rebate': 3070, 'demands': 3071, 'oxford': 3072, 'issues': 3073, \"there's\": 3074, 'shortage': 3075, 'monitoring': 3076, 'closely': 3077, 'carjacking': 3078, 'st': 3079, 'lookout': 3080, 'il': 3081, 'tag': 3082, 'electrical': 3083, 'became': 3084, 'downhill': 3085, 'nigel': 3086, 'young': 3087, 'invited': 3088, 'outcasted': 3089, \"they've\": 3090, 'screen': 3091, \"'l'\": 3092, 'follower': 3093, 'harass': 3094, 'tm': 3095, 'dirty': 3096, 'desist': 3097, 'prado': 3098, 'swap': 3099, 'offroader': 3100, 'indication': 3101, 'claimed': 3102, 'safest': 3103, 'backed': 3104, 'threatened': 3105, 'ftc': 3106, 'investigated': 3107, 'jersey': 3108, 'stories': 3109, 'released': 3110, 'merc': 3111, 'evade': 3112, \"nio's\": 3113, 'alongside': 3114, 'existing': 3115, 'premier': 3116, 'yall': 3117, 'train': 3118, 'reduce': 3119, 'input': 3120, 'carmaker': 3121, 'tata': 3122, 'motors': 3123, 'costlier': 3124, 'darlington': 3125, 'suspicious': 3126, 'behaviour': 3127, 'instead': 3128, 'quibble': 3129, 'wonky': 3130, 'autonomy': 3131, 'confront': 3132, 'fact': 3133, 'adopted': 3134, 'widely': 3135, 'flees': 3136, 'mangled': 3137, 'postbox': 3138, 'salford': 3139, 'headlight': 3140, 'final': 3141, 'resting': 3142, 'i': 3143, 'center': 3144, 'bombed': 3145, 'spiders': 3146, 'topic': 3147, 'smash': 3148, \"'revenge\": 3149, \"tractor'\": 3150, 'defect': 3151, 'weltmeister': 3152, 'wake': 3153, 'surging': 3154, 'raw': 3155, \"we'd\": 3156, 'closer': 3157, 'associated': 3158, 'upcoming': 3159, 'scrutiny': 3160, 'idle': 3161, 'monroe': 3162, 'flooding': 3163, 'river': 3164, 'knew': 3165, 'anyway': 3166, 'stalled': 3167, 'cattle': 3168, 'farmer': 3169, 'helped': 3170, 'deteriorated': 3171, 'albion': 3172, 'spalding': 3173, 'aged': 3174, 'remains': 3175, 'pls': 3176, 'avoid': 3177, 'polarising': 3178, 'smartphone': 3179, \"'ultimate\": 3180, \"machine'\": 3181, 'matrix': 3182, 'crack': 3183, 'singlehandedly': 3184, 'hilarious': 3185, 'realisation': 3186, 'engagement': 3187, 'vw': 3188, 'affect': 3189, 'broader': 3190, 'garage': 3191, 'crowbar': 3192, 'revenge': 3193, 'attack': 3194, 'whilst': 3195, 'recovery': 3196, 'hazel': 3197, 'grove': 3198, 'tutor': 3199, 'located': 3200, 'sat': 3201, 'unattended': 3202, 'forensically': 3203, 'examined': 3204, 'returned': 3205, 'indonesia': 3206, 'negotiation': 3207, 'extended': 3208, 'shrugging': 3209, 'soaring': 3210, 'treasury': 3211, 'yields': 3212, 'ignore': 3213, \"don't\": 3214, 'retreat': 3215, 'weakness': 3216, 'ny': 3217, 'mum': 3218, 'closure': 3219, 'curb': 3220, \"'fascist'\": 3221, 'cancel': 3222, 'supposed': 3223, 'arrive': 3224, 'tomorrow': 3225, 'appalling': 3226, 'unorganized': 3227, 'appears': 3228, 'improved': 3229, 'contemporary': 3230, 'amperex': 3231, 'assign': 3232, 'vile': 3233, 'drastically': 3234, 'personnel': 3235, 'shocking': 3236, 'deeply': 3237, 'defense': 3238, 'rested': 3239, 'prosecutor': 3240, 'rebuttal': 3241, 'witnesses': 3242, 'brent': 3243, 'phelan': 3244, 'brentwood': 3245, 'reinking': 3246, 'waffle': 3247, 'trial': 3248, 'decide': 3249, 'involved': 3250, 'anyone': 3251, 'york': 3252, 'autopilot': 3253, 'prof': 3254, 'geistfeld': 3255, 'criminal': 3256, 'prosecution': 3257, 'precedent': 3258, \"man's\": 3259, 'southampton': 3260, 'struck': 3261, 'civic': 3262, 'kent': 3263, 'gbh': 3264, 'intent': 3265, 'environmentalist': 3266, 'displaying': 3267, 'banner': 3268, 'flagging': 3269, \"shropshire's\": 3270, 'aware': 3271, 'ben': 3272, 'cunniff': 3273, 'pulled': 3274, 'texting': 3275, 'taser': 3276, 'understand': 3277, 'questions': 3278, 'replying': 3279, 'vauxhall': 3280, 'zafira': 3281, 'multiple': 3282, 'damaged': 3283, 'telephone': 3284, 'pole': 3285, 'walton': 3286, 'beach': 3287, 'backseat': 3288, 'filled': 3289, 'catalytic': 3290, 'chandler': 3291, 'suspects': 3292}\n"
          ]
        }
      ]
    },
    {
      "cell_type": "code",
      "source": [
        "X_train_sequences = tokenizer.texts_to_sequences(X_train)"
      ],
      "metadata": {
        "id": "Zir2VnBLai4m"
      },
      "execution_count": 16,
      "outputs": []
    },
    {
      "cell_type": "code",
      "source": [
        "X_test_sequences = tokenizer.texts_to_sequences(X_test)"
      ],
      "metadata": {
        "id": "95kR7-Nkai13"
      },
      "execution_count": 17,
      "outputs": []
    },
    {
      "cell_type": "code",
      "source": [
        "max_length = 100\n",
        "padding_type='post'\n",
        "truncation_type='post'\n",
        "\n",
        "from keras.preprocessing.sequence import pad_sequences\n",
        "\n",
        "X_test_padded = pad_sequences(X_test_sequences,maxlen=max_length, padding=padding_type, truncating=truncation_type)\n",
        "X_train_padded = pad_sequences(X_train_sequences,maxlen=max_length, padding=padding_type, truncating=truncation_type)\n"
      ],
      "metadata": {
        "id": "E2BE_qy2aix4"
      },
      "execution_count": 18,
      "outputs": []
    },
    {
      "cell_type": "code",
      "source": [
        "!wget --no-check-certificate \\\n",
        "     http://nlp.stanford.edu/data/glove.6B.zip \\\n",
        "     -O /tmp/glove.6B.zip"
      ],
      "metadata": {
        "colab": {
          "base_uri": "https://localhost:8080/"
        },
        "id": "j0WGNz7QbCyo",
        "outputId": "649be993-2347-40ed-d889-8fd3c792196c"
      },
      "execution_count": 19,
      "outputs": [
        {
          "output_type": "stream",
          "name": "stdout",
          "text": [
            "--2022-04-06 07:56:04--  http://nlp.stanford.edu/data/glove.6B.zip\n",
            "Resolving nlp.stanford.edu (nlp.stanford.edu)... 171.64.67.140\n",
            "Connecting to nlp.stanford.edu (nlp.stanford.edu)|171.64.67.140|:80... connected.\n",
            "HTTP request sent, awaiting response... 302 Found\n",
            "Location: https://nlp.stanford.edu/data/glove.6B.zip [following]\n",
            "--2022-04-06 07:56:04--  https://nlp.stanford.edu/data/glove.6B.zip\n",
            "Connecting to nlp.stanford.edu (nlp.stanford.edu)|171.64.67.140|:443... connected.\n",
            "HTTP request sent, awaiting response... 301 Moved Permanently\n",
            "Location: http://downloads.cs.stanford.edu/nlp/data/glove.6B.zip [following]\n",
            "--2022-04-06 07:56:04--  http://downloads.cs.stanford.edu/nlp/data/glove.6B.zip\n",
            "Resolving downloads.cs.stanford.edu (downloads.cs.stanford.edu)... 171.64.64.22\n",
            "Connecting to downloads.cs.stanford.edu (downloads.cs.stanford.edu)|171.64.64.22|:80... connected.\n",
            "HTTP request sent, awaiting response... 200 OK\n",
            "Length: 862182613 (822M) [application/zip]\n",
            "Saving to: ‘/tmp/glove.6B.zip’\n",
            "\n",
            "/tmp/glove.6B.zip   100%[===================>] 822.24M  5.08MB/s    in 2m 40s  \n",
            "\n",
            "2022-04-06 07:58:44 (5.13 MB/s) - ‘/tmp/glove.6B.zip’ saved [862182613/862182613]\n",
            "\n"
          ]
        }
      ]
    },
    {
      "cell_type": "code",
      "source": [
        "import os\n",
        "import zipfile\n",
        "with zipfile.ZipFile('/tmp/glove.6B.zip', 'r') as zip_ref:\n",
        "    zip_ref.extractall('/tmp/glove')"
      ],
      "metadata": {
        "id": "5-_Oox0RbCuv"
      },
      "execution_count": 20,
      "outputs": []
    },
    {
      "cell_type": "code",
      "source": [
        "embeddings_index = {}\n",
        "f = open('/tmp/glove/glove.6B.100d.txt')\n",
        "for line in f:\n",
        "    values = line.split()\n",
        "    word = values[0]\n",
        "    coefs = np.asarray(values[1:], dtype='float32')\n",
        "    embeddings_index[word] = coefs\n",
        "f.close()\n",
        "\n",
        "print('Found %s word vectors.' % len(embeddings_index))"
      ],
      "metadata": {
        "colab": {
          "base_uri": "https://localhost:8080/"
        },
        "id": "jfi_vW5nbCrM",
        "outputId": "5b5ed818-4f34-498d-9ed4-5b27213119c1"
      },
      "execution_count": 21,
      "outputs": [
        {
          "output_type": "stream",
          "name": "stdout",
          "text": [
            "Found 400000 word vectors.\n"
          ]
        }
      ]
    },
    {
      "cell_type": "code",
      "source": [
        "embedding_matrix = np.zeros((len(word_index) + 1, max_length))\n",
        "for word, i in word_index.items():\n",
        "    embedding_vector = embeddings_index.get(word)\n",
        "    if embedding_vector is not None:\n",
        "        # words not found in embedding index will be all-zeros.\n",
        "        embedding_matrix[i] = embedding_vector"
      ],
      "metadata": {
        "id": "3SOe6WjIbCm4"
      },
      "execution_count": 22,
      "outputs": []
    },
    {
      "cell_type": "code",
      "source": [
        "from tensorflow.keras.layers import Embedding, LSTM, Dense, Bidirectional, Dropout\n",
        "\n",
        "embedding_layer = Embedding(input_dim=len(word_index) + 1,\n",
        "                            output_dim=max_length,\n",
        "                            weights=[embedding_matrix],\n",
        "                            input_length=max_length,\n",
        "                            trainable=True)"
      ],
      "metadata": {
        "id": "Mvcj5iEzaidr"
      },
      "execution_count": 23,
      "outputs": []
    },
    {
      "cell_type": "code",
      "source": [
        "import tensorflow as tf\n",
        "\n",
        "tf.keras.backend.clear_session()\n",
        "\n",
        "from tensorflow.keras.models import Sequential\n",
        "\n",
        "\n",
        "#Bidirectional LSTM based model\n",
        "# model = Sequential([\n",
        "#     embedding_layer,\n",
        "#     Bidirectional(LSTM(64, return_sequences=True, dropout=0.5, recurrent_dropout=0.5)), \n",
        "#     Bidirectional(LSTM(32, return_sequences=True, dropout=0.5, recurrent_dropout=0.5)),\n",
        "#     Bidirectional(LSTM(16, dropout=0.5, recurrent_dropout=0.5)),\n",
        "#     Dense(128, activation='relu', kernel_regularizer='l2'),\n",
        "#     Dropout(0.4),\n",
        "#     Dense(64, activation='relu', kernel_regularizer='l2'),\n",
        "#    Dense(3, activation='softmax')\n",
        "# ])\n",
        "\n",
        "#Global Average Pooling based Model\n",
        "model = tf.keras.Sequential([\n",
        "    embedding_layer,\n",
        "    tf.keras.layers.GlobalAveragePooling1D(),\n",
        "    tf.keras.layers.Dense(6, activation='relu'),\n",
        "    tf.keras.layers.Dense(3, activation='softmax')\n",
        "                             \n",
        "])\n",
        "\n",
        "\n"
      ],
      "metadata": {
        "id": "nnrFv51Xdaqe"
      },
      "execution_count": 31,
      "outputs": []
    },
    {
      "cell_type": "code",
      "source": [
        "model.compile(loss='categorical_crossentropy',optimizer='adam',metrics=['accuracy'])"
      ],
      "metadata": {
        "id": "P-dt2b6kdaj3"
      },
      "execution_count": 32,
      "outputs": []
    },
    {
      "cell_type": "code",
      "source": [
        "X_train_padded = np.array(X_train_padded)\n",
        "y_train_labels = np.array(y_train)\n",
        "X_test_padded = np.array(X_test_padded)\n",
        "y_test_labels = np.array(y_test)"
      ],
      "metadata": {
        "id": "0zrlw_FqeVFx"
      },
      "execution_count": 33,
      "outputs": []
    },
    {
      "cell_type": "code",
      "source": [
        "y_train_labels_one_hot_encoded = tf.keras.utils.to_categorical(y_train_labels, 3)\n",
        "y_test_labels_one_hot_encoded = tf.keras.utils.to_categorical(y_test_labels, 3)"
      ],
      "metadata": {
        "id": "8-vBKNKudaa2"
      },
      "execution_count": 34,
      "outputs": []
    },
    {
      "cell_type": "markdown",
      "source": [
        "Bi-Directional LSTMs"
      ],
      "metadata": {
        "id": "yMw-kQc0IIb8"
      }
    },
    {
      "cell_type": "code",
      "source": [
        "#Bi-LSTMs\n",
        "import tensorflow\n",
        "from tensorflow.keras.callbacks import EarlyStopping\n",
        "\n",
        "checkpoint_filepath = 'weights.{epoch:02d}-{val_loss:.2f}.h5'\n",
        "\n",
        "model_checkpoint_callback = tensorflow.keras.callbacks.ModelCheckpoint(\n",
        "    filepath=checkpoint_filepath,\n",
        "    monitor='val_accuracy',\n",
        "    mode='max',\n",
        "    save_best_only=True)\n",
        "\n",
        "\n",
        "early_stopping_callback = EarlyStopping(monitor='val_accuracy', patience=10), \n",
        "\n",
        "\n",
        "num_epochs = 100\n",
        "history = model.fit(X_train_padded, y_train_labels_one_hot_encoded, epochs=num_epochs, validation_data=(X_test_padded, y_test_labels_one_hot_encoded), callbacks=[model_checkpoint_callback, early_stopping_callback])"
      ],
      "metadata": {
        "colab": {
          "base_uri": "https://localhost:8080/"
        },
        "id": "XzcHeq5qDNlP",
        "outputId": "2128d4b8-a3bb-424f-d828-c3c774b3ce45"
      },
      "execution_count": 28,
      "outputs": [
        {
          "output_type": "stream",
          "name": "stdout",
          "text": [
            "Epoch 1/100\n",
            "26/26 [==============================] - 136s 4s/step - loss: 2.1717 - accuracy: 0.4655 - val_loss: 1.8820 - val_accuracy: 0.5171\n",
            "Epoch 2/100\n",
            "26/26 [==============================] - 116s 4s/step - loss: 1.7253 - accuracy: 0.5357 - val_loss: 1.5464 - val_accuracy: 0.5171\n",
            "Epoch 3/100\n",
            "26/26 [==============================] - 115s 4s/step - loss: 1.3757 - accuracy: 0.6601 - val_loss: 1.2422 - val_accuracy: 0.6829\n",
            "Epoch 4/100\n",
            "26/26 [==============================] - 114s 4s/step - loss: 1.1387 - accuracy: 0.7057 - val_loss: 1.0733 - val_accuracy: 0.7268\n",
            "Epoch 5/100\n",
            "26/26 [==============================] - 113s 4s/step - loss: 0.9593 - accuracy: 0.7463 - val_loss: 0.9606 - val_accuracy: 0.7415\n",
            "Epoch 6/100\n",
            "26/26 [==============================] - 111s 4s/step - loss: 0.8270 - accuracy: 0.7623 - val_loss: 0.8919 - val_accuracy: 0.7366\n",
            "Epoch 7/100\n",
            "26/26 [==============================] - 111s 4s/step - loss: 0.7148 - accuracy: 0.7980 - val_loss: 0.8942 - val_accuracy: 0.7268\n",
            "Epoch 8/100\n",
            "26/26 [==============================] - 109s 4s/step - loss: 0.6162 - accuracy: 0.8264 - val_loss: 0.8676 - val_accuracy: 0.7073\n",
            "Epoch 9/100\n",
            "26/26 [==============================] - 109s 4s/step - loss: 0.5731 - accuracy: 0.8288 - val_loss: 0.8650 - val_accuracy: 0.7366\n",
            "Epoch 10/100\n",
            "26/26 [==============================] - 107s 4s/step - loss: 0.5185 - accuracy: 0.8485 - val_loss: 0.8796 - val_accuracy: 0.7317\n",
            "Epoch 11/100\n",
            "26/26 [==============================] - 109s 4s/step - loss: 0.4645 - accuracy: 0.8744 - val_loss: 0.8796 - val_accuracy: 0.6976\n",
            "Epoch 12/100\n",
            "26/26 [==============================] - 108s 4s/step - loss: 0.4696 - accuracy: 0.8596 - val_loss: 0.9840 - val_accuracy: 0.7171\n",
            "Epoch 13/100\n",
            "26/26 [==============================] - 107s 4s/step - loss: 0.3569 - accuracy: 0.9076 - val_loss: 0.8940 - val_accuracy: 0.7561\n",
            "Epoch 14/100\n",
            "26/26 [==============================] - 107s 4s/step - loss: 0.3378 - accuracy: 0.9064 - val_loss: 0.9393 - val_accuracy: 0.7610\n",
            "Epoch 15/100\n",
            "26/26 [==============================] - 107s 4s/step - loss: 0.2933 - accuracy: 0.9261 - val_loss: 0.9484 - val_accuracy: 0.7073\n",
            "Epoch 16/100\n",
            "26/26 [==============================] - 111s 4s/step - loss: 0.3047 - accuracy: 0.9298 - val_loss: 0.9547 - val_accuracy: 0.7122\n",
            "Epoch 17/100\n",
            "26/26 [==============================] - 107s 4s/step - loss: 0.2633 - accuracy: 0.9421 - val_loss: 0.9598 - val_accuracy: 0.7024\n",
            "Epoch 18/100\n",
            "26/26 [==============================] - 107s 4s/step - loss: 0.2434 - accuracy: 0.9458 - val_loss: 0.9916 - val_accuracy: 0.7512\n",
            "Epoch 19/100\n",
            "26/26 [==============================] - 106s 4s/step - loss: 0.2283 - accuracy: 0.9446 - val_loss: 0.9974 - val_accuracy: 0.7512\n",
            "Epoch 20/100\n",
            "26/26 [==============================] - 109s 4s/step - loss: 0.2215 - accuracy: 0.9495 - val_loss: 0.9738 - val_accuracy: 0.7463\n",
            "Epoch 21/100\n",
            "26/26 [==============================] - 107s 4s/step - loss: 0.1921 - accuracy: 0.9594 - val_loss: 1.0467 - val_accuracy: 0.7854\n",
            "Epoch 22/100\n",
            "26/26 [==============================] - 107s 4s/step - loss: 0.1974 - accuracy: 0.9557 - val_loss: 1.0600 - val_accuracy: 0.7463\n",
            "Epoch 23/100\n",
            "26/26 [==============================] - 113s 4s/step - loss: 0.1567 - accuracy: 0.9717 - val_loss: 1.1458 - val_accuracy: 0.7610\n",
            "Epoch 24/100\n",
            "26/26 [==============================] - 110s 4s/step - loss: 0.1810 - accuracy: 0.9655 - val_loss: 1.0368 - val_accuracy: 0.7366\n",
            "Epoch 25/100\n",
            "26/26 [==============================] - 109s 4s/step - loss: 0.1894 - accuracy: 0.9618 - val_loss: 1.0499 - val_accuracy: 0.7610\n",
            "Epoch 26/100\n",
            "26/26 [==============================] - 106s 4s/step - loss: 0.1293 - accuracy: 0.9803 - val_loss: 1.0276 - val_accuracy: 0.7463\n",
            "Epoch 27/100\n",
            "26/26 [==============================] - 106s 4s/step - loss: 0.1269 - accuracy: 0.9791 - val_loss: 1.1716 - val_accuracy: 0.7561\n",
            "Epoch 28/100\n",
            "26/26 [==============================] - 105s 4s/step - loss: 0.1567 - accuracy: 0.9754 - val_loss: 1.0250 - val_accuracy: 0.7561\n",
            "Epoch 29/100\n",
            "26/26 [==============================] - 108s 4s/step - loss: 0.1398 - accuracy: 0.9704 - val_loss: 1.0165 - val_accuracy: 0.7805\n",
            "Epoch 30/100\n",
            "26/26 [==============================] - 108s 4s/step - loss: 0.1394 - accuracy: 0.9741 - val_loss: 1.0517 - val_accuracy: 0.7220\n",
            "Epoch 31/100\n",
            "26/26 [==============================] - 110s 4s/step - loss: 0.1163 - accuracy: 0.9840 - val_loss: 1.1240 - val_accuracy: 0.7659\n"
          ]
        }
      ]
    },
    {
      "cell_type": "code",
      "source": [
        "#For Bidirectional LSTMs\n",
        "import matplotlib.pyplot as plt\n",
        "\n",
        "epochs=[x for x in range(1,32)]\n",
        "\n",
        "plt.plot(epochs,history.history['accuracy'])\n",
        "plt.plot(epochs,history.history['val_accuracy'])\n",
        "plt.title('Model Accuracy')\n",
        "plt.ylabel('Accuracy')\n",
        "plt.xlabel('Number Of Epochs')\n",
        "plt.legend(['Train', 'Validation'], loc='upper left')\n",
        "plt.show()"
      ],
      "metadata": {
        "id": "5xu8Bes8DNNh",
        "colab": {
          "base_uri": "https://localhost:8080/",
          "height": 295
        },
        "outputId": "365200f7-a871-444f-c834-7ae2b97a4b74"
      },
      "execution_count": 29,
      "outputs": [
        {
          "output_type": "display_data",
          "data": {
            "text/plain": [
              "<Figure size 432x288 with 1 Axes>"
            ],
            "image/png": "[encoded data removed]"
          },
          "metadata": {
            "needs_background": "light"
          }
        }
      ]
    },
    {
      "cell_type": "code",
      "source": [
        "#For Bidirectional LSTMs\n",
        "epochs=[x for x in range(1,32)]\n",
        "\n",
        "plt.plot(epochs,history.history['loss'])\n",
        "plt.plot(epochs,history.history['val_loss'])\n",
        "plt.title('Model Loss')\n",
        "plt.ylabel('Loss')\n",
        "plt.xlabel('Number Of Epochs')\n",
        "plt.legend(['Train', 'Validation'], loc='upper right')\n",
        "plt.show()"
      ],
      "metadata": {
        "colab": {
          "base_uri": "https://localhost:8080/",
          "height": 295
        },
        "id": "mbmCYUAJG_tD",
        "outputId": "742f2d84-40f9-4b2e-e23f-795633fe6ddd"
      },
      "execution_count": 30,
      "outputs": [
        {
          "output_type": "display_data",
          "data": {
            "text/plain": [
              "<Figure size 432x288 with 1 Axes>"
            ],
            "image/png": "[encoded data removed]"
          },
          "metadata": {
            "needs_background": "light"
          }
        }
      ]
    },
    {
      "cell_type": "markdown",
      "source": [
        "Global Average Pooling"
      ],
      "metadata": {
        "id": "F_hdHgDrIOGE"
      }
    },
    {
      "cell_type": "code",
      "source": [
        "#Global Average Pooling\n",
        "\n",
        "import tensorflow\n",
        "from tensorflow.keras.callbacks import EarlyStopping\n",
        "\n",
        "checkpoint_filepath = 'weights.{epoch:02d}-{val_loss:.2f}.h5'\n",
        "\n",
        "model_checkpoint_callback = tensorflow.keras.callbacks.ModelCheckpoint(\n",
        "    filepath=checkpoint_filepath,\n",
        "    monitor='val_accuracy',\n",
        "    mode='max',\n",
        "    save_best_only=True)\n",
        "\n",
        "\n",
        "early_stopping_callback = EarlyStopping(monitor='val_accuracy', patience=10), \n",
        "\n",
        "\n",
        "num_epochs = 100\n",
        "history = model.fit(X_train_padded, y_train_labels_one_hot_encoded, epochs=num_epochs, validation_data=(X_test_padded, y_test_labels_one_hot_encoded), callbacks=[model_checkpoint_callback, early_stopping_callback])"
      ],
      "metadata": {
        "colab": {
          "base_uri": "https://localhost:8080/"
        },
        "id": "3HEHYE9fHelN",
        "outputId": "2fc7621d-2520-483a-ac62-3d619b4b609d"
      },
      "execution_count": 35,
      "outputs": [
        {
          "output_type": "stream",
          "name": "stdout",
          "text": [
            "Epoch 1/100\n",
            "26/26 [==============================] - 1s 16ms/step - loss: 1.0581 - accuracy: 0.5135 - val_loss: 1.0153 - val_accuracy: 0.5171\n",
            "Epoch 2/100\n",
            "26/26 [==============================] - 0s 8ms/step - loss: 0.9895 - accuracy: 0.5172 - val_loss: 0.9706 - val_accuracy: 0.5171\n",
            "Epoch 3/100\n",
            "26/26 [==============================] - 0s 8ms/step - loss: 0.9617 - accuracy: 0.5172 - val_loss: 0.9600 - val_accuracy: 0.5171\n",
            "Epoch 4/100\n",
            "26/26 [==============================] - 0s 8ms/step - loss: 0.9382 - accuracy: 0.5222 - val_loss: 0.9385 - val_accuracy: 0.5268\n",
            "Epoch 5/100\n",
            "26/26 [==============================] - 0s 9ms/step - loss: 0.9117 - accuracy: 0.5603 - val_loss: 0.9205 - val_accuracy: 0.5415\n",
            "Epoch 6/100\n",
            "26/26 [==============================] - 0s 8ms/step - loss: 0.8858 - accuracy: 0.6034 - val_loss: 0.9019 - val_accuracy: 0.6049\n",
            "Epoch 7/100\n",
            "26/26 [==============================] - 0s 7ms/step - loss: 0.8542 - accuracy: 0.6281 - val_loss: 0.8816 - val_accuracy: 0.6049\n",
            "Epoch 8/100\n",
            "26/26 [==============================] - 0s 9ms/step - loss: 0.8210 - accuracy: 0.6970 - val_loss: 0.8609 - val_accuracy: 0.6098\n",
            "Epoch 9/100\n",
            "26/26 [==============================] - 0s 8ms/step - loss: 0.7850 - accuracy: 0.7599 - val_loss: 0.8399 - val_accuracy: 0.6244\n",
            "Epoch 10/100\n",
            "26/26 [==============================] - 0s 10ms/step - loss: 0.7466 - accuracy: 0.7709 - val_loss: 0.8150 - val_accuracy: 0.6927\n",
            "Epoch 11/100\n",
            "26/26 [==============================] - 0s 8ms/step - loss: 0.7035 - accuracy: 0.7906 - val_loss: 0.7900 - val_accuracy: 0.6878\n",
            "Epoch 12/100\n",
            "26/26 [==============================] - 0s 9ms/step - loss: 0.6461 - accuracy: 0.8030 - val_loss: 0.7592 - val_accuracy: 0.7366\n",
            "Epoch 13/100\n",
            "26/26 [==============================] - 0s 9ms/step - loss: 0.5962 - accuracy: 0.8190 - val_loss: 0.7376 - val_accuracy: 0.7659\n",
            "Epoch 14/100\n",
            "26/26 [==============================] - 0s 7ms/step - loss: 0.5498 - accuracy: 0.8325 - val_loss: 0.7225 - val_accuracy: 0.7659\n",
            "Epoch 15/100\n",
            "26/26 [==============================] - 0s 7ms/step - loss: 0.5091 - accuracy: 0.8461 - val_loss: 0.7044 - val_accuracy: 0.7610\n",
            "Epoch 16/100\n",
            "26/26 [==============================] - 0s 8ms/step - loss: 0.4758 - accuracy: 0.8473 - val_loss: 0.6931 - val_accuracy: 0.7659\n",
            "Epoch 17/100\n",
            "26/26 [==============================] - 0s 7ms/step - loss: 0.4423 - accuracy: 0.8522 - val_loss: 0.6874 - val_accuracy: 0.7512\n",
            "Epoch 18/100\n",
            "26/26 [==============================] - 0s 7ms/step - loss: 0.4133 - accuracy: 0.8547 - val_loss: 0.6810 - val_accuracy: 0.7659\n",
            "Epoch 19/100\n",
            "26/26 [==============================] - 0s 7ms/step - loss: 0.3862 - accuracy: 0.8645 - val_loss: 0.6770 - val_accuracy: 0.7561\n",
            "Epoch 20/100\n",
            "26/26 [==============================] - 0s 8ms/step - loss: 0.3633 - accuracy: 0.8732 - val_loss: 0.6840 - val_accuracy: 0.7463\n",
            "Epoch 21/100\n",
            "26/26 [==============================] - 0s 7ms/step - loss: 0.3429 - accuracy: 0.8793 - val_loss: 0.6749 - val_accuracy: 0.7463\n",
            "Epoch 22/100\n",
            "26/26 [==============================] - 0s 7ms/step - loss: 0.3221 - accuracy: 0.8818 - val_loss: 0.6739 - val_accuracy: 0.7463\n",
            "Epoch 23/100\n",
            "26/26 [==============================] - 0s 7ms/step - loss: 0.3061 - accuracy: 0.8929 - val_loss: 0.6758 - val_accuracy: 0.7463\n"
          ]
        }
      ]
    },
    {
      "cell_type": "code",
      "source": [
        "#Global Average Pooling\n",
        "import matplotlib.pyplot as plt\n",
        "\n",
        "epochs=[x for x in range(1,24)]\n",
        "\n",
        "plt.plot(epochs,history.history['accuracy'])\n",
        "plt.plot(epochs,history.history['val_accuracy'])\n",
        "plt.title('Model Accuracy')\n",
        "plt.ylabel('Accuracy')\n",
        "plt.xlabel('Number Of Epochs')\n",
        "plt.legend(['Train', 'Validation'], loc='upper left')\n",
        "plt.show()"
      ],
      "metadata": {
        "colab": {
          "base_uri": "https://localhost:8080/",
          "height": 295
        },
        "id": "y6lqrzNOHehI",
        "outputId": "2ff77549-1bce-476d-a0e7-5e4f7e1c0de8"
      },
      "execution_count": 36,
      "outputs": [
        {
          "output_type": "display_data",
          "data": {
            "text/plain": [
              "<Figure size 432x288 with 1 Axes>"
            ],
            "image/png": "[encoded data removed]"
          },
          "metadata": {
            "needs_background": "light"
          }
        }
      ]
    },
    {
      "cell_type": "code",
      "source": [
        "#For Global Average Pooling\n",
        "epochs=[x for x in range(1,24)]\n",
        "\n",
        "plt.plot(epochs,history.history['loss'])\n",
        "plt.plot(epochs,history.history['val_loss'])\n",
        "plt.title('Model Loss')\n",
        "plt.ylabel('Loss')\n",
        "plt.xlabel('Number Of Epochs')\n",
        "plt.legend(['Train', 'Validation'], loc='upper right')\n",
        "plt.show()"
      ],
      "metadata": {
        "colab": {
          "base_uri": "https://localhost:8080/",
          "height": 295
        },
        "id": "9SnzYZzOHedg",
        "outputId": "11dd545c-4282-49ff-a723-243b9441c50b"
      },
      "execution_count": 37,
      "outputs": [
        {
          "output_type": "display_data",
          "data": {
            "text/plain": [
              "<Figure size 432x288 with 1 Axes>"
            ],
            "image/png": "[encoded data removed]"
          },
          "metadata": {
            "needs_background": "light"
          }
        }
      ]
    },
    {
      "cell_type": "markdown",
      "source": [
        "**BERT**"
      ],
      "metadata": {
        "id": "nQgJo_LIMb4v"
      }
    },
    {
      "cell_type": "markdown",
      "source": [
        "Setup"
      ],
      "metadata": {
        "id": "O1XuY2uSPZ6M"
      }
    },
    {
      "cell_type": "code",
      "source": [
        "# A dependency of the preprocessing for BERT inputs\n",
        "!pip install -q -U \"tensorflow-text==2.8.*\""
      ],
      "metadata": {
        "colab": {
          "base_uri": "https://localhost:8080/"
        },
        "id": "IfqLYpNGi35M",
        "outputId": "285c9e35-2465-46d1-f1cd-2ff6b39d1d70"
      },
      "execution_count": 38,
      "outputs": [
        {
          "output_type": "stream",
          "name": "stdout",
          "text": [
            "\u001b[K     |████████████████████████████████| 4.9 MB 5.3 MB/s \n",
            "\u001b[K     |████████████████████████████████| 462 kB 47.1 MB/s \n",
            "\u001b[?25h"
          ]
        }
      ]
    },
    {
      "cell_type": "code",
      "source": [
        "!pip install -q tf-models-official==2.7.0"
      ],
      "metadata": {
        "colab": {
          "base_uri": "https://localhost:8080/"
        },
        "id": "9tts9nP5PmSK",
        "outputId": "c3d88897-2ee6-4f5b-f015-4d196227a8cd"
      },
      "execution_count": 39,
      "outputs": [
        {
          "output_type": "stream",
          "name": "stdout",
          "text": [
            "\u001b[K     |████████████████████████████████| 1.8 MB 5.5 MB/s \n",
            "\u001b[K     |████████████████████████████████| 99 kB 6.7 MB/s \n",
            "\u001b[K     |████████████████████████████████| 596 kB 32.0 MB/s \n",
            "\u001b[K     |████████████████████████████████| 47.8 MB 13.5 MB/s \n",
            "\u001b[K     |████████████████████████████████| 90 kB 7.3 MB/s \n",
            "\u001b[K     |████████████████████████████████| 1.2 MB 32.2 MB/s \n",
            "\u001b[K     |████████████████████████████████| 43 kB 1.3 MB/s \n",
            "\u001b[K     |████████████████████████████████| 237 kB 45.5 MB/s \n",
            "\u001b[K     |████████████████████████████████| 1.1 MB 46.5 MB/s \n",
            "\u001b[K     |████████████████████████████████| 352 kB 51.9 MB/s \n",
            "\u001b[?25h  Building wheel for py-cpuinfo (setup.py) ... \u001b[?25l\u001b[?25hdone\n",
            "  Building wheel for seqeval (setup.py) ... \u001b[?25l\u001b[?25hdone\n"
          ]
        }
      ]
    },
    {
      "cell_type": "code",
      "source": [
        "import os\n",
        "import shutil\n",
        "\n",
        "import tensorflow as tf\n",
        "import tensorflow_hub as hub\n",
        "import tensorflow_text as text\n",
        "from official.nlp import optimization  # to create AdamW optimizer\n",
        "\n",
        "import matplotlib.pyplot as plt\n",
        "\n",
        "tf.get_logger().setLevel('ERROR')"
      ],
      "metadata": {
        "id": "9vJbmAE5MqWg"
      },
      "execution_count": 40,
      "outputs": []
    },
    {
      "cell_type": "markdown",
      "source": [
        "**Exploring the IMDB Dataset For Testing BERT**"
      ],
      "metadata": {
        "id": "EvbHc4zlPztu"
      }
    },
    {
      "cell_type": "code",
      "source": [
        "url = 'https://ai.stanford.edu/~amaas/data/sentiment/aclImdb_v1.tar.gz'\n",
        "\n",
        "dataset = tf.keras.utils.get_file('aclImdb_v1.tar.gz', url,\n",
        "                                  untar=True, cache_dir='.',\n",
        "                                  cache_subdir='')\n",
        "\n",
        "dataset_dir = os.path.join(os.path.dirname(dataset), 'aclImdb')\n",
        "\n",
        "train_dir = os.path.join(dataset_dir, 'train')\n",
        "\n",
        "# remove unused folders to make it easier to load the data\n",
        "remove_dir = os.path.join(train_dir, 'unsup')\n",
        "shutil.rmtree(remove_dir)"
      ],
      "metadata": {
        "colab": {
          "base_uri": "https://localhost:8080/"
        },
        "id": "C4xCPsxSPxpK",
        "outputId": "60889da7-eaea-47b4-85c1-cedbcac8bf7d"
      },
      "execution_count": 41,
      "outputs": [
        {
          "output_type": "stream",
          "name": "stdout",
          "text": [
            "Downloading data from https://ai.stanford.edu/~amaas/data/sentiment/aclImdb_v1.tar.gz\n",
            "84131840/84125825 [==============================] - 3s 0us/step\n",
            "84140032/84125825 [==============================] - 3s 0us/step\n"
          ]
        }
      ]
    },
    {
      "cell_type": "code",
      "source": [
        "bert_model_name = 'small_bert/bert_en_uncased_L-4_H-512_A-8' \n",
        "\n",
        "map_name_to_handle = {\n",
        "    'bert_en_uncased_L-12_H-768_A-12':\n",
        "        'https://tfhub.dev/tensorflow/bert_en_uncased_L-12_H-768_A-12/3',\n",
        "    'bert_en_cased_L-12_H-768_A-12':\n",
        "        'https://tfhub.dev/tensorflow/bert_en_cased_L-12_H-768_A-12/3',\n",
        "    'bert_multi_cased_L-12_H-768_A-12':\n",
        "        'https://tfhub.dev/tensorflow/bert_multi_cased_L-12_H-768_A-12/3',\n",
        "    'small_bert/bert_en_uncased_L-2_H-128_A-2':\n",
        "        'https://tfhub.dev/tensorflow/small_bert/bert_en_uncased_L-2_H-128_A-2/1',\n",
        "    'small_bert/bert_en_uncased_L-2_H-256_A-4':\n",
        "        'https://tfhub.dev/tensorflow/small_bert/bert_en_uncased_L-2_H-256_A-4/1',\n",
        "    'small_bert/bert_en_uncased_L-2_H-512_A-8':\n",
        "        'https://tfhub.dev/tensorflow/small_bert/bert_en_uncased_L-2_H-512_A-8/1',\n",
        "    'small_bert/bert_en_uncased_L-2_H-768_A-12':\n",
        "        'https://tfhub.dev/tensorflow/small_bert/bert_en_uncased_L-2_H-768_A-12/1',\n",
        "    'small_bert/bert_en_uncased_L-4_H-128_A-2':\n",
        "        'https://tfhub.dev/tensorflow/small_bert/bert_en_uncased_L-4_H-128_A-2/1',\n",
        "    'small_bert/bert_en_uncased_L-4_H-256_A-4':\n",
        "        'https://tfhub.dev/tensorflow/small_bert/bert_en_uncased_L-4_H-256_A-4/1',\n",
        "    'small_bert/bert_en_uncased_L-4_H-512_A-8':\n",
        "        'https://tfhub.dev/tensorflow/small_bert/bert_en_uncased_L-4_H-512_A-8/1',\n",
        "    'small_bert/bert_en_uncased_L-4_H-768_A-12':\n",
        "        'https://tfhub.dev/tensorflow/small_bert/bert_en_uncased_L-4_H-768_A-12/1',\n",
        "    'small_bert/bert_en_uncased_L-6_H-128_A-2':\n",
        "        'https://tfhub.dev/tensorflow/small_bert/bert_en_uncased_L-6_H-128_A-2/1',\n",
        "    'small_bert/bert_en_uncased_L-6_H-256_A-4':\n",
        "        'https://tfhub.dev/tensorflow/small_bert/bert_en_uncased_L-6_H-256_A-4/1',\n",
        "    'small_bert/bert_en_uncased_L-6_H-512_A-8':\n",
        "        'https://tfhub.dev/tensorflow/small_bert/bert_en_uncased_L-6_H-512_A-8/1',\n",
        "    'small_bert/bert_en_uncased_L-6_H-768_A-12':\n",
        "        'https://tfhub.dev/tensorflow/small_bert/bert_en_uncased_L-6_H-768_A-12/1',\n",
        "    'small_bert/bert_en_uncased_L-8_H-128_A-2':\n",
        "        'https://tfhub.dev/tensorflow/small_bert/bert_en_uncased_L-8_H-128_A-2/1',\n",
        "    'small_bert/bert_en_uncased_L-8_H-256_A-4':\n",
        "        'https://tfhub.dev/tensorflow/small_bert/bert_en_uncased_L-8_H-256_A-4/1',\n",
        "    'small_bert/bert_en_uncased_L-8_H-512_A-8':\n",
        "        'https://tfhub.dev/tensorflow/small_bert/bert_en_uncased_L-8_H-512_A-8/1',\n",
        "    'small_bert/bert_en_uncased_L-8_H-768_A-12':\n",
        "        'https://tfhub.dev/tensorflow/small_bert/bert_en_uncased_L-8_H-768_A-12/1',\n",
        "    'small_bert/bert_en_uncased_L-10_H-128_A-2':\n",
        "        'https://tfhub.dev/tensorflow/small_bert/bert_en_uncased_L-10_H-128_A-2/1',\n",
        "    'small_bert/bert_en_uncased_L-10_H-256_A-4':\n",
        "        'https://tfhub.dev/tensorflow/small_bert/bert_en_uncased_L-10_H-256_A-4/1',\n",
        "    'small_bert/bert_en_uncased_L-10_H-512_A-8':\n",
        "        'https://tfhub.dev/tensorflow/small_bert/bert_en_uncased_L-10_H-512_A-8/1',\n",
        "    'small_bert/bert_en_uncased_L-10_H-768_A-12':\n",
        "        'https://tfhub.dev/tensorflow/small_bert/bert_en_uncased_L-10_H-768_A-12/1',\n",
        "    'small_bert/bert_en_uncased_L-12_H-128_A-2':\n",
        "        'https://tfhub.dev/tensorflow/small_bert/bert_en_uncased_L-12_H-128_A-2/1',\n",
        "    'small_bert/bert_en_uncased_L-12_H-256_A-4':\n",
        "        'https://tfhub.dev/tensorflow/small_bert/bert_en_uncased_L-12_H-256_A-4/1',\n",
        "    'small_bert/bert_en_uncased_L-12_H-512_A-8':\n",
        "        'https://tfhub.dev/tensorflow/small_bert/bert_en_uncased_L-12_H-512_A-8/1',\n",
        "    'small_bert/bert_en_uncased_L-12_H-768_A-12':\n",
        "        'https://tfhub.dev/tensorflow/small_bert/bert_en_uncased_L-12_H-768_A-12/1',\n",
        "    'albert_en_base':\n",
        "        'https://tfhub.dev/tensorflow/albert_en_base/2',\n",
        "    'electra_small':\n",
        "        'https://tfhub.dev/google/electra_small/2',\n",
        "    'electra_base':\n",
        "        'https://tfhub.dev/google/electra_base/2',\n",
        "    'experts_pubmed':\n",
        "        'https://tfhub.dev/google/experts/bert/pubmed/2',\n",
        "    'experts_wiki_books':\n",
        "        'https://tfhub.dev/google/experts/bert/wiki_books/2',\n",
        "    'talking-heads_base':\n",
        "        'https://tfhub.dev/tensorflow/talkheads_ggelu_bert_en_base/1',\n",
        "}\n",
        "\n",
        "map_model_to_preprocess = {\n",
        "    'bert_en_uncased_L-12_H-768_A-12':\n",
        "        'https://tfhub.dev/tensorflow/bert_en_uncased_preprocess/3',\n",
        "    'bert_en_cased_L-12_H-768_A-12':\n",
        "        'https://tfhub.dev/tensorflow/bert_en_cased_preprocess/3',\n",
        "    'small_bert/bert_en_uncased_L-2_H-128_A-2':\n",
        "        'https://tfhub.dev/tensorflow/bert_en_uncased_preprocess/3',\n",
        "    'small_bert/bert_en_uncased_L-2_H-256_A-4':\n",
        "        'https://tfhub.dev/tensorflow/bert_en_uncased_preprocess/3',\n",
        "    'small_bert/bert_en_uncased_L-2_H-512_A-8':\n",
        "        'https://tfhub.dev/tensorflow/bert_en_uncased_preprocess/3',\n",
        "    'small_bert/bert_en_uncased_L-2_H-768_A-12':\n",
        "        'https://tfhub.dev/tensorflow/bert_en_uncased_preprocess/3',\n",
        "    'small_bert/bert_en_uncased_L-4_H-128_A-2':\n",
        "        'https://tfhub.dev/tensorflow/bert_en_uncased_preprocess/3',\n",
        "    'small_bert/bert_en_uncased_L-4_H-256_A-4':\n",
        "        'https://tfhub.dev/tensorflow/bert_en_uncased_preprocess/3',\n",
        "    'small_bert/bert_en_uncased_L-4_H-512_A-8':\n",
        "        'https://tfhub.dev/tensorflow/bert_en_uncased_preprocess/3',\n",
        "    'small_bert/bert_en_uncased_L-4_H-768_A-12':\n",
        "        'https://tfhub.dev/tensorflow/bert_en_uncased_preprocess/3',\n",
        "    'small_bert/bert_en_uncased_L-6_H-128_A-2':\n",
        "        'https://tfhub.dev/tensorflow/bert_en_uncased_preprocess/3',\n",
        "    'small_bert/bert_en_uncased_L-6_H-256_A-4':\n",
        "        'https://tfhub.dev/tensorflow/bert_en_uncased_preprocess/3',\n",
        "    'small_bert/bert_en_uncased_L-6_H-512_A-8':\n",
        "        'https://tfhub.dev/tensorflow/bert_en_uncased_preprocess/3',\n",
        "    'small_bert/bert_en_uncased_L-6_H-768_A-12':\n",
        "        'https://tfhub.dev/tensorflow/bert_en_uncased_preprocess/3',\n",
        "    'small_bert/bert_en_uncased_L-8_H-128_A-2':\n",
        "        'https://tfhub.dev/tensorflow/bert_en_uncased_preprocess/3',\n",
        "    'small_bert/bert_en_uncased_L-8_H-256_A-4':\n",
        "        'https://tfhub.dev/tensorflow/bert_en_uncased_preprocess/3',\n",
        "    'small_bert/bert_en_uncased_L-8_H-512_A-8':\n",
        "        'https://tfhub.dev/tensorflow/bert_en_uncased_preprocess/3',\n",
        "    'small_bert/bert_en_uncased_L-8_H-768_A-12':\n",
        "        'https://tfhub.dev/tensorflow/bert_en_uncased_preprocess/3',\n",
        "    'small_bert/bert_en_uncased_L-10_H-128_A-2':\n",
        "        'https://tfhub.dev/tensorflow/bert_en_uncased_preprocess/3',\n",
        "    'small_bert/bert_en_uncased_L-10_H-256_A-4':\n",
        "        'https://tfhub.dev/tensorflow/bert_en_uncased_preprocess/3',\n",
        "    'small_bert/bert_en_uncased_L-10_H-512_A-8':\n",
        "        'https://tfhub.dev/tensorflow/bert_en_uncased_preprocess/3',\n",
        "    'small_bert/bert_en_uncased_L-10_H-768_A-12':\n",
        "        'https://tfhub.dev/tensorflow/bert_en_uncased_preprocess/3',\n",
        "    'small_bert/bert_en_uncased_L-12_H-128_A-2':\n",
        "        'https://tfhub.dev/tensorflow/bert_en_uncased_preprocess/3',\n",
        "    'small_bert/bert_en_uncased_L-12_H-256_A-4':\n",
        "        'https://tfhub.dev/tensorflow/bert_en_uncased_preprocess/3',\n",
        "    'small_bert/bert_en_uncased_L-12_H-512_A-8':\n",
        "        'https://tfhub.dev/tensorflow/bert_en_uncased_preprocess/3',\n",
        "    'small_bert/bert_en_uncased_L-12_H-768_A-12':\n",
        "        'https://tfhub.dev/tensorflow/bert_en_uncased_preprocess/3',\n",
        "    'bert_multi_cased_L-12_H-768_A-12':\n",
        "        'https://tfhub.dev/tensorflow/bert_multi_cased_preprocess/3',\n",
        "    'albert_en_base':\n",
        "        'https://tfhub.dev/tensorflow/albert_en_preprocess/3',\n",
        "    'electra_small':\n",
        "        'https://tfhub.dev/tensorflow/bert_en_uncased_preprocess/3',\n",
        "    'electra_base':\n",
        "        'https://tfhub.dev/tensorflow/bert_en_uncased_preprocess/3',\n",
        "    'experts_pubmed':\n",
        "        'https://tfhub.dev/tensorflow/bert_en_uncased_preprocess/3',\n",
        "    'experts_wiki_books':\n",
        "        'https://tfhub.dev/tensorflow/bert_en_uncased_preprocess/3',\n",
        "    'talking-heads_base':\n",
        "        'https://tfhub.dev/tensorflow/bert_en_uncased_preprocess/3',\n",
        "}\n",
        "\n",
        "tfhub_handle_encoder = map_name_to_handle[bert_model_name]\n",
        "tfhub_handle_preprocess = map_model_to_preprocess[bert_model_name]\n",
        "\n",
        "print(f'BERT model selected           : {tfhub_handle_encoder}')\n",
        "print(f'Preprocess model auto-selected: {tfhub_handle_preprocess}')"
      ],
      "metadata": {
        "colab": {
          "base_uri": "https://localhost:8080/"
        },
        "id": "G5lx7zIpNS3J",
        "outputId": "eb39c95e-15fe-4c6e-efa8-6e0755e1474f"
      },
      "execution_count": null,
      "outputs": [
        {
          "output_type": "stream",
          "name": "stdout",
          "text": [
            "BERT model selected           : https://tfhub.dev/tensorflow/small_bert/bert_en_uncased_L-4_H-512_A-8/1\n",
            "Preprocess model auto-selected: https://tfhub.dev/tensorflow/bert_en_uncased_preprocess/3\n"
          ]
        }
      ]
    },
    {
      "cell_type": "code",
      "source": [
        "bert_preprocess_model = hub.KerasLayer(tfhub_handle_preprocess)"
      ],
      "metadata": {
        "id": "ULhc16cTNbnR"
      },
      "execution_count": null,
      "outputs": []
    },
    {
      "cell_type": "code",
      "source": [
        "text_test = ['this is such an amazing movie!']\n",
        "text_preprocessed = bert_preprocess_model(text_test)\n",
        "\n",
        "print(f'Keys       : {list(text_preprocessed.keys())}')\n",
        "print(f'Shape      : {text_preprocessed[\"input_word_ids\"].shape}')\n",
        "print(f'Word Ids   : {text_preprocessed[\"input_word_ids\"][0, :12]}')\n",
        "print(f'Input Mask : {text_preprocessed[\"input_mask\"][0, :12]}')\n",
        "print(f'Type Ids   : {text_preprocessed[\"input_type_ids\"][0, :12]}')"
      ],
      "metadata": {
        "colab": {
          "base_uri": "https://localhost:8080/"
        },
        "id": "Q91ZSt8FNjw4",
        "outputId": "e9d4919c-338a-43ae-c394-47c0950fd4e7"
      },
      "execution_count": null,
      "outputs": [
        {
          "output_type": "stream",
          "name": "stdout",
          "text": [
            "Keys       : ['input_mask', 'input_word_ids', 'input_type_ids']\n",
            "Shape      : (1, 128)\n",
            "Word Ids   : [ 101 2023 2003 2107 2019 6429 3185  999  102    0    0    0]\n",
            "Input Mask : [1 1 1 1 1 1 1 1 1 0 0 0]\n",
            "Type Ids   : [0 0 0 0 0 0 0 0 0 0 0 0]\n"
          ]
        }
      ]
    },
    {
      "cell_type": "code",
      "source": [
        "bert_model = hub.KerasLayer(tfhub_handle_encoder)"
      ],
      "metadata": {
        "id": "3o4avU-0NnjY"
      },
      "execution_count": null,
      "outputs": []
    },
    {
      "cell_type": "code",
      "source": [
        "bert_results = bert_model(text_preprocessed)\n",
        "\n",
        "print(f'Loaded BERT: {tfhub_handle_encoder}')\n",
        "print(f'Pooled Outputs Shape:{bert_results[\"pooled_output\"].shape}')\n",
        "print(f'Pooled Outputs Values:{bert_results[\"pooled_output\"][0, :12]}')\n",
        "print(f'Sequence Outputs Shape:{bert_results[\"sequence_output\"].shape}')\n",
        "print(f'Sequence Outputs Values:{bert_results[\"sequence_output\"][0, :12]}')"
      ],
      "metadata": {
        "colab": {
          "base_uri": "https://localhost:8080/"
        },
        "id": "4cuFLRorN-TL",
        "outputId": "a59e9370-39d4-49f8-bc59-35d12ef170d1"
      },
      "execution_count": null,
      "outputs": [
        {
          "output_type": "stream",
          "name": "stdout",
          "text": [
            "Loaded BERT: https://tfhub.dev/tensorflow/small_bert/bert_en_uncased_L-4_H-512_A-8/1\n",
            "Pooled Outputs Shape:(1, 512)\n",
            "Pooled Outputs Values:[ 0.7626282   0.9928099  -0.18611862  0.3667383   0.15233758  0.655044\n",
            "  0.9681154  -0.94862705  0.0021616  -0.9877732   0.06842764 -0.97630596]\n",
            "Sequence Outputs Shape:(1, 128, 512)\n",
            "Sequence Outputs Values:[[-0.28946292  0.34321183  0.33231512 ...  0.21300802  0.7102092\n",
            "  -0.05771042]\n",
            " [-0.28741995  0.31980985 -0.23018652 ...  0.5845511  -0.21329862\n",
            "   0.72692007]\n",
            " [-0.6615692   0.68876815 -0.8743301  ...  0.1087728  -0.26173076\n",
            "   0.47855455]\n",
            " ...\n",
            " [-0.22561137 -0.2892573  -0.07064426 ...  0.47566032  0.8327724\n",
            "   0.40025347]\n",
            " [-0.2982421  -0.27473164 -0.05450544 ...  0.4884972   1.0955367\n",
            "   0.18163365]\n",
            " [-0.4437818   0.00930662  0.07223704 ...  0.17290089  1.1833239\n",
            "   0.07897975]]\n"
          ]
        }
      ]
    },
    {
      "cell_type": "code",
      "source": [
        ""
      ],
      "metadata": {
        "id": "JiynLAUgRvbE"
      },
      "execution_count": 43,
      "outputs": []
    },
    {
      "cell_type": "code",
      "source": [
        ""
      ],
      "metadata": {
        "id": "exshALMYRvF5"
      },
      "execution_count": null,
      "outputs": []
    },
    {
      "cell_type": "code",
      "source": [
        ""
      ],
      "metadata": {
        "id": "pJVNjQOPRu8J"
      },
      "execution_count": null,
      "outputs": []
    },
    {
      "cell_type": "code",
      "source": [
        ""
      ],
      "metadata": {
        "id": "NSsZQNZ3OIaG"
      },
      "execution_count": 43,
      "outputs": []
    }
  ]
}