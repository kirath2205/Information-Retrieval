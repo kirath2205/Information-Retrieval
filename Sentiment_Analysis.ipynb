{
  "nbformat": 4,
  "nbformat_minor": 0,
  "metadata": {
    "colab": {
      "name": "Sentiment Analysis.ipynb",
      "provenance": [],
      "collapsed_sections": [],
      "authorship_tag": "ABX9TyN0ug/1SPlZpH7ta3076PWD",
      "include_colab_link": true
    },
    "kernelspec": {
      "name": "python3",
      "display_name": "Python 3"
    },
    "language_info": {
      "name": "python"
    },
    "accelerator": "GPU"
  },
  "cells": [
    {
      "cell_type": "markdown",
      "metadata": {
        "id": "view-in-github",
        "colab_type": "text"
      },
      "source": [
        "<a href=\"https://colab.research.google.com/github/kirath2205/Information-Retrieval/blob/main/Sentiment_Analysis.ipynb\" target=\"_parent\"><img src=\"https://colab.research.google.com/assets/colab-badge.svg\" alt=\"Open In Colab\"/></a>"
      ]
    },
    {
      "cell_type": "code",
      "execution_count": 12,
      "metadata": {
        "colab": {
          "base_uri": "https://localhost:8080/",
          "height": 687
        },
        "id": "T9dKBCCPGZOA",
        "outputId": "84197ff7-ce8e-424b-c0da-b4d408f723ef"
      },
      "outputs": [
        {
          "output_type": "execute_result",
          "data": {
            "text/plain": [
              "             id        username    created_at             date  Sentiment  \\\n",
              "0  1.510000e+18       23ABCNews  1.650000e+12  29/3/2022 23:45       -1.0   \n",
              "1  1.510000e+18  CloseHouseGolf  1.650000e+12  29/3/2022 23:30        1.0   \n",
              "2  1.510000e+18      GadgetFlow  1.650000e+12  29/3/2022 23:30        1.0   \n",
              "3  1.510000e+18   TheBoltonNews  1.650000e+12  29/3/2022 23:02       -1.0   \n",
              "4  1.510000e+18          BMW_UK  1.650000e+12  29/3/2022 22:33       -1.0   \n",
              "\n",
              "                                               tweet language  \\\n",
              "0  UPDATE: CHP said a man was killed Monday night...       en   \n",
              "1  Another incredible Close House VIP car deliver...       en   \n",
              "2  The @BMW Motorrad Definition CE 04 sit-on #eSc...       en   \n",
              "3  'A tragedy for all concerned': Speeding driver...       en   \n",
              "4  @lynpaul6 Hi Lyn, we're sorry to hear your BMW...       en   \n",
              "\n",
              "                         hashtags cashtags  \\\n",
              "0                              []       []   \n",
              "1      ['bmw', 'vip', 'dreamcar']       []   \n",
              "2  ['escooter', 'transportation']       []   \n",
              "3                              []       []   \n",
              "4                              []       []   \n",
              "\n",
              "                                                link  \\\n",
              "0  https://twitter.com/23ABCNews/status/150883271...   \n",
              "1  https://twitter.com/CloseHouseGolf/status/1508...   \n",
              "2  https://twitter.com/GadgetFlow/status/15088288...   \n",
              "3  https://twitter.com/TheBoltonNews/status/15088...   \n",
              "4  https://twitter.com/BMW_UK/status/150881450842...   \n",
              "\n",
              "                                                urls  \\\n",
              "0  ['https://www.turnto23.com/news/local-news/one...   \n",
              "1                                                 []   \n",
              "2  ['https://thegadgetflow.com/portfolio/bmw-moto...   \n",
              "3  ['https://www.theboltonnews.co.uk/news/2002930...   \n",
              "4                                                 []   \n",
              "\n",
              "                                              photos  video  \\\n",
              "0                                                 []      0   \n",
              "1  ['https://pbs.twimg.com/media/FPBv1x2WQA49E4s....      1   \n",
              "2  ['https://pbs.twimg.com/media/FPBv1chX0AcuHfs....      1   \n",
              "3                                                 []      0   \n",
              "4                                                 []      0   \n",
              "\n",
              "                                         thumbnail  nlikes  nreplies  \\\n",
              "0                                              NaN       0         0   \n",
              "1  https://pbs.twimg.com/media/FPBv1x2WQA49E4s.jpg       7         0   \n",
              "2  https://pbs.twimg.com/media/FPBv1chX0AcuHfs.jpg       0         0   \n",
              "3                                              NaN       1         0   \n",
              "4                                              NaN       0         2   \n",
              "\n",
              "   nretweets  \n",
              "0          0  \n",
              "1          0  \n",
              "2          0  \n",
              "3          1  \n",
              "4          0  "
            ],
            "text/html": [
              "\n",
              "  <div id=\"df-9598fb90-d90b-46ca-91fb-029574536456\">\n",
              "    <div class=\"colab-df-container\">\n",
              "      <div>\n",
              "<style scoped>\n",
              "    .dataframe tbody tr th:only-of-type {\n",
              "        vertical-align: middle;\n",
              "    }\n",
              "\n",
              "    .dataframe tbody tr th {\n",
              "        vertical-align: top;\n",
              "    }\n",
              "\n",
              "    .dataframe thead th {\n",
              "        text-align: right;\n",
              "    }\n",
              "</style>\n",
              "<table border=\"1\" class=\"dataframe\">\n",
              "  <thead>\n",
              "    <tr style=\"text-align: right;\">\n",
              "      <th></th>\n",
              "      <th>id</th>\n",
              "      <th>username</th>\n",
              "      <th>created_at</th>\n",
              "      <th>date</th>\n",
              "      <th>Sentiment</th>\n",
              "      <th>tweet</th>\n",
              "      <th>language</th>\n",
              "      <th>hashtags</th>\n",
              "      <th>cashtags</th>\n",
              "      <th>link</th>\n",
              "      <th>urls</th>\n",
              "      <th>photos</th>\n",
              "      <th>video</th>\n",
              "      <th>thumbnail</th>\n",
              "      <th>nlikes</th>\n",
              "      <th>nreplies</th>\n",
              "      <th>nretweets</th>\n",
              "    </tr>\n",
              "  </thead>\n",
              "  <tbody>\n",
              "    <tr>\n",
              "      <th>0</th>\n",
              "      <td>1.510000e+18</td>\n",
              "      <td>23ABCNews</td>\n",
              "      <td>1.650000e+12</td>\n",
              "      <td>29/3/2022 23:45</td>\n",
              "      <td>-1.0</td>\n",
              "      <td>UPDATE: CHP said a man was killed Monday night...</td>\n",
              "      <td>en</td>\n",
              "      <td>[]</td>\n",
              "      <td>[]</td>\n",
              "      <td>https://twitter.com/23ABCNews/status/150883271...</td>\n",
              "      <td>['https://www.turnto23.com/news/local-news/one...</td>\n",
              "      <td>[]</td>\n",
              "      <td>0</td>\n",
              "      <td>NaN</td>\n",
              "      <td>0</td>\n",
              "      <td>0</td>\n",
              "      <td>0</td>\n",
              "    </tr>\n",
              "    <tr>\n",
              "      <th>1</th>\n",
              "      <td>1.510000e+18</td>\n",
              "      <td>CloseHouseGolf</td>\n",
              "      <td>1.650000e+12</td>\n",
              "      <td>29/3/2022 23:30</td>\n",
              "      <td>1.0</td>\n",
              "      <td>Another incredible Close House VIP car deliver...</td>\n",
              "      <td>en</td>\n",
              "      <td>['bmw', 'vip', 'dreamcar']</td>\n",
              "      <td>[]</td>\n",
              "      <td>https://twitter.com/CloseHouseGolf/status/1508...</td>\n",
              "      <td>[]</td>\n",
              "      <td>['https://pbs.twimg.com/media/FPBv1x2WQA49E4s....</td>\n",
              "      <td>1</td>\n",
              "      <td>https://pbs.twimg.com/media/FPBv1x2WQA49E4s.jpg</td>\n",
              "      <td>7</td>\n",
              "      <td>0</td>\n",
              "      <td>0</td>\n",
              "    </tr>\n",
              "    <tr>\n",
              "      <th>2</th>\n",
              "      <td>1.510000e+18</td>\n",
              "      <td>GadgetFlow</td>\n",
              "      <td>1.650000e+12</td>\n",
              "      <td>29/3/2022 23:30</td>\n",
              "      <td>1.0</td>\n",
              "      <td>The @BMW Motorrad Definition CE 04 sit-on #eSc...</td>\n",
              "      <td>en</td>\n",
              "      <td>['escooter', 'transportation']</td>\n",
              "      <td>[]</td>\n",
              "      <td>https://twitter.com/GadgetFlow/status/15088288...</td>\n",
              "      <td>['https://thegadgetflow.com/portfolio/bmw-moto...</td>\n",
              "      <td>['https://pbs.twimg.com/media/FPBv1chX0AcuHfs....</td>\n",
              "      <td>1</td>\n",
              "      <td>https://pbs.twimg.com/media/FPBv1chX0AcuHfs.jpg</td>\n",
              "      <td>0</td>\n",
              "      <td>0</td>\n",
              "      <td>0</td>\n",
              "    </tr>\n",
              "    <tr>\n",
              "      <th>3</th>\n",
              "      <td>1.510000e+18</td>\n",
              "      <td>TheBoltonNews</td>\n",
              "      <td>1.650000e+12</td>\n",
              "      <td>29/3/2022 23:02</td>\n",
              "      <td>-1.0</td>\n",
              "      <td>'A tragedy for all concerned': Speeding driver...</td>\n",
              "      <td>en</td>\n",
              "      <td>[]</td>\n",
              "      <td>[]</td>\n",
              "      <td>https://twitter.com/TheBoltonNews/status/15088...</td>\n",
              "      <td>['https://www.theboltonnews.co.uk/news/2002930...</td>\n",
              "      <td>[]</td>\n",
              "      <td>0</td>\n",
              "      <td>NaN</td>\n",
              "      <td>1</td>\n",
              "      <td>0</td>\n",
              "      <td>1</td>\n",
              "    </tr>\n",
              "    <tr>\n",
              "      <th>4</th>\n",
              "      <td>1.510000e+18</td>\n",
              "      <td>BMW_UK</td>\n",
              "      <td>1.650000e+12</td>\n",
              "      <td>29/3/2022 22:33</td>\n",
              "      <td>-1.0</td>\n",
              "      <td>@lynpaul6 Hi Lyn, we're sorry to hear your BMW...</td>\n",
              "      <td>en</td>\n",
              "      <td>[]</td>\n",
              "      <td>[]</td>\n",
              "      <td>https://twitter.com/BMW_UK/status/150881450842...</td>\n",
              "      <td>[]</td>\n",
              "      <td>[]</td>\n",
              "      <td>0</td>\n",
              "      <td>NaN</td>\n",
              "      <td>0</td>\n",
              "      <td>2</td>\n",
              "      <td>0</td>\n",
              "    </tr>\n",
              "  </tbody>\n",
              "</table>\n",
              "</div>\n",
              "      <button class=\"colab-df-convert\" onclick=\"convertToInteractive('df-9598fb90-d90b-46ca-91fb-029574536456')\"\n",
              "              title=\"Convert this dataframe to an interactive table.\"\n",
              "              style=\"display:none;\">\n",
              "        \n",
              "  <svg xmlns=\"http://www.w3.org/2000/svg\" height=\"24px\"viewBox=\"0 0 24 24\"\n",
              "       width=\"24px\">\n",
              "    <path d=\"M0 0h24v24H0V0z\" fill=\"none\"/>\n",
              "    <path d=\"M18.56 5.44l.94 2.06.94-2.06 2.06-.94-2.06-.94-.94-2.06-.94 2.06-2.06.94zm-11 1L8.5 8.5l.94-2.06 2.06-.94-2.06-.94L8.5 2.5l-.94 2.06-2.06.94zm10 10l.94 2.06.94-2.06 2.06-.94-2.06-.94-.94-2.06-.94 2.06-2.06.94z\"/><path d=\"M17.41 7.96l-1.37-1.37c-.4-.4-.92-.59-1.43-.59-.52 0-1.04.2-1.43.59L10.3 9.45l-7.72 7.72c-.78.78-.78 2.05 0 2.83L4 21.41c.39.39.9.59 1.41.59.51 0 1.02-.2 1.41-.59l7.78-7.78 2.81-2.81c.8-.78.8-2.07 0-2.86zM5.41 20L4 18.59l7.72-7.72 1.47 1.35L5.41 20z\"/>\n",
              "  </svg>\n",
              "      </button>\n",
              "      \n",
              "  <style>\n",
              "    .colab-df-container {\n",
              "      display:flex;\n",
              "      flex-wrap:wrap;\n",
              "      gap: 12px;\n",
              "    }\n",
              "\n",
              "    .colab-df-convert {\n",
              "      background-color: #E8F0FE;\n",
              "      border: none;\n",
              "      border-radius: 50%;\n",
              "      cursor: pointer;\n",
              "      display: none;\n",
              "      fill: #1967D2;\n",
              "      height: 32px;\n",
              "      padding: 0 0 0 0;\n",
              "      width: 32px;\n",
              "    }\n",
              "\n",
              "    .colab-df-convert:hover {\n",
              "      background-color: #E2EBFA;\n",
              "      box-shadow: 0px 1px 2px rgba(60, 64, 67, 0.3), 0px 1px 3px 1px rgba(60, 64, 67, 0.15);\n",
              "      fill: #174EA6;\n",
              "    }\n",
              "\n",
              "    [theme=dark] .colab-df-convert {\n",
              "      background-color: #3B4455;\n",
              "      fill: #D2E3FC;\n",
              "    }\n",
              "\n",
              "    [theme=dark] .colab-df-convert:hover {\n",
              "      background-color: #434B5C;\n",
              "      box-shadow: 0px 1px 3px 1px rgba(0, 0, 0, 0.15);\n",
              "      filter: drop-shadow(0px 1px 2px rgba(0, 0, 0, 0.3));\n",
              "      fill: #FFFFFF;\n",
              "    }\n",
              "  </style>\n",
              "\n",
              "      <script>\n",
              "        const buttonEl =\n",
              "          document.querySelector('#df-9598fb90-d90b-46ca-91fb-029574536456 button.colab-df-convert');\n",
              "        buttonEl.style.display =\n",
              "          google.colab.kernel.accessAllowed ? 'block' : 'none';\n",
              "\n",
              "        async function convertToInteractive(key) {\n",
              "          const element = document.querySelector('#df-9598fb90-d90b-46ca-91fb-029574536456');\n",
              "          const dataTable =\n",
              "            await google.colab.kernel.invokeFunction('convertToInteractive',\n",
              "                                                     [key], {});\n",
              "          if (!dataTable) return;\n",
              "\n",
              "          const docLinkHtml = 'Like what you see? Visit the ' +\n",
              "            '<a target=\"_blank\" href=https://colab.research.google.com/notebooks/data_table.ipynb>data table notebook</a>'\n",
              "            + ' to learn more about interactive tables.';\n",
              "          element.innerHTML = '';\n",
              "          dataTable['output_type'] = 'display_data';\n",
              "          await google.colab.output.renderOutput(dataTable, element);\n",
              "          const docLink = document.createElement('div');\n",
              "          docLink.innerHTML = docLinkHtml;\n",
              "          element.appendChild(docLink);\n",
              "        }\n",
              "      </script>\n",
              "    </div>\n",
              "  </div>\n",
              "  "
            ]
          },
          "metadata": {},
          "execution_count": 12
        }
      ],
      "source": [
        "import pandas as pd\n",
        "bmw = pd.read_csv('BMW_Labelled.csv')\n",
        "bmw.drop(\"Unnamed: 0\",axis=1, inplace=True)\n",
        "bmw = bmw[(bmw['Sentiment']==1) | (bmw['Sentiment']==0) | (bmw['Sentiment']==-1)]\n",
        "bmw.reset_index(inplace=True, drop=True)\n",
        "bmw.head()"
      ]
    },
    {
      "cell_type": "code",
      "source": [
        "bmw.shape"
      ],
      "metadata": {
        "colab": {
          "base_uri": "https://localhost:8080/"
        },
        "id": "dy0HN6INraH1",
        "outputId": "3619ab6b-bdad-40c6-8de1-1ead2366dd59"
      },
      "execution_count": 13,
      "outputs": [
        {
          "output_type": "execute_result",
          "data": {
            "text/plain": [
              "(438, 17)"
            ]
          },
          "metadata": {},
          "execution_count": 13
        }
      ]
    },
    {
      "cell_type": "code",
      "source": [
        "print(\"Positive: \"+str(len(bmw[bmw['Sentiment']==1])))\n",
        "print(\"Neutral: \"+str(len(bmw[bmw['Sentiment']==0])))\n",
        "print(\"Negative: \"+str(len(bmw[bmw['Sentiment']==-1])))"
      ],
      "metadata": {
        "colab": {
          "base_uri": "https://localhost:8080/"
        },
        "id": "Zwg727jRro3C",
        "outputId": "ffb731f6-40fc-4371-e4fd-5d86f78b8417"
      },
      "execution_count": 14,
      "outputs": [
        {
          "output_type": "stream",
          "name": "stdout",
          "text": [
            "Positive: 204\n",
            "Neutral: 66\n",
            "Negative: 168\n"
          ]
        }
      ]
    },
    {
      "cell_type": "code",
      "source": [
        "tesla = pd.read_csv('labelled_data_tesla.csv')\n",
        "tesla.drop(\"Unnamed: 0\",axis=1, inplace=True)\n",
        "tesla = tesla[(tesla['Sentiment']==1) | (tesla['Sentiment']==0) | (tesla['Sentiment']==-1)]\n",
        "tesla.reset_index(inplace=True, drop=True)\n",
        "tesla.head()"
      ],
      "metadata": {
        "colab": {
          "base_uri": "https://localhost:8080/",
          "height": 530
        },
        "id": "8Ia4sEZFJdAv",
        "outputId": "4b12ef44-ab90-4521-950c-38392a0b5dae"
      },
      "execution_count": 15,
      "outputs": [
        {
          "output_type": "execute_result",
          "data": {
            "text/plain": [
              "             id         username    created_at             date  Sentiment  \\\n",
              "0  1.510000e+18     stonercatstv  1.650000e+12  29/3/2022 23:42        0.0   \n",
              "1  1.510000e+18     YahooFinance  1.650000e+12  29/3/2022 23:41        1.0   \n",
              "2  1.510000e+18  AlbertBridgeCap  1.650000e+12  29/3/2022 23:35       -1.0   \n",
              "3  1.510000e+18  EntrepreneurIND  1.650000e+12  29/3/2022 23:30        1.0   \n",
              "4  1.510000e+18         SamAntar  1.650000e+12  29/3/2022 23:25       -1.0   \n",
              "\n",
              "                                               tweet language  \\\n",
              "0  @dillonthecoder dillon haha thx for letting me...       en   \n",
              "1  Tesla stock split indicates 'a massive positio...       en   \n",
              "2  $-for-$, the F-150 Lightning will have the sam...       en   \n",
              "3  #Creative, #dynamic and perpetually active â€“...       en   \n",
              "4  Yes. You can fool 100% of your bagholders, 98%...       en   \n",
              "\n",
              "                                            hashtags  cashtags  \\\n",
              "0                                                 []        []   \n",
              "1                                                 []        []   \n",
              "2                                                 []  ['tsla']   \n",
              "3  ['creative', 'dynamic', 'elonmusk', 'twitter',...        []   \n",
              "4                                                 []  ['tsla']   \n",
              "\n",
              "                                                link  \\\n",
              "0  https://twitter.com/stonercatstv/status/150883...   \n",
              "1  https://twitter.com/YahooFinance/status/150883...   \n",
              "2  https://twitter.com/AlbertBridgeCap/status/150...   \n",
              "3  https://twitter.com/EntrepreneurIND/status/150...   \n",
              "4  https://twitter.com/SamAntar/status/1508827795...   \n",
              "\n",
              "                                                urls  \\\n",
              "0                                                 []   \n",
              "1                        ['https://yhoo.it/3uDPJ0F']   \n",
              "2  ['https://www.caranddriver.com/ford/f-150-ligh...   \n",
              "3    ['https://www.entrepreneur.com/article/423267']   \n",
              "4                                                 []   \n",
              "\n",
              "                                              photos  video  \\\n",
              "0                                                 []    0.0   \n",
              "1  ['https://pbs.twimg.com/media/FPByXztWUAICHiY....    1.0   \n",
              "2                                                 []    0.0   \n",
              "3                                                 []    0.0   \n",
              "4                                                 []    0.0   \n",
              "\n",
              "                                         thumbnail  nlikes  nreplies  \\\n",
              "0                                              NaN     0.0       0.0   \n",
              "1  https://pbs.twimg.com/media/FPByXztWUAICHiY.jpg    20.0       1.0   \n",
              "2                                              NaN     5.0       3.0   \n",
              "3                                              NaN     0.0       0.0   \n",
              "4                                              NaN     4.0       0.0   \n",
              "\n",
              "   nretweets  \n",
              "0        0.0  \n",
              "1        3.0  \n",
              "2        0.0  \n",
              "3        1.0  \n",
              "4        0.0  "
            ],
            "text/html": [
              "\n",
              "  <div id=\"df-993e6a84-2164-4116-a05c-2525d975ac91\">\n",
              "    <div class=\"colab-df-container\">\n",
              "      <div>\n",
              "<style scoped>\n",
              "    .dataframe tbody tr th:only-of-type {\n",
              "        vertical-align: middle;\n",
              "    }\n",
              "\n",
              "    .dataframe tbody tr th {\n",
              "        vertical-align: top;\n",
              "    }\n",
              "\n",
              "    .dataframe thead th {\n",
              "        text-align: right;\n",
              "    }\n",
              "</style>\n",
              "<table border=\"1\" class=\"dataframe\">\n",
              "  <thead>\n",
              "    <tr style=\"text-align: right;\">\n",
              "      <th></th>\n",
              "      <th>id</th>\n",
              "      <th>username</th>\n",
              "      <th>created_at</th>\n",
              "      <th>date</th>\n",
              "      <th>Sentiment</th>\n",
              "      <th>tweet</th>\n",
              "      <th>language</th>\n",
              "      <th>hashtags</th>\n",
              "      <th>cashtags</th>\n",
              "      <th>link</th>\n",
              "      <th>urls</th>\n",
              "      <th>photos</th>\n",
              "      <th>video</th>\n",
              "      <th>thumbnail</th>\n",
              "      <th>nlikes</th>\n",
              "      <th>nreplies</th>\n",
              "      <th>nretweets</th>\n",
              "    </tr>\n",
              "  </thead>\n",
              "  <tbody>\n",
              "    <tr>\n",
              "      <th>0</th>\n",
              "      <td>1.510000e+18</td>\n",
              "      <td>stonercatstv</td>\n",
              "      <td>1.650000e+12</td>\n",
              "      <td>29/3/2022 23:42</td>\n",
              "      <td>0.0</td>\n",
              "      <td>@dillonthecoder dillon haha thx for letting me...</td>\n",
              "      <td>en</td>\n",
              "      <td>[]</td>\n",
              "      <td>[]</td>\n",
              "      <td>https://twitter.com/stonercatstv/status/150883...</td>\n",
              "      <td>[]</td>\n",
              "      <td>[]</td>\n",
              "      <td>0.0</td>\n",
              "      <td>NaN</td>\n",
              "      <td>0.0</td>\n",
              "      <td>0.0</td>\n",
              "      <td>0.0</td>\n",
              "    </tr>\n",
              "    <tr>\n",
              "      <th>1</th>\n",
              "      <td>1.510000e+18</td>\n",
              "      <td>YahooFinance</td>\n",
              "      <td>1.650000e+12</td>\n",
              "      <td>29/3/2022 23:41</td>\n",
              "      <td>1.0</td>\n",
              "      <td>Tesla stock split indicates 'a massive positio...</td>\n",
              "      <td>en</td>\n",
              "      <td>[]</td>\n",
              "      <td>[]</td>\n",
              "      <td>https://twitter.com/YahooFinance/status/150883...</td>\n",
              "      <td>['https://yhoo.it/3uDPJ0F']</td>\n",
              "      <td>['https://pbs.twimg.com/media/FPByXztWUAICHiY....</td>\n",
              "      <td>1.0</td>\n",
              "      <td>https://pbs.twimg.com/media/FPByXztWUAICHiY.jpg</td>\n",
              "      <td>20.0</td>\n",
              "      <td>1.0</td>\n",
              "      <td>3.0</td>\n",
              "    </tr>\n",
              "    <tr>\n",
              "      <th>2</th>\n",
              "      <td>1.510000e+18</td>\n",
              "      <td>AlbertBridgeCap</td>\n",
              "      <td>1.650000e+12</td>\n",
              "      <td>29/3/2022 23:35</td>\n",
              "      <td>-1.0</td>\n",
              "      <td>$-for-$, the F-150 Lightning will have the sam...</td>\n",
              "      <td>en</td>\n",
              "      <td>[]</td>\n",
              "      <td>['tsla']</td>\n",
              "      <td>https://twitter.com/AlbertBridgeCap/status/150...</td>\n",
              "      <td>['https://www.caranddriver.com/ford/f-150-ligh...</td>\n",
              "      <td>[]</td>\n",
              "      <td>0.0</td>\n",
              "      <td>NaN</td>\n",
              "      <td>5.0</td>\n",
              "      <td>3.0</td>\n",
              "      <td>0.0</td>\n",
              "    </tr>\n",
              "    <tr>\n",
              "      <th>3</th>\n",
              "      <td>1.510000e+18</td>\n",
              "      <td>EntrepreneurIND</td>\n",
              "      <td>1.650000e+12</td>\n",
              "      <td>29/3/2022 23:30</td>\n",
              "      <td>1.0</td>\n",
              "      <td>#Creative, #dynamic and perpetually active â€“...</td>\n",
              "      <td>en</td>\n",
              "      <td>['creative', 'dynamic', 'elonmusk', 'twitter',...</td>\n",
              "      <td>[]</td>\n",
              "      <td>https://twitter.com/EntrepreneurIND/status/150...</td>\n",
              "      <td>['https://www.entrepreneur.com/article/423267']</td>\n",
              "      <td>[]</td>\n",
              "      <td>0.0</td>\n",
              "      <td>NaN</td>\n",
              "      <td>0.0</td>\n",
              "      <td>0.0</td>\n",
              "      <td>1.0</td>\n",
              "    </tr>\n",
              "    <tr>\n",
              "      <th>4</th>\n",
              "      <td>1.510000e+18</td>\n",
              "      <td>SamAntar</td>\n",
              "      <td>1.650000e+12</td>\n",
              "      <td>29/3/2022 23:25</td>\n",
              "      <td>-1.0</td>\n",
              "      <td>Yes. You can fool 100% of your bagholders, 98%...</td>\n",
              "      <td>en</td>\n",
              "      <td>[]</td>\n",
              "      <td>['tsla']</td>\n",
              "      <td>https://twitter.com/SamAntar/status/1508827795...</td>\n",
              "      <td>[]</td>\n",
              "      <td>[]</td>\n",
              "      <td>0.0</td>\n",
              "      <td>NaN</td>\n",
              "      <td>4.0</td>\n",
              "      <td>0.0</td>\n",
              "      <td>0.0</td>\n",
              "    </tr>\n",
              "  </tbody>\n",
              "</table>\n",
              "</div>\n",
              "      <button class=\"colab-df-convert\" onclick=\"convertToInteractive('df-993e6a84-2164-4116-a05c-2525d975ac91')\"\n",
              "              title=\"Convert this dataframe to an interactive table.\"\n",
              "              style=\"display:none;\">\n",
              "        \n",
              "  <svg xmlns=\"http://www.w3.org/2000/svg\" height=\"24px\"viewBox=\"0 0 24 24\"\n",
              "       width=\"24px\">\n",
              "    <path d=\"M0 0h24v24H0V0z\" fill=\"none\"/>\n",
              "    <path d=\"M18.56 5.44l.94 2.06.94-2.06 2.06-.94-2.06-.94-.94-2.06-.94 2.06-2.06.94zm-11 1L8.5 8.5l.94-2.06 2.06-.94-2.06-.94L8.5 2.5l-.94 2.06-2.06.94zm10 10l.94 2.06.94-2.06 2.06-.94-2.06-.94-.94-2.06-.94 2.06-2.06.94z\"/><path d=\"M17.41 7.96l-1.37-1.37c-.4-.4-.92-.59-1.43-.59-.52 0-1.04.2-1.43.59L10.3 9.45l-7.72 7.72c-.78.78-.78 2.05 0 2.83L4 21.41c.39.39.9.59 1.41.59.51 0 1.02-.2 1.41-.59l7.78-7.78 2.81-2.81c.8-.78.8-2.07 0-2.86zM5.41 20L4 18.59l7.72-7.72 1.47 1.35L5.41 20z\"/>\n",
              "  </svg>\n",
              "      </button>\n",
              "      \n",
              "  <style>\n",
              "    .colab-df-container {\n",
              "      display:flex;\n",
              "      flex-wrap:wrap;\n",
              "      gap: 12px;\n",
              "    }\n",
              "\n",
              "    .colab-df-convert {\n",
              "      background-color: #E8F0FE;\n",
              "      border: none;\n",
              "      border-radius: 50%;\n",
              "      cursor: pointer;\n",
              "      display: none;\n",
              "      fill: #1967D2;\n",
              "      height: 32px;\n",
              "      padding: 0 0 0 0;\n",
              "      width: 32px;\n",
              "    }\n",
              "\n",
              "    .colab-df-convert:hover {\n",
              "      background-color: #E2EBFA;\n",
              "      box-shadow: 0px 1px 2px rgba(60, 64, 67, 0.3), 0px 1px 3px 1px rgba(60, 64, 67, 0.15);\n",
              "      fill: #174EA6;\n",
              "    }\n",
              "\n",
              "    [theme=dark] .colab-df-convert {\n",
              "      background-color: #3B4455;\n",
              "      fill: #D2E3FC;\n",
              "    }\n",
              "\n",
              "    [theme=dark] .colab-df-convert:hover {\n",
              "      background-color: #434B5C;\n",
              "      box-shadow: 0px 1px 3px 1px rgba(0, 0, 0, 0.15);\n",
              "      filter: drop-shadow(0px 1px 2px rgba(0, 0, 0, 0.3));\n",
              "      fill: #FFFFFF;\n",
              "    }\n",
              "  </style>\n",
              "\n",
              "      <script>\n",
              "        const buttonEl =\n",
              "          document.querySelector('#df-993e6a84-2164-4116-a05c-2525d975ac91 button.colab-df-convert');\n",
              "        buttonEl.style.display =\n",
              "          google.colab.kernel.accessAllowed ? 'block' : 'none';\n",
              "\n",
              "        async function convertToInteractive(key) {\n",
              "          const element = document.querySelector('#df-993e6a84-2164-4116-a05c-2525d975ac91');\n",
              "          const dataTable =\n",
              "            await google.colab.kernel.invokeFunction('convertToInteractive',\n",
              "                                                     [key], {});\n",
              "          if (!dataTable) return;\n",
              "\n",
              "          const docLinkHtml = 'Like what you see? Visit the ' +\n",
              "            '<a target=\"_blank\" href=https://colab.research.google.com/notebooks/data_table.ipynb>data table notebook</a>'\n",
              "            + ' to learn more about interactive tables.';\n",
              "          element.innerHTML = '';\n",
              "          dataTable['output_type'] = 'display_data';\n",
              "          await google.colab.output.renderOutput(dataTable, element);\n",
              "          const docLink = document.createElement('div');\n",
              "          docLink.innerHTML = docLinkHtml;\n",
              "          element.appendChild(docLink);\n",
              "        }\n",
              "      </script>\n",
              "    </div>\n",
              "  </div>\n",
              "  "
            ]
          },
          "metadata": {},
          "execution_count": 15
        }
      ]
    },
    {
      "cell_type": "code",
      "source": [
        "tesla.shape"
      ],
      "metadata": {
        "colab": {
          "base_uri": "https://localhost:8080/"
        },
        "id": "Qq_VOBp2LTrt",
        "outputId": "985d3439-201f-4b1a-9882-d33c58d937ba"
      },
      "execution_count": 16,
      "outputs": [
        {
          "output_type": "execute_result",
          "data": {
            "text/plain": [
              "(579, 17)"
            ]
          },
          "metadata": {},
          "execution_count": 16
        }
      ]
    },
    {
      "cell_type": "code",
      "source": [
        "print(\"Positive: \"+str(len(tesla[tesla['Sentiment']==1])))\n",
        "print(\"Neutral: \"+str(len(tesla[tesla['Sentiment']==0])))\n",
        "print(\"Negative: \"+str(len(tesla[tesla['Sentiment']==-1])))"
      ],
      "metadata": {
        "colab": {
          "base_uri": "https://localhost:8080/"
        },
        "id": "8Bpe-SAuLAn3",
        "outputId": "4c83162f-4493-49b8-9f05-8b817d85fb9e"
      },
      "execution_count": 17,
      "outputs": [
        {
          "output_type": "stream",
          "name": "stdout",
          "text": [
            "Positive: 322\n",
            "Neutral: 57\n",
            "Negative: 200\n"
          ]
        }
      ]
    },
    {
      "cell_type": "code",
      "source": [
        "df = pd.concat([bmw,tesla])\n",
        "df.reset_index(inplace=True, drop=True)"
      ],
      "metadata": {
        "id": "sixe7XphwJsC"
      },
      "execution_count": 18,
      "outputs": []
    },
    {
      "cell_type": "code",
      "source": [
        "df.shape"
      ],
      "metadata": {
        "colab": {
          "base_uri": "https://localhost:8080/"
        },
        "id": "GPTelnEAwJpN",
        "outputId": "4dd60d98-0103-4856-c34b-57ff89c693d0"
      },
      "execution_count": 19,
      "outputs": [
        {
          "output_type": "execute_result",
          "data": {
            "text/plain": [
              "(1017, 17)"
            ]
          },
          "metadata": {},
          "execution_count": 19
        }
      ]
    },
    {
      "cell_type": "code",
      "source": [
        "df.head()"
      ],
      "metadata": {
        "colab": {
          "base_uri": "https://localhost:8080/",
          "height": 687
        },
        "id": "wCSum7cOxiF8",
        "outputId": "ba45281c-a627-4d72-8cce-3b3a9591ecfe"
      },
      "execution_count": 20,
      "outputs": [
        {
          "output_type": "execute_result",
          "data": {
            "text/plain": [
              "             id        username    created_at             date  Sentiment  \\\n",
              "0  1.510000e+18       23ABCNews  1.650000e+12  29/3/2022 23:45       -1.0   \n",
              "1  1.510000e+18  CloseHouseGolf  1.650000e+12  29/3/2022 23:30        1.0   \n",
              "2  1.510000e+18      GadgetFlow  1.650000e+12  29/3/2022 23:30        1.0   \n",
              "3  1.510000e+18   TheBoltonNews  1.650000e+12  29/3/2022 23:02       -1.0   \n",
              "4  1.510000e+18          BMW_UK  1.650000e+12  29/3/2022 22:33       -1.0   \n",
              "\n",
              "                                               tweet language  \\\n",
              "0  UPDATE: CHP said a man was killed Monday night...       en   \n",
              "1  Another incredible Close House VIP car deliver...       en   \n",
              "2  The @BMW Motorrad Definition CE 04 sit-on #eSc...       en   \n",
              "3  'A tragedy for all concerned': Speeding driver...       en   \n",
              "4  @lynpaul6 Hi Lyn, we're sorry to hear your BMW...       en   \n",
              "\n",
              "                         hashtags cashtags  \\\n",
              "0                              []       []   \n",
              "1      ['bmw', 'vip', 'dreamcar']       []   \n",
              "2  ['escooter', 'transportation']       []   \n",
              "3                              []       []   \n",
              "4                              []       []   \n",
              "\n",
              "                                                link  \\\n",
              "0  https://twitter.com/23ABCNews/status/150883271...   \n",
              "1  https://twitter.com/CloseHouseGolf/status/1508...   \n",
              "2  https://twitter.com/GadgetFlow/status/15088288...   \n",
              "3  https://twitter.com/TheBoltonNews/status/15088...   \n",
              "4  https://twitter.com/BMW_UK/status/150881450842...   \n",
              "\n",
              "                                                urls  \\\n",
              "0  ['https://www.turnto23.com/news/local-news/one...   \n",
              "1                                                 []   \n",
              "2  ['https://thegadgetflow.com/portfolio/bmw-moto...   \n",
              "3  ['https://www.theboltonnews.co.uk/news/2002930...   \n",
              "4                                                 []   \n",
              "\n",
              "                                              photos  video  \\\n",
              "0                                                 []    0.0   \n",
              "1  ['https://pbs.twimg.com/media/FPBv1x2WQA49E4s....    1.0   \n",
              "2  ['https://pbs.twimg.com/media/FPBv1chX0AcuHfs....    1.0   \n",
              "3                                                 []    0.0   \n",
              "4                                                 []    0.0   \n",
              "\n",
              "                                         thumbnail  nlikes  nreplies  \\\n",
              "0                                              NaN     0.0       0.0   \n",
              "1  https://pbs.twimg.com/media/FPBv1x2WQA49E4s.jpg     7.0       0.0   \n",
              "2  https://pbs.twimg.com/media/FPBv1chX0AcuHfs.jpg     0.0       0.0   \n",
              "3                                              NaN     1.0       0.0   \n",
              "4                                              NaN     0.0       2.0   \n",
              "\n",
              "   nretweets  \n",
              "0        0.0  \n",
              "1        0.0  \n",
              "2        0.0  \n",
              "3        1.0  \n",
              "4        0.0  "
            ],
            "text/html": [
              "\n",
              "  <div id=\"df-82145180-d225-4c61-b7b0-e566bc2d6b91\">\n",
              "    <div class=\"colab-df-container\">\n",
              "      <div>\n",
              "<style scoped>\n",
              "    .dataframe tbody tr th:only-of-type {\n",
              "        vertical-align: middle;\n",
              "    }\n",
              "\n",
              "    .dataframe tbody tr th {\n",
              "        vertical-align: top;\n",
              "    }\n",
              "\n",
              "    .dataframe thead th {\n",
              "        text-align: right;\n",
              "    }\n",
              "</style>\n",
              "<table border=\"1\" class=\"dataframe\">\n",
              "  <thead>\n",
              "    <tr style=\"text-align: right;\">\n",
              "      <th></th>\n",
              "      <th>id</th>\n",
              "      <th>username</th>\n",
              "      <th>created_at</th>\n",
              "      <th>date</th>\n",
              "      <th>Sentiment</th>\n",
              "      <th>tweet</th>\n",
              "      <th>language</th>\n",
              "      <th>hashtags</th>\n",
              "      <th>cashtags</th>\n",
              "      <th>link</th>\n",
              "      <th>urls</th>\n",
              "      <th>photos</th>\n",
              "      <th>video</th>\n",
              "      <th>thumbnail</th>\n",
              "      <th>nlikes</th>\n",
              "      <th>nreplies</th>\n",
              "      <th>nretweets</th>\n",
              "    </tr>\n",
              "  </thead>\n",
              "  <tbody>\n",
              "    <tr>\n",
              "      <th>0</th>\n",
              "      <td>1.510000e+18</td>\n",
              "      <td>23ABCNews</td>\n",
              "      <td>1.650000e+12</td>\n",
              "      <td>29/3/2022 23:45</td>\n",
              "      <td>-1.0</td>\n",
              "      <td>UPDATE: CHP said a man was killed Monday night...</td>\n",
              "      <td>en</td>\n",
              "      <td>[]</td>\n",
              "      <td>[]</td>\n",
              "      <td>https://twitter.com/23ABCNews/status/150883271...</td>\n",
              "      <td>['https://www.turnto23.com/news/local-news/one...</td>\n",
              "      <td>[]</td>\n",
              "      <td>0.0</td>\n",
              "      <td>NaN</td>\n",
              "      <td>0.0</td>\n",
              "      <td>0.0</td>\n",
              "      <td>0.0</td>\n",
              "    </tr>\n",
              "    <tr>\n",
              "      <th>1</th>\n",
              "      <td>1.510000e+18</td>\n",
              "      <td>CloseHouseGolf</td>\n",
              "      <td>1.650000e+12</td>\n",
              "      <td>29/3/2022 23:30</td>\n",
              "      <td>1.0</td>\n",
              "      <td>Another incredible Close House VIP car deliver...</td>\n",
              "      <td>en</td>\n",
              "      <td>['bmw', 'vip', 'dreamcar']</td>\n",
              "      <td>[]</td>\n",
              "      <td>https://twitter.com/CloseHouseGolf/status/1508...</td>\n",
              "      <td>[]</td>\n",
              "      <td>['https://pbs.twimg.com/media/FPBv1x2WQA49E4s....</td>\n",
              "      <td>1.0</td>\n",
              "      <td>https://pbs.twimg.com/media/FPBv1x2WQA49E4s.jpg</td>\n",
              "      <td>7.0</td>\n",
              "      <td>0.0</td>\n",
              "      <td>0.0</td>\n",
              "    </tr>\n",
              "    <tr>\n",
              "      <th>2</th>\n",
              "      <td>1.510000e+18</td>\n",
              "      <td>GadgetFlow</td>\n",
              "      <td>1.650000e+12</td>\n",
              "      <td>29/3/2022 23:30</td>\n",
              "      <td>1.0</td>\n",
              "      <td>The @BMW Motorrad Definition CE 04 sit-on #eSc...</td>\n",
              "      <td>en</td>\n",
              "      <td>['escooter', 'transportation']</td>\n",
              "      <td>[]</td>\n",
              "      <td>https://twitter.com/GadgetFlow/status/15088288...</td>\n",
              "      <td>['https://thegadgetflow.com/portfolio/bmw-moto...</td>\n",
              "      <td>['https://pbs.twimg.com/media/FPBv1chX0AcuHfs....</td>\n",
              "      <td>1.0</td>\n",
              "      <td>https://pbs.twimg.com/media/FPBv1chX0AcuHfs.jpg</td>\n",
              "      <td>0.0</td>\n",
              "      <td>0.0</td>\n",
              "      <td>0.0</td>\n",
              "    </tr>\n",
              "    <tr>\n",
              "      <th>3</th>\n",
              "      <td>1.510000e+18</td>\n",
              "      <td>TheBoltonNews</td>\n",
              "      <td>1.650000e+12</td>\n",
              "      <td>29/3/2022 23:02</td>\n",
              "      <td>-1.0</td>\n",
              "      <td>'A tragedy for all concerned': Speeding driver...</td>\n",
              "      <td>en</td>\n",
              "      <td>[]</td>\n",
              "      <td>[]</td>\n",
              "      <td>https://twitter.com/TheBoltonNews/status/15088...</td>\n",
              "      <td>['https://www.theboltonnews.co.uk/news/2002930...</td>\n",
              "      <td>[]</td>\n",
              "      <td>0.0</td>\n",
              "      <td>NaN</td>\n",
              "      <td>1.0</td>\n",
              "      <td>0.0</td>\n",
              "      <td>1.0</td>\n",
              "    </tr>\n",
              "    <tr>\n",
              "      <th>4</th>\n",
              "      <td>1.510000e+18</td>\n",
              "      <td>BMW_UK</td>\n",
              "      <td>1.650000e+12</td>\n",
              "      <td>29/3/2022 22:33</td>\n",
              "      <td>-1.0</td>\n",
              "      <td>@lynpaul6 Hi Lyn, we're sorry to hear your BMW...</td>\n",
              "      <td>en</td>\n",
              "      <td>[]</td>\n",
              "      <td>[]</td>\n",
              "      <td>https://twitter.com/BMW_UK/status/150881450842...</td>\n",
              "      <td>[]</td>\n",
              "      <td>[]</td>\n",
              "      <td>0.0</td>\n",
              "      <td>NaN</td>\n",
              "      <td>0.0</td>\n",
              "      <td>2.0</td>\n",
              "      <td>0.0</td>\n",
              "    </tr>\n",
              "  </tbody>\n",
              "</table>\n",
              "</div>\n",
              "      <button class=\"colab-df-convert\" onclick=\"convertToInteractive('df-82145180-d225-4c61-b7b0-e566bc2d6b91')\"\n",
              "              title=\"Convert this dataframe to an interactive table.\"\n",
              "              style=\"display:none;\">\n",
              "        \n",
              "  <svg xmlns=\"http://www.w3.org/2000/svg\" height=\"24px\"viewBox=\"0 0 24 24\"\n",
              "       width=\"24px\">\n",
              "    <path d=\"M0 0h24v24H0V0z\" fill=\"none\"/>\n",
              "    <path d=\"M18.56 5.44l.94 2.06.94-2.06 2.06-.94-2.06-.94-.94-2.06-.94 2.06-2.06.94zm-11 1L8.5 8.5l.94-2.06 2.06-.94-2.06-.94L8.5 2.5l-.94 2.06-2.06.94zm10 10l.94 2.06.94-2.06 2.06-.94-2.06-.94-.94-2.06-.94 2.06-2.06.94z\"/><path d=\"M17.41 7.96l-1.37-1.37c-.4-.4-.92-.59-1.43-.59-.52 0-1.04.2-1.43.59L10.3 9.45l-7.72 7.72c-.78.78-.78 2.05 0 2.83L4 21.41c.39.39.9.59 1.41.59.51 0 1.02-.2 1.41-.59l7.78-7.78 2.81-2.81c.8-.78.8-2.07 0-2.86zM5.41 20L4 18.59l7.72-7.72 1.47 1.35L5.41 20z\"/>\n",
              "  </svg>\n",
              "      </button>\n",
              "      \n",
              "  <style>\n",
              "    .colab-df-container {\n",
              "      display:flex;\n",
              "      flex-wrap:wrap;\n",
              "      gap: 12px;\n",
              "    }\n",
              "\n",
              "    .colab-df-convert {\n",
              "      background-color: #E8F0FE;\n",
              "      border: none;\n",
              "      border-radius: 50%;\n",
              "      cursor: pointer;\n",
              "      display: none;\n",
              "      fill: #1967D2;\n",
              "      height: 32px;\n",
              "      padding: 0 0 0 0;\n",
              "      width: 32px;\n",
              "    }\n",
              "\n",
              "    .colab-df-convert:hover {\n",
              "      background-color: #E2EBFA;\n",
              "      box-shadow: 0px 1px 2px rgba(60, 64, 67, 0.3), 0px 1px 3px 1px rgba(60, 64, 67, 0.15);\n",
              "      fill: #174EA6;\n",
              "    }\n",
              "\n",
              "    [theme=dark] .colab-df-convert {\n",
              "      background-color: #3B4455;\n",
              "      fill: #D2E3FC;\n",
              "    }\n",
              "\n",
              "    [theme=dark] .colab-df-convert:hover {\n",
              "      background-color: #434B5C;\n",
              "      box-shadow: 0px 1px 3px 1px rgba(0, 0, 0, 0.15);\n",
              "      filter: drop-shadow(0px 1px 2px rgba(0, 0, 0, 0.3));\n",
              "      fill: #FFFFFF;\n",
              "    }\n",
              "  </style>\n",
              "\n",
              "      <script>\n",
              "        const buttonEl =\n",
              "          document.querySelector('#df-82145180-d225-4c61-b7b0-e566bc2d6b91 button.colab-df-convert');\n",
              "        buttonEl.style.display =\n",
              "          google.colab.kernel.accessAllowed ? 'block' : 'none';\n",
              "\n",
              "        async function convertToInteractive(key) {\n",
              "          const element = document.querySelector('#df-82145180-d225-4c61-b7b0-e566bc2d6b91');\n",
              "          const dataTable =\n",
              "            await google.colab.kernel.invokeFunction('convertToInteractive',\n",
              "                                                     [key], {});\n",
              "          if (!dataTable) return;\n",
              "\n",
              "          const docLinkHtml = 'Like what you see? Visit the ' +\n",
              "            '<a target=\"_blank\" href=https://colab.research.google.com/notebooks/data_table.ipynb>data table notebook</a>'\n",
              "            + ' to learn more about interactive tables.';\n",
              "          element.innerHTML = '';\n",
              "          dataTable['output_type'] = 'display_data';\n",
              "          await google.colab.output.renderOutput(dataTable, element);\n",
              "          const docLink = document.createElement('div');\n",
              "          docLink.innerHTML = docLinkHtml;\n",
              "          element.appendChild(docLink);\n",
              "        }\n",
              "      </script>\n",
              "    </div>\n",
              "  </div>\n",
              "  "
            ]
          },
          "metadata": {},
          "execution_count": 20
        }
      ]
    },
    {
      "cell_type": "code",
      "source": [
        "import pandas as pd\n",
        "import re\n",
        "import nltk\n",
        "from nltk.corpus import stopwords\n",
        "from nltk.stem import WordNetLemmatizer\n",
        "import string\n",
        "\n",
        "\n",
        "#Run these two lines only once\n",
        "nltk.download('stopwords')\n",
        "nltk.download('wordnet')\n",
        "\n",
        "valid_characters = string.ascii_letters+\".,';\"\n",
        "\n",
        "def preprocess_tweets(df):\n",
        "\n",
        "    print(df['tweet'][0])\n",
        "    #Removing urls and stripping whitespaces\n",
        "    for i in range(len(df['tweet'])):\n",
        "        df['tweet'][i] = re.sub(r'http\\S+', '', df['tweet'][i])\n",
        "        df['tweet'][i] = df['tweet'][i].strip()\n",
        "\n",
        "    \n",
        "    #Removing hashtags and mentions\n",
        "    for i in range(len(df['tweet'])):\n",
        "        df['tweet'][i] = ' '.join([word for word in df['tweet'][i].split() if word[0]!='@' and word[0]!='#'])\n",
        "\n",
        "    #Only keeping words containing ascii letters\n",
        "    for i in range(len(df['tweet'])):\n",
        "        new_tweet_list = []\n",
        "        for word in df['tweet'][i].split():\n",
        "            is_valid_word = True\n",
        "            for letter in word:\n",
        "                if letter not in valid_characters:\n",
        "                    is_valid_word = False\n",
        "                    break\n",
        "            if is_valid_word:\n",
        "                new_tweet_list.append(word)\n",
        "\n",
        "        df['tweet'][i] = ' '.join(new_tweet_list)\n",
        "\n",
        "\n",
        "\n",
        "\n",
        "    #Lowercasing all texts, removing stopwords, and lemmatizing the texts\n",
        "    stopwordsList = stopwords.words('english') \n",
        "    lemmatizer = WordNetLemmatizer()\n",
        "    for i in range(len(df['tweet'])):\n",
        "        df['tweet'][i] = df['tweet'][i].lower()\n",
        "        df['tweet'][i] = ' '.join([word for word in df['tweet'][i].split() if word not in stopwordsList])\n",
        "        df['tweet'][i] = ' '.join([lemmatizer.lemmatize(word) for word in df['tweet'][i].split()])\n",
        "\n",
        "    return df\n",
        "\n",
        "\n",
        "\n",
        "df = preprocess_tweets(df)\n",
        "    \n",
        "\n",
        "\n",
        "    \n",
        "\n",
        "\n",
        "\n",
        "    \n",
        "\n"
      ],
      "metadata": {
        "colab": {
          "base_uri": "https://localhost:8080/"
        },
        "id": "o6ZSfYjbM31S",
        "outputId": "2b1b3afe-9431-48d3-e012-96f7e54830a2"
      },
      "execution_count": 21,
      "outputs": [
        {
          "output_type": "stream",
          "name": "stdout",
          "text": [
            "[nltk_data] Downloading package stopwords to /root/nltk_data...\n",
            "[nltk_data]   Unzipping corpora/stopwords.zip.\n",
            "[nltk_data] Downloading package wordnet to /root/nltk_data...\n",
            "[nltk_data]   Unzipping corpora/wordnet.zip.\n",
            "UPDATE: CHP said a man was killed Monday night after accelerating his car rapidly in the rain caused him to lose control of his 2009 BMW and veer into the opposite lane of traffic and crash in a Ford in Northwest Bakersfield.  https://t.co/N9cxzMbWaZ\n"
          ]
        },
        {
          "output_type": "stream",
          "name": "stderr",
          "text": [
            "/usr/local/lib/python3.7/dist-packages/ipykernel_launcher.py:20: SettingWithCopyWarning: \n",
            "A value is trying to be set on a copy of a slice from a DataFrame\n",
            "\n",
            "See the caveats in the documentation: https://pandas.pydata.org/pandas-docs/stable/user_guide/indexing.html#returning-a-view-versus-a-copy\n",
            "/usr/local/lib/python3.7/dist-packages/ipykernel_launcher.py:21: SettingWithCopyWarning: \n",
            "A value is trying to be set on a copy of a slice from a DataFrame\n",
            "\n",
            "See the caveats in the documentation: https://pandas.pydata.org/pandas-docs/stable/user_guide/indexing.html#returning-a-view-versus-a-copy\n",
            "/usr/local/lib/python3.7/dist-packages/ipykernel_launcher.py:26: SettingWithCopyWarning: \n",
            "A value is trying to be set on a copy of a slice from a DataFrame\n",
            "\n",
            "See the caveats in the documentation: https://pandas.pydata.org/pandas-docs/stable/user_guide/indexing.html#returning-a-view-versus-a-copy\n",
            "/usr/local/lib/python3.7/dist-packages/ipykernel_launcher.py:40: SettingWithCopyWarning: \n",
            "A value is trying to be set on a copy of a slice from a DataFrame\n",
            "\n",
            "See the caveats in the documentation: https://pandas.pydata.org/pandas-docs/stable/user_guide/indexing.html#returning-a-view-versus-a-copy\n",
            "/usr/local/lib/python3.7/dist-packages/ipykernel_launcher.py:49: SettingWithCopyWarning: \n",
            "A value is trying to be set on a copy of a slice from a DataFrame\n",
            "\n",
            "See the caveats in the documentation: https://pandas.pydata.org/pandas-docs/stable/user_guide/indexing.html#returning-a-view-versus-a-copy\n",
            "/usr/local/lib/python3.7/dist-packages/ipykernel_launcher.py:50: SettingWithCopyWarning: \n",
            "A value is trying to be set on a copy of a slice from a DataFrame\n",
            "\n",
            "See the caveats in the documentation: https://pandas.pydata.org/pandas-docs/stable/user_guide/indexing.html#returning-a-view-versus-a-copy\n",
            "/usr/local/lib/python3.7/dist-packages/ipykernel_launcher.py:51: SettingWithCopyWarning: \n",
            "A value is trying to be set on a copy of a slice from a DataFrame\n",
            "\n",
            "See the caveats in the documentation: https://pandas.pydata.org/pandas-docs/stable/user_guide/indexing.html#returning-a-view-versus-a-copy\n"
          ]
        }
      ]
    },
    {
      "cell_type": "code",
      "source": [
        "\n",
        "import numpy as np\n",
        " \n",
        "train_size = 0.8\n",
        "\n",
        "X_pos = np.array(df[df['Sentiment']==1]['tweet'])\n",
        "X_neu = np.array(df[df['Sentiment']==0]['tweet'])\n",
        "X_neg = np.array(df[df['Sentiment']==-1]['tweet'])\n",
        "\n",
        "np.random.shuffle(X_pos)\n",
        "np.random.shuffle(X_neu)\n",
        "np.random.shuffle(X_neg)\n",
        "\n",
        "X_train_pos = X_pos[:int(np.floor(train_size*len(X_pos)))]\n",
        "X_train_neu = X_neu[:int(np.floor(train_size*len(X_neu)))]\n",
        "X_train_neg = X_neg[:int(np.floor(train_size*len(X_neg)))]\n",
        "\n",
        "y_train_pos = np.array([1]*len(X_train_pos))\n",
        "y_train_neu = np.array([0]*len(X_train_neu))\n",
        "y_train_neg = np.array([-1]*len(X_train_neg))\n",
        "\n",
        "X_test_pos = X_pos[int(np.floor(train_size*len(X_pos))):]\n",
        "X_test_neu = X_neu[int(np.floor(train_size*len(X_neu))):]\n",
        "X_test_neg = X_neg[int(np.floor(train_size*len(X_neg))):]\n",
        "\n",
        "y_test_pos = np.array([1]*len(X_test_pos))\n",
        "y_test_neu = np.array([0]*len(X_test_neu))\n",
        "y_test_neg = np.array([-1]*len(X_test_neg))\n",
        "\n",
        "\n",
        "X_train = np.concatenate((X_train_pos, X_train_neu, X_train_neg),axis=None)\n",
        "y_train = np.concatenate((y_train_pos, y_train_neu, y_train_neg),axis=None)\n",
        "X_test = np.concatenate((X_test_pos, X_test_neu, X_test_neg),axis=None)\n",
        "y_test = np.concatenate((y_test_pos, y_test_neu, y_test_neg),axis=None)\n",
        "\n",
        "\n",
        "\n",
        "\n",
        "\n",
        "\n",
        "# X_pos_train, X_pos_test , y_pos_train, y_pos_test = train_test_split(X_pos, y , test_size = 0.10)"
      ],
      "metadata": {
        "id": "QSSwE-XcvA0S"
      },
      "execution_count": 22,
      "outputs": []
    },
    {
      "cell_type": "code",
      "source": [
        "len(X_test)"
      ],
      "metadata": {
        "colab": {
          "base_uri": "https://localhost:8080/"
        },
        "id": "lWn7VkwnL8RX",
        "outputId": "bf887cb7-5def-4de3-82e1-c0494a866722"
      },
      "execution_count": 23,
      "outputs": [
        {
          "output_type": "execute_result",
          "data": {
            "text/plain": [
              "205"
            ]
          },
          "metadata": {},
          "execution_count": 23
        }
      ]
    },
    {
      "cell_type": "code",
      "source": [
        "from keras.preprocessing.text import Tokenizer\n",
        "vocab_size = 5000\n",
        "oov_token = \"<OOV>\"\n",
        "tokenizer = Tokenizer(num_words = vocab_size, oov_token=oov_token)\n",
        "tokenizer.fit_on_texts(X_train)"
      ],
      "metadata": {
        "id": "DFe6VP7fajCe"
      },
      "execution_count": 24,
      "outputs": []
    },
    {
      "cell_type": "code",
      "source": [
        "word_index = tokenizer.word_index"
      ],
      "metadata": {
        "id": "4JofRTKIai_A"
      },
      "execution_count": 25,
      "outputs": []
    },
    {
      "cell_type": "code",
      "source": [
        "print(word_index)"
      ],
      "metadata": {
        "colab": {
          "base_uri": "https://localhost:8080/"
        },
        "id": "uiA_owOuai7s",
        "outputId": "98fe3051-8de0-49ef-c72f-85bb3608fa8e"
      },
      "execution_count": 26,
      "outputs": [
        {
          "output_type": "stream",
          "name": "stdout",
          "text": [
            "{'<OOV>': 1, 'tesla': 2, 'bmw': 3, 'car': 4, 'new': 5, 'stock': 6, 'elon': 7, 'vehicle': 8, 'musk': 9, 'u': 10, 'year': 11, 'split': 12, 'electric': 13, 'first': 14, 'model': 15, 'said': 16, 'driver': 17, 'one': 18, 'via': 19, 'say': 20, 'day': 21, 'know': 22, 'price': 23, 'medium': 24, 'time': 25, 'like': 26, 'black': 27, 'get': 28, 'driving': 29, 'company': 30, 'two': 31, 'could': 32, 'share': 33, 'factory': 34, 'would': 35, 'social': 36, 'people': 37, 'production': 38, 'worker': 39, 'platform': 40, 'twitter': 41, 'road': 42, 'plant': 43, 'want': 44, 'series': 45, 'drive': 46, 'battery': 47, 'call': 48, 'second': 49, 'take': 50, 'ceo': 51, 'billion': 52, 'big': 53, 'week': 54, 'look': 55, 'another': 56, 'market': 57, 'plan': 58, 's': 59, 'go': 60, \"tesla's\": 61, 'see': 62, 'executive': 63, 'le': 64, 'man': 65, 'employee': 66, 'million': 67, 'read': 68, 'news': 69, 'good': 70, 'police': 71, 'crash': 72, 'buy': 73, 'ix': 74, 'giving': 75, 'speech': 76, 'next': 77, 'top': 78, 'engine': 79, 'chief': 80, 'may': 81, 'former': 82, 'april': 83, 'describe': 84, 'set': 85, 'team': 86, 'make': 87, 'german': 88, 'last': 89, 'ev': 90, 'watch': 91, 'officer': 92, 'come': 93, 'announced': 94, 'high': 95, 'india': 96, 'free': 97, 'thing': 98, 'going': 99, 'right': 100, 'best': 101, 'need': 102, 'covid': 103, 'report': 104, 'suv': 105, 'found': 106, 'recall': 107, 'california': 108, 'video': 109, 'made': 110, 'making': 111, 'performance': 112, 'world': 113, 'design': 114, 'future': 115, 'seek': 116, 'tweet': 117, 'gigafactory': 118, 'building': 119, 'due': 120, 'breaking': 121, 'number': 122, 'technology': 123, 'apple': 124, 'hit': 125, 'way': 126, 'tech': 127, 'early': 128, 'today': 129, 'got': 130, 'range': 131, 'sport': 132, 'full': 133, 'texas': 134, 'berlin': 135, 'work': 136, 'also': 137, 'launch': 138, 'soon': 139, 'sale': 140, 'gruenheide': 141, 'every': 142, 'morning': 143, 'three': 144, 'billionaire': 145, 'thanks': 146, \"bmw's\": 147, 'love': 148, 'using': 149, 'join': 150, 'business': 151, 'stop': 152, 'racism': 153, 'think': 154, 'shanghai': 155, 'issue': 156, 'v': 157, 'hi': 158, 'lawsuit': 159, 'account': 160, 'really': 161, 'serious': 162, 'years': 163, 'amazon': 164, 'trading': 165, 'thank': 166, 'owner': 167, 'win': 168, 'opening': 169, 'inc': 170, 'supply': 171, 'maker': 172, 'image': 173, 'start': 174, 'ukraine': 175, 'state': 176, 'across': 177, 'risk': 178, 'inside': 179, 'cars': 180, 'called': 181, 'customer': 182, 'approval': 183, 'manufacturing': 184, 'five': 185, 'feature': 186, 'post': 187, 'it': 188, 'still': 189, 'competition': 190, 'near': 191, 'trillion': 192, 'turn': 193, 'happy': 194, 'worth': 195, 'out': 196, 'behind': 197, 'woman': 198, 'let': 199, 'automaker': 200, 'since': 201, 'energy': 202, 'part': 203, 'according': 204, 'job': 205, 'listen': 206, 'auto': 207, 'march': 208, 'display': 209, 'something': 210, 'bad': 211, 'please': 212, 'reportedly': 213, 'possible': 214, 'culture': 215, 'speeding': 216, 'arrested': 217, 'scene': 218, 'crashed': 219, 'hold': 220, 'shareholder': 221, 'great': 222, 'oversaw': 223, 'handover': 224, 'put': 225, 'more': 226, 'increase': 227, 'luxury': 228, 'hear': 229, 'learn': 230, 'lot': 231, 'result': 232, 'action': 233, 'fire': 234, 'getting': 235, 'ever': 236, 'ahead': 237, 'jump': 238, \"'i\": 239, 'speed': 240, 'home': 241, 'recently': 242, 'group': 243, 'european': 244, 'use': 245, 'many': 246, 'idea': 247, 'meet': 248, 'investment': 249, 'south': 250, 'street': 251, 'old': 252, 'lakh': 253, 'check': 254, 'china': 255, 'following': 256, 'dm': 257, 'lane': 258, 'killed': 259, 'never': 260, 'rearview': 261, 'money': 262, 'talking': 263, 'system': 264, 'coupe': 265, 'give': 266, 'google': 267, 'better': 268, \"automaker's\": 269, 'update': 270, 'thought': 271, 'creating': 272, 'adhere': 273, 'line': 274, 'option': 275, 'tsla': 276, 'green': 277, \"we're\": 278, 'back': 279, 'among': 280, 'name': 281, 'boost': 282, 'gas': 283, 'looking': 284, 'germany': 285, 'saturday': 286, 'dance': 287, 'ride': 288, 'even': 289, 'end': 290, \"that's\": 291, 'might': 292, 'support': 293, 'form': 294, 'power': 295, 'expand': 296, 'find': 297, 'already': 298, 'given': 299, 'austin': 300, 'area': 301, 'you': 302, 'along': 303, 'move': 304, 'mobility': 305, 'charging': 306, 'ford': 307, 'order': 308, 'strong': 309, 'nhtsa': 310, 'supplier': 311, 'workplace': 312, 'race': 313, 'nikola': 314, 'department': 315, 'current': 316, 'collision': 317, 'minor': 318, 'night': 319, 'hospital': 320, 'white': 321, 'fremont': 322, 'event': 323, 'motor': 324, 'died': 325, 'injuries': 326, 'killing': 327, 'keep': 328, 'amazing': 329, 'show': 330, 'giga': 331, 'running': 332, 'offer': 333, 'expanding': 334, \"pelosi's\": 335, 'husband': 336, 'point': 337, 'digital': 338, 'exclusive': 339, 'sustainable': 340, \"he's\": 341, 'without': 342, 'major': 343, 'mean': 344, 'receive': 345, 'least': 346, 'automotive': 347, 'mile': 348, 'per': 349, 'become': 350, 'opened': 351, 'month': 352, 'traffic': 353, 'manufacture': 354, 'family': 355, 'test': 356, 'again': 357, 'latest': 358, 'monday': 359, 'biggest': 360, 'analyst': 361, 'review': 362, 'higher': 363, \"what's\": 364, 'onto': 365, 'partner': 366, 'service': 367, 'investor': 368, 'net': 369, 'enough': 370, 'demand': 371, 'much': 372, 'ask': 373, 'hub': 374, 'information': 375, 'country': 376, 'real': 377, 'rose': 378, 'light': 379, 'used': 380, 'seen': 381, 'russia': 382, 'brand': 383, 'beat': 384, 'powerful': 385, 'vision': 386, 'detail': 387, 'public': 388, 'fast': 389, 'stopped': 390, 'oil': 391, 'entry': 392, 'cheered': 393, 'well': 394, 'local': 395, 'pay': 396, 'america': 397, 'air': 398, 'safety': 399, 'wait': 400, 'cut': 401, 'around': 402, 'story': 403, 'ready': 404, 'there': 405, 'mini': 406, 'task': 407, 'delivery': 408, 'someone': 409, \"i've\": 410, 'environmental': 411, 'blocked': 412, 'produce': 413, 'caught': 414, 'anything': 415, 'side': 416, 'invest': 417, 'touch': 418, 'delay': 419, \"point'\": 420, 'third': 421, 'life': 422, 'deputy': 423, 'influence': 424, 'six': 425, 'teen': 426, 'suffered': 427, 'hike': 428, 'harassment': 429, 'rampant': 430, 'drove': 431, 'stolen': 432, 'bitcoin': 433, 'firm': 434, 'considering': 435, 'faster': 436, 'xdrive': 437, 'uk': 438, 'dynamic': 439, 'shares': 440, 'says': 441, 'nvidia': 442, 'expect': 443, \"here's\": 444, 'nancy': 445, 'example': 446, 'key': 447, 'bridge': 448, 'control': 449, 'maybe': 450, 'convertible': 451, 'deal': 452, 'spending': 453, 'change': 454, 'dan': 455, 'sedan': 456, 'wall': 457, 'push': 458, 'youtube': 459, 'list': 460, 'recent': 461, 'aim': 462, 'half': 463, 'total': 464, 'chip': 465, 'record': 466, 'active': 467, 'meeting': 468, 'station': 469, 'small': 470, 'massive': 471, 'travel': 472, 'single': 473, 'product': 474, 'place': 475, 'build': 476, 'y': 477, 'almost': 478, 'taking': 479, 'person': 480, 'viral': 481, 'spark': 482, 'rally': 483, 'perfect': 484, 'now': 485, 'x': 486, 'tax': 487, 'supercharger': 488, 'close': 489, 'beautiful': 490, 'dividend': 491, 'super': 492, 'assist': 493, 'cash': 494, 'smart': 495, 'industry': 496, 'yes': 497, 'round': 498, 'process': 499, 'feel': 500, 'dancing': 501, 'marking': 502, 'inaugural': 503, 'cannot': 504, 'virtual': 505, 'answer': 506, 'testing': 507, 'fun': 508, 'always': 509, 'help': 510, 'target': 511, 'version': 512, 'term': 513, 'towards': 514, 'podcast': 515, 'track': 516, 'standard': 517, 'land': 518, 'begin': 519, 'important': 520, 'large': 521, 'do': 522, 'yesterday': 523, 'gain': 524, 'started': 525, 'separate': 526, 'hope': 527, 'despite': 528, 'site': 529, 'including': 530, 'comment': 531, 'cost': 532, 'rival': 533, 'sell': 534, 'profit': 535, 'showroom': 536, 'porsche': 537, 'patrol': 538, 'absolutely': 539, 'edition': 540, 'believe': 541, 'unit': 542, 'sold': 543, 'saying': 544, 'weekend': 545, \"musk's\": 546, 'sure': 547, 'roof': 548, 'wrong': 549, 'cyber': 550, 'g': 551, 'water': 552, 'blue': 553, 'employees': 554, 'catl': 555, 'scooter': 556, 'community': 557, 'global': 558, 'government': 559, 'certain': 560, 'gabi': 561, 'submit': 562, 'complaint': 563, 'recommend': 564, 'contact': 565, 'celebrate': 566, 'email': 567, 'lyn': 568, 'registration': 569, 'plunge': 570, 'drag': 571, 'went': 572, 'this': 573, 'driven': 574, 'bought': 575, 'flame': 576, 'reported': 577, 'facing': 578, 'party': 579, 'behalf': 580, 'ditch': 581, 'recalling': 582, 'aptiv': 583, 'leaving': 584, 'federal': 585, 'often': 586, 'girl': 587, 'fighting': 588, 'fleeing': 589, 'property': 590, 'shooting': 591, 'sorry': 592, 'allegation': 593, 'injured': 594, 'segregated': 595, 'hardest': 596, 'routinely': 597, 'fleet': 598, 'poor': 599, 'refuse': 600, 'yen': 601, 'index': 602, 'continue': 603, 'rising': 604, 'seeking': 605, 'retail': 606, 'lose': 607, 'talk': 608, 'attention': 609, 'microsoft': 610, 'gold': 611, 'nice': 612, 'project': 613, 'known': 614, 'direction': 615, 'innovative': 616, 'live': 617, 'visit': 618, 'sec': 619, 'regulator': 620, 'dealership': 621, 'interior': 622, 'budget': 623, 'defense': 624, 'built': 625, 'position': 626, 'accident': 627, 'on': 628, 'glad': 629, 'excited': 630, \"let's\": 631, 'watching': 632, 'popular': 633, 'uber': 634, 'weeks': 635, 'currently': 636, 'own': 637, 'effect': 638, 'crisis': 639, 'annual': 640, 'enable': 641, 'open': 642, 'flat': 643, 'nasdaq': 644, 'loved': 645, 'truck': 646, 'designed': 647, 'reach': 648, 'nearly': 649, 'hour': 650, 'distance': 651, 'force': 652, 'produced': 653, 'upgrade': 654, \"world's\": 655, 'inviting': 656, 'premium': 657, 'congratulation': 658, 'history': 659, 'folk': 660, \"we've\": 661, 'sign': 662, 'steel': 663, 'imagine': 664, 'manual': 665, 'blend': 666, 'sound': 667, 'no': 668, 'fan': 669, 'richest': 670, 'probably': 671, 'larger': 672, 'likely': 673, 'alphabet': 674, 'tell': 675, 'in': 676, 'sharing': 677, 'manufacturer': 678, 'officially': 679, 'europe': 680, 'download': 681, 'working': 682, 'long': 683, 'corporate': 684, 'gran': 685, 'continued': 686, 'potential': 687, 'overnight': 688, 'taken': 689, 'aggressive': 690, 'predecessor': 691, 'away': 692, 'space': 693, 'lead': 694, 'pound': 695, 'asked': 696, 'impact': 697, 'shot': 698, 'sabbatical': 699, 'rolled': 700, 'cybertruck': 701, 'c': 702, 'spacex': 703, 'russian': 704, 'president': 705, 'message': 706, 'paul': 707, 'science': 708, 'winter': 709, 'days': 710, 'longest': 711, 'winning': 712, 'pace': 713, 'especially': 714, 'fsd': 715, 'beta': 716, 'united': 717, 'climate': 718, 'agreement': 719, 'sharply': 720, 'package': 721, 'named': 722, 'pursuit': 723, 'study': 724, 'later': 725, 'special': 726, 'chat': 727, 'spartanburg': 728, 'press': 729, 'shop': 730, 'create': 731, 'jobs': 732, 'tv': 733, 'engines': 734, 'huge': 735, 'carolina': 736, 'course': 737, 'possibility': 738, 'available': 739, 'modern': 740, 'red': 741, 'drop': 742, 'wednesday': 743, \"'\": 744, 'ives': 745, 'notice': 746, 'everyone': 747, 'etc': 748, 'jealous': 749, 'little': 750, 'received': 751, 'behavior': 752, 'racing': 753, 'solar': 754, 'mark': 755, 'automobile': 756, 'date': 757, 'comfort': 758, 'longer': 759, 'announces': 760, 'play': 761, 'promotions': 762, 'earnings': 763, 'selling': 764, 'kind': 765, 'piece': 766, 'immediately': 767, 'unique': 768, 'models': 769, 'alpina': 770, 'motorsport': 771, 'run': 772, 'bike': 773, 'amid': 774, 'locally': 775, 'far': 776, 'fastest': 777, 'able': 778, 'break': 779, \"'the\": 780, 'exchange': 781, 'true': 782, 'purchase': 783, 'although': 784, 'short': 785, 'halt': 786, 'bunch': 787, 'type': 788, 'city': 789, 'r': 790, 'so': 791, 'activist': 792, \"factory's\": 793, 'entrance': 794, 'roadster': 795, 'motorrad': 796, 'km': 797, 'network': 798, 'revealed': 799, 'brings': 800, 'essential': 801, 'level': 802, 'successful': 803, 'interesting': 804, 'rule': 805, 'flying': 806, 'spent': 807, 'removed': 808, 'staff': 809, 'employment': 810, 'clicking': 811, 'examines': 812, 'yet': 813, 'dealer': 814, 'vin': 815, 'corner': 816, 'destroyed': 817, 'audi': 818, 'onlooker': 819, 'la': 820, 'insight': 821, 'letting': 822, \"we'll\": 823, \"i'm\": 824, \"can't\": 825, 'replacement': 826, 'crossing': 827, 'escape': 828, 'file': 829, 'burst': 830, 'failed': 831, 'longboards': 832, 'filed': 833, 'alleged': 834, 'concern': 835, 'wife': 836, 'box': 837, 'problem': 838, 'friday': 839, 'evening': 840, 'crowd': 841, 'illegal': 842, 'fired': 843, 'four': 844, 'assigned': 845, 'collided': 846, 'bus': 847, 'closed': 848, 'damage': 849, 'custody': 850, 'seized': 851, 'centre': 852, 'hurt': 853, 'forced': 854, 'crashing': 855, 'saw': 856, 'situation': 857, 'suspicion': 858, 'feb': 859, 'charge': 860, 'stay': 861, 'racist': 862, 'owned': 863, 'los': 864, 'angeles': 865, 'anyone': 866, 'mind': 867, 'confirmed': 868, 'info': 869, 'japanese': 870, 'personal': 871, 'nightmare': 872, 'pattern': 873, 'footage': 874, 'cop': 875, 'chase': 876, 'suzuki': 877, 'holder': 878, 'rented': 879, 'machine': 880, 'division': 881, 'ability': 882, 'attractive': 883, 'shake': 884, 'netflix': 885, 'official': 886, 'anytime': 887, 'foray': 888, 'gigafactories': 889, 'changing': 890, 'flow': 891, 'step': 892, 'sit': 893, 'navigation': 894, 'cockpit': 895, 'seamless': 896, 'goal': 897, 'saloon': 898, 'refresh': 899, 'exit': 900, 'limit': 901, 'sleek': 902, 'beauty': 903, 'request': 904, 'impossible': 905, 'standing': 906, 'represents': 907, 'approach': 908, 'allows': 909, 'assembly': 910, 'benzinga': 911, 'enjoy': 912, 'bill': 913, 'spike': 914, 'whale': 915, 'shift': 916, 'seeing': 917, 'additional': 918, 'newly': 919, 'overcomes': 920, 'equity': 921, 'handle': 922, 'outside': 923, 'estimated': 924, 'aircar': 925, 'ppl': 926, 'dc': 927, 'stage': 928, 'software': 929, 'mentioned': 930, 'ticker': 931, 'trillionaire': 932, 'door': 933, 'neighbor': 934, 'trio': 935, 'sa': 936, 'announcement': 937, 'theory': 938, 'tonight': 939, 'acquiring': 940, 'metaverse': 941, 'searched': 942, 'several': 943, 'customers': 944, 'comfortable': 945, 'room': 946, 'materials': 947, 'exterior': 948, 'necessarily': 949, 'whole': 950, 'danced': 951, 'joked': 952, 'client': 953, 'glimpse': 954, 'passionate': 955, 'gone': 956, 'roughly': 957, \"'dad\": 958, 'chinese': 959, 'jumped': 960, 'match': 961, 'proposal': 962, 'trader': 963, 'pile': 964, \"tuesday's\": 965, \"mcdonald's\": 966, 'walmart': 967, 'petco': 968, 'tuesday': 969, 'modest': 970, 'losses': 971, 'combine': 972, 'personality': 973, 'humanoid': 974, 'robot': 975, 'continuing': 976, 'weekly': 977, 'incredible': 978, 'house': 979, 'hollywood': 980, 'schwarzenegger': 981, 'bowl': 982, 'meant': 983, 'doubling': 984, 'king': 985, 'status': 986, 'choice': 987, 'meta': 988, 'boast': 989, 'improvement': 990, 'stack': 991, 'contract': 992, 'traded': 993, 'hog': 994, 'homies': 995, 'beast': 996, 'sports': 997, 'planet': 998, 'athlete': 999, 'add': 1000, 'inflation': 1001, 'specific': 1002, 'invite': 1003, 'priority': 1004, 'beautifully': 1005, 'internet': 1006, 'facility': 1007, 'tweets': 1008, 'pretty': 1009, 'collaboration': 1010, 'shown': 1011, 'generate': 1012, 'shuts': 1013, 'dominating': 1014, 'cycle': 1015, 'gail': 1016, 'traveling': 1017, 'fans': 1018, 'l': 1019, 'question': 1020, 'entered': 1021, 'putin': 1022, 'includes': 1023, 'gamestop': 1024, 'investors': 1025, 'ifactory': 1026, 'data': 1027, 'intelligence': 1028, 'accurate': 1029, 'game': 1030, 'hydrogen': 1031, 'period': 1032, 'streak': 1033, 'appreciate': 1034, 'experiences': 1035, 'article': 1036, 'videos': 1037, 'cc': 1038, 'rolling': 1039, 'canada': 1040, 'paris': 1041, 'innovation': 1042, 'giant': 1043, 'hint': 1044, 'biz': 1045, 'finally': 1046, 'gen': 1047, 'tourer': 1048, 'aggression': 1049, 'output': 1050, 'suspending': 1051, 'export': 1052, 'vehicles': 1053, 'launched': 1054, 'services': 1055, 'introduce': 1056, 'effort': 1057, 'exciting': 1058, 'opens': 1059, 'afternoon': 1060, 'operation': 1061, 'sporty': 1062, 'waiting': 1063, 'book': 1064, 'legendary': 1065, 'amby': 1066, 'clever': 1067, 'offset': 1068, 'loss': 1069, 'banks': 1070, 'bring': 1071, 'episode': 1072, 'lightning': 1073, 'include': 1074, 'master': 1075, 'pilot': 1076, 'spectacular': 1077, 'judge': 1078, 'camp': 1079, 'lawmaker': 1080, 'met': 1081, 'january': 1082, 'raised': 1083, 'nissan': 1084, 'literally': 1085, 'addition': 1086, 'fresh': 1087, 'picture': 1088, 'growing': 1089, 'winner': 1090, 'challenge': 1091, \"'a\": 1092, 'strength': 1093, 'couple': 1094, 'mine': 1095, 'oh': 1096, 'lol': 1097, 'understand': 1098, 'gotta': 1099, 'photo': 1100, 'word': 1101, 'accounts': 1102, 'stating': 1103, 'complain': 1104, 'discipline': 1105, 'lean': 1106, 'dominate': 1107, 'touring': 1108, 'carbon': 1109, 'signal': 1110, 'utility': 1111, 'definitely': 1112, 'till': 1113, 'tree': 1114, 'experience': 1115, 'ultimate': 1116, 'zero': 1117, 'miles': 1118, 'zone': 1119, 'bentley': 1120, 'hours': 1121, 'meme': 1122, 'dash': 1123, 'note': 1124, 'trying': 1125, 'trouble': 1126, 'lt': 1127, 'role': 1128, 'statement': 1129, 'buying': 1130, 'fud': 1131, 'seems': 1132, 'chester': 1133, 'north': 1134, 'minute': 1135, 'hot': 1136, 'us': 1137, 'block': 1138, 'steering': 1139, 'styling': 1140, 'element': 1141, 'investigation': 1142, 'highway': 1143, 'adventure': 1144, 'roll': 1145, 'tear': 1146, 'poly': 1147, 'hey': 1148, 'motorcycle': 1149, 'milestone': 1150, 'individual': 1151, 'announcing': 1152, 'hinted': 1153, 'unveiled': 1154, 'se': 1155, 'ethereum': 1156, 'pretending': 1157, 'exist': 1158, 'recap': 1159, 'crazy': 1160, 'labor': 1161, 'publishes': 1162, 'shutdown': 1163, 'calif': 1164, 'headed': 1165, 'alert': 1166, 'actor': 1167, 'fibre': 1168, 'welcome': 1169, 'assume': 1170, 'figure': 1171, 'union': 1172, 'election': 1173, 'nike': 1174, 'awesome': 1175, 'main': 1176, 'rover': 1177, 'bull': 1178, 'bear': 1179, 'b': 1180, 'fix': 1181, 'turned': 1182, 'discover': 1183, 'fly': 1184, 'hill': 1185, 'office': 1186, 'co': 1187, 'raw': 1188, 'sheet': 1189, 'reached': 1190, 'rather': 1191, 'rodeo': 1192, 'balance': 1193, 'eye': 1194, 'dominance': 1195, 'condition': 1196, 'chancellor': 1197, 'olaf': 1198, 'scholz': 1199, 'lauded': 1200, 'screen': 1201, 'facelifted': 1202, 'redesigned': 1203, 'wedbush': 1204, 'completely': 1205, 'clean': 1206, 'coming': 1207, 'thursday': 1208, 'hybrid': 1209, 'bold': 1210, 'bicycle': 1211, 'ce': 1212, 'borrowed': 1213, 'plus': 1214, 'strategic': 1215, 'covered': 1216, 'head': 1217, 'critical': 1218, 'electrifying': 1219, 'wltp': 1220, 'pleasure': 1221, 'fully': 1222, 'practicality': 1223, 'alive': 1224, 'disclosing': 1225, 'rigorously': 1226, 'adheres': 1227, 'kick': 1228, 'began': 1229, 'added': 1230, 'appear': 1231, 'mileage': 1232, 'starting': 1233, 'happening': 1234, 'else': 1235, 'society': 1236, 'hand': 1237, 'asking': 1238, 'fuel': 1239, 'needs': 1240, 'leader': 1241, 'court': 1242, 'manager': 1243, 'discus': 1244, 'commercial': 1245, 'license': 1246, 'futuristic': 1247, 'about': 1248, 'lower': 1249, 'speak': 1250, 'hyundai': 1251, 'ioniq': 1252, 'epilepsy': 1253, 'diagnosis': 1254, 'enduring': 1255, 'diagnostic': 1256, 'imaging': 1257, 'mri': 1258, 'lesion': 1259, 'brain': 1260, 'surgeon': 1261, 'robotic': 1262, 'laser': 1263, \"driver's\": 1264, 'championship': 1265, 'link': 1266, 'season': 1267, 'colleague': 1268, 'published': 1269, 'decided': 1270, 'finding': 1271, 'different': 1272, \"'supposedly'\": 1273, 'vote': 1274, 'actually': 1275, 'relevant': 1276, 'windshield': 1277, 'kindly': 1278, 'code': 1279, 'location': 1280, 'clarify': 1281, 'pro': 1282, 'con': 1283, 'lacked': 1284, 'front': 1285, 'star': 1286, 'honda': 1287, 'controversial': 1288, 'erie': 1289, 'blvd': 1290, 'kia': 1291, 'adapter': 1292, 'lockdown': 1293, 'a': 1294, 'mercedes': 1295, 'rental': 1296, 'took': 1297, 'online': 1298, 'showing': 1299, 'entire': 1300, 'facebook': 1301, 'explain': 1302, 'difference': 1303, 'anniversary': 1304, 'travelling': 1305, 'west': 1306, 'toyota': 1307, 'injury': 1308, 'colliding': 1309, 'learned': 1310, 'base': 1311, 'sent': 1312, 'tagged': 1313, 'fight': 1314, 'park': 1315, 'prove': 1316, 'delivers': 1317, 'up': 1318, 'scary': 1319, 'opposition': 1320, 'survives': 1321, 'plunging': 1322, 'storey': 1323, 'smashing': 1324, 'horrified': 1325, 'send': 1326, 'phone': 1327, 'further': 1328, 'fair': 1329, 'housing': 1330, 'shocking': 1331, 'disturbing': 1332, 'raise': 1333, 'be': 1334, 'plunged': 1335, 'roundabout': 1336, 'plate': 1337, 'foot': 1338, 'older': 1339, 'source': 1340, 'poll': 1341, 'user': 1342, 'principle': 1343, 'consequence': 1344, 'fined': 1345, 'failing': 1346, \"'spinning'\": 1347, 'plough': 1348, 'ended': 1349, 'southwick': 1350, 'general': 1351, 'jury': 1352, 'cheap': 1353, 'drug': 1354, 'mother': 1355, 'dude': 1356, 'arduous': 1357, 'witness': 1358, 'fatal': 1359, 'parkway': 1360, 'amtrak': 1361, 'train': 1362, 'expensive': 1363, 'nothing': 1364, 'happened': 1365, 'taxi': 1366, 'tiny': 1367, 'indie': 1368, 'cool': 1369, 'rate': 1370, 'pc': 1371, 'teenager': 1372, 'whose': 1373, 'uninsured': 1374, 'offence': 1375, 'arrest': 1376, 'rested': 1377, 'rebuttal': 1378, 'brentwood': 1379, 'brent': 1380, 'reinking': 1381, 'repairs': 1382, 'imo': 1383, 'landed': 1384, 'rebate': 1385, 'sexual': 1386, 'startup': 1387, 'de': 1388, 'facto': 1389, 'fundamentally': 1390, 'undermines': 1391, \"'drink\": 1392, \"driver'\": 1393, 'lucky': 1394, \"'taped\": 1395, \"door'\": 1396, 'men': 1397, 'bullish': 1398, 'opp': 1399, 'pulling': 1400, 'matters': 1401, 'allowed': 1402, 'restricted': 1403, 'grey': 1404, 'interview': 1405, 'slur': 1406, 'aimed': 1407, 'areas': 1408, 'denied': 1409, 'slave': 1410, 'led': 1411, \"california's\": 1412, 'reverse': 1413, 'inconvenience': 1414, 'argument': 1415, 'pick': 1416, 'technical': 1417, 'quit': 1418, 'regarding': 1419, 'involving': 1420, 'ago': 1421, 'swapping': 1422, 'spotted': 1423, 'chatman': 1424, 'late': 1425, 'wanted': 1426, 'xinjiang': 1427, 'uyghurs': 1428, 'concentration': 1429, 'genocide': 1430, 'school': 1431, 'snohomish': 1432, 'rd': 1433, 'needed': 1434, 'adjust': 1435, 'costs': 1436, 'geopolitical': 1437, 'rates': 1438, 'address': 1439, 'math': 1440, 'intersection': 1441, 'pressure': 1442, 'gave': 1443, 'chart': 1444, 'calling': 1445, 'dramatic': 1446, 'lengthy': 1447, 'van': 1448, 'homeowner': 1449, 'garage': 1450, 'heard': 1451, 'devolved': 1452, 'town': 1453, 'private': 1454, 'guest': 1455, 'expects': 1456, 'subaru': 1457, 'robber': 1458, 'flee': 1459, 'atm': 1460, 'mpumalanga': 1461, 'evil': 1462, 'volkswagen': 1463, 'wiring': 1464, 'war': 1465, 'yr': 1466, 'joy': 1467, 'trademarked': 1468, 'caused': 1469, 'ok': 1470, 'session': 1471, 'setting': 1472, 'cfd': 1473, 'drone': 1474, 'claim': 1475, 'agreed': 1476, 'precise': 1477, 'efficient': 1478, 'edrive': 1479, 'forerunner': 1480, \"munich's\": 1481, 'smallest': 1482, 'sentry': 1483, 'mode': 1484, 'requesting': 1485, 'cheaper': 1486, 'amount': 1487, 'everyday': 1488, 'leg': 1489, 'inauguration': 1490, 'returns': 1491, 'amd': 1492, \"domino's\": 1493, 'prepping': 1494, 'facelift': 1495, 'commenced': 1496, 'pricing': 1497, 'admit': 1498, 'advanced': 1499, 'forward': 1500, 'thinking': 1501, 'for': 1502, 'broadening': 1503, \"tech's\": 1504, 'scope': 1505, 'east': 1506, 'hartford': 1507, 'accessing': 1508, 'operating': 1509, 'intuitive': 1510, 'professional': 1511, 'impactful': 1512, 'achieving': 1513, 'button': 1514, 'accused': 1515, 'upgraded': 1516, 'smile': 1517, 'phev': 1518, 'body': 1519, 'and': 1520, 'neil': 1521, 'dream': 1522, 'en': 1523, 'vorm': 1524, 'amc': 1525, 'gme': 1526, 'dems': 1527, 'handout': 1528, 'involved': 1529, 'earlier': 1530, 'looooooong': 1531, 'aapl': 1532, 'nvda': 1533, 'fb': 1534, 'kweb': 1535, 'remember': 1536, 'ff': 1537, 'created': 1538, 'dilution': 1539, 'explains': 1540, 'orange': 1541, 'paintwork': 1542, 'discount': 1543, 'icymi': 1544, 'sector': 1545, \"germany's\": 1546, 'northeast': 1547, 'revenue': 1548, 'owning': 1549, 'prius': 1550, 'novelty': 1551, 'sized': 1552, 'knowing': 1553, 'fluctuation': 1554, 'nbd': 1555, 'airspeed': 1556, 'chicago': 1557, 'washington': 1558, 'regularly': 1559, 'richmond': 1560, 'giddy': 1561, 'prospect': 1562, 'natural': 1563, 'reckoned': 1564, 'utilise': 1565, 'dinan': 1566, 'wsb': 1567, 'projected': 1568, 'agenda': 1569, 'eq': 1570, 'onslaught': 1571, 'pipeline': 1572, 'whats': 1573, 'ur': 1574, 'fav': 1575, 'percent': 1576, 'overall': 1577, 'truly': 1578, 'accomplishment': 1579, 'ages': 1580, 'speculate': 1581, \"tomorrow's\": 1582, 'amusing': 1583, 'themselves': 1584, \"it'll\": 1585, 'w': 1586, 'mar': 1587, \"i'll\": 1588, 'overdeliver': 1589, 'promise': 1590, 'psyched': 1591, 'delayed': 1592, 'presented': 1593, 'rwd': 1594, 'horsepower': 1595, 'cabin': 1596, 'adults': 1597, 'quality': 1598, 'understated': 1599, 'chevy': 1600, 'remembering': 1601, 'components': 1602, 'supplying': 1603, 'dorset': 1604, 'unanimous': 1605, 'praise': 1606, 'resident': 1607, 'ambassador': 1608, 'inspiring': 1609, 'lustier': 1610, 'continues': 1611, 'legacy': 1612, 'rim': 1613, 'background': 1614, 'stare': 1615, 'quite': 1616, 'bnn': 1617, 'bloomberg': 1618, 'lovely': 1619, 'thami': 1620, 'kwazi': 1621, 'enjoying': 1622, 'proof': 1623, 'thorough': 1624, 'plaid': 1625, 'capital': 1626, 'divisive': 1627, 'makes': 1628, 'ratio': 1629, 'reclaimed': 1630, 'warp': 1631, 'incentive': 1632, 'disproportionately': 1633, 'benefit': 1634, \"'moderate\": 1635, 'volume': 1636, \"production'\": 1637, 'planning': 1638, 'heck': 1639, 'breakout': 1640, 'vip': 1641, 'delivered': 1642, 'fantastic': 1643, 'seem': 1644, 'liking': 1645, 'august': 1646, 'pair': 1647, 'hayek': 1648, 'electrify': 1649, 'included': 1650, 'fund': 1651, \"one's\": 1652, 'debt': 1653, 'dumb': 1654, 'mortgage': 1655, 'symbol': 1656, 'accumulate': 1657, 'achieve': 1658, 'feat': 1659, 'developer': 1660, 'skin': 1661, 'prototype': 1662, 'color': 1663, 'surface': 1664, 'enters': 1665, 'generation': 1666, 'fabric': 1667, 'outrun': 1668, 'sun': 1669, 'exceedingly': 1670, 'greg': 1671, 'cap': 1672, 'saudi': 1673, 'aramco': 1674, 'berkshire': 1675, 'substantial': 1676, 'steve': 1677, 'sutcliffe': 1678, 'pink': 1679, 'wrapped': 1680, 'nft': 1681, 'mr': 1682, 'specifically': 1683, 'tremendous': 1684, 'purpose': 1685, 'that': 1686, 'ikea': 1687, 'exoskeleton': 1688, 'lift': 1689, 'topped': 1690, 'tweeted': 1691, 'generally': 1692, 'physical': 1693, 'chosen': 1694, 'supposedly': 1695, 'greater': 1696, 'ticket': 1697, 'favourite': 1698, 'prototypes': 1699, 'elegant': 1700, 'lmr': 1701, 'groovy': 1702, 'replace': 1703, 'workflow': 1704, 'perpetually': 1705, 'reactions': 1706, 'joking': 1707, 'father': 1708, 'snapping': 1709, 'cyberquad': 1710, 'toss': 1711, 'james': 1712, \"moscow's\": 1713, 'invasion': 1714, 'kiev': 1715, 'vladimir': 1716, 'revealing': 1717, 'performer': 1718, 'familiar': 1719, 'casual': 1720, 'writes': 1721, 'artificial': 1722, 'transparent': 1723, 'merge': 1724, 'changer': 1725, 'proving': 1726, 'credential': 1727, 'ice': 1728, 'undergoes': 1729, 'arctic': 1730, 'circle': 1731, 'consecutive': 1732, 'jan': 1733, 'straight': 1734, 'oct': 1735, 'pov': 1736, 'buddy': 1737, 'wanna': 1738, 'expands': 1739, 'beyond': 1740, 'switched': 1741, 'hq': 1742, 'gesture': 1743, 'combined': 1744, 'greener': 1745, 'quote': 1746, 'follows': 1747, 'vault': 1748, 'mix': 1749, 'cutting': 1750, 'ribbon': 1751, 'handing': 1752, 'whipping': 1753, 'ramping': 1754, \"'selfies'\": 1755, 'downforce': 1756, 'increased': 1757, 'ac': 1758, \"schnitzer's\": 1759, 'providing': 1760, 'connectivity': 1761, 'estate': 1762, 'tuning': 1763, 'county': 1764, 'congratulations': 1765, 'proud': 1766, 'sc': 1767, 'futurum': 1768, 'chips': 1769, 'geared': 1770, 'memorable': 1771, 'steptronic': 1772, 'gearbox': 1773, 'vanishing': 1774, 'beginning': 1775, 'defined': 1776, 'visual': 1777, 'lightness': 1778, 'athleticism': 1779, 'regular': 1780, 'joined': 1781, 'greenville': 1782, 'expansion': 1783, 'upstate': 1784, 'blasting': 1785, 'busy': 1786, 'epa': 1787, 'bobsleigh': 1788, 'simulator': 1789, 'beijing': 1790, 'olympic': 1791, 'recreates': 1792, 'curve': 1793, 'approves': 1794, 'payout': 1795, 'settlement': 1796, \"pacquiao's\": 1797, 'jeepneys': 1798, 'subway': 1799, 'boring': 1800, 'africa': 1801, 'iveco': 1802, 'valued': 1803, 'disagree': 1804, 'matter': 1805, 'gta': 1806, 'canadian': 1807, 'consumer': 1808, 'confidence': 1809, 'fall': 1810, 'climbs': 1811, 'littlest': 1812, 'snapped': 1813, 'accessorised': 1814, 'guises': 1815, 'spends': 1816, 'ads': 1817, 'carmaker': 1818, 'discontinuing': 1819, 'exported': 1820, 'condemn': 1821, 'furious': 1822, 'junior': 1823, 'bang': 1824, 'endurance': 1825, 'rolex': 1826, 'et': 1827, 'miss': 1828, 'indicates': 1829, 'carmaking': 1830, 'territory': 1831, 'kaliningrad': 1832, 'exporting': 1833, 'backed': 1834, 'ya': 1835, 'def': 1836, 'compensation': 1837, 'industrialist': 1838, 'secretly': 1839, 'caption': 1840, 'admire': 1841, 'dispute': 1842, 'ryley': 1843, 'hoping': 1844, 'daily': 1845, 'award': 1846, 'crossover': 1847, 'delighted': 1848, 'art': 1849, 'defining': 1850, 'milan': 1851, 'board': 1852, 'member': 1853, 'grew': 1854, 'sublime': 1855, 'compare': 1856, 'grid': 1857, 'barrel': 1858, 'rational': 1859, 'rationing': 1860, 'valuation': 1861, 'unlike': 1862, 'panels': 1863, 'attic': 1864, 'slash': 1865, 'tied': 1866, 'surprising': 1867, 'biased': 1868, 'heart': 1869, 'legends': 1870, 'engineering': 1871, 'seminal': 1872, 'imagery': 1873, 'palm': 1874, 'reflected': 1875, 'window': 1876, 'seat': 1877, 'emission': 1878, 'moved': 1879, 'breakeven': 1880, 'february': 1881, 'mg': 1882, 'cupra': 1883, 'largest': 1884, 'reaction': 1885, 'thas': 1886, 'failure': 1887, 'viable': 1888, 'decade': 1889, 'sacrifice': 1890, 'investments': 1891, \"haven't\": 1892, 'farley': 1893, 'succeeds': 1894, \"'army\": 1895, \"robots'\": 1896, 'techno': 1897, 'suspends': 1898, 'assignments': 1899, 'attorney': 1900, 'prohibits': 1901, 'discrimination': 1902, 'tslaq': 1903, 'powerwalls': 1904, 'yung': 1905, 'equipped': 1906, 'transform': 1907, 'craft': 1908, 'below': 1909, 'triple': 1910, 'prices': 1911, 'victory': 1912, 'hundred': 1913, 'dollar': 1914, 'cake': 1915, 'why': 1916, 'surpass': 1917, 'asian': 1918, 'makers': 1919, 'xl': 1920, 'pending': 1921, 'decanter': 1922, 'paired': 1923, 'merch': 1924, 'branded': 1925, 'tequila': 1926, 'apparently': 1927, 'listed': 1928, 'forecast': 1929, 'lineup': 1930, 'rumoured': 1931, 'works': 1932, 'tweak': 1933, 'fewer': 1934, 'lounge': 1935, 'seating': 1936, 'lighting': 1937, 'aston': 1938, 'martin': 1939, 'recovered': 1940, 'stunning': 1941, 'angle': 1942, 'predicts': 1943, \"'most\": 1944, \"trusted'\": 1945, 'developing': 1946, 'acquisition': 1947, 'longtime': 1948, 'collaborator': 1949, 'tuner': 1950, 'folded': 1951, 'rokit': 1952, 'mb': 1953, 'unveils': 1954, 'challenger': 1955, 'acquired': 1956, 'sleeping': 1957, 'cruise': 1958, \"elon's\": 1959, 'adam': 1960, 'jonas': 1961, \"biden's\": 1962, 'proposed': 1963, 'perform': 1964, 'moose': 1965, 'composer': 1966, 'tinkering': 1967, 'hood': 1968, 'signups': 1969, 'intelligent': 1970, 'chennai': 1971, 'tamil': 1972, 'nadu': 1973, 'optimus': 1974, 'preserving': 1975, 'memories': 1976, 'skyrocketed': 1977, 'steadily': 1978, 'enabling': 1979, 'lively': 1980, 'expectation': 1981, 'lightweight': 1982, 'chassis': 1983, 'cooper': 1984, 'booking': 1985, 'solana': 1986, 'comms': 1987, 'narrative': 1988, \"nobody's\": 1989, 'whirlwind': 1990, 'manic': 1991, 'underrated': 1992, 'io': 1993, 'widget': 1994, 'convenient': 1995, 'quick': 1996, 'access': 1997, 'unlock': 1998, 'wral': 1999, 'techwire': 2000, 'tour': 2001, 'secretary': 2002, 'marty': 2003, 'walsh': 2004, 'wapo': 2005, 'antic': 2006, 'ai': 2007, 'soar': 2008, 'revolutionary': 2009, 'founder': 2010, 'o': 2011, 'revolution': 2012, 'off': 2013, 'tom': 2014, 'bohigian': 2015, 'fresno': 2016, 'bolt': 2017, 'agreeing': 2018, 'sleeper': 2019, 'donald': 2020, 'trump': 2021, 'dwayne': 2022, \"rock'\": 2023, 'johnson': 2024, 'treating': 2025, 'heated': 2026, 'memory': 2027, 'singled': 2028, 'whereas': 2029, 'exempted': 2030, 'denier': 2031, 'disclose': 2032, 'plainly': 2033, 'obligation': 2034, 'overpowers': 2035, 'pop': 2036, 'honestly': 2037, 'stacking': 2038, 'doge': 2039, 'bag': 2040, 'shook': 2041, 'plagued': 2042, 'afp': 2043, 'excellent': 2044, 'annually': 2045, 'improving': 2046, 'tile': 2047, 'surge': 2048, 'follow': 2049, 'favorite': 2050, 'jaguar': 2051, 'conflict': 2052, 'disney': 2053, 'carl': 2054, 'icahn': 2055, \"'what's\": 2056, \"america'\": 2057, 'astronaut': 2058, 'returning': 2059, 'spacecraft': 2060, 'carjack': 2061, 'platforms': 2062, 'weak': 2063, 'perhaps': 2064, 'guy': 2065, 'takeover': 2066, 'engineered': 2067, 'unloaded': 2068, 'illuminated': 2069, 'kidney': 2070, 'grilles': 2071, 'kite': 2072, 'mesquite': 2073, 'sending': 2074, 'here': 2075, 'gpu': 2076, 'warm': 2077, 'construction': 2078, 'coil': 2079, 'blank': 2080, 'stamp': 2081, 'metal': 2082, 'clock': 2083, 'befittingly': 2084, 'flagship': 2085, 'customisation': 2086, \"'individual'\": 2087, 'programme': 2088, 'interested': 2089, 'milking': 2090, 'pump': 2091, 'fizzled': 2092, 'comparison': 2093, 'waymo': 2094, 'mapped': 2095, 'style': 2096, 'm': 2097, 'hong': 2098, 'kong': 2099, 'arnold': 2100, 'playing': 2101, 'zeus': 2102, 'ad': 2103, 'fyi': 2104, 'cementing': 2105, 'impassable': 2106, 'routes': 2107, 'adverse': 2108, 'remote': 2109, 'destinations': 2110, 'destination': 2111, 'terrain': 2112, 'protocol': 2113, 'convenience': 2114, 'freshening': 2115, \"brand's\": 2116, 'wraparound': 2117, 'expected': 2118, 'headlamp': 2119, 'taillights': 2120, 'grille': 2121, 'variant': 2122, 'authorize': 2123, \"securities'\": 2124, 'discuss': 2125, 'hugely': 2126, 'preparing': 2127, 'forgot': 2128, 'luxurious': 2129, 'quiet': 2130, 'gorgeous': 2131, 'rev': 2132, 'effortlessly': 2133, 'looks': 2134, 'practical': 2135, 'sensible': 2136, 'convince': 2137, 'demonstration': 2138, 'hosted': 2139, 'ending': 2140, 'glacier': 2141, 'cnbc': 2142, 'constructed': 2143, 'farmhouse': 2144, 'santa': 2145, 'barbara': 2146, 'provide': 2147, 'spied': 2148, 'handed': 2149, 'workers': 2150, 'ultimately': 2151, 'perfected': 2152, 'expertise': 2153, 'ruthless': 2154, 'ambitions': 2155, 'adaptive': 2156, 'concept': 2157, 'motorbike': 2158, 'tap': 2159, 'urban': 2160, 'hitter': 2161, 'surprisingly': 2162, 'spacious': 2163, 'save': 2164, 'endeavor': 2165, 'gust': 2166, 'expressive': 2167, 'sculpted': 2168, 'excluding': 2169, 'enjoys': 2170, 'environments': 2171, 'weighted': 2172, 'kwh': 2173, 'leading': 2174, 'sebring': 2175, 'ominous': 2176, 'goldplay': 2177, 'golden': 2178, 'elements': 2179, 'mountain': 2180, 'arrival': 2181, 'showdown': 2182, 'weighs': 2183, 'colors': 2184, 'entice': 2185, 'buyer': 2186, 'disputed': 2187, 'snow': 2188, 'forefront': 2189, 'spaciousness': 2190, 'remarkable': 2191, 'formidable': 2192, 'meanwhile': 2193, 'endangered': 2194, 'specie': 2195, 'keeping': 2196, 'specifics': 2197, 'functioning': 2198, 'democracy': 2199, \"year's\": 2200, 'rallied': 2201, 'highest': 2202, 'saga': 2203, 'teaser': 2204, 'grand': 2205, 'music': 2206, 'ear': 2207, 'k': 2208, 'fairing': 2209, 'weather': 2210, 'protection': 2211, 'revised': 2212, 'acquire': 2213, 'belief': 2214, 'trending': 2215, 'expectations': 2216, 'pullback': 2217, 'healthy': 2218, 'entries': 2219, 'breather': 2220, 'extra': 2221, 'bigger': 2222, 'infrastructure': 2223, 'discussion': 2224, 'obsession': 2225, 'mental': 2226, 'illness': 2227, 'cloud': 2228, 'ar': 2229, 'permission': 2230, 'fine': 2231, 'economy': 2232, 'definition': 2233, 'serve': 2234, 'transportation': 2235, 'communication': 2236, 'analog': 2237, 'worlds': 2238, 'faang': 2239, 'crude': 2240, 'actions': 2241, 'rampage': 2242, 'edging': 2243, 'colour': 2244, 'wayne': 2245, 'summit': 2246, 'sponsored': 2247, 'powered': 2248, 'gained': 2249, 'airworthiness': 2250, 'clearance': 2251, 'slovakia': 2252, \"pilot's\": 2253, 'everything': 2254, 'elicit': 2255, 'ridicule': 2256, 'spectrum': 2257, 'deranged': 2258, 'idiot': 2259, 'smarter': 2260, 'broadly': 2261, 'guessing': 2262, \"chris's\": 2263, \"'major\": 2264, \"announcement'\": 2265, 'responds': 2266, 'questioned': 2267, 'cat': 2268, 'retain': 2269, 'reputation': 2270, 'lumber': 2271, 'hubcap': 2272, 'priced': 2273, 'procar': 2274, 'rybrook': 2275, 'guess': 2276, 'rugby': 2277, 'ball': 2278, 'throw': 2279, 'boot': 2280, 'enter': 2281, 'retailer': 2282, 'searching': 2283, 'technician': 2284, 'handbrake': 2285, 'differ': 2286, 'depending': 2287, 'hiring': 2288, 'organisation': 2289, \"trader's\": 2290, 'cheat': 2291, 'cheer': 2292, 'philipp': 2293, 'directly': 2294, 'evaluation': 2295, 'while': 2296, 'generated': 2297, 'self': 2298, 'wind': 2299, 'prasit': 2300, 'aphiphunya': 2301, 'adventurous': 2302, 'rode': 2303, 'thailand': 2304, 'spotify': 2305, 'passion': 2306, 'commemorating': 2307, 'film': 2308, 'highly': 2309, 'capable': 2310, 'ways': 2311, 'evs': 2312, 'speculation': 2313, 'italian': 2314, 'gt': 2315, 'losing': 2316, 'sportier': 2317, 'gate': 2318, 'quarterfinal': 2319, 'voting': 2320, 'stocks': 2321, 'etfs': 2322, 'crypto': 2323, 'portfolio': 2324, 'asshole': 2325, 'salah': 2326, 'somehow': 2327, 'crawl': 2328, 'sprayed': 2329, 'dozen': 2330, 'classic': 2331, 'badge': 2332, 'founding': 2333, 'gmbh': 2334, 'siddharth': 2335, 'interest': 2336, 'id': 2337, 'pin': 2338, 'assistance': 2339, 'purnima': 2340, 'fog': 2341, 'arrange': 2342, 'singapore': 2343, 'soft': 2344, 'hardcore': 2345, 'blessed': 2346, 'felt': 2347, 'bit': 2348, 'identification': 2349, 'identify': 2350, 'paper': 2351, 'stamped': 2352, 'either': 2353, 'jamb': 2354, 'wildly': 2355, 'pigeon': 2356, 'soprano': 2357, 'kat': 2358, 'kirby': 2359, 'grad': 2360, 'student': 2361, 'eastman': 2362, 'accompanist': 2363, 'hanyun': 2364, 'gu': 2365, 'absolute': 2366, 'powerhouse': 2367, 'goodness': 2368, 'ownership': 2369, 'accord': 2370, 'philosophy': 2371, 'gear': 2372, 'fort': 2373, 'ramp': 2374, 'sw': 2375, 'headline': 2376, 'yield': 2377, 'stabilize': 2378, 'rout': 2379, 'realized': 2380, 'lemme': 2381, 'eqc': 2382, 'yamaha': 2383, 'raid': 2384, 'comments': 2385, 'hatchback': 2386, 'driveline': 2387, 'overseas': 2388, 'airborne': 2389, 'baxter': 2390, 'alvarado': 2391, 'stunt': 2392, 'emerged': 2393, 'gordon': 2394, 'tested': 2395, 'ignition': 2396, 'presenter': 2397, 'francisco': 2398, 'nwamba': 2399, 'founded': 2400, 'nokia': 2401, 'ibm': 2402, 'motorola': 2403, 'samsung': 2404, 'hp': 2405, 'sony': 2406, 'intel': 2407, 'dell': 2408, 'cisco': 2409, 'salesforce': 2410, 'airbnb': 2411, 'zoom': 2412, 'coinbase': 2413, 'cfas': 2414, 'prep': 2415, 'hamilton': 2416, 'within': 2417, 'rush': 2418, 'male': 2419, 'charges': 2420, 'impound': 2421, 'suspension': 2422, 'highlight': 2423, 'guise': 2424, 'consumption': 2425, 'readying': 2426, \"division's\": 2427, 'eastbound': 2428, 'carquinez': 2429, 'dawn': 2430, 'fiery': 2431, 'suffers': 2432, 'porn': 2433, 'mia': 2434, 'malkova': 2435, 'flaunt': 2436, 'dillon': 2437, 'haha': 2438, 'thx': 2439, 'borrow': 2440, 'btw': 2441, 'funny': 2442, 'are': 2443, 'damnit': 2444, 'dedicated': 2445, 'catch': 2446, 'moment': 2447, 'showcase': 2448, 'held': 2449, 'mumbai': 2450, 'commission': 2451, 'quarter': 2452, 'andy': 2453, 'page': 2454, 'can': 2455, 'regards': 2456, 'turning': 2457, 'rider': 2458, 'bonovo': 2459, 'zf': 2460, 'powertrain': 2461, 'dog': 2462, 'inspired': 2463, 'valet': 2464, 'jacked': 2465, 'lost': 2466, 'magically': 2467, 'disappeared': 2468, 'valeted': 2469, \"weekend's\": 2470, 'opener': 2471, 'headlines': 2472, 'leaked': 2473, 'globalization': 2474, 'stagflation': 2475, \"fund's\": 2476, 'intvu': 2477, 'cambridge': 2478, 'walk': 2479, 'zebra': 2480, 'grind': 2481, 'pass': 2482, 'hammer': 2483, 'cent': 2484, 'faked': 2485, 'death': 2486, 'conviction': 2487, 'carelessly': 2488, 'surcharge': 2489, 'kevin': 2490, 'wonder': 2491, 'whether': 2492, 'telling': 2493, 'guzzling': 2494, 'center': 2495, 'bombed': 2496, 'spiders': 2497, 'topic': 2498, 'enforcement': 2499, 'git': 2500, 'liveried': 2501, 'roadworks': 2502, 'section': 2503, 'summons': 2504, 'responded': 2505, 'robson': 2506, 'observed': 2507, 'towing': 2508, 'roadway': 2509, \"we'd\": 2510, 'closer': 2511, 'associated': 2512, 'talked': 2513, 'vile': 2514, 'drastically': 2515, 'personnel': 2516, 'deeply': 2517, 'moving': 2518, 'lawmakers': 2519, 'region': 2520, 'wsj': 2521, 'getaway': 2522, 'empty': 2523, 'eb': 2524, 'weltmeister': 2525, 'wake': 2526, 'surging': 2527, 'indonesia': 2528, 'negotiation': 2529, 'rich': 2530, 'subsidy': 2531, 'kid': 2532, 'college': 2533, 'graduate': 2534, 'salary': 2535, 'tragedy': 2536, 'bhiwandi': 2537, 'kongaon': 2538, 'rickshaw': 2539, 'fixing': 2540, 'fake': 2541, 'containing': 2542, 'exiting': 2543, 'lawmen': 2544, 'dropped': 2545, 'ran': 2546, 'officers': 2547, 'weapon': 2548, 'remain': 2549, 'committed': 2550, 'guns': 2551, 'majority': 2552, 'cause': 2553, 'compartment': 2554, 'fires': 2555, 'i': 2556, 'cancel': 2557, 'supposed': 2558, 'arrive': 2559, 'tomorrow': 2560, 'appalling': 2561, 'unorganized': 2562, 'appears': 2563, 'improved': 2564, 'believed': 2565, 'voted': 2566, 'fortunate': 2567, 'wasted': 2568, 'blew': 2569, 'charged': 2570, 'twice': 2571, \"investigation's\": 2572, 'portsmouth': 2573, 'waterlooville': 2574, 'raining': 2575, 'oakland': 2576, 'overjoyed': 2577, 'slow': 2578, 'ct': 2579, 'compete': 2580, 'producing': 2581, 'upholds': 2582, 'verdict': 2583, 'spontaneously': 2584, 'combusted': 2585, 'irondequoit': 2586, 'ugly': 2587, 'classy': 2588, 'subconsciously': 2589, 'insecure': 2590, 'defend': 2591, 'criticized': 2592, 'darlington': 2593, 'suspicious': 2594, 'behaviour': 2595, 'complaining': 2596, 'rocket': 2597, 'mad': 2598, 'refinery': 2599, 'appealing': 2600, 'crossed': 2601, 'cockton': 2602, 'henry': 2603, 'hudson': 2604, 'tracks': 2605, 'passenger': 2606, 'reason': 2607, 'simply': 2608, 'angry': 2609, 'voluntarily': 2610, 'rejected': 2611, 'payment': 2612, 'itself': 2613, 'applicable': 2614, 'timeless': 2615, 'sadly': 2616, 'birmingham': 2617, 'druid': 2618, 'medical': 2619, 'albion': 2620, 'spalding': 2621, 'aged': 2622, 'remains': 2623, 'pls': 2624, 'avoid': 2625, 'insider': 2626, 'coastal': 2627, 'elite': 2628, 'millionaire': 2629, 'friend': 2630, 'mil': 2631, 'each': 2632, 'obv': 2633, 'gal': 2634, 'gadot': 2635, 'hitting': 2636, 'abutment': 2637, 'dopey': 2638, 'attitude': 2639, 'have': 2640, 'dominates': 2641, 'monopoly': 2642, 'frame': 2643, 'battle': 2644, 'plz': 2645, 'basic': 2646, 'economics': 2647, 'connect': 2648, 'security': 2649, 'hacked': 2650, 'afraid': 2651, \"'yelling\": 2652, \"matches'\": 2653, 'assign': 2654, 'marked': 2655, 'dept': 2656, 'warned': 2657, 'vijay': 2658, 'civil': 2659, 'attachment': 2660, 'bank': 2661, 'penalty': 2662, 'imported': 2663, 'therefore': 2664, 'paid': 2665, 'alone': 2666, 'protest': 2667, 'phalen': 2668, 'testifies': 2669, 'allegedly': 2670, 'stole': 2671, \"car's\": 2672, 'jersey': 2673, 'stories': 2674, 'released': 2675, 'flees': 2676, 'mangled': 2677, 'postbox': 2678, 'meter': 2679, 'stone': 2680, 'sued': 2681, 'female': 2682, \"company's\": 2683, 'incredibly': 2684, 'throwing': 2685, 'idle': 2686, 'hard': 2687, 'distinctive': 2688, 'herded': 2689, 'sheepdog': 2690, 'companies': 2691, 'definer': 2692, 'freedoms': 2693, 'brief': 2694, 'pause': 2695, 'craziest': 2696, 'shit': 2697, 'rte': 2698, 'fish': 2699, 'tail': 2700, 'slam': 2701, 'past': 2702, \"'elon\": 2703, 'encouraged': 2704, 'oxford': 2705, 'issues': 2706, \"there's\": 2707, 'shortage': 2708, 'monitoring': 2709, 'closely': 2710, \"man's\": 2711, 'southampton': 2712, 'struck': 2713, 'civic': 2714, 'kent': 2715, 'gbh': 2716, 'intent': 2717, 'indication': 2718, 'properly': 2719, 'transmitted': 2720, 'minimum': 2721, 'chose': 2722, 'remove': 2723, 'spot': 2724, 'convolute': 2725, 'unrelated': 2726, 'claiming': 2727, 'peugeot': 2728, 'mazda': 2729, 'responsible': 2730, \"farmers'\": 2731, 'electrical': 2732, 'present': 2733, 'upcoming': 2734, 'scrutiny': 2735, 'false': 2736, 'stranded': 2737, 'extremely': 2738, 'reliable': 2739, 'plantation': 2740, 'ship': 2741, 'brutal': 2742, 'but': 2743, 'defender': 2744, 'aligning': 2745, 'overt': 2746, 'foster': 2747, \"'she\": 2748, 'demise': 2749, 'pity': 2750, 'requirement': 2751, 'robotaxis': 2752, 'effectively': 2753, 'require': 2754, 'civilizations': 2755, 'democracies': 2756, 'insisted': 2757, 'limitation': 2758, 'connection': 2759, 'web': 2760, 'broken': 2761, 'response': 2762, 'chrome': 2763, 'websites': 2764, 'regret': 2765, 'similar': 2766, 'restrict': 2767, 'labelled': 2768, 'selective': 2769, 'hm': 2770, 'notification': 2771, 'camera': 2772, 'view': 2773, 'visible': 2774, 'holding': 2775, 'wheel': 2776, 'analysis': 2777, 'trade': 2778, 'outline': 2779, 'case': 2780, 'serf': 2781, 'planetary': 2782, 'health': 2783, 'lenin': 2784, 'reviewed': 2785, 'channel': 2786, 'squad': 2787, 'denies': 2788, 'bearing': 2789, 'decision': 2790, 'actual': 2791, 'presence': 2792, 'connecticut': 2793, 'features': 2794, 'penny': 2795, 'rivian': 2796, 'reasons': 2797, 'holy': 2798, 'crap': 2799, \"shropshire's\": 2800, 'aware': 2801, 'jabu': 2802, 'mahlangu': 2803, 'negligent': 2804, 'reckless': 2805, 'minibus': 2806, 'ekurhuleni': 2807, 'metro': 2808, 'dismissed': 2809, 'alternative': 2810, 'path': 2811, 'suitable': 2812, 'widescale': 2813, 'disagrees': 2814, 'singlehandedly': 2815, 'hilarious': 2816, 'laying': 2817, 'cone': 2818, 'monica': 2819, 'african': 2820, 'american': 2821, 'tasks': 2822, 'nobody': 2823, 'wear': 2824, 'recalled': 2825, 'bug': 2826, 'etf': 2827, 'investing': 2828, 'based': 2829, 'character': 2830, 'ceos': 2831, 'obvious': 2832, 'unacceptable': 2833, 'drew': 2834, 'criticism': 2835, 'showcasing': 2836, 'slammed': 2837, 'sentenced': 2838, 'monroe': 2839, 'flooding': 2840, 'river': 2841, 'knew': 2842, 'anyway': 2843, 'stalled': 2844, 'cattle': 2845, 'farmer': 2846, 'helped': 2847, 'pull': 2848, 'all': 2849, 'instead': 2850, 'quibble': 2851, 'wonky': 2852, 'autonomy': 2853, 'confront': 2854, 'fact': 2855, 'adopted': 2856, 'widely': 2857, 'salford': 2858, 'headlight': 2859, 'final': 2860, 'resting': 2861, 'brought': 2862, 'gallon': 2863, 'problems': 2864, 'spinning': 2865, 'ploughed': 2866, 'gathered': 2867, 'umgeni': 2868, 'intersite': 2869, 'avenue': 2870, 'durban': 2871, 'affected': 2872, 'airbag': 2873, 'curtis': 2874, 'flattery': 2875, 'threat': 2876, 'persuade': 2877, 'comply': 2878, 'measures': 2879, 'issuing': 2880, 'voluntary': 2881, 'recalls': 2882, 'quarterly': 2883, 'deliveries': 2884, 'october': 2885, 'awarded': 2886, 'elevator': 2887, 'operator': 2888, 'blind': 2889, 'racial': 2890, 'taunt': 2891, 'offensive': 2892, 'graffiti': 2893, 'deteriorated': 2894, 'qa': 2895, 'chair': 2896, 'cleared': 2897, 'technically': 2898, 'nypd': 2899, 'iding': 2900, 'riverdale': 2901, 'ave': 2902, 'suspect': 2903, 'violence': 2904, 'tolerated': 2905, 'cheapest': 2906, 'lolol': 2907, 'cuz': 2908, 'im': 2909, 'prosecutor': 2910, 'witnesses': 2911, 'phelan': 2912, 'pursued': 2913, 'waffle': 2914, 'appeal': 2915, 'enquiry': 2916, 'identified': 2917, 'changed': 2918, 'prado': 2919, 'swap': 2920, 'offroader': 2921, 'material': 2922, 'logistics': 2923, 'matrix': 2924, 'crack': 2925, 'shed': 2926, 'constabulary': 2927, 'introduced': 2928, 'policy': 2929, 'neighbouring': 2930, 'northumbria': 2931, 'september': 2932, 'scrapped': 2933, 'landing': 2934, 'echo': 2935, 'neighborhood': 2936, 'media': 2937, 'fled': 2938, 'abandoned': 2939, 'pushed': 2940, 'mid': 2941, 'environmentalist': 2942, 'displaying': 2943, 'banner': 2944, 'flagging': 2945, 'eating': 2946, \"'non\": 2947, \"vegan'\": 2948, 'breakfast': 2949, 'sandwich': 2950, 'lewis': 2951, 'allen': 2952, 'junction': 2953, 'ben': 2954, 'cunniff': 2955, 'pulled': 2956, 'texting': 2957, 'taser': 2958, 'mass': 2959, 'alabama': 2960, 'kingpin': 2961, 'backseat': 2962, 'filled': 2963, 'catalytic': 2964, 'chandler': 2965, 'thief': 2966, 'act': 2967, 'suspects': 2968, 'engaged': 2969, 'corrections': 2970, 'undercut': 2971, 'low': 2972, 'hanging': 2973, \"monday's\": 2974, 'scale': 2975, 'though': 2976, 'undermine': 2977, 'motors': 2978, 'offered': 2979, 'lots': 2980, 'workstation': 2981, 'afford': 2982, 'tre': 2983, 'bev': 2984, 'beating': 2985, 'semi': 2986, 'coincidence': 2987, 'posting': 2988, 'extensive': 2989, 'abuse': 2990, 'defending': 2991, 'questions': 2992, 'replying': 2993, 'builder': 2994, \"family's\": 2995, 'crowbar': 2996, 'revenge': 2997, 'attack': 2998, 'smiling': 2999, 'knocked': 3000, 'courier': 3001, 'tailgating': 3002, 'clifton': 3003, 'magistrate': 3004, 'filter': 3005, 'vauxhall': 3006, 'zafira': 3007, 'spoke': 3008, 'acknowledges': 3009, 'blame': 3010, 'miscommunication': 3011, 'transition': 3012, 'face': 3013, 'square': 3014, 'except': 3015, 'untold': 3016, 'gob': 3017, 'taxpayer': 3018, 'subsidies': 3019, 'clown': 3020, 'god': 3021, 'striving': 3022, 'richard': 3023, 'unfortunately': 3024, 'proceeding': 3025, 'patient': 3026, 'reviewing': 3027, 'loses': 3028, 'hiking': 3029, 'dutch': 3030, 'gazprom': 3031, 'moscow': 3032, 'rage': 3033, 'incident': 3034, 'left': 3035, 'nio': 3036, 'double': 3037, 'plume': 3038, 'smoke': 3039, 'billow': 3040, 'extended': 3041, 'shrugging': 3042, 'soaring': 3043, 'treasury': 3044, 'yields': 3045, 'sometimes': 3046, 'ignore': 3047, \"don't\": 3048, 'retreat': 3049, 'weakness': 3050, 'polarising': 3051, 'smartphone': 3052, \"'ultimate\": 3053, \"machine'\": 3054, 'partnerships': 3055, \"they've\": 3056, 'done': 3057, 'programmed': 3058, 'incorrectly': 3059, 'input': 3060, 'select': 3061, 'serial': 3062, 'is': 3063, 'melbourne': 3064, 'came': 3065, 'oakleigh': 3066, 'dandenong': 3067, 'warrigal': 3068, 'pple': 3069, 'die': 3070, 'engwata': 3071, 'mackinnon': 3072, 'nairobi': 3073, 'mombasa': 3074, 'hurtles': 3075, \"residents'\": 3076, 'garden': 3077, 'bursting': 3078, 'tragically': 3079, 'maypole': 3080, 'doors': 3081, 'fro': 3082, 'times': 3083, 'described': 3084, 'pioneering': 3085, 'authority': 3086, 'offering': 3087, 'reward': 3088, 'sky': 3089, \"presenter's\": 3090, 'crushed': 3091, 'falling': 3092, 'oak': 3093, 'storm': 3094, 'malik': 3095, 'silver': 3096, 'rear': 3097, 'fucking': 3098, 'sends': 3099, 'labors': 3100, 'bottleneck': 3101, 'suspend': 3102, 'harness': 3103, 'derailed': 3104, 'banning': 3105, \"anyone's\": 3106, 'whatever': 3107, 'invitation': 3108, 'ark': 3109, 'armed': 3110, 'robbery': 3111, 'prime': 3112, 'watched': 3113, 'clear': 3114, 'reopened': 3115, 'stick': 3116, 'evidence': 3117, 'theft': 3118, 'journals': 3119, 'symptom': 3120, 'severe': 3121, 'schizophrenia': 3122, 'bruno': 3123, 'must': 3124, 'arbitration': 3125, 'favor': 3126, 'employers': 3127, 'supervisor': 3128, 'randomness': 3129, 'swerved': 3130, 'ejected': 3131, 'together': 3132, 'hug': 3133, 'sweating': 3134, 'things': 3135, 'narcissist': 3136, 'focused': 3137, 'spreading': 3138, 'hate': 3139, 'confused': 3140, 'phrase': 3141, 'shared': 3142, 'trademark': 3143, 'dad': 3144, 'lamppost': 3145, 'blamed': 3146, 'signalled': 3147, 'dangerous': 3148, 'offences': 3149, 'excessive': 3150, 'bulkier': 3151, 'sheldon': 3152, 'der': 3153, 'linde': 3154, 'motul': 3155, 'punctured': 3156, 'tyre': 3157, 'curtailing': 3158, 'results': 3159, 'closure': 3160, 'ukrainian': 3161, 'shortages': 3162, 'told': 3163, 'cancelled': 3164, 'import': 3165, 'law': 3166, 'ip': 3167, 'confidential': 3168, 'products': 3169, 'uh': 3170, 'huh': 3171, 'watling': 3172, 'crossroads': 3173, 'attempted': 3174, 'cross': 3175, 'cam': 3176, 'jayne': 3177, 'gatland': 3178, \"nio's\": 3179, 'alongside': 3180, 'existing': 3181, 'premier': 3182, 'fitted': 3183, 'research': 3184, 'london': 3185, \"'bullying'\": 3186, 'raced': 3187, 'son': 3188, 'pregnant': 3189, 'thousand': 3190, 'alleging': 3191, 'unchecked': 3192, 'ptsd': 3193, 'dinner': 3194, 'became': 3195, 'downhill': 3196, 'nigel': 3197, 'jones': 3198, 'young': 3199, 'invited': 3200, 'outcasted': 3201, 'chp': 3202, 'accelerating': 3203, 'rapidly': 3204, 'rain': 3205, 'veer': 3206, 'opposite': 3207, 'northwest': 3208, 'bakersfield': 3209, 'then': 3210, 'autopilot': 3211, 'kill': 3212, 'prof': 3213, 'geistfeld': 3214, 'criminal': 3215, 'prosecution': 3216, 'legal': 3217, 'precedent': 3218, 'tiong': 3219, 'bahru': 3220, 'parking': 3221, 'judgement': 3222, 'polite': 3223, 'particular': 3224, 'odd': 3225, 'carjacking': 3226, 'st': 3227, 'lookout': 3228, 'il': 3229, 'tag': 3230, 'parked': 3231, 'ipswich': 3232, 'charted': 3233, 'equivalent': 3234, 'taycan': 3235, 'downtime': 3236, 'cng': 3237, 'jumping': 3238, 'gofundme': 3239, 'santon': 3240, 'avoiding': 3241, 'rabbit': 3242, 'careless': 3243}\n"
          ]
        }
      ]
    },
    {
      "cell_type": "code",
      "source": [
        "X_train_sequences = tokenizer.texts_to_sequences(X_train)"
      ],
      "metadata": {
        "id": "Zir2VnBLai4m"
      },
      "execution_count": 27,
      "outputs": []
    },
    {
      "cell_type": "code",
      "source": [
        "X_test_sequences = tokenizer.texts_to_sequences(X_test)"
      ],
      "metadata": {
        "id": "95kR7-Nkai13"
      },
      "execution_count": 28,
      "outputs": []
    },
    {
      "cell_type": "code",
      "source": [
        "max_length = 100\n",
        "padding_type='post'\n",
        "truncation_type='post'\n",
        "\n",
        "from keras.preprocessing.sequence import pad_sequences\n",
        "\n",
        "X_test_padded = pad_sequences(X_test_sequences,maxlen=max_length, padding=padding_type, truncating=truncation_type)\n",
        "X_train_padded = pad_sequences(X_train_sequences,maxlen=max_length, padding=padding_type, truncating=truncation_type)\n"
      ],
      "metadata": {
        "id": "E2BE_qy2aix4"
      },
      "execution_count": 29,
      "outputs": []
    },
    {
      "cell_type": "code",
      "source": [
        "!wget --no-check-certificate \\\n",
        "     http://nlp.stanford.edu/data/glove.6B.zip \\\n",
        "     -O /tmp/glove.6B.zip"
      ],
      "metadata": {
        "colab": {
          "base_uri": "https://localhost:8080/"
        },
        "id": "j0WGNz7QbCyo",
        "outputId": "b621c824-f479-40bc-eeea-8e310ee43bc9"
      },
      "execution_count": 30,
      "outputs": [
        {
          "output_type": "stream",
          "name": "stdout",
          "text": [
            "--2022-04-05 14:01:20--  http://nlp.stanford.edu/data/glove.6B.zip\n",
            "Resolving nlp.stanford.edu (nlp.stanford.edu)... 171.64.67.140\n",
            "Connecting to nlp.stanford.edu (nlp.stanford.edu)|171.64.67.140|:80... connected.\n",
            "HTTP request sent, awaiting response... 302 Found\n",
            "Location: https://nlp.stanford.edu/data/glove.6B.zip [following]\n",
            "--2022-04-05 14:01:20--  https://nlp.stanford.edu/data/glove.6B.zip\n",
            "Connecting to nlp.stanford.edu (nlp.stanford.edu)|171.64.67.140|:443... connected.\n",
            "HTTP request sent, awaiting response... 301 Moved Permanently\n",
            "Location: http://downloads.cs.stanford.edu/nlp/data/glove.6B.zip [following]\n",
            "--2022-04-05 14:01:20--  http://downloads.cs.stanford.edu/nlp/data/glove.6B.zip\n",
            "Resolving downloads.cs.stanford.edu (downloads.cs.stanford.edu)... 171.64.64.22\n",
            "Connecting to downloads.cs.stanford.edu (downloads.cs.stanford.edu)|171.64.64.22|:80... connected.\n",
            "HTTP request sent, awaiting response... 200 OK\n",
            "Length: 862182613 (822M) [application/zip]\n",
            "Saving to: ‘/tmp/glove.6B.zip’\n",
            "\n",
            "/tmp/glove.6B.zip   100%[===================>] 822.24M  5.04MB/s    in 2m 40s  \n",
            "\n",
            "2022-04-05 14:04:01 (5.14 MB/s) - ‘/tmp/glove.6B.zip’ saved [862182613/862182613]\n",
            "\n"
          ]
        }
      ]
    },
    {
      "cell_type": "code",
      "source": [
        "import os\n",
        "import zipfile\n",
        "with zipfile.ZipFile('/tmp/glove.6B.zip', 'r') as zip_ref:\n",
        "    zip_ref.extractall('/tmp/glove')"
      ],
      "metadata": {
        "id": "5-_Oox0RbCuv"
      },
      "execution_count": 31,
      "outputs": []
    },
    {
      "cell_type": "code",
      "source": [
        "import numpy as np\n",
        "embeddings_index = {}\n",
        "f = open('/tmp/glove/glove.6B.100d.txt')\n",
        "for line in f:\n",
        "    values = line.split()\n",
        "    word = values[0]\n",
        "    coefs = np.asarray(values[1:], dtype='float32')\n",
        "    embeddings_index[word] = coefs\n",
        "f.close()\n",
        "\n",
        "print('Found %s word vectors.' % len(embeddings_index))"
      ],
      "metadata": {
        "colab": {
          "base_uri": "https://localhost:8080/"
        },
        "id": "jfi_vW5nbCrM",
        "outputId": "c5e4615d-fec3-4104-eba3-b7f6ede8bd56"
      },
      "execution_count": 32,
      "outputs": [
        {
          "output_type": "stream",
          "name": "stdout",
          "text": [
            "Found 400000 word vectors.\n"
          ]
        }
      ]
    },
    {
      "cell_type": "code",
      "source": [
        "embedding_matrix = np.zeros((len(word_index) + 1, max_length))\n",
        "for word, i in word_index.items():\n",
        "    embedding_vector = embeddings_index.get(word)\n",
        "    if embedding_vector is not None:\n",
        "        # words not found in embedding index will be all-zeros.\n",
        "        embedding_matrix[i] = embedding_vector"
      ],
      "metadata": {
        "id": "3SOe6WjIbCm4"
      },
      "execution_count": 33,
      "outputs": []
    },
    {
      "cell_type": "code",
      "source": [
        "from tensorflow.keras.layers import Embedding, LSTM, Dense, Bidirectional, Dropout\n",
        "\n",
        "embedding_layer = Embedding(input_dim=len(word_index) + 1,\n",
        "                            output_dim=max_length,\n",
        "                            weights=[embedding_matrix],\n",
        "                            input_length=max_length,\n",
        "                            trainable=True)"
      ],
      "metadata": {
        "id": "Mvcj5iEzaidr"
      },
      "execution_count": 34,
      "outputs": []
    },
    {
      "cell_type": "code",
      "source": [
        "import tensorflow as tf\n",
        "\n",
        "tf.keras.backend.clear_session()\n",
        "\n",
        "from tensorflow.keras.models import Sequential\n",
        "\n",
        "model = Sequential([\n",
        "    embedding_layer,\n",
        "    Bidirectional(LSTM(64, return_sequences=True, dropout=0.5, recurrent_dropout=0.5)), \n",
        "    Bidirectional(LSTM(32, return_sequences=True, dropout=0.5, recurrent_dropout=0.5)),\n",
        "    Bidirectional(LSTM(16, dropout=0.5, recurrent_dropout=0.5)),\n",
        "    Dense(128, activation='relu', kernel_regularizer='l2'),\n",
        "    Dropout(0.4),\n",
        "    Dense(64, activation='relu', kernel_regularizer='l2'),\n",
        "   Dense(3, activation='softmax')\n",
        "])\n",
        "\n",
        "\n",
        "# model = tf.keras.Sequential([\n",
        "#     embedding_layer,\n",
        "#     tf.keras.layers.GlobalAveragePooling1D(),\n",
        "#     tf.keras.layers.Dense(6, activation='relu'),\n",
        "#     tf.keras.layers.Dense(3, activation='softmax')\n",
        "                             \n",
        "# ])\n",
        "\n",
        "\n"
      ],
      "metadata": {
        "id": "nnrFv51Xdaqe",
        "colab": {
          "base_uri": "https://localhost:8080/"
        },
        "outputId": "57db438c-5bbb-462b-f708-9f1f4d39848f"
      },
      "execution_count": 35,
      "outputs": [
        {
          "output_type": "stream",
          "name": "stdout",
          "text": [
            "WARNING:tensorflow:Layer lstm will not use cuDNN kernels since it doesn't meet the criteria. It will use a generic GPU kernel as fallback when running on GPU.\n",
            "WARNING:tensorflow:Layer lstm will not use cuDNN kernels since it doesn't meet the criteria. It will use a generic GPU kernel as fallback when running on GPU.\n",
            "WARNING:tensorflow:Layer lstm will not use cuDNN kernels since it doesn't meet the criteria. It will use a generic GPU kernel as fallback when running on GPU.\n",
            "WARNING:tensorflow:Layer lstm_1 will not use cuDNN kernels since it doesn't meet the criteria. It will use a generic GPU kernel as fallback when running on GPU.\n",
            "WARNING:tensorflow:Layer lstm_1 will not use cuDNN kernels since it doesn't meet the criteria. It will use a generic GPU kernel as fallback when running on GPU.\n",
            "WARNING:tensorflow:Layer lstm_1 will not use cuDNN kernels since it doesn't meet the criteria. It will use a generic GPU kernel as fallback when running on GPU.\n",
            "WARNING:tensorflow:Layer lstm_2 will not use cuDNN kernels since it doesn't meet the criteria. It will use a generic GPU kernel as fallback when running on GPU.\n",
            "WARNING:tensorflow:Layer lstm_2 will not use cuDNN kernels since it doesn't meet the criteria. It will use a generic GPU kernel as fallback when running on GPU.\n",
            "WARNING:tensorflow:Layer lstm_2 will not use cuDNN kernels since it doesn't meet the criteria. It will use a generic GPU kernel as fallback when running on GPU.\n"
          ]
        }
      ]
    },
    {
      "cell_type": "code",
      "source": [
        "model.compile(loss='categorical_crossentropy',optimizer='adam',metrics=['accuracy'])"
      ],
      "metadata": {
        "id": "P-dt2b6kdaj3"
      },
      "execution_count": 36,
      "outputs": []
    },
    {
      "cell_type": "code",
      "source": [
        "X_train_padded = np.array(X_train_padded)\n",
        "y_train_labels = np.array(y_train)\n",
        "X_test_padded = np.array(X_test_padded)\n",
        "y_test_labels = np.array(y_test)"
      ],
      "metadata": {
        "id": "0zrlw_FqeVFx"
      },
      "execution_count": 37,
      "outputs": []
    },
    {
      "cell_type": "code",
      "source": [
        "y_train_labels_one_hot_encoded = tf.keras.utils.to_categorical(y_train_labels, 3)\n",
        "y_test_labels_one_hot_encoded = tf.keras.utils.to_categorical(y_test_labels, 3)\n",
        "\n"
      ],
      "metadata": {
        "id": "8-vBKNKudaa2"
      },
      "execution_count": 39,
      "outputs": []
    },
    {
      "cell_type": "code",
      "source": [
        "import tensorflow\n",
        "from tensorflow.keras.callbacks import EarlyStopping\n",
        "\n",
        "checkpoint_filepath = 'weights.{epoch:02d}-{val_loss:.2f}.h5'\n",
        "\n",
        "model_checkpoint_callback = tensorflow.keras.callbacks.ModelCheckpoint(\n",
        "    filepath=checkpoint_filepath,\n",
        "    monitor='val_accuracy',\n",
        "    mode='max',\n",
        "    save_best_only=True)\n",
        "\n",
        "\n",
        "early_stopping_callback = EarlyStopping(monitor='val_accuracy', patience=10), \n",
        "\n",
        "\n",
        "num_epochs = 100\n",
        "history = model.fit(X_train_padded, y_train_labels_one_hot_encoded, epochs=num_epochs, validation_data=(X_test_padded, y_test_labels_one_hot_encoded), callbacks=[model_checkpoint_callback, early_stopping_callback])"
      ],
      "metadata": {
        "colab": {
          "base_uri": "https://localhost:8080/"
        },
        "id": "XzcHeq5qDNlP",
        "outputId": "b26f3e39-53e8-464d-e075-e5f441d46efb"
      },
      "execution_count": 41,
      "outputs": [
        {
          "output_type": "stream",
          "name": "stdout",
          "text": [
            "Epoch 1/100\n",
            "26/26 [==============================] - 144s 5s/step - loss: 2.1660 - accuracy: 0.4741 - val_loss: 1.8959 - val_accuracy: 0.5171\n",
            "Epoch 2/100\n",
            "26/26 [==============================] - 120s 5s/step - loss: 1.7271 - accuracy: 0.5419 - val_loss: 1.5435 - val_accuracy: 0.6390\n",
            "Epoch 3/100\n",
            "26/26 [==============================] - 120s 5s/step - loss: 1.3912 - accuracy: 0.6675 - val_loss: 1.3159 - val_accuracy: 0.6390\n",
            "Epoch 4/100\n",
            "26/26 [==============================] - 119s 5s/step - loss: 1.1336 - accuracy: 0.7155 - val_loss: 1.2080 - val_accuracy: 0.6390\n",
            "Epoch 5/100\n",
            "26/26 [==============================] - 115s 4s/step - loss: 0.9854 - accuracy: 0.7537 - val_loss: 1.1418 - val_accuracy: 0.6439\n",
            "Epoch 6/100\n",
            "26/26 [==============================] - 116s 4s/step - loss: 0.8655 - accuracy: 0.7525 - val_loss: 0.9925 - val_accuracy: 0.6927\n",
            "Epoch 7/100\n",
            "26/26 [==============================] - 118s 5s/step - loss: 0.7497 - accuracy: 0.7869 - val_loss: 1.0122 - val_accuracy: 0.7024\n",
            "Epoch 8/100\n",
            "26/26 [==============================] - 117s 5s/step - loss: 0.6809 - accuracy: 0.8005 - val_loss: 1.0494 - val_accuracy: 0.6683\n",
            "Epoch 9/100\n",
            "26/26 [==============================] - 115s 4s/step - loss: 0.6363 - accuracy: 0.8251 - val_loss: 1.1008 - val_accuracy: 0.6634\n",
            "Epoch 10/100\n",
            "26/26 [==============================] - 117s 4s/step - loss: 0.5832 - accuracy: 0.8313 - val_loss: 1.0641 - val_accuracy: 0.6683\n",
            "Epoch 11/100\n",
            "26/26 [==============================] - 117s 5s/step - loss: 0.5159 - accuracy: 0.8719 - val_loss: 1.0630 - val_accuracy: 0.6488\n",
            "Epoch 12/100\n",
            "26/26 [==============================] - 115s 4s/step - loss: 0.5030 - accuracy: 0.8658 - val_loss: 1.0425 - val_accuracy: 0.6683\n",
            "Epoch 13/100\n",
            "26/26 [==============================] - 115s 4s/step - loss: 0.4332 - accuracy: 0.8867 - val_loss: 1.0619 - val_accuracy: 0.6732\n",
            "Epoch 14/100\n",
            "26/26 [==============================] - 115s 4s/step - loss: 0.3888 - accuracy: 0.9138 - val_loss: 1.0948 - val_accuracy: 0.6390\n",
            "Epoch 15/100\n",
            "26/26 [==============================] - 114s 4s/step - loss: 0.3452 - accuracy: 0.9113 - val_loss: 1.1752 - val_accuracy: 0.6585\n",
            "Epoch 16/100\n",
            "26/26 [==============================] - 115s 4s/step - loss: 0.3309 - accuracy: 0.9212 - val_loss: 1.3035 - val_accuracy: 0.6780\n",
            "Epoch 17/100\n",
            "26/26 [==============================] - 115s 4s/step - loss: 0.3104 - accuracy: 0.9298 - val_loss: 1.2796 - val_accuracy: 0.6439\n"
          ]
        }
      ]
    },
    {
      "cell_type": "code",
      "source": [
        ""
      ],
      "metadata": {
        "id": "5xu8Bes8DNNh"
      },
      "execution_count": null,
      "outputs": []
    },
    {
      "cell_type": "markdown",
      "source": [
        "**BERT**"
      ],
      "metadata": {
        "id": "nQgJo_LIMb4v"
      }
    },
    {
      "cell_type": "code",
      "source": [
        "!pip install -q -U \"tensorflow-text==2.8.*\""
      ],
      "metadata": {
        "colab": {
          "base_uri": "https://localhost:8080/"
        },
        "id": "IfqLYpNGi35M",
        "outputId": "faeddd58-4944-495d-edaf-25df46d6ba5c"
      },
      "execution_count": null,
      "outputs": [
        {
          "output_type": "stream",
          "name": "stdout",
          "text": [
            "\u001b[K     |████████████████████████████████| 4.9 MB 5.7 MB/s \n",
            "\u001b[K     |████████████████████████████████| 462 kB 38.2 MB/s \n",
            "\u001b[?25h"
          ]
        }
      ]
    },
    {
      "cell_type": "code",
      "source": [
        "!pip install -q tf-models-official==2.7.0"
      ],
      "metadata": {
        "colab": {
          "base_uri": "https://localhost:8080/"
        },
        "id": "6sDVYNdkMnR3",
        "outputId": "58488e05-16b4-4b58-dae9-4e01acb9a536"
      },
      "execution_count": null,
      "outputs": [
        {
          "output_type": "stream",
          "name": "stdout",
          "text": [
            "\u001b[K     |████████████████████████████████| 1.8 MB 5.2 MB/s \n",
            "\u001b[K     |████████████████████████████████| 352 kB 49.6 MB/s \n",
            "\u001b[K     |████████████████████████████████| 596 kB 47.9 MB/s \n",
            "\u001b[K     |████████████████████████████████| 99 kB 9.6 MB/s \n",
            "\u001b[K     |████████████████████████████████| 43 kB 1.9 MB/s \n",
            "\u001b[K     |████████████████████████████████| 237 kB 50.5 MB/s \n",
            "\u001b[K     |████████████████████████████████| 90 kB 9.2 MB/s \n",
            "\u001b[K     |████████████████████████████████| 1.1 MB 39.2 MB/s \n",
            "\u001b[K     |████████████████████████████████| 1.2 MB 44.3 MB/s \n",
            "\u001b[K     |████████████████████████████████| 47.8 MB 1.6 MB/s \n",
            "\u001b[?25h  Building wheel for py-cpuinfo (setup.py) ... \u001b[?25l\u001b[?25hdone\n",
            "  Building wheel for seqeval (setup.py) ... \u001b[?25l\u001b[?25hdone\n"
          ]
        }
      ]
    },
    {
      "cell_type": "code",
      "source": [
        "import os\n",
        "import shutil\n",
        "\n",
        "import tensorflow as tf\n",
        "import tensorflow_hub as hub\n",
        "import tensorflow_text as text\n",
        "from official.nlp import optimization  # to create AdamW optimizer\n",
        "\n",
        "import matplotlib.pyplot as plt\n",
        "\n",
        "tf.get_logger().setLevel('ERROR')"
      ],
      "metadata": {
        "id": "9vJbmAE5MqWg"
      },
      "execution_count": null,
      "outputs": []
    },
    {
      "cell_type": "code",
      "source": [
        "bert_model_name = 'small_bert/bert_en_uncased_L-4_H-512_A-8' \n",
        "\n",
        "map_name_to_handle = {\n",
        "    'bert_en_uncased_L-12_H-768_A-12':\n",
        "        'https://tfhub.dev/tensorflow/bert_en_uncased_L-12_H-768_A-12/3',\n",
        "    'bert_en_cased_L-12_H-768_A-12':\n",
        "        'https://tfhub.dev/tensorflow/bert_en_cased_L-12_H-768_A-12/3',\n",
        "    'bert_multi_cased_L-12_H-768_A-12':\n",
        "        'https://tfhub.dev/tensorflow/bert_multi_cased_L-12_H-768_A-12/3',\n",
        "    'small_bert/bert_en_uncased_L-2_H-128_A-2':\n",
        "        'https://tfhub.dev/tensorflow/small_bert/bert_en_uncased_L-2_H-128_A-2/1',\n",
        "    'small_bert/bert_en_uncased_L-2_H-256_A-4':\n",
        "        'https://tfhub.dev/tensorflow/small_bert/bert_en_uncased_L-2_H-256_A-4/1',\n",
        "    'small_bert/bert_en_uncased_L-2_H-512_A-8':\n",
        "        'https://tfhub.dev/tensorflow/small_bert/bert_en_uncased_L-2_H-512_A-8/1',\n",
        "    'small_bert/bert_en_uncased_L-2_H-768_A-12':\n",
        "        'https://tfhub.dev/tensorflow/small_bert/bert_en_uncased_L-2_H-768_A-12/1',\n",
        "    'small_bert/bert_en_uncased_L-4_H-128_A-2':\n",
        "        'https://tfhub.dev/tensorflow/small_bert/bert_en_uncased_L-4_H-128_A-2/1',\n",
        "    'small_bert/bert_en_uncased_L-4_H-256_A-4':\n",
        "        'https://tfhub.dev/tensorflow/small_bert/bert_en_uncased_L-4_H-256_A-4/1',\n",
        "    'small_bert/bert_en_uncased_L-4_H-512_A-8':\n",
        "        'https://tfhub.dev/tensorflow/small_bert/bert_en_uncased_L-4_H-512_A-8/1',\n",
        "    'small_bert/bert_en_uncased_L-4_H-768_A-12':\n",
        "        'https://tfhub.dev/tensorflow/small_bert/bert_en_uncased_L-4_H-768_A-12/1',\n",
        "    'small_bert/bert_en_uncased_L-6_H-128_A-2':\n",
        "        'https://tfhub.dev/tensorflow/small_bert/bert_en_uncased_L-6_H-128_A-2/1',\n",
        "    'small_bert/bert_en_uncased_L-6_H-256_A-4':\n",
        "        'https://tfhub.dev/tensorflow/small_bert/bert_en_uncased_L-6_H-256_A-4/1',\n",
        "    'small_bert/bert_en_uncased_L-6_H-512_A-8':\n",
        "        'https://tfhub.dev/tensorflow/small_bert/bert_en_uncased_L-6_H-512_A-8/1',\n",
        "    'small_bert/bert_en_uncased_L-6_H-768_A-12':\n",
        "        'https://tfhub.dev/tensorflow/small_bert/bert_en_uncased_L-6_H-768_A-12/1',\n",
        "    'small_bert/bert_en_uncased_L-8_H-128_A-2':\n",
        "        'https://tfhub.dev/tensorflow/small_bert/bert_en_uncased_L-8_H-128_A-2/1',\n",
        "    'small_bert/bert_en_uncased_L-8_H-256_A-4':\n",
        "        'https://tfhub.dev/tensorflow/small_bert/bert_en_uncased_L-8_H-256_A-4/1',\n",
        "    'small_bert/bert_en_uncased_L-8_H-512_A-8':\n",
        "        'https://tfhub.dev/tensorflow/small_bert/bert_en_uncased_L-8_H-512_A-8/1',\n",
        "    'small_bert/bert_en_uncased_L-8_H-768_A-12':\n",
        "        'https://tfhub.dev/tensorflow/small_bert/bert_en_uncased_L-8_H-768_A-12/1',\n",
        "    'small_bert/bert_en_uncased_L-10_H-128_A-2':\n",
        "        'https://tfhub.dev/tensorflow/small_bert/bert_en_uncased_L-10_H-128_A-2/1',\n",
        "    'small_bert/bert_en_uncased_L-10_H-256_A-4':\n",
        "        'https://tfhub.dev/tensorflow/small_bert/bert_en_uncased_L-10_H-256_A-4/1',\n",
        "    'small_bert/bert_en_uncased_L-10_H-512_A-8':\n",
        "        'https://tfhub.dev/tensorflow/small_bert/bert_en_uncased_L-10_H-512_A-8/1',\n",
        "    'small_bert/bert_en_uncased_L-10_H-768_A-12':\n",
        "        'https://tfhub.dev/tensorflow/small_bert/bert_en_uncased_L-10_H-768_A-12/1',\n",
        "    'small_bert/bert_en_uncased_L-12_H-128_A-2':\n",
        "        'https://tfhub.dev/tensorflow/small_bert/bert_en_uncased_L-12_H-128_A-2/1',\n",
        "    'small_bert/bert_en_uncased_L-12_H-256_A-4':\n",
        "        'https://tfhub.dev/tensorflow/small_bert/bert_en_uncased_L-12_H-256_A-4/1',\n",
        "    'small_bert/bert_en_uncased_L-12_H-512_A-8':\n",
        "        'https://tfhub.dev/tensorflow/small_bert/bert_en_uncased_L-12_H-512_A-8/1',\n",
        "    'small_bert/bert_en_uncased_L-12_H-768_A-12':\n",
        "        'https://tfhub.dev/tensorflow/small_bert/bert_en_uncased_L-12_H-768_A-12/1',\n",
        "    'albert_en_base':\n",
        "        'https://tfhub.dev/tensorflow/albert_en_base/2',\n",
        "    'electra_small':\n",
        "        'https://tfhub.dev/google/electra_small/2',\n",
        "    'electra_base':\n",
        "        'https://tfhub.dev/google/electra_base/2',\n",
        "    'experts_pubmed':\n",
        "        'https://tfhub.dev/google/experts/bert/pubmed/2',\n",
        "    'experts_wiki_books':\n",
        "        'https://tfhub.dev/google/experts/bert/wiki_books/2',\n",
        "    'talking-heads_base':\n",
        "        'https://tfhub.dev/tensorflow/talkheads_ggelu_bert_en_base/1',\n",
        "}\n",
        "\n",
        "map_model_to_preprocess = {\n",
        "    'bert_en_uncased_L-12_H-768_A-12':\n",
        "        'https://tfhub.dev/tensorflow/bert_en_uncased_preprocess/3',\n",
        "    'bert_en_cased_L-12_H-768_A-12':\n",
        "        'https://tfhub.dev/tensorflow/bert_en_cased_preprocess/3',\n",
        "    'small_bert/bert_en_uncased_L-2_H-128_A-2':\n",
        "        'https://tfhub.dev/tensorflow/bert_en_uncased_preprocess/3',\n",
        "    'small_bert/bert_en_uncased_L-2_H-256_A-4':\n",
        "        'https://tfhub.dev/tensorflow/bert_en_uncased_preprocess/3',\n",
        "    'small_bert/bert_en_uncased_L-2_H-512_A-8':\n",
        "        'https://tfhub.dev/tensorflow/bert_en_uncased_preprocess/3',\n",
        "    'small_bert/bert_en_uncased_L-2_H-768_A-12':\n",
        "        'https://tfhub.dev/tensorflow/bert_en_uncased_preprocess/3',\n",
        "    'small_bert/bert_en_uncased_L-4_H-128_A-2':\n",
        "        'https://tfhub.dev/tensorflow/bert_en_uncased_preprocess/3',\n",
        "    'small_bert/bert_en_uncased_L-4_H-256_A-4':\n",
        "        'https://tfhub.dev/tensorflow/bert_en_uncased_preprocess/3',\n",
        "    'small_bert/bert_en_uncased_L-4_H-512_A-8':\n",
        "        'https://tfhub.dev/tensorflow/bert_en_uncased_preprocess/3',\n",
        "    'small_bert/bert_en_uncased_L-4_H-768_A-12':\n",
        "        'https://tfhub.dev/tensorflow/bert_en_uncased_preprocess/3',\n",
        "    'small_bert/bert_en_uncased_L-6_H-128_A-2':\n",
        "        'https://tfhub.dev/tensorflow/bert_en_uncased_preprocess/3',\n",
        "    'small_bert/bert_en_uncased_L-6_H-256_A-4':\n",
        "        'https://tfhub.dev/tensorflow/bert_en_uncased_preprocess/3',\n",
        "    'small_bert/bert_en_uncased_L-6_H-512_A-8':\n",
        "        'https://tfhub.dev/tensorflow/bert_en_uncased_preprocess/3',\n",
        "    'small_bert/bert_en_uncased_L-6_H-768_A-12':\n",
        "        'https://tfhub.dev/tensorflow/bert_en_uncased_preprocess/3',\n",
        "    'small_bert/bert_en_uncased_L-8_H-128_A-2':\n",
        "        'https://tfhub.dev/tensorflow/bert_en_uncased_preprocess/3',\n",
        "    'small_bert/bert_en_uncased_L-8_H-256_A-4':\n",
        "        'https://tfhub.dev/tensorflow/bert_en_uncased_preprocess/3',\n",
        "    'small_bert/bert_en_uncased_L-8_H-512_A-8':\n",
        "        'https://tfhub.dev/tensorflow/bert_en_uncased_preprocess/3',\n",
        "    'small_bert/bert_en_uncased_L-8_H-768_A-12':\n",
        "        'https://tfhub.dev/tensorflow/bert_en_uncased_preprocess/3',\n",
        "    'small_bert/bert_en_uncased_L-10_H-128_A-2':\n",
        "        'https://tfhub.dev/tensorflow/bert_en_uncased_preprocess/3',\n",
        "    'small_bert/bert_en_uncased_L-10_H-256_A-4':\n",
        "        'https://tfhub.dev/tensorflow/bert_en_uncased_preprocess/3',\n",
        "    'small_bert/bert_en_uncased_L-10_H-512_A-8':\n",
        "        'https://tfhub.dev/tensorflow/bert_en_uncased_preprocess/3',\n",
        "    'small_bert/bert_en_uncased_L-10_H-768_A-12':\n",
        "        'https://tfhub.dev/tensorflow/bert_en_uncased_preprocess/3',\n",
        "    'small_bert/bert_en_uncased_L-12_H-128_A-2':\n",
        "        'https://tfhub.dev/tensorflow/bert_en_uncased_preprocess/3',\n",
        "    'small_bert/bert_en_uncased_L-12_H-256_A-4':\n",
        "        'https://tfhub.dev/tensorflow/bert_en_uncased_preprocess/3',\n",
        "    'small_bert/bert_en_uncased_L-12_H-512_A-8':\n",
        "        'https://tfhub.dev/tensorflow/bert_en_uncased_preprocess/3',\n",
        "    'small_bert/bert_en_uncased_L-12_H-768_A-12':\n",
        "        'https://tfhub.dev/tensorflow/bert_en_uncased_preprocess/3',\n",
        "    'bert_multi_cased_L-12_H-768_A-12':\n",
        "        'https://tfhub.dev/tensorflow/bert_multi_cased_preprocess/3',\n",
        "    'albert_en_base':\n",
        "        'https://tfhub.dev/tensorflow/albert_en_preprocess/3',\n",
        "    'electra_small':\n",
        "        'https://tfhub.dev/tensorflow/bert_en_uncased_preprocess/3',\n",
        "    'electra_base':\n",
        "        'https://tfhub.dev/tensorflow/bert_en_uncased_preprocess/3',\n",
        "    'experts_pubmed':\n",
        "        'https://tfhub.dev/tensorflow/bert_en_uncased_preprocess/3',\n",
        "    'experts_wiki_books':\n",
        "        'https://tfhub.dev/tensorflow/bert_en_uncased_preprocess/3',\n",
        "    'talking-heads_base':\n",
        "        'https://tfhub.dev/tensorflow/bert_en_uncased_preprocess/3',\n",
        "}\n",
        "\n",
        "tfhub_handle_encoder = map_name_to_handle[bert_model_name]\n",
        "tfhub_handle_preprocess = map_model_to_preprocess[bert_model_name]\n",
        "\n",
        "print(f'BERT model selected           : {tfhub_handle_encoder}')\n",
        "print(f'Preprocess model auto-selected: {tfhub_handle_preprocess}')"
      ],
      "metadata": {
        "colab": {
          "base_uri": "https://localhost:8080/"
        },
        "id": "G5lx7zIpNS3J",
        "outputId": "eb39c95e-15fe-4c6e-efa8-6e0755e1474f"
      },
      "execution_count": null,
      "outputs": [
        {
          "output_type": "stream",
          "name": "stdout",
          "text": [
            "BERT model selected           : https://tfhub.dev/tensorflow/small_bert/bert_en_uncased_L-4_H-512_A-8/1\n",
            "Preprocess model auto-selected: https://tfhub.dev/tensorflow/bert_en_uncased_preprocess/3\n"
          ]
        }
      ]
    },
    {
      "cell_type": "code",
      "source": [
        "bert_preprocess_model = hub.KerasLayer(tfhub_handle_preprocess)"
      ],
      "metadata": {
        "id": "ULhc16cTNbnR"
      },
      "execution_count": null,
      "outputs": []
    },
    {
      "cell_type": "code",
      "source": [
        "text_test = ['this is such an amazing movie!']\n",
        "text_preprocessed = bert_preprocess_model(text_test)\n",
        "\n",
        "print(f'Keys       : {list(text_preprocessed.keys())}')\n",
        "print(f'Shape      : {text_preprocessed[\"input_word_ids\"].shape}')\n",
        "print(f'Word Ids   : {text_preprocessed[\"input_word_ids\"][0, :12]}')\n",
        "print(f'Input Mask : {text_preprocessed[\"input_mask\"][0, :12]}')\n",
        "print(f'Type Ids   : {text_preprocessed[\"input_type_ids\"][0, :12]}')"
      ],
      "metadata": {
        "colab": {
          "base_uri": "https://localhost:8080/"
        },
        "id": "Q91ZSt8FNjw4",
        "outputId": "e9d4919c-338a-43ae-c394-47c0950fd4e7"
      },
      "execution_count": null,
      "outputs": [
        {
          "output_type": "stream",
          "name": "stdout",
          "text": [
            "Keys       : ['input_mask', 'input_word_ids', 'input_type_ids']\n",
            "Shape      : (1, 128)\n",
            "Word Ids   : [ 101 2023 2003 2107 2019 6429 3185  999  102    0    0    0]\n",
            "Input Mask : [1 1 1 1 1 1 1 1 1 0 0 0]\n",
            "Type Ids   : [0 0 0 0 0 0 0 0 0 0 0 0]\n"
          ]
        }
      ]
    },
    {
      "cell_type": "code",
      "source": [
        "bert_model = hub.KerasLayer(tfhub_handle_encoder)"
      ],
      "metadata": {
        "id": "3o4avU-0NnjY"
      },
      "execution_count": null,
      "outputs": []
    },
    {
      "cell_type": "code",
      "source": [
        "bert_results = bert_model(text_preprocessed)\n",
        "\n",
        "print(f'Loaded BERT: {tfhub_handle_encoder}')\n",
        "print(f'Pooled Outputs Shape:{bert_results[\"pooled_output\"].shape}')\n",
        "print(f'Pooled Outputs Values:{bert_results[\"pooled_output\"][0, :12]}')\n",
        "print(f'Sequence Outputs Shape:{bert_results[\"sequence_output\"].shape}')\n",
        "print(f'Sequence Outputs Values:{bert_results[\"sequence_output\"][0, :12]}')"
      ],
      "metadata": {
        "colab": {
          "base_uri": "https://localhost:8080/"
        },
        "id": "4cuFLRorN-TL",
        "outputId": "a59e9370-39d4-49f8-bc59-35d12ef170d1"
      },
      "execution_count": null,
      "outputs": [
        {
          "output_type": "stream",
          "name": "stdout",
          "text": [
            "Loaded BERT: https://tfhub.dev/tensorflow/small_bert/bert_en_uncased_L-4_H-512_A-8/1\n",
            "Pooled Outputs Shape:(1, 512)\n",
            "Pooled Outputs Values:[ 0.7626282   0.9928099  -0.18611862  0.3667383   0.15233758  0.655044\n",
            "  0.9681154  -0.94862705  0.0021616  -0.9877732   0.06842764 -0.97630596]\n",
            "Sequence Outputs Shape:(1, 128, 512)\n",
            "Sequence Outputs Values:[[-0.28946292  0.34321183  0.33231512 ...  0.21300802  0.7102092\n",
            "  -0.05771042]\n",
            " [-0.28741995  0.31980985 -0.23018652 ...  0.5845511  -0.21329862\n",
            "   0.72692007]\n",
            " [-0.6615692   0.68876815 -0.8743301  ...  0.1087728  -0.26173076\n",
            "   0.47855455]\n",
            " ...\n",
            " [-0.22561137 -0.2892573  -0.07064426 ...  0.47566032  0.8327724\n",
            "   0.40025347]\n",
            " [-0.2982421  -0.27473164 -0.05450544 ...  0.4884972   1.0955367\n",
            "   0.18163365]\n",
            " [-0.4437818   0.00930662  0.07223704 ...  0.17290089  1.1833239\n",
            "   0.07897975]]\n"
          ]
        }
      ]
    },
    {
      "cell_type": "markdown",
      "source": [
        "Ensemble Classification"
      ],
      "metadata": {
        "id": "Sg95w1dWPYFH"
      }
    },
    {
      "cell_type": "code",
      "source": [
        "from sklearn.datasets import load_iris\n",
        "from sklearn.ensemble import RandomForestClassifier\n",
        "from sklearn.svm import LinearSVC\n",
        "from sklearn.linear_model import LogisticRegression\n",
        "from sklearn.preprocessing import StandardScaler\n",
        "from sklearn.pipeline import make_pipeline\n",
        "from sklearn.ensemble import StackingClassifier\n",
        "X, y = load_iris(return_X_y=True)\n",
        "estimators = [\n",
        "     ('rf', RandomForestClassifier(n_estimators=10, random_state=42)),\n",
        "     ('svr', make_pipeline(StandardScaler(),\n",
        "                          LinearSVC(random_state=42)))\n",
        " ]\n",
        "clf = StackingClassifier(\n",
        "     estimators=estimators, final_estimator=LogisticRegression()\n",
        " )\n",
        "from sklearn.model_selection import train_test_split\n",
        "X_train, X_test, y_train, y_test = train_test_split(\n",
        "    X, y, stratify=y, random_state=42\n",
        " )\n",
        "clf.fit(X_train, y_train).score(X_test, y_test)\n"
      ],
      "metadata": {
        "id": "NSsZQNZ3OIaG"
      },
      "execution_count": null,
      "outputs": []
    }
  ]
}